{
  "nbformat": 4,
  "nbformat_minor": 0,
  "metadata": {
    "colab": {
      "provenance": []
    },
    "kernelspec": {
      "name": "python3",
      "display_name": "Python 3"
    },
    "language_info": {
      "name": "python"
    }
  },
  "cells": [
    {
      "cell_type": "markdown",
      "source": [
        "# **Import Libraries**"
      ],
      "metadata": {
        "id": "LveYE87wJhYA"
      }
    },
    {
      "cell_type": "code",
      "execution_count": null,
      "metadata": {
        "id": "cds7AgrH_P93"
      },
      "outputs": [],
      "source": [
        "import pandas as pd\n",
        "from google.colab import drive\n",
        "from operator import itemgetter\n",
        "import plotly.express as px\n",
        "import numpy as np\n",
        "import matplotlib.pyplot as plt\n",
        "import plotly.graph_objs as go\n",
        "\n",
        "\n",
        "#set default values for graphs\n",
        "px.defaults.width = 900\n",
        "px.defaults.height = 400\n",
        "px.defaults.template = \"plotly_dark\""
      ]
    },
    {
      "cell_type": "code",
      "source": [
        "drive.mount('/content/gdrive')"
      ],
      "metadata": {
        "colab": {
          "base_uri": "https://localhost:8080/"
        },
        "id": "IxNVn4z6AFh5",
        "outputId": "4d8d2c55-d34d-4f06-83d8-c7f0e1cd61c2"
      },
      "execution_count": null,
      "outputs": [
        {
          "output_type": "stream",
          "name": "stdout",
          "text": [
            "Drive already mounted at /content/gdrive; to attempt to forcibly remount, call drive.mount(\"/content/gdrive\", force_remount=True).\n"
          ]
        }
      ]
    },
    {
      "cell_type": "markdown",
      "source": [
        "# **Import Dataset**"
      ],
      "metadata": {
        "id": "FlfoM-2fKP01"
      }
    },
    {
      "cell_type": "code",
      "source": [
        "df = pd.read_csv(\"/content/gdrive/MyDrive/kovai.co assignment/prime.csv\")\n",
        "df.head()"
      ],
      "metadata": {
        "colab": {
          "base_uri": "https://localhost:8080/",
          "height": 389
        },
        "id": "JoMGlO1__bgw",
        "outputId": "5b04feab-5c66-46a2-e74b-c2e9d9ee1793"
      },
      "execution_count": null,
      "outputs": [
        {
          "output_type": "execute_result",
          "data": {
            "text/plain": [
              "  show_id     type                  title         director  \\\n",
              "0      s1    Movie   Dick Johnson Is Dead  Kirsten Johnson   \n",
              "1      s2  TV Show          Blood & Water              NaN   \n",
              "2      s3  TV Show              Ganglands  Julien Leclercq   \n",
              "3      s4  TV Show  Jailbirds New Orleans              NaN   \n",
              "4      s5  TV Show           Kota Factory              NaN   \n",
              "\n",
              "                                                cast        country  \\\n",
              "0                                                NaN  United States   \n",
              "1  Ama Qamata, Khosi Ngema, Gail Mabalane, Thaban...   South Africa   \n",
              "2  Sami Bouajila, Tracy Gotoas, Samuel Jouy, Nabi...            NaN   \n",
              "3                                                NaN            NaN   \n",
              "4  Mayur More, Jitendra Kumar, Ranjan Raj, Alam K...          India   \n",
              "\n",
              "           date_added  release_year rating   duration  \\\n",
              "0  September 25, 2021          2020  PG-13     90 min   \n",
              "1  September 24, 2021          2021  TV-MA  2 Seasons   \n",
              "2  September 24, 2021          2021  TV-MA   1 Season   \n",
              "3  September 24, 2021          2021  TV-MA   1 Season   \n",
              "4  September 24, 2021          2021  TV-MA  2 Seasons   \n",
              "\n",
              "                                           listed_in  \\\n",
              "0                                      Documentaries   \n",
              "1    International TV Shows, TV Dramas, TV Mysteries   \n",
              "2  Crime TV Shows, International TV Shows, TV Act...   \n",
              "3                             Docuseries, Reality TV   \n",
              "4  International TV Shows, Romantic TV Shows, TV ...   \n",
              "\n",
              "                                         description  \n",
              "0  As her father nears the end of his life, filmm...  \n",
              "1  After crossing paths at a party, a Cape Town t...  \n",
              "2  To protect his family from a powerful drug lor...  \n",
              "3  Feuds, flirtations and toilet talk go down amo...  \n",
              "4  In a city of coaching centers known to train I...  "
            ],
            "text/html": [
              "\n",
              "  <div id=\"df-33f7ff89-17ca-49f9-8eab-4a803dbc6983\">\n",
              "    <div class=\"colab-df-container\">\n",
              "      <div>\n",
              "<style scoped>\n",
              "    .dataframe tbody tr th:only-of-type {\n",
              "        vertical-align: middle;\n",
              "    }\n",
              "\n",
              "    .dataframe tbody tr th {\n",
              "        vertical-align: top;\n",
              "    }\n",
              "\n",
              "    .dataframe thead th {\n",
              "        text-align: right;\n",
              "    }\n",
              "</style>\n",
              "<table border=\"1\" class=\"dataframe\">\n",
              "  <thead>\n",
              "    <tr style=\"text-align: right;\">\n",
              "      <th></th>\n",
              "      <th>show_id</th>\n",
              "      <th>type</th>\n",
              "      <th>title</th>\n",
              "      <th>director</th>\n",
              "      <th>cast</th>\n",
              "      <th>country</th>\n",
              "      <th>date_added</th>\n",
              "      <th>release_year</th>\n",
              "      <th>rating</th>\n",
              "      <th>duration</th>\n",
              "      <th>listed_in</th>\n",
              "      <th>description</th>\n",
              "    </tr>\n",
              "  </thead>\n",
              "  <tbody>\n",
              "    <tr>\n",
              "      <th>0</th>\n",
              "      <td>s1</td>\n",
              "      <td>Movie</td>\n",
              "      <td>Dick Johnson Is Dead</td>\n",
              "      <td>Kirsten Johnson</td>\n",
              "      <td>NaN</td>\n",
              "      <td>United States</td>\n",
              "      <td>September 25, 2021</td>\n",
              "      <td>2020</td>\n",
              "      <td>PG-13</td>\n",
              "      <td>90 min</td>\n",
              "      <td>Documentaries</td>\n",
              "      <td>As her father nears the end of his life, filmm...</td>\n",
              "    </tr>\n",
              "    <tr>\n",
              "      <th>1</th>\n",
              "      <td>s2</td>\n",
              "      <td>TV Show</td>\n",
              "      <td>Blood &amp; Water</td>\n",
              "      <td>NaN</td>\n",
              "      <td>Ama Qamata, Khosi Ngema, Gail Mabalane, Thaban...</td>\n",
              "      <td>South Africa</td>\n",
              "      <td>September 24, 2021</td>\n",
              "      <td>2021</td>\n",
              "      <td>TV-MA</td>\n",
              "      <td>2 Seasons</td>\n",
              "      <td>International TV Shows, TV Dramas, TV Mysteries</td>\n",
              "      <td>After crossing paths at a party, a Cape Town t...</td>\n",
              "    </tr>\n",
              "    <tr>\n",
              "      <th>2</th>\n",
              "      <td>s3</td>\n",
              "      <td>TV Show</td>\n",
              "      <td>Ganglands</td>\n",
              "      <td>Julien Leclercq</td>\n",
              "      <td>Sami Bouajila, Tracy Gotoas, Samuel Jouy, Nabi...</td>\n",
              "      <td>NaN</td>\n",
              "      <td>September 24, 2021</td>\n",
              "      <td>2021</td>\n",
              "      <td>TV-MA</td>\n",
              "      <td>1 Season</td>\n",
              "      <td>Crime TV Shows, International TV Shows, TV Act...</td>\n",
              "      <td>To protect his family from a powerful drug lor...</td>\n",
              "    </tr>\n",
              "    <tr>\n",
              "      <th>3</th>\n",
              "      <td>s4</td>\n",
              "      <td>TV Show</td>\n",
              "      <td>Jailbirds New Orleans</td>\n",
              "      <td>NaN</td>\n",
              "      <td>NaN</td>\n",
              "      <td>NaN</td>\n",
              "      <td>September 24, 2021</td>\n",
              "      <td>2021</td>\n",
              "      <td>TV-MA</td>\n",
              "      <td>1 Season</td>\n",
              "      <td>Docuseries, Reality TV</td>\n",
              "      <td>Feuds, flirtations and toilet talk go down amo...</td>\n",
              "    </tr>\n",
              "    <tr>\n",
              "      <th>4</th>\n",
              "      <td>s5</td>\n",
              "      <td>TV Show</td>\n",
              "      <td>Kota Factory</td>\n",
              "      <td>NaN</td>\n",
              "      <td>Mayur More, Jitendra Kumar, Ranjan Raj, Alam K...</td>\n",
              "      <td>India</td>\n",
              "      <td>September 24, 2021</td>\n",
              "      <td>2021</td>\n",
              "      <td>TV-MA</td>\n",
              "      <td>2 Seasons</td>\n",
              "      <td>International TV Shows, Romantic TV Shows, TV ...</td>\n",
              "      <td>In a city of coaching centers known to train I...</td>\n",
              "    </tr>\n",
              "  </tbody>\n",
              "</table>\n",
              "</div>\n",
              "      <button class=\"colab-df-convert\" onclick=\"convertToInteractive('df-33f7ff89-17ca-49f9-8eab-4a803dbc6983')\"\n",
              "              title=\"Convert this dataframe to an interactive table.\"\n",
              "              style=\"display:none;\">\n",
              "        \n",
              "  <svg xmlns=\"http://www.w3.org/2000/svg\" height=\"24px\"viewBox=\"0 0 24 24\"\n",
              "       width=\"24px\">\n",
              "    <path d=\"M0 0h24v24H0V0z\" fill=\"none\"/>\n",
              "    <path d=\"M18.56 5.44l.94 2.06.94-2.06 2.06-.94-2.06-.94-.94-2.06-.94 2.06-2.06.94zm-11 1L8.5 8.5l.94-2.06 2.06-.94-2.06-.94L8.5 2.5l-.94 2.06-2.06.94zm10 10l.94 2.06.94-2.06 2.06-.94-2.06-.94-.94-2.06-.94 2.06-2.06.94z\"/><path d=\"M17.41 7.96l-1.37-1.37c-.4-.4-.92-.59-1.43-.59-.52 0-1.04.2-1.43.59L10.3 9.45l-7.72 7.72c-.78.78-.78 2.05 0 2.83L4 21.41c.39.39.9.59 1.41.59.51 0 1.02-.2 1.41-.59l7.78-7.78 2.81-2.81c.8-.78.8-2.07 0-2.86zM5.41 20L4 18.59l7.72-7.72 1.47 1.35L5.41 20z\"/>\n",
              "  </svg>\n",
              "      </button>\n",
              "      \n",
              "  <style>\n",
              "    .colab-df-container {\n",
              "      display:flex;\n",
              "      flex-wrap:wrap;\n",
              "      gap: 12px;\n",
              "    }\n",
              "\n",
              "    .colab-df-convert {\n",
              "      background-color: #E8F0FE;\n",
              "      border: none;\n",
              "      border-radius: 50%;\n",
              "      cursor: pointer;\n",
              "      display: none;\n",
              "      fill: #1967D2;\n",
              "      height: 32px;\n",
              "      padding: 0 0 0 0;\n",
              "      width: 32px;\n",
              "    }\n",
              "\n",
              "    .colab-df-convert:hover {\n",
              "      background-color: #E2EBFA;\n",
              "      box-shadow: 0px 1px 2px rgba(60, 64, 67, 0.3), 0px 1px 3px 1px rgba(60, 64, 67, 0.15);\n",
              "      fill: #174EA6;\n",
              "    }\n",
              "\n",
              "    [theme=dark] .colab-df-convert {\n",
              "      background-color: #3B4455;\n",
              "      fill: #D2E3FC;\n",
              "    }\n",
              "\n",
              "    [theme=dark] .colab-df-convert:hover {\n",
              "      background-color: #434B5C;\n",
              "      box-shadow: 0px 1px 3px 1px rgba(0, 0, 0, 0.15);\n",
              "      filter: drop-shadow(0px 1px 2px rgba(0, 0, 0, 0.3));\n",
              "      fill: #FFFFFF;\n",
              "    }\n",
              "  </style>\n",
              "\n",
              "      <script>\n",
              "        const buttonEl =\n",
              "          document.querySelector('#df-33f7ff89-17ca-49f9-8eab-4a803dbc6983 button.colab-df-convert');\n",
              "        buttonEl.style.display =\n",
              "          google.colab.kernel.accessAllowed ? 'block' : 'none';\n",
              "\n",
              "        async function convertToInteractive(key) {\n",
              "          const element = document.querySelector('#df-33f7ff89-17ca-49f9-8eab-4a803dbc6983');\n",
              "          const dataTable =\n",
              "            await google.colab.kernel.invokeFunction('convertToInteractive',\n",
              "                                                     [key], {});\n",
              "          if (!dataTable) return;\n",
              "\n",
              "          const docLinkHtml = 'Like what you see? Visit the ' +\n",
              "            '<a target=\"_blank\" href=https://colab.research.google.com/notebooks/data_table.ipynb>data table notebook</a>'\n",
              "            + ' to learn more about interactive tables.';\n",
              "          element.innerHTML = '';\n",
              "          dataTable['output_type'] = 'display_data';\n",
              "          await google.colab.output.renderOutput(dataTable, element);\n",
              "          const docLink = document.createElement('div');\n",
              "          docLink.innerHTML = docLinkHtml;\n",
              "          element.appendChild(docLink);\n",
              "        }\n",
              "      </script>\n",
              "    </div>\n",
              "  </div>\n",
              "  "
            ]
          },
          "metadata": {},
          "execution_count": 241
        }
      ]
    },
    {
      "cell_type": "markdown",
      "source": [
        "# **Data Preperation**"
      ],
      "metadata": {
        "id": "h38lQck40bqU"
      }
    },
    {
      "cell_type": "markdown",
      "source": [
        "**Check for missing values**"
      ],
      "metadata": {
        "id": "lVO9pHM_DJoq"
      }
    },
    {
      "cell_type": "code",
      "source": [
        "print(df.isnull().sum())"
      ],
      "metadata": {
        "colab": {
          "base_uri": "https://localhost:8080/"
        },
        "id": "bXw7nCqtB1VJ",
        "outputId": "ca3ed9dd-3c6b-461c-d85c-0b681f9ee59c"
      },
      "execution_count": null,
      "outputs": [
        {
          "output_type": "stream",
          "name": "stdout",
          "text": [
            "show_id            0\n",
            "type               0\n",
            "title              0\n",
            "director        2634\n",
            "cast             825\n",
            "country          831\n",
            "date_added        10\n",
            "release_year       0\n",
            "rating             4\n",
            "duration           3\n",
            "listed_in          0\n",
            "description        0\n",
            "dtype: int64\n"
          ]
        }
      ]
    },
    {
      "cell_type": "markdown",
      "source": [
        "**Impute missing values using mode**"
      ],
      "metadata": {
        "id": "StxlZTwdx6hX"
      }
    },
    {
      "cell_type": "code",
      "source": [
        "# Impute missing values in categorical columns with mode\n",
        "for col in df.columns:\n",
        "    if df[col].dtype == \"object\":\n",
        "        df[col].fillna(df[col].mode()[0], inplace=True)"
      ],
      "metadata": {
        "id": "fet0ny7cCJmM"
      },
      "execution_count": null,
      "outputs": []
    },
    {
      "cell_type": "code",
      "source": [
        "print(df.isnull().sum())"
      ],
      "metadata": {
        "colab": {
          "base_uri": "https://localhost:8080/"
        },
        "id": "AAGKcmACx-_J",
        "outputId": "e1614b81-6162-4806-b98f-7298846577fc"
      },
      "execution_count": null,
      "outputs": [
        {
          "output_type": "stream",
          "name": "stdout",
          "text": [
            "show_id         0\n",
            "type            0\n",
            "title           0\n",
            "director        0\n",
            "cast            0\n",
            "country         0\n",
            "date_added      0\n",
            "release_year    0\n",
            "rating          0\n",
            "duration        0\n",
            "listed_in       0\n",
            "description     0\n",
            "dtype: int64\n"
          ]
        }
      ]
    },
    {
      "cell_type": "markdown",
      "source": [
        "# **Data Analysis & EDA**"
      ],
      "metadata": {
        "id": "ISR7V0xJSrM-"
      }
    },
    {
      "cell_type": "markdown",
      "source": [
        "## **Descriptive statistics**"
      ],
      "metadata": {
        "id": "ssVpz2hn1Fr5"
      }
    },
    {
      "cell_type": "markdown",
      "source": [
        "**Shape of the dataset**"
      ],
      "metadata": {
        "id": "_tIf-2YQxHDx"
      }
    },
    {
      "cell_type": "code",
      "source": [
        "df.shape"
      ],
      "metadata": {
        "colab": {
          "base_uri": "https://localhost:8080/"
        },
        "id": "MofaH1ucxJiJ",
        "outputId": "51a518f5-48db-4e4a-9061-e8c24a79a558"
      },
      "execution_count": null,
      "outputs": [
        {
          "output_type": "execute_result",
          "data": {
            "text/plain": [
              "(8807, 12)"
            ]
          },
          "metadata": {},
          "execution_count": 245
        }
      ]
    },
    {
      "cell_type": "markdown",
      "source": [
        "**Info regarding dataset**"
      ],
      "metadata": {
        "id": "SngsodKixQH0"
      }
    },
    {
      "cell_type": "code",
      "source": [
        "df.info()"
      ],
      "metadata": {
        "colab": {
          "base_uri": "https://localhost:8080/"
        },
        "id": "GxE6K5pexSX7",
        "outputId": "847fb03d-ad14-489e-9b2e-5670b66107e6"
      },
      "execution_count": null,
      "outputs": [
        {
          "output_type": "stream",
          "name": "stdout",
          "text": [
            "<class 'pandas.core.frame.DataFrame'>\n",
            "RangeIndex: 8807 entries, 0 to 8806\n",
            "Data columns (total 12 columns):\n",
            " #   Column        Non-Null Count  Dtype \n",
            "---  ------        --------------  ----- \n",
            " 0   show_id       8807 non-null   object\n",
            " 1   type          8807 non-null   object\n",
            " 2   title         8807 non-null   object\n",
            " 3   director      8807 non-null   object\n",
            " 4   cast          8807 non-null   object\n",
            " 5   country       8807 non-null   object\n",
            " 6   date_added    8807 non-null   object\n",
            " 7   release_year  8807 non-null   int64 \n",
            " 8   rating        8807 non-null   object\n",
            " 9   duration      8807 non-null   object\n",
            " 10  listed_in     8807 non-null   object\n",
            " 11  description   8807 non-null   object\n",
            "dtypes: int64(1), object(11)\n",
            "memory usage: 825.8+ KB\n"
          ]
        }
      ]
    },
    {
      "cell_type": "markdown",
      "source": [
        "**Summary of the numerical features**"
      ],
      "metadata": {
        "id": "Fq37bqZODR_0"
      }
    },
    {
      "cell_type": "code",
      "source": [
        "print(df.describe())"
      ],
      "metadata": {
        "colab": {
          "base_uri": "https://localhost:8080/"
        },
        "id": "bUgaefiyAsRB",
        "outputId": "e056d656-8393-440a-fa37-6dec795dd7f1"
      },
      "execution_count": null,
      "outputs": [
        {
          "output_type": "stream",
          "name": "stdout",
          "text": [
            "       release_year\n",
            "count   8807.000000\n",
            "mean    2014.180198\n",
            "std        8.819312\n",
            "min     1925.000000\n",
            "25%     2013.000000\n",
            "50%     2017.000000\n",
            "75%     2019.000000\n",
            "max     2021.000000\n"
          ]
        }
      ]
    },
    {
      "cell_type": "markdown",
      "source": [
        "**Count the number of unique values for each feature**"
      ],
      "metadata": {
        "id": "9EXYrJq5DNhk"
      }
    },
    {
      "cell_type": "code",
      "source": [
        "print(df.nunique())"
      ],
      "metadata": {
        "colab": {
          "base_uri": "https://localhost:8080/"
        },
        "id": "6ZdTSw-VByfV",
        "outputId": "17b2ec1e-ef6c-4fc0-e3b3-c26ff52cc9e5"
      },
      "execution_count": null,
      "outputs": [
        {
          "output_type": "stream",
          "name": "stdout",
          "text": [
            "show_id         8807\n",
            "type               2\n",
            "title           8807\n",
            "director        4528\n",
            "cast            7692\n",
            "country          748\n",
            "date_added      1767\n",
            "release_year      74\n",
            "rating            17\n",
            "duration         220\n",
            "listed_in        514\n",
            "description     8775\n",
            "dtype: int64\n"
          ]
        }
      ]
    },
    {
      "cell_type": "markdown",
      "source": [
        "**Total number of unique values in each column**"
      ],
      "metadata": {
        "id": "mvmQYaL4L1V3"
      }
    },
    {
      "cell_type": "code",
      "source": [
        "for column in df.columns:\n",
        "    if df[column].dtype == 'object':\n",
        "        unique_vals = len(df[column].value_counts())\n",
        "        print(f\"Column name: {column} | Total unique values: {unique_vals}\")\n",
        "    else:\n",
        "        continue"
      ],
      "metadata": {
        "colab": {
          "base_uri": "https://localhost:8080/"
        },
        "id": "Q6Drd0aOLsys",
        "outputId": "4c9958d3-1498-440f-84eb-800e61842990"
      },
      "execution_count": null,
      "outputs": [
        {
          "output_type": "stream",
          "name": "stdout",
          "text": [
            "Column name: show_id | Total unique values: 8807\n",
            "Column name: type | Total unique values: 2\n",
            "Column name: title | Total unique values: 8807\n",
            "Column name: director | Total unique values: 4528\n",
            "Column name: cast | Total unique values: 7692\n",
            "Column name: country | Total unique values: 748\n",
            "Column name: date_added | Total unique values: 1767\n",
            "Column name: rating | Total unique values: 17\n",
            "Column name: duration | Total unique values: 220\n",
            "Column name: listed_in | Total unique values: 514\n",
            "Column name: description | Total unique values: 8775\n"
          ]
        }
      ]
    },
    {
      "cell_type": "markdown",
      "source": [
        "**5 most common values for the 'listed_in' column**"
      ],
      "metadata": {
        "id": "iiv32qdrC_L8"
      }
    },
    {
      "cell_type": "code",
      "source": [
        "print(df['listed_in'].value_counts().nlargest(5))"
      ],
      "metadata": {
        "colab": {
          "base_uri": "https://localhost:8080/"
        },
        "id": "r-XrzhjmB6gq",
        "outputId": "348311bc-15cb-4798-e40e-6884771230f5"
      },
      "execution_count": null,
      "outputs": [
        {
          "output_type": "stream",
          "name": "stdout",
          "text": [
            "Dramas, International Movies                        362\n",
            "Documentaries                                       359\n",
            "Stand-Up Comedy                                     334\n",
            "Comedies, Dramas, International Movies              274\n",
            "Dramas, Independent Movies, International Movies    252\n",
            "Name: listed_in, dtype: int64\n"
          ]
        }
      ]
    },
    {
      "cell_type": "markdown",
      "source": [
        "**Top 5 directors with the most number of shows**"
      ],
      "metadata": {
        "id": "VnJ6IpsQC24a"
      }
    },
    {
      "cell_type": "code",
      "source": [
        "print(df['director'].value_counts().nlargest(5))"
      ],
      "metadata": {
        "colab": {
          "base_uri": "https://localhost:8080/"
        },
        "id": "icvB9xsGCArw",
        "outputId": "cf1320c5-b3db-4b18-f8d9-c6512d3bb954"
      },
      "execution_count": null,
      "outputs": [
        {
          "output_type": "stream",
          "name": "stdout",
          "text": [
            "Rajiv Chilaka             2653\n",
            "Raúl Campos, Jan Suter      18\n",
            "Suhas Kadav                 16\n",
            "Marcus Raboy                16\n",
            "Jay Karas                   14\n",
            "Name: director, dtype: int64\n"
          ]
        }
      ]
    },
    {
      "cell_type": "markdown",
      "source": [
        "**Highest Movie Rating Category by Release Year**"
      ],
      "metadata": {
        "id": "y6bQ0UikCxNm"
      }
    },
    {
      "cell_type": "code",
      "source": [
        "df['rating'] = df['rating'].astype('category')\n",
        "print(df.groupby('release_year')['rating'].apply(lambda x: x.mode().values[0]))"
      ],
      "metadata": {
        "colab": {
          "base_uri": "https://localhost:8080/"
        },
        "id": "d-aAqKx5CGEo",
        "outputId": "984adbe0-fbe7-45d4-f7b1-74ba33467afa"
      },
      "execution_count": null,
      "outputs": [
        {
          "output_type": "stream",
          "name": "stdout",
          "text": [
            "release_year\n",
            "1925    TV-14\n",
            "1942    TV-14\n",
            "1943    TV-PG\n",
            "1944    TV-14\n",
            "1945    TV-14\n",
            "        ...  \n",
            "2017    TV-MA\n",
            "2018    TV-MA\n",
            "2019    TV-MA\n",
            "2020    TV-MA\n",
            "2021    TV-MA\n",
            "Name: rating, Length: 74, dtype: object\n"
          ]
        }
      ]
    },
    {
      "cell_type": "markdown",
      "source": [
        "**Genre Statistics for the Dataset**"
      ],
      "metadata": {
        "id": "LF7x923vz-OQ"
      }
    },
    {
      "cell_type": "code",
      "source": [
        "df_genres = [x.split(\",\") for x in df[\"listed_in\"]] \n",
        "print()\n",
        "\n",
        "df_all_genres = []\n",
        "for row in df_genres:\n",
        "    for gen in row:\n",
        "        df_all_genres.append(gen.strip())\n",
        "        \n",
        "top_genres = {i:df_all_genres.count(i) for i in df_all_genres}\n",
        "\n",
        "N = 6\n",
        "top_6 = dict(sorted(top_genres.items(), key = itemgetter(1), reverse = True)[:N])\n",
        "\n",
        "\n",
        "print(\"Recollected genres from {} rows. All genres listed on the dataset: {}\\n\".format(len(df_genres), len(df_all_genres)) )\n",
        "print(\"All unique values of genres on this dataset: {}\\n\\n{}\\n\".format(len(set(df_all_genres)), set(df_all_genres)) )\n",
        "print(\"Most common genres: {}\\n\\n\".format( dict(sorted(top_genres.items())) ) )\n",
        "print(\"The top 6 most common genres are: \" + str(top_6))"
      ],
      "metadata": {
        "colab": {
          "base_uri": "https://localhost:8080/"
        },
        "id": "3eq9E_dpyCEr",
        "outputId": "ca06bdad-18c7-4009-8538-fb02c24f926d"
      },
      "execution_count": null,
      "outputs": [
        {
          "output_type": "stream",
          "name": "stdout",
          "text": [
            "\n",
            "Recollected genres from 8807 rows. All genres listed on the dataset: 19323\n",
            "\n",
            "All unique values of genres on this dataset: 42\n",
            "\n",
            "{'TV Thrillers', 'Action & Adventure', 'Documentaries', 'Independent Movies', 'TV Horror', 'Music & Musicals', 'Stand-Up Comedy', 'Anime Series', 'International TV Shows', 'Reality TV', 'Classic Movies', 'Anime Features', 'TV Comedies', 'Thrillers', 'Comedies', 'LGBTQ Movies', 'TV Mysteries', 'Sports Movies', 'TV Sci-Fi & Fantasy', 'International Movies', 'Romantic Movies', 'Crime TV Shows', 'Stand-Up Comedy & Talk Shows', 'Faith & Spirituality', 'Science & Nature TV', 'Horror Movies', 'TV Dramas', 'Docuseries', 'Classic & Cult TV', 'Children & Family Movies', 'TV Shows', 'Cult Movies', 'Sci-Fi & Fantasy', 'Teen TV Shows', \"Kids' TV\", 'British TV Shows', 'Dramas', 'Romantic TV Shows', 'Korean TV Shows', 'TV Action & Adventure', 'Movies', 'Spanish-Language TV Shows'}\n",
            "\n",
            "Most common genres: {'Action & Adventure': 859, 'Anime Features': 71, 'Anime Series': 176, 'British TV Shows': 253, 'Children & Family Movies': 641, 'Classic & Cult TV': 28, 'Classic Movies': 116, 'Comedies': 1674, 'Crime TV Shows': 470, 'Cult Movies': 71, 'Documentaries': 869, 'Docuseries': 395, 'Dramas': 2427, 'Faith & Spirituality': 65, 'Horror Movies': 357, 'Independent Movies': 756, 'International Movies': 2752, 'International TV Shows': 1351, \"Kids' TV\": 451, 'Korean TV Shows': 151, 'LGBTQ Movies': 102, 'Movies': 57, 'Music & Musicals': 375, 'Reality TV': 255, 'Romantic Movies': 616, 'Romantic TV Shows': 370, 'Sci-Fi & Fantasy': 243, 'Science & Nature TV': 92, 'Spanish-Language TV Shows': 174, 'Sports Movies': 219, 'Stand-Up Comedy': 343, 'Stand-Up Comedy & Talk Shows': 56, 'TV Action & Adventure': 168, 'TV Comedies': 581, 'TV Dramas': 763, 'TV Horror': 75, 'TV Mysteries': 98, 'TV Sci-Fi & Fantasy': 84, 'TV Shows': 16, 'TV Thrillers': 57, 'Teen TV Shows': 69, 'Thrillers': 577}\n",
            "\n",
            "\n",
            "The top 6 most common genres are: {'International Movies': 2752, 'Dramas': 2427, 'Comedies': 1674, 'International TV Shows': 1351, 'Documentaries': 869, 'Action & Adventure': 859}\n"
          ]
        }
      ]
    },
    {
      "cell_type": "markdown",
      "source": [
        "### **Insights**\n",
        "1. The release_year column has a minimum value of 1925 and a maximum value of 2021, indicating that the data includes movies and TV shows released over a 96-year period. The average release year is 2014, with a standard deviation of 8.82.\n",
        "\n",
        "\n",
        "2. The data has several missing values, with the director column having the highest number of missing values (2634). Other columns with missing values include cast, country, date_added, rating, and duration.\n",
        "\n",
        "\n",
        "3. The show_id and title columns have 8807 unique values, which is the same number of rows in the data, indicating that these columns can be used as a unique identifier for each show. Other columns with a high number of unique values include director, cast, and listed_in.\n",
        "\n",
        "\n",
        "4. The listed_in column is a categorical variable and it appears that the most common values are \"Dramas\" and \"International Movies\".\n",
        "\n",
        "\n",
        "5. The top 5 directors with the most shows in the data are Rajiv Chilaka, Raúl Campos and Jan Suter, Marcus Raboy, Suhas Kadav, and Jay Karas. This information could be useful in identifying which directors are popular among the users of the Amazon Prime service.\n",
        "\n",
        "6. There were 8807 rows in the dataset and 19323 genres listed. Out of all the listed genres, there are 42 unique values. The most common genres are \"International Movies\" with 2752 occurrences, \"Dramas\" with 2427 occurrences, and \"Comedies\" with 1674 occurrences. The top 6 most common genres are \"International Movies\", \"Dramas\", \"Comedies\", \"International TV Shows\", \"Documentaries\", and \"Action & Adventure\".\n",
        "\n"
      ],
      "metadata": {
        "id": "G0qkD7C7EpfT"
      }
    },
    {
      "cell_type": "markdown",
      "source": [
        "## **Visualisations**"
      ],
      "metadata": {
        "id": "ywX8z2f11JvS"
      }
    },
    {
      "cell_type": "markdown",
      "source": [
        "**Bar plot to visualise type**"
      ],
      "metadata": {
        "id": "zU0NKe8Z36qM"
      }
    },
    {
      "cell_type": "code",
      "source": [
        "# Group data by categorical column\n",
        "grouped = df.groupby('type').size().reset_index(name='counts')\n",
        "\n",
        "# Create bar plot\n",
        "fig = px.bar(grouped, x='type', y='counts')\n",
        "fig.show()"
      ],
      "metadata": {
        "colab": {
          "base_uri": "https://localhost:8080/",
          "height": 417
        },
        "id": "E11PBvVCzn73",
        "outputId": "265471d1-f6b7-4ab8-f6af-71aa7514d8da"
      },
      "execution_count": null,
      "outputs": [
        {
          "output_type": "display_data",
          "data": {
            "text/html": [
              "<html>\n",
              "<head><meta charset=\"utf-8\" /></head>\n",
              "<body>\n",
              "    <div>            <script src=\"https://cdnjs.cloudflare.com/ajax/libs/mathjax/2.7.5/MathJax.js?config=TeX-AMS-MML_SVG\"></script><script type=\"text/javascript\">if (window.MathJax) {MathJax.Hub.Config({SVG: {font: \"STIX-Web\"}});}</script>                <script type=\"text/javascript\">window.PlotlyConfig = {MathJaxConfig: 'local'};</script>\n",
              "        <script src=\"https://cdn.plot.ly/plotly-2.8.3.min.js\"></script>                <div id=\"7bd3fecf-906e-4e70-8ed1-3a0f24727173\" class=\"plotly-graph-div\" style=\"height:400px; width:900px;\"></div>            <script type=\"text/javascript\">                                    window.PLOTLYENV=window.PLOTLYENV || {};                                    if (document.getElementById(\"7bd3fecf-906e-4e70-8ed1-3a0f24727173\")) {                    Plotly.newPlot(                        \"7bd3fecf-906e-4e70-8ed1-3a0f24727173\",                        [{\"alignmentgroup\":\"True\",\"hovertemplate\":\"type=%{x}<br>counts=%{y}<extra></extra>\",\"legendgroup\":\"\",\"marker\":{\"color\":\"#636efa\",\"pattern\":{\"shape\":\"\"}},\"name\":\"\",\"offsetgroup\":\"\",\"orientation\":\"v\",\"showlegend\":false,\"textposition\":\"auto\",\"x\":[\"Movie\",\"TV Show\"],\"xaxis\":\"x\",\"y\":[6131,2676],\"yaxis\":\"y\",\"type\":\"bar\"}],                        {\"template\":{\"data\":{\"barpolar\":[{\"marker\":{\"line\":{\"color\":\"rgb(17,17,17)\",\"width\":0.5},\"pattern\":{\"fillmode\":\"overlay\",\"size\":10,\"solidity\":0.2}},\"type\":\"barpolar\"}],\"bar\":[{\"error_x\":{\"color\":\"#f2f5fa\"},\"error_y\":{\"color\":\"#f2f5fa\"},\"marker\":{\"line\":{\"color\":\"rgb(17,17,17)\",\"width\":0.5},\"pattern\":{\"fillmode\":\"overlay\",\"size\":10,\"solidity\":0.2}},\"type\":\"bar\"}],\"carpet\":[{\"aaxis\":{\"endlinecolor\":\"#A2B1C6\",\"gridcolor\":\"#506784\",\"linecolor\":\"#506784\",\"minorgridcolor\":\"#506784\",\"startlinecolor\":\"#A2B1C6\"},\"baxis\":{\"endlinecolor\":\"#A2B1C6\",\"gridcolor\":\"#506784\",\"linecolor\":\"#506784\",\"minorgridcolor\":\"#506784\",\"startlinecolor\":\"#A2B1C6\"},\"type\":\"carpet\"}],\"choropleth\":[{\"colorbar\":{\"outlinewidth\":0,\"ticks\":\"\"},\"type\":\"choropleth\"}],\"contourcarpet\":[{\"colorbar\":{\"outlinewidth\":0,\"ticks\":\"\"},\"type\":\"contourcarpet\"}],\"contour\":[{\"colorbar\":{\"outlinewidth\":0,\"ticks\":\"\"},\"colorscale\":[[0.0,\"#0d0887\"],[0.1111111111111111,\"#46039f\"],[0.2222222222222222,\"#7201a8\"],[0.3333333333333333,\"#9c179e\"],[0.4444444444444444,\"#bd3786\"],[0.5555555555555556,\"#d8576b\"],[0.6666666666666666,\"#ed7953\"],[0.7777777777777778,\"#fb9f3a\"],[0.8888888888888888,\"#fdca26\"],[1.0,\"#f0f921\"]],\"type\":\"contour\"}],\"heatmapgl\":[{\"colorbar\":{\"outlinewidth\":0,\"ticks\":\"\"},\"colorscale\":[[0.0,\"#0d0887\"],[0.1111111111111111,\"#46039f\"],[0.2222222222222222,\"#7201a8\"],[0.3333333333333333,\"#9c179e\"],[0.4444444444444444,\"#bd3786\"],[0.5555555555555556,\"#d8576b\"],[0.6666666666666666,\"#ed7953\"],[0.7777777777777778,\"#fb9f3a\"],[0.8888888888888888,\"#fdca26\"],[1.0,\"#f0f921\"]],\"type\":\"heatmapgl\"}],\"heatmap\":[{\"colorbar\":{\"outlinewidth\":0,\"ticks\":\"\"},\"colorscale\":[[0.0,\"#0d0887\"],[0.1111111111111111,\"#46039f\"],[0.2222222222222222,\"#7201a8\"],[0.3333333333333333,\"#9c179e\"],[0.4444444444444444,\"#bd3786\"],[0.5555555555555556,\"#d8576b\"],[0.6666666666666666,\"#ed7953\"],[0.7777777777777778,\"#fb9f3a\"],[0.8888888888888888,\"#fdca26\"],[1.0,\"#f0f921\"]],\"type\":\"heatmap\"}],\"histogram2dcontour\":[{\"colorbar\":{\"outlinewidth\":0,\"ticks\":\"\"},\"colorscale\":[[0.0,\"#0d0887\"],[0.1111111111111111,\"#46039f\"],[0.2222222222222222,\"#7201a8\"],[0.3333333333333333,\"#9c179e\"],[0.4444444444444444,\"#bd3786\"],[0.5555555555555556,\"#d8576b\"],[0.6666666666666666,\"#ed7953\"],[0.7777777777777778,\"#fb9f3a\"],[0.8888888888888888,\"#fdca26\"],[1.0,\"#f0f921\"]],\"type\":\"histogram2dcontour\"}],\"histogram2d\":[{\"colorbar\":{\"outlinewidth\":0,\"ticks\":\"\"},\"colorscale\":[[0.0,\"#0d0887\"],[0.1111111111111111,\"#46039f\"],[0.2222222222222222,\"#7201a8\"],[0.3333333333333333,\"#9c179e\"],[0.4444444444444444,\"#bd3786\"],[0.5555555555555556,\"#d8576b\"],[0.6666666666666666,\"#ed7953\"],[0.7777777777777778,\"#fb9f3a\"],[0.8888888888888888,\"#fdca26\"],[1.0,\"#f0f921\"]],\"type\":\"histogram2d\"}],\"histogram\":[{\"marker\":{\"pattern\":{\"fillmode\":\"overlay\",\"size\":10,\"solidity\":0.2}},\"type\":\"histogram\"}],\"mesh3d\":[{\"colorbar\":{\"outlinewidth\":0,\"ticks\":\"\"},\"type\":\"mesh3d\"}],\"parcoords\":[{\"line\":{\"colorbar\":{\"outlinewidth\":0,\"ticks\":\"\"}},\"type\":\"parcoords\"}],\"pie\":[{\"automargin\":true,\"type\":\"pie\"}],\"scatter3d\":[{\"line\":{\"colorbar\":{\"outlinewidth\":0,\"ticks\":\"\"}},\"marker\":{\"colorbar\":{\"outlinewidth\":0,\"ticks\":\"\"}},\"type\":\"scatter3d\"}],\"scattercarpet\":[{\"marker\":{\"colorbar\":{\"outlinewidth\":0,\"ticks\":\"\"}},\"type\":\"scattercarpet\"}],\"scattergeo\":[{\"marker\":{\"colorbar\":{\"outlinewidth\":0,\"ticks\":\"\"}},\"type\":\"scattergeo\"}],\"scattergl\":[{\"marker\":{\"line\":{\"color\":\"#283442\"}},\"type\":\"scattergl\"}],\"scattermapbox\":[{\"marker\":{\"colorbar\":{\"outlinewidth\":0,\"ticks\":\"\"}},\"type\":\"scattermapbox\"}],\"scatterpolargl\":[{\"marker\":{\"colorbar\":{\"outlinewidth\":0,\"ticks\":\"\"}},\"type\":\"scatterpolargl\"}],\"scatterpolar\":[{\"marker\":{\"colorbar\":{\"outlinewidth\":0,\"ticks\":\"\"}},\"type\":\"scatterpolar\"}],\"scatter\":[{\"marker\":{\"line\":{\"color\":\"#283442\"}},\"type\":\"scatter\"}],\"scatterternary\":[{\"marker\":{\"colorbar\":{\"outlinewidth\":0,\"ticks\":\"\"}},\"type\":\"scatterternary\"}],\"surface\":[{\"colorbar\":{\"outlinewidth\":0,\"ticks\":\"\"},\"colorscale\":[[0.0,\"#0d0887\"],[0.1111111111111111,\"#46039f\"],[0.2222222222222222,\"#7201a8\"],[0.3333333333333333,\"#9c179e\"],[0.4444444444444444,\"#bd3786\"],[0.5555555555555556,\"#d8576b\"],[0.6666666666666666,\"#ed7953\"],[0.7777777777777778,\"#fb9f3a\"],[0.8888888888888888,\"#fdca26\"],[1.0,\"#f0f921\"]],\"type\":\"surface\"}],\"table\":[{\"cells\":{\"fill\":{\"color\":\"#506784\"},\"line\":{\"color\":\"rgb(17,17,17)\"}},\"header\":{\"fill\":{\"color\":\"#2a3f5f\"},\"line\":{\"color\":\"rgb(17,17,17)\"}},\"type\":\"table\"}]},\"layout\":{\"annotationdefaults\":{\"arrowcolor\":\"#f2f5fa\",\"arrowhead\":0,\"arrowwidth\":1},\"autotypenumbers\":\"strict\",\"coloraxis\":{\"colorbar\":{\"outlinewidth\":0,\"ticks\":\"\"}},\"colorscale\":{\"diverging\":[[0,\"#8e0152\"],[0.1,\"#c51b7d\"],[0.2,\"#de77ae\"],[0.3,\"#f1b6da\"],[0.4,\"#fde0ef\"],[0.5,\"#f7f7f7\"],[0.6,\"#e6f5d0\"],[0.7,\"#b8e186\"],[0.8,\"#7fbc41\"],[0.9,\"#4d9221\"],[1,\"#276419\"]],\"sequential\":[[0.0,\"#0d0887\"],[0.1111111111111111,\"#46039f\"],[0.2222222222222222,\"#7201a8\"],[0.3333333333333333,\"#9c179e\"],[0.4444444444444444,\"#bd3786\"],[0.5555555555555556,\"#d8576b\"],[0.6666666666666666,\"#ed7953\"],[0.7777777777777778,\"#fb9f3a\"],[0.8888888888888888,\"#fdca26\"],[1.0,\"#f0f921\"]],\"sequentialminus\":[[0.0,\"#0d0887\"],[0.1111111111111111,\"#46039f\"],[0.2222222222222222,\"#7201a8\"],[0.3333333333333333,\"#9c179e\"],[0.4444444444444444,\"#bd3786\"],[0.5555555555555556,\"#d8576b\"],[0.6666666666666666,\"#ed7953\"],[0.7777777777777778,\"#fb9f3a\"],[0.8888888888888888,\"#fdca26\"],[1.0,\"#f0f921\"]]},\"colorway\":[\"#636efa\",\"#EF553B\",\"#00cc96\",\"#ab63fa\",\"#FFA15A\",\"#19d3f3\",\"#FF6692\",\"#B6E880\",\"#FF97FF\",\"#FECB52\"],\"font\":{\"color\":\"#f2f5fa\"},\"geo\":{\"bgcolor\":\"rgb(17,17,17)\",\"lakecolor\":\"rgb(17,17,17)\",\"landcolor\":\"rgb(17,17,17)\",\"showlakes\":true,\"showland\":true,\"subunitcolor\":\"#506784\"},\"hoverlabel\":{\"align\":\"left\"},\"hovermode\":\"closest\",\"mapbox\":{\"style\":\"dark\"},\"paper_bgcolor\":\"rgb(17,17,17)\",\"plot_bgcolor\":\"rgb(17,17,17)\",\"polar\":{\"angularaxis\":{\"gridcolor\":\"#506784\",\"linecolor\":\"#506784\",\"ticks\":\"\"},\"bgcolor\":\"rgb(17,17,17)\",\"radialaxis\":{\"gridcolor\":\"#506784\",\"linecolor\":\"#506784\",\"ticks\":\"\"}},\"scene\":{\"xaxis\":{\"backgroundcolor\":\"rgb(17,17,17)\",\"gridcolor\":\"#506784\",\"gridwidth\":2,\"linecolor\":\"#506784\",\"showbackground\":true,\"ticks\":\"\",\"zerolinecolor\":\"#C8D4E3\"},\"yaxis\":{\"backgroundcolor\":\"rgb(17,17,17)\",\"gridcolor\":\"#506784\",\"gridwidth\":2,\"linecolor\":\"#506784\",\"showbackground\":true,\"ticks\":\"\",\"zerolinecolor\":\"#C8D4E3\"},\"zaxis\":{\"backgroundcolor\":\"rgb(17,17,17)\",\"gridcolor\":\"#506784\",\"gridwidth\":2,\"linecolor\":\"#506784\",\"showbackground\":true,\"ticks\":\"\",\"zerolinecolor\":\"#C8D4E3\"}},\"shapedefaults\":{\"line\":{\"color\":\"#f2f5fa\"}},\"sliderdefaults\":{\"bgcolor\":\"#C8D4E3\",\"bordercolor\":\"rgb(17,17,17)\",\"borderwidth\":1,\"tickwidth\":0},\"ternary\":{\"aaxis\":{\"gridcolor\":\"#506784\",\"linecolor\":\"#506784\",\"ticks\":\"\"},\"baxis\":{\"gridcolor\":\"#506784\",\"linecolor\":\"#506784\",\"ticks\":\"\"},\"bgcolor\":\"rgb(17,17,17)\",\"caxis\":{\"gridcolor\":\"#506784\",\"linecolor\":\"#506784\",\"ticks\":\"\"}},\"title\":{\"x\":0.05},\"updatemenudefaults\":{\"bgcolor\":\"#506784\",\"borderwidth\":0},\"xaxis\":{\"automargin\":true,\"gridcolor\":\"#283442\",\"linecolor\":\"#506784\",\"ticks\":\"\",\"title\":{\"standoff\":15},\"zerolinecolor\":\"#283442\",\"zerolinewidth\":2},\"yaxis\":{\"automargin\":true,\"gridcolor\":\"#283442\",\"linecolor\":\"#506784\",\"ticks\":\"\",\"title\":{\"standoff\":15},\"zerolinecolor\":\"#283442\",\"zerolinewidth\":2}}},\"xaxis\":{\"anchor\":\"y\",\"domain\":[0.0,1.0],\"title\":{\"text\":\"type\"}},\"yaxis\":{\"anchor\":\"x\",\"domain\":[0.0,1.0],\"title\":{\"text\":\"counts\"}},\"legend\":{\"tracegroupgap\":0},\"margin\":{\"t\":60},\"barmode\":\"relative\",\"height\":400,\"width\":900},                        {\"responsive\": true}                    ).then(function(){\n",
              "                            \n",
              "var gd = document.getElementById('7bd3fecf-906e-4e70-8ed1-3a0f24727173');\n",
              "var x = new MutationObserver(function (mutations, observer) {{\n",
              "        var display = window.getComputedStyle(gd).display;\n",
              "        if (!display || display === 'none') {{\n",
              "            console.log([gd, 'removed!']);\n",
              "            Plotly.purge(gd);\n",
              "            observer.disconnect();\n",
              "        }}\n",
              "}});\n",
              "\n",
              "// Listen for the removal of the full notebook cells\n",
              "var notebookContainer = gd.closest('#notebook-container');\n",
              "if (notebookContainer) {{\n",
              "    x.observe(notebookContainer, {childList: true});\n",
              "}}\n",
              "\n",
              "// Listen for the clearing of the current output cell\n",
              "var outputEl = gd.closest('.output');\n",
              "if (outputEl) {{\n",
              "    x.observe(outputEl, {childList: true});\n",
              "}}\n",
              "\n",
              "                        })                };                            </script>        </div>\n",
              "</body>\n",
              "</html>"
            ]
          },
          "metadata": {}
        }
      ]
    },
    {
      "cell_type": "markdown",
      "source": [
        "The dataset has more movies than TV shows. This could be because movies tend to be more popular among viewers and therefore, more of them are produced and added to the streaming platform."
      ],
      "metadata": {
        "id": "R2AGtbCXFFTv"
      }
    },
    {
      "cell_type": "markdown",
      "source": [
        "**Histogram of release_year**"
      ],
      "metadata": {
        "id": "nf6uBexWDs2G"
      }
    },
    {
      "cell_type": "code",
      "source": [
        "# Create a histogram of the \"release_year\" column\n",
        "fig = px.histogram(df, x=\"release_year\", nbins=50)\n",
        "# Show the figure\n",
        "fig.show()"
      ],
      "metadata": {
        "colab": {
          "base_uri": "https://localhost:8080/",
          "height": 417
        },
        "id": "g4BqVV0ky7q8",
        "outputId": "fedd4dc0-d7b9-4a42-be4b-8d373b478d86"
      },
      "execution_count": null,
      "outputs": [
        {
          "output_type": "display_data",
          "data": {
            "text/html": [
              "<html>\n",
              "<head><meta charset=\"utf-8\" /></head>\n",
              "<body>\n",
              "    <div>            <script src=\"https://cdnjs.cloudflare.com/ajax/libs/mathjax/2.7.5/MathJax.js?config=TeX-AMS-MML_SVG\"></script><script type=\"text/javascript\">if (window.MathJax) {MathJax.Hub.Config({SVG: {font: \"STIX-Web\"}});}</script>                <script type=\"text/javascript\">window.PlotlyConfig = {MathJaxConfig: 'local'};</script>\n",
              "        <script src=\"https://cdn.plot.ly/plotly-2.8.3.min.js\"></script>                <div id=\"22c499f8-3ae3-4373-8039-f40701bc141b\" class=\"plotly-graph-div\" style=\"height:400px; width:900px;\"></div>            <script type=\"text/javascript\">                                    window.PLOTLYENV=window.PLOTLYENV || {};                                    if (document.getElementById(\"22c499f8-3ae3-4373-8039-f40701bc141b\")) {                    Plotly.newPlot(                        \"22c499f8-3ae3-4373-8039-f40701bc141b\",                        [{\"alignmentgroup\":\"True\",\"bingroup\":\"x\",\"hovertemplate\":\"release_year=%{x}<br>count=%{y}<extra></extra>\",\"legendgroup\":\"\",\"marker\":{\"color\":\"#636efa\",\"pattern\":{\"shape\":\"\"}},\"name\":\"\",\"nbinsx\":50,\"offsetgroup\":\"\",\"orientation\":\"v\",\"showlegend\":false,\"x\":[2020,2021,2021,2021,2021,2021,2021,1993,2021,2021,2021,2021,2021,2021,2021,2021,2020,2020,2021,2021,2021,2018,1996,2021,1998,2021,1997,2010,2013,2013,2021,2021,2020,2021,2020,2021,2021,2018,2017,2021,2021,1975,1978,1983,1987,2021,2012,2020,2001,2021,2014,2002,2003,2004,2001,2021,2011,2008,2009,2007,2010,2005,2006,2004,2021,2021,2014,1994,2021,2015,2021,2021,2021,2018,2021,2021,2013,2021,2020,2021,2021,2021,2021,2021,2020,2021,2021,2019,2021,2017,2019,2021,2021,2021,2018,2021,2018,2021,2021,2021,2019,2021,2021,2020,2016,2017,2021,2018,2021,2021,2021,2021,2021,2021,1994,2009,2015,2021,2017,2020,2021,2019,2003,2012,2013,2021,2020,2004,2017,2005,2021,1982,2021,2015,1994,1993,2003,2001,2010,1989,2014,2015,2007,2011,1990,1991,1994,2021,2020,1998,1999,2005,2016,2016,2015,1986,2010,2018,2003,2010,1992,1996,2017,2003,1999,2019,1984,2008,2001,2006,1997,2017,2003,2015,2003,1980,1986,1961,2014,1996,2000,2021,2008,1993,2021,2021,2021,2021,2008,2020,2021,2017,2008,2021,2002,2008,2021,2021,2021,2006,2004,2003,2005,2016,2012,2001,2010,2008,2010,2013,2011,2014,2016,2021,2021,2007,2011,2011,2021,2021,2021,2021,2021,2021,2021,2021,2021,2020,2014,2020,2021,2021,2019,2021,2021,2021,2021,2021,2021,2021,2021,2021,2021,2021,2018,2021,2021,2021,2021,2021,2020,2011,2021,1995,2021,2021,2020,2015,2020,2018,2020,2021,2021,2016,2014,2018,2020,1993,2020,2015,2021,2021,2021,2021,2021,2021,2021,2021,2021,2021,2021,2016,2020,2021,2021,2013,2021,2021,2018,2019,2021,2021,2012,2021,2020,2021,2021,2021,2020,2021,2021,2013,2013,1985,2021,1993,2016,2021,2012,2021,2021,2021,2021,2009,1995,2010,2011,2021,2021,2005,2021,2013,2008,2012,2020,1992,1993,2007,2016,2002,2009,2020,1999,1986,2019,2006,2010,2007,2014,2021,2010,1999,1995,1991,1994,2015,2008,2009,2019,2003,2000,2004,2016,2013,1991,2011,2010,2004,1995,2000,2010,2021,2018,2021,2021,2014,2021,2020,2009,2021,2021,2009,2021,2021,2013,2021,2021,2021,2019,2021,2021,2021,2021,2012,2021,2021,2021,2021,2021,2019,2019,2020,2012,2021,2021,2021,2021,2021,2021,2021,2021,2021,2021,2021,2021,2015,2013,2009,2011,2010,2013,2013,2013,2013,2012,2009,2013,2015,2019,2010,2012,2014,2011,2011,2012,2019,2021,2019,2021,2020,2021,2021,2021,2020,2020,2019,2021,2021,2020,2021,2021,2021,2021,1999,2021,2017,2017,2011,2012,2010,2009,2008,2021,2021,1983,2021,2019,2021,2021,2021,2007,2019,2019,2021,2021,2021,2021,2021,2021,2019,2021,2021,2021,2020,2015,2019,2016,2021,2021,2021,2020,2021,2021,2021,2021,2021,2016,2021,2021,2017,2021,2017,2018,2021,2015,2019,2014,2021,2020,2021,2021,2020,2010,2021,2021,2020,2021,2019,2019,2019,2016,2017,2007,2018,2019,2019,2021,2017,2020,2020,2021,2021,2015,2019,2019,2018,2019,2016,2012,1976,2015,2018,2019,2021,2019,2015,2018,2018,2021,2020,2020,2018,1959,2020,2021,2020,2021,2021,2020,2020,2021,2021,2020,2019,2020,2013,2021,2018,2012,1997,2021,2002,1997,1999,1997,2020,2000,1995,1993,2019,2021,2021,2019,2008,2011,2010,2019,2021,2005,1988,2021,1995,2016,2011,2001,2018,1992,2020,2018,2019,2016,2008,2010,2000,2009,1999,2019,2006,2010,2019,1997,1984,1986,1989,2003,1980,2006,2008,2002,2010,2003,2012,2009,2020,1998,1998,2019,2021,2021,2020,2019,2020,2019,2021,2021,2021,2021,2020,2021,2020,2012,2021,2019,2018,2019,2010,2021,2021,2021,2021,2021,2021,2021,2021,2021,2021,2021,2021,2021,2019,2016,2003,2004,2021,2014,2016,2015,2001,2021,2018,2021,2018,2018,2019,2020,2020,2020,2015,2018,2020,1981,1982,1988,2019,2019,2018,2019,2020,2018,2018,2020,2018,2021,2021,2021,2021,2021,2021,2020,1981,2021,2021,2021,2021,2019,2015,2021,2021,2020,2021,2021,2019,2012,2021,2018,2019,2021,2021,2016,2020,2021,2021,2020,2020,2021,2021,1972,2021,2013,2021,2021,2020,2005,2014,2021,2021,2014,2020,2021,2021,2021,2021,2021,2016,2021,2021,2021,2021,2021,2021,2014,2012,2021,2014,2021,2019,2021,2013,2021,2021,2021,2018,2014,2007,2018,2021,2020,2021,2021,2015,2015,2021,2021,2021,2021,2021,2021,2021,2021,2020,2021,2021,2021,2019,2020,2012,2001,2009,2013,2000,2019,2021,1997,2021,2011,2021,2013,2003,2001,2015,2015,2008,2010,1997,2019,2012,2011,2001,1997,2004,2012,2011,2009,2006,2006,2021,2017,2017,2014,2004,1984,2021,2001,1993,1981,2015,2005,2015,1996,1976,2021,2018,2019,2019,2018,2020,2021,2021,2016,2021,2021,2021,2021,2021,2021,2021,2021,2021,2021,2018,2021,2021,2021,2016,2021,2014,2015,2021,2021,2020,2021,2021,2021,2021,2021,2021,2020,2021,2009,2011,2020,2021,2021,2011,2006,2014,2017,1998,1997,2021,2021,2021,2016,2021,2021,2020,2021,2021,2021,2021,2021,2021,2021,2021,2021,2018,2020,2020,2021,2021,2021,2004,2018,2020,2021,2021,2021,2021,2020,2020,2021,2019,2021,2021,2017,2021,1999,2020,2021,2021,2021,2017,2021,2020,2017,2020,2013,2019,2021,2021,2020,2018,2018,2021,2020,2010,2006,2010,1989,2017,2010,2005,2010,2009,2018,2012,2020,2017,2019,2013,2014,2013,2003,2008,2018,2020,1994,2009,2018,2011,2009,2002,2000,2016,2018,1992,2008,2021,2019,2021,2021,2021,2018,2021,2021,2021,2021,2021,2021,2014,2011,2018,2021,2020,2019,2021,2017,2016,2014,2013,2015,2004,2015,2021,2015,2015,2016,2019,2021,2017,2015,2020,2020,2021,2020,2001,2021,2021,2021,2021,2020,2015,2021,2021,2021,2013,2018,2017,2019,2020,2019,2014,2021,2016,2019,1992,2011,2010,2008,2001,2004,2010,2007,2021,2021,2021,2021,2015,2021,2013,2020,2020,2021,2013,2020,2017,2017,2021,2016,2020,2016,2016,2019,2006,2021,2020,2019,2018,2020,2019,2021,2003,2012,2014,2020,1981,2015,2021,2021,2018,2020,2020,2021,2019,2016,2019,2021,2020,2019,2020,2021,2017,2018,2018,2019,2021,2018,2019,2017,2020,2021,2018,2021,2020,2020,2021,2016,2021,2021,2021,2020,2021,2021,2021,2021,2021,2021,2020,2021,2020,2020,2013,2006,2018,2012,2021,2019,2018,2021,2021,2021,2008,2017,2009,2009,2012,2020,2019,2010,2015,2016,2001,2020,2021,1996,2017,1964,2021,2017,2016,2017,2017,2017,2016,2017,2010,2021,2019,2002,2009,1999,2016,2017,2021,2008,2018,2021,2020,2015,2005,2021,2021,2020,2013,2012,2021,2021,2021,2013,2018,1998,2020,2020,2021,2020,2021,2021,2021,2021,2021,2021,2021,2021,2021,2021,2013,2020,2020,2020,2010,2021,2021,2021,2020,2021,2020,2021,2021,2021,2021,2020,2014,2020,2020,2017,2021,2021,2014,2021,2012,2021,2021,2021,2016,2020,2021,2021,2020,2015,2020,2021,2015,2021,2021,2020,2010,2013,2021,2021,2016,2021,2020,2020,2021,2021,2021,2021,2021,2021,2015,2021,2021,2021,2020,2021,2021,2021,2020,2021,2013,2013,2021,2021,2014,2020,2021,2019,2009,2021,2021,2021,1990,2018,2019,1988,2011,2006,2011,2021,2016,2021,2006,2021,2015,2011,2021,2008,2014,2019,2021,2018,2018,2021,2020,2021,2021,2019,2021,2021,2020,2021,2021,2020,2013,2016,2021,2020,2021,2018,2020,2021,2020,2017,2021,2021,2019,2021,2018,2021,2021,2021,2021,2021,2018,2021,2002,2020,2017,2021,2018,2021,2021,2020,2021,2005,2021,2019,2021,2021,2021,2019,2016,2018,2020,2012,2021,2021,2008,2021,2021,2019,1945,2008,2016,2020,2020,2017,2017,2021,2021,2020,2021,2021,2021,2020,2021,2020,2020,2021,2012,2018,2020,2021,1997,2019,2018,2018,2019,2010,2008,2020,2019,2015,2019,2005,2019,2020,2018,2021,2021,2021,2021,2021,2021,2021,2021,2020,2018,2021,2018,2021,2019,2019,2021,2021,2019,2020,2010,2021,2020,2020,2020,2021,2020,2021,2021,2013,2016,2020,2018,2021,2021,2021,2020,2016,2021,2014,2019,2020,2020,2021,2021,2021,2011,2020,2017,2021,2019,2021,2020,2021,2011,2005,2005,2021,2021,2003,2021,2018,2021,2021,2021,2021,2020,2016,2020,2021,2021,2020,2021,2021,1999,2020,2019,2012,2020,2014,2009,2021,2021,1987,2020,2013,1997,2009,2021,2007,2017,2017,2011,2021,1988,2020,2014,2019,2013,2021,2011,2021,1993,2017,2020,2014,2020,2020,2019,2020,2019,2020,2020,2018,2020,2020,2020,2020,2011,2020,2019,2020,2020,2020,2020,2020,2019,2020,2019,2018,2019,2012,2020,2020,2020,2020,2020,2020,2020,2016,2020,2010,2020,2018,2019,2020,2012,2019,2020,2020,2020,2020,2006,2020,2004,2009,2020,2018,2019,2017,2020,2020,2019,2020,2019,2020,2020,2012,2020,2016,2013,2011,2011,2016,2020,2020,2014,2018,2020,2020,2011,2006,2019,2020,2021,2020,2020,2020,2018,2020,2020,2020,2020,2020,2020,2020,2020,2020,2016,2013,2019,2019,2013,2019,2020,2020,2020,2020,2020,2020,2020,2019,2020,2020,2020,2016,2018,2020,2020,2020,2020,2020,2020,2020,2020,2020,2020,2020,2020,2020,2020,2019,2018,2020,2020,2013,2020,2020,2020,2020,2020,2014,2020,2009,2014,2014,2014,2018,2012,2006,2020,2015,2017,2018,1990,2006,2010,2006,2018,2018,2020,2018,2020,2020,2018,2019,2020,2020,2020,2020,2020,2020,1999,2020,2020,2020,2020,2018,2020,2020,2017,2020,2020,2020,2020,2020,2020,2015,2020,2020,2020,2020,2020,2020,2017,2018,2020,2013,2019,2020,2020,2019,2020,2020,2020,2020,2004,2011,2010,2015,2010,2016,2011,2016,2020,2018,2009,2020,2020,2020,2020,2020,2016,2017,2017,2013,2019,2013,2018,2021,2014,2020,1954,2019,2019,2020,2020,2020,2020,2020,2008,2020,2018,2013,2020,2020,2019,2008,2020,2020,2020,2020,1979,2020,2006,2020,2020,2018,2020,2020,2020,2019,2016,2018,2020,2019,2020,2020,2012,2020,2020,2018,2018,2020,2020,2020,2020,2016,2020,2020,2018,2019,2019,2002,2020,2020,2018,2019,2018,2019,2018,2020,2019,2019,1989,2018,2018,2016,2018,2020,2012,1994,2018,2020,2017,2018,2019,2019,2020,2017,2020,2020,2020,2020,2020,2020,2020,2013,2020,2016,2013,2020,2020,2020,2020,2020,2020,2020,2009,2018,2019,2019,2020,2020,2020,2018,2020,2020,2017,2020,2018,2019,2018,2018,2020,2020,2020,2020,2020,2020,1975,2005,2013,2014,2017,1991,2017,2012,2003,1982,2007,2020,1999,2018,1980,2005,2012,2020,2020,2018,2020,2016,2020,2020,2020,2020,2014,2020,2016,2018,2018,2005,2017,2020,2006,2020,2020,2020,2020,2020,2020,2004,2020,2020,1990,1982,2015,2020,2006,2002,2017,2020,2020,2018,2020,2020,2020,2020,2020,2004,2020,2020,2020,2020,2020,2019,2020,2017,2020,2020,2020,2018,2016,2017,2016,2020,2005,2020,2009,2020,2020,2020,2017,2020,2020,2020,2017,2019,2013,2019,2018,2016,2016,2020,2019,2016,2019,2018,2020,2005,2019,2018,2019,2020,2020,2003,2019,2018,2020,2020,2019,2010,2020,2018,2020,2020,2020,2012,2020,2020,2002,2013,2014,2008,2003,2009,2007,1999,2007,2007,2020,2019,2020,2015,2020,2020,2016,2020,2020,2019,2011,2020,2020,2020,2020,2020,2018,2016,2017,2017,2016,2019,2016,2019,2013,2015,2020,2013,2016,2014,2020,2020,2020,2019,2020,2014,2020,2020,2020,2014,2020,2020,2020,2020,2020,2018,2020,2020,2020,2020,2016,2020,2020,2020,2002,2020,2013,2020,2018,2020,2020,2020,2007,2014,2020,2020,2020,2014,2018,2018,2019,2019,2018,2017,2020,2020,2019,2018,2016,2016,2017,2018,2020,2020,2020,2020,2020,2020,2020,2020,2020,2020,2010,2020,2010,2017,2020,2020,2020,2019,2020,2019,2015,2020,2018,2020,2020,2020,2020,2009,2020,2020,2018,2016,2020,2017,2020,2012,2019,2016,2016,2020,2002,2020,2011,2008,1998,1998,2018,2020,2020,2019,2011,2020,2020,2020,2020,2020,2020,2020,2020,2020,2020,1998,2020,2016,2020,2019,2020,2020,2020,2020,2020,2016,2019,2013,2020,2020,2020,2020,2020,2020,2020,2019,2020,2020,2020,2020,2019,2017,2020,2020,2018,2012,2014,2020,2016,2020,2014,2009,2020,2020,2020,2018,2020,2020,2020,2020,2014,2018,2019,2016,2012,2020,2020,2014,2020,2020,2019,2020,2018,2016,2020,2020,2020,2020,2020,2018,2020,2020,2020,2020,2020,2016,2020,2020,2020,2019,2020,2020,2020,2020,2020,2020,2020,2017,2000,2020,2014,2020,2020,2018,2017,2008,2020,2020,2018,2020,2020,2020,2020,2020,2020,2020,2017,2020,2020,2020,2016,2019,2020,2020,2020,2019,2020,2020,2019,2020,2020,2016,2020,2020,2019,2020,2020,2020,2020,2015,2020,2019,2020,2020,2019,2019,2020,2020,2017,2018,2019,2018,2020,2020,2020,2020,2019,2020,2018,2019,2020,2020,2020,2016,2018,2020,2020,2020,2020,2016,2020,2020,2018,2020,2020,2020,2019,2019,2020,2020,2020,2018,2020,2020,2018,2012,2020,2019,2020,2012,2011,2012,2013,2013,2016,2013,2015,2015,2015,2014,2020,2013,2013,2014,2011,2014,2012,2014,2019,2019,2012,2015,2014,2011,2013,2011,2013,2020,2019,2020,2020,2017,2020,2020,2020,2019,1993,2020,2020,2019,2019,2016,2019,2020,2015,2019,1999,2014,2020,2007,2019,2019,1990,2004,2020,2020,2020,2020,2011,2020,2019,2019,2020,2020,2020,2020,2020,2019,2016,2019,2019,2019,2020,2020,2015,2006,2020,2020,2020,2020,2020,2020,2020,2017,2020,2017,2019,2020,2020,1997,2020,2020,2020,2020,2020,2020,1994,2020,2020,2020,1979,1989,1982,1958,1956,2020,2019,2020,1963,2010,1954,1970,2014,2020,2018,2020,2012,2016,2015,2019,2013,2019,2019,2020,2020,2020,2020,2020,2020,2020,2020,2020,2020,2018,2002,2020,2020,2014,2008,2020,2020,2020,2009,2018,2020,2018,2017,2020,2020,2018,2018,2020,2020,2016,2014,2020,2019,2020,2019,2020,2010,2020,2017,2017,2007,2017,2020,2019,2008,2006,2006,2009,2012,2008,2004,2020,2006,2011,2019,1999,2020,2017,2016,2019,2018,2014,2018,2017,2017,2017,2016,2019,2018,2020,2020,1999,2018,2020,2014,2015,2020,2016,2019,2020,2019,2019,2019,2020,2019,2020,2020,2020,2019,2018,2020,2020,2018,1981,1996,1982,2019,2020,1979,1984,1985,1981,1973,1976,2010,2020,2020,2014,2010,2020,2020,2020,2006,2009,2012,2007,2008,2009,2020,2020,2006,2004,2012,2005,2019,2020,2020,2019,2009,2009,2007,2017,2019,2020,2019,2020,2014,2020,2020,2019,2015,2020,2018,2019,2018,2020,2017,2018,2018,2018,2012,2020,2019,2020,2020,2010,1994,2019,2020,2020,2020,2020,2020,2020,2020,2020,2016,2019,2020,2018,2020,2020,2020,2019,2020,2019,2020,2019,2020,2015,2020,2019,2013,2020,2020,2015,2009,2020,2018,2019,2020,2020,2013,2008,2019,2012,2019,2014,2020,2020,2020,2019,2020,2007,2020,2020,2020,2003,2020,2020,2019,2019,2020,2020,2020,2020,2016,2020,2019,2020,2020,2019,2017,2006,2016,2008,2011,2016,2017,2016,2010,2009,2005,2019,2012,2019,2020,2020,2020,2020,2020,2010,2017,2005,2006,2011,2010,2009,2008,2009,2019,2020,2011,2019,2020,2020,2020,2016,2019,2020,2019,2020,2020,2020,2018,2019,2019,2020,2020,2006,2020,2018,2020,2020,2020,2019,2020,2020,2018,2020,2020,2020,2020,2020,2019,2019,2020,2020,2016,2015,2020,2015,2019,2018,2019,2020,2020,2020,2018,2018,2019,2019,2020,2020,2020,2019,2020,2019,2020,2019,2020,2019,2010,2017,2019,2017,2019,2017,2019,2013,2020,2019,2020,2017,2020,2019,1990,2015,2012,2015,2020,2008,1984,1998,1980,2013,1993,2014,2020,2014,2005,2006,2001,2003,2016,1998,2015,2020,2014,1987,2019,1986,2020,2020,2020,2017,2010,2020,2014,2020,2018,2020,2019,2019,2020,2016,2017,2019,2018,2019,2019,2020,2020,2019,2020,2019,2019,2020,2020,2020,2019,2020,2020,2020,2019,2020,2019,2020,2020,2019,2020,2018,2020,2020,2020,2020,2020,2020,2020,2020,2017,2020,2020,2020,2020,2020,2020,2020,2020,2019,2020,2020,2017,2020,2017,2019,2016,2020,2020,2018,2014,2019,2019,2019,2019,2019,2020,2020,2018,2020,2020,2019,2020,2020,2019,2020,2020,2020,2020,2020,2020,2020,2017,2017,2020,2019,2019,2020,2020,2020,2016,2020,2020,2019,2010,2019,2005,2016,2018,2019,2020,2019,2019,2011,2020,2014,2020,2019,2020,2019,2016,2011,2016,2017,2007,2020,2018,2019,2020,2019,2019,2020,2019,2020,2020,2020,2020,2019,2020,2016,2015,2020,2015,2016,2020,2015,2014,2020,2019,2020,2019,2018,2020,2020,2020,2020,2020,2019,2020,2020,2012,2020,2018,2008,2015,2019,2015,2017,2016,2016,2017,2017,2019,2019,2017,2020,2010,2019,2020,2018,2019,2021,2020,2019,2019,2015,2020,2018,2020,2017,2020,2019,2018,2018,2019,2019,2019,2018,2020,2018,2020,2019,2020,2020,2017,2020,2020,2014,2019,2020,2020,2020,2019,2020,2020,2019,2020,2016,1994,2015,2020,2017,2018,2019,2019,2020,2014,2018,2014,2019,1999,2020,2020,2016,2017,2020,2020,2020,2019,2009,2020,2020,2018,2020,2020,2020,2020,2019,2020,2017,2019,2015,2020,2017,2020,2020,2020,2020,2020,2020,2020,2020,2019,2004,2020,2019,2011,2019,2020,2013,2020,2020,2020,2020,2019,2019,2020,2011,2019,2015,2019,2008,2015,2018,2019,2020,2017,2019,2020,2018,2019,2020,2018,2019,2020,2019,2020,2020,2020,2014,2020,2020,2020,2020,2017,2020,2020,2020,2019,2017,2020,2019,2018,2017,2018,2014,2018,2019,2007,2008,2009,2020,2015,2001,2017,2019,2020,2017,2020,2006,2018,2017,2015,2015,2009,2017,2020,2017,2019,2019,2019,2019,2019,2019,2018,2016,2018,2019,2019,2019,2019,2013,2018,2019,2018,2019,2019,2019,2019,2017,2019,2019,2017,2019,2019,2019,2019,2019,2019,2012,2019,2017,2019,2014,2018,2015,2015,2019,2019,2019,2019,2019,2019,2019,2019,2018,2015,2015,2016,2015,2019,2018,2001,2015,2006,2011,2013,2011,2012,2019,2007,2017,2010,2004,2009,2017,2008,2012,2012,2005,2011,2019,2016,2017,2016,2018,2019,2018,2019,2019,2017,2019,2019,2017,2019,2019,2019,2017,2017,2020,2019,2017,2017,2019,2019,2019,2019,2019,2019,2016,2017,2019,2019,2019,2019,2019,2019,2019,2018,2019,2019,2014,2019,2018,2019,2019,2017,2016,2017,2018,2016,2019,2017,2019,2015,2019,2019,2019,2019,2019,2018,2019,2016,2019,2018,2018,2017,2019,2018,2019,2019,2019,2019,2019,2008,2019,2019,2019,2019,2019,2019,2015,2019,2019,2019,2019,2017,2019,2019,2019,2015,2008,2019,2019,2019,2019,2019,2019,2019,2019,2019,2019,2019,2019,2019,2019,2019,2019,2019,2019,2019,2014,2015,2013,2003,2019,2019,2019,2019,2019,2019,2013,2010,2011,2019,2004,2019,2002,2017,2018,2019,2013,2019,2019,2019,2003,2019,2019,2020,2019,2019,2009,2019,2019,2019,2019,2019,2019,2019,2019,2016,2019,2019,2018,2019,2014,2019,2019,2017,2019,2019,2016,2016,2019,2019,2014,2014,2015,2012,2017,2017,2013,2016,2015,2010,2015,2013,2019,2015,2018,2019,2016,2017,2018,2008,2019,2019,2015,2019,2018,2014,2010,2016,2019,2019,2019,2019,2019,2019,2019,2007,2019,2006,2019,2016,2019,2019,2019,2019,2016,2019,2017,2019,2019,2018,2019,2019,2018,2019,2019,2020,2019,2014,2019,2019,2019,2018,2019,2019,2019,2019,2018,2019,2019,2019,2019,2019,2019,2018,2019,2016,2019,2018,2017,2019,2019,2019,2019,2019,2019,2018,2019,2019,2017,2019,2017,2019,2019,2017,2019,2019,2017,2018,2019,2017,2019,2019,2016,2019,2019,2019,2015,2015,2018,2014,2019,2019,2019,2017,2019,2019,2019,2019,2019,2020,2019,2018,2019,2019,2019,2019,2019,2019,2019,2018,2019,2019,2019,2016,2019,2019,2019,2019,2019,2019,2019,2019,2019,2019,2019,2019,2018,2016,2017,2018,2018,2018,2018,2017,2017,2019,2018,2019,2000,2016,2017,1998,2005,2019,2019,2019,2019,2019,2018,2019,2019,2019,2019,2013,2018,2019,2019,2019,2019,2019,2019,2019,2019,2018,2009,2019,2019,2019,2019,2019,2019,2019,2019,2018,2019,2019,2019,2019,2012,2019,2006,2019,2019,2019,2019,2019,2018,2019,2019,2019,2019,2019,2019,2019,2019,2019,2019,2018,2018,2019,2019,2019,2016,2019,2012,2016,2018,2006,2014,2018,2004,2019,2018,2019,2018,2019,2019,2019,2018,2019,2018,2019,2019,2019,2019,2019,2016,2019,2019,2019,2018,2019,2019,2019,2019,2019,2019,2019,2018,2019,2019,2019,2019,2019,2019,2019,2019,2019,2015,2019,2019,2019,2019,2018,2019,2019,2019,2019,2019,2019,2019,2019,2018,2019,2019,2019,2019,2019,2018,2019,2019,2019,2014,2019,2019,2015,2013,2014,2015,2014,2012,2019,2019,2016,2015,2015,2014,2018,2016,2019,2019,2017,2017,2019,2019,2019,2019,2018,2019,2019,2019,2019,2019,2018,2019,2019,2019,2019,2019,2019,2018,2018,2018,2008,2013,2004,2007,2019,2019,2019,2019,2019,2019,2019,2018,2019,2019,2018,2019,2010,2011,2015,2017,2019,2019,2019,2018,2019,2019,2019,2019,2019,2017,2019,2019,2019,2019,2019,2019,2016,2019,2019,2019,2019,2019,2019,2019,2008,2018,2019,2015,2018,2018,2013,2019,2019,2011,2019,2019,2018,2019,2019,2017,2019,2018,2019,2019,2019,2018,2012,2019,2019,2019,2019,2019,2019,1998,2019,2019,2013,1995,2018,2019,2019,1997,2019,2019,2019,2019,2019,2015,2018,2012,2014,2019,2019,2018,2011,2019,2019,2017,2019,2019,2019,2019,2019,2019,2018,2019,2019,2019,2019,2019,2019,2019,2019,2011,2018,2019,2019,2019,2019,2019,2019,2018,2019,2019,2019,2019,2016,2019,2015,2019,2014,2019,2019,2019,2019,2019,2017,2017,2019,2019,2019,2019,2019,2019,2019,2019,2019,2019,2019,2017,2019,2019,2018,2019,2019,2019,2019,2018,2019,2019,2018,2019,2014,2016,2018,2019,2019,2019,2019,2019,2019,2019,2018,2019,2017,2018,2017,2019,2019,2018,2019,2018,2019,2018,2019,2018,2019,2011,2019,2018,2019,2019,2016,2019,2019,2018,2015,2016,2016,2015,2015,2016,2015,2016,2016,2019,2019,2019,2019,2019,2019,2019,2019,2019,2019,2019,2019,2019,2018,2019,2019,2018,2013,2008,2018,2019,2018,2019,2019,2014,2019,2018,2018,2013,2009,2012,2004,2018,2018,2018,2019,2019,2019,2018,2019,2019,2015,2018,2019,2019,2005,2019,2019,2017,2019,2019,2019,2019,2014,2019,2019,2013,2019,2001,2005,2018,2003,2003,2003,2018,2005,2016,2018,2019,2019,2014,2013,2019,2019,2019,2018,2019,2019,2019,2019,2018,2019,2017,2019,2015,2017,2019,2019,2019,2017,2019,2019,2019,2019,2019,2019,2018,2018,2019,2015,2019,2018,2016,2018,2013,2017,2019,2019,2018,2017,2019,2019,2019,2019,2019,2019,2018,2019,2018,2018,2017,2008,2019,2018,2018,2018,2017,2019,2019,2019,2018,2019,2018,2019,2019,2019,2007,2019,2014,2016,2016,2016,2016,2019,2018,2018,2019,2019,2014,2019,2018,2017,2019,2018,2018,2006,2011,2012,2008,2018,2018,2018,2018,2019,2019,2007,2016,2016,2017,2017,2018,2018,2019,2019,2018,2017,2018,2018,2018,2018,2018,2019,2019,2018,2019,2018,2012,2014,2015,2015,2016,2016,2017,2019,2015,2011,2018,2018,2018,2018,2018,2018,2019,2019,2019,2019,2014,2018,2012,2018,2019,2018,2018,2008,2018,2018,2015,2015,2014,2017,2018,2013,2013,2017,2014,2015,2012,2018,2006,2018,2018,2016,2019,2019,2019,2019,2018,2018,2018,2018,2001,2017,2018,2015,2018,2018,2017,2018,2012,2017,2004,2012,2015,2019,2018,2006,2002,2019,2018,2017,2008,2018,2018,2019,2018,2018,2018,2018,2019,2019,2019,2019,2018,2017,2018,2018,2019,2018,2018,2018,2019,2018,2017,2016,2018,2019,2014,2018,2017,2018,2019,2018,2018,2019,2019,2018,2017,2018,2010,2010,2017,2019,2018,2018,2018,2012,2018,2016,2015,2017,2018,2018,2018,2018,2018,2019,2019,2018,2019,2017,2019,2018,2017,2019,2019,2019,2019,2017,2018,2019,2018,2019,2019,2017,2016,2018,2018,2002,2017,2018,2018,2019,2016,2017,2016,2018,2017,2018,2019,2018,2019,2019,2018,2019,2017,2018,2018,2018,2018,1999,2018,2018,2018,2017,2013,1975,2019,2015,2019,2018,2012,2017,2017,2017,2018,2019,2010,1991,2015,1992,1993,1989,2013,2008,2016,1987,1991,1991,2016,2018,2018,2018,1990,1991,2011,2008,2012,2011,1925,2018,2018,2018,2015,2012,2018,2018,2018,2018,2018,2011,2018,2018,2018,2018,2018,2018,2018,2017,2018,2017,2016,2018,2018,2018,2018,2011,2018,2015,2012,2015,2014,2018,2018,2018,2018,2018,2018,2014,2011,2014,2014,2018,2014,2018,2018,2017,2018,2018,2018,2018,2017,2018,2018,2018,2018,2018,2018,2018,2018,2018,2018,2018,2018,2018,2018,2018,2018,2018,2018,2018,2018,2018,2018,2018,2018,2018,2018,2011,2009,2018,2018,2013,2014,2014,2018,2011,2014,2015,2017,2015,2016,2009,2018,2010,2017,2017,2013,2008,2018,2018,2018,2018,2018,2018,2018,2018,2018,2018,2018,2018,2018,2015,2018,2018,2018,2018,2018,2018,2018,2018,2017,2018,2018,2018,2018,2018,2007,2017,2016,2016,2018,2018,2018,2018,2018,2018,2018,2017,2017,2018,2018,2015,2018,2018,2017,2018,2018,2018,2017,2009,2017,2018,2018,2018,2018,2018,2018,2017,2017,2018,2018,2003,2018,2018,2018,2018,2018,2018,2009,2008,2015,2013,2011,2018,2012,2010,2018,2006,2015,2007,2009,2010,2018,2017,2018,2015,2013,2012,2007,2012,2013,2012,2013,2013,2012,2006,2015,2007,2013,2008,2014,2011,2008,2010,2014,2013,2013,2014,2015,2012,2017,2016,2008,2014,2011,2018,2015,2018,2006,2018,2018,2018,2018,2018,2018,2018,2009,2017,2018,2015,2018,2018,2018,2017,2018,2018,2017,2018,2018,2018,2018,2018,2018,2018,2013,2018,2017,2016,2018,2018,2018,2012,2018,2018,2017,2018,2018,2018,2018,2018,2018,2018,2018,2018,2018,2018,2018,2018,2018,2018,2018,2018,2018,2018,2018,2017,2018,2018,2018,2018,2018,2018,2018,2018,2018,2017,2017,2017,2012,2018,2014,2008,2014,2000,1998,1982,2014,2009,1972,1974,1979,2005,1989,2013,2016,2017,2009,2014,2016,2009,2009,2014,2017,2012,2018,2013,2014,2009,2018,2017,2014,2008,2015,2009,2018,2014,2009,2008,2009,2016,2012,2005,2017,2016,2012,2011,2011,2018,2018,2009,2014,2013,2013,2016,2016,2015,2014,2013,2008,2013,2015,2017,2016,2012,2018,2013,2018,2016,2010,2012,2009,2010,2015,2016,2012,2018,2018,2018,2018,2018,2018,2018,2018,2018,2018,2018,2018,2018,2018,2018,2018,2014,2016,2017,2018,2018,2018,2018,2018,2018,2018,2018,2018,2018,2018,2018,2018,2018,2004,2013,2016,2018,2018,2018,2018,2018,2018,2018,2014,2018,2018,2018,2018,2017,2018,2018,2017,2018,2018,2017,2017,2018,2018,2018,2018,2018,2017,2017,2017,2017,2018,2012,2018,2018,1998,2018,2018,2018,2017,2017,2017,2018,2017,2018,2018,2017,2018,2018,2018,2015,2018,2018,2018,2018,2018,2018,2018,2018,2018,2018,2014,2016,2018,2018,2018,2018,2018,2011,2011,2008,2016,2000,2010,2014,2014,2010,2012,2009,2016,2010,2006,2012,2015,2012,2011,2005,2018,2018,2017,2018,2018,2018,2018,2005,2012,2007,2017,2018,2018,2018,2018,2018,2018,2018,2018,2018,2018,2018,2018,2018,2018,2018,2018,2018,2018,2018,2018,2018,2018,2018,2018,2018,2018,2018,2017,2018,2018,2018,2018,2018,2018,2018,2018,2013,2012,2012,2012,2018,2006,2013,2003,2013,2018,2010,2018,2007,2017,2015,2010,2017,2018,2012,2017,2017,2018,2018,2018,2018,2018,2018,2018,2017,2018,2018,2014,2018,2018,2016,2018,2018,2018,2018,2018,2018,2018,2017,2018,2017,2017,2018,2018,2018,2018,2018,2018,2017,2008,2017,2017,2018,2018,2015,2019,2019,2018,2018,2018,2018,2018,2018,2018,2018,2018,2018,2018,2017,2007,2017,2018,1979,2009,2018,2017,2018,2018,2018,2018,2018,2018,2007,2018,2018,2018,2018,2018,2018,2018,2018,2018,2017,2017,2018,2017,2017,2017,2017,2018,2017,2018,2018,2015,2008,2015,2015,2014,2016,2016,2016,2017,2017,2017,2017,2017,2017,2018,2018,2016,2017,2016,2018,2018,2016,2016,2018,2017,2018,2018,2018,2018,2018,2018,2017,2017,2018,2018,2017,2018,2018,2018,2017,2018,2017,2018,2018,2017,2018,2018,2017,2018,2018,2017,2018,2018,2017,1993,2017,2009,2017,2012,2017,2004,2016,2007,2005,2000,2017,2017,2018,2018,2018,2018,2018,2018,2009,2006,2018,2018,2016,2018,2016,2018,2018,2018,2017,2018,2018,2018,2018,2018,2018,2016,2016,2016,2017,2017,2018,2017,2018,2018,2018,2018,2018,2018,2018,2017,2017,2018,2017,2018,2018,2018,2017,2017,2018,2018,1998,2007,2017,2016,2016,2017,2017,2004,2014,2014,2014,2008,2004,2016,2004,2017,2018,2018,2017,2016,2018,2018,2018,2017,2017,2017,2017,2018,2018,2018,2018,2017,2018,2018,2018,2018,2018,2018,2018,2017,2018,2018,2018,2017,2017,2017,2017,2016,2017,1998,2016,2017,2018,2018,2018,2018,2018,2017,2017,2018,2018,2017,2018,2017,2018,2018,2018,2017,2017,2018,2017,2018,1980,1986,2017,2018,2017,2018,2017,2018,2018,2017,2016,2017,2016,2018,2017,2017,2003,2010,2018,2000,2017,2017,2017,2016,2017,2017,2015,2017,2017,2017,2017,2017,2017,2017,2017,2017,2017,2016,2017,2017,2017,2015,2017,2017,2017,2015,2017,2017,2017,2016,2017,1986,1991,2006,2017,2017,2017,2017,2017,2017,2015,2017,2017,2017,2017,2017,2015,2016,2017,2017,2017,2017,2017,2017,2016,2017,2017,2017,2017,2017,2017,2017,2017,2017,2017,2017,2017,2017,2017,2017,2014,2015,2017,2017,2017,2017,2017,2017,2017,2017,2002,2017,2016,2017,2017,2015,2017,1978,2016,2016,2016,2017,2010,2007,2009,2008,2009,2017,2016,2017,2017,2017,2017,2016,2015,2017,2017,2017,2017,2017,2017,2017,2017,2017,2017,2017,2016,2012,2017,2015,2017,1960,2015,2016,2016,2017,2017,2017,2017,2016,2017,2017,2017,2017,2017,2017,2012,2016,2017,2017,2016,2017,2016,2012,2016,2004,2000,2013,2009,2016,2017,2017,2017,2017,2017,2015,2017,2017,2017,2017,2014,2015,2017,2017,2017,2014,2017,2017,2016,2017,2017,2017,2017,2017,2017,2017,2017,2017,2017,2016,2017,2017,2017,2016,2017,2016,2017,2016,2016,2017,2017,1988,2017,2012,2013,2006,1976,1983,2017,2007,1988,1973,2017,2017,1974,1989,2017,2016,2017,2016,1984,2016,2016,2016,2017,2016,2017,2016,2017,2017,2017,2017,2017,2011,2017,2013,2017,2015,2017,2017,2017,2015,2017,2015,2017,2017,2017,2017,2015,2015,2015,2015,2016,2017,2017,2017,2017,2017,2011,2016,2014,2015,2016,2016,2016,2016,2014,2016,2017,2016,2016,2017,2016,2011,2013,2015,2012,2009,2017,2017,2017,2016,2017,2017,2017,2017,2017,2017,2017,2014,2014,2017,2017,2015,2012,2012,2017,2008,2012,2016,2011,2014,1966,2012,2010,2018,2016,1971,2015,2013,2014,1962,2014,2016,2011,2016,2009,2012,2014,1994,2014,2012,2016,2017,2017,2017,2017,2017,2015,2017,2017,2016,2017,2014,2017,2017,2016,2017,2017,2017,2017,2017,2017,2017,2016,2016,2017,2016,2015,2016,2017,2017,2017,2016,2016,2016,2017,2017,1993,2017,2016,2017,2017,2015,2016,2017,1993,2017,2015,2016,2015,1995,1969,1998,2016,2016,2016,2017,2011,2017,2017,2017,2017,2017,2017,2016,2017,2017,2017,2017,2017,2017,1992,1994,2016,2010,1995,2016,2016,2017,2017,2017,2017,2017,2017,2017,2017,2017,2017,2016,1996,1996,2016,2016,2017,2017,2015,2016,2016,2017,2015,2010,2017,2017,2015,2017,2016,2016,2016,2017,2016,2017,2017,2017,2017,2017,2017,2014,2014,2016,2017,2016,2016,2016,2017,2016,2016,2017,2016,2017,2016,2017,2017,2005,2016,2016,1971,2015,2014,2010,1975,2017,2016,2016,2016,2017,2016,2017,2017,2017,2017,2016,2017,2017,2015,2016,2017,2017,2015,2016,2017,1992,2001,2006,2016,2001,2016,2017,2016,2017,2017,2016,2013,2017,2010,2016,2016,2017,2016,2015,2015,2017,2017,2016,2015,2017,2016,2016,2016,2013,2016,2015,2016,2010,2016,2016,2015,2017,2017,2016,2017,2016,2017,1977,2017,2017,2014,2015,2014,2015,2016,2016,2014,2017,2015,2016,2017,2016,2017,2017,2016,2017,2017,2008,2014,2014,2014,2016,2017,2015,2017,2017,2016,2017,2013,2016,2016,2017,2016,2007,2011,1999,2016,2016,2016,2016,2016,2016,2016,2018,2016,2016,2016,2016,2016,2015,2012,2015,2012,2012,2011,2016,2012,2001,2012,2012,2012,2016,2017,2016,2016,2016,2015,2016,2016,2016,2016,2015,2016,2016,2016,2016,2016,2016,2016,2016,2016,2014,2013,2015,2016,2015,2015,2016,2016,1979,2016,2016,2016,2016,2016,2012,2016,2012,2016,2016,2016,2016,2016,2012,2016,2009,2016,2015,2016,2016,2016,2015,2011,2013,2013,2013,2012,2012,2016,2016,2015,2016,2016,2016,2016,2016,2016,2016,2016,2016,2016,2016,2012,2008,2010,2015,2006,2015,2008,2016,2016,2016,2016,2016,2016,2016,2016,2015,2015,2016,2015,2014,2010,2014,2012,2016,2015,2015,2016,2015,2016,2016,2015,2015,2016,2013,2015,2016,2016,2016,2016,2016,2016,2016,2016,2016,2016,2016,2016,2010,2016,2012,2016,2016,2016,2016,2015,2008,2011,2016,2010,2015,2016,2016,2016,2016,2001,2015,2015,2010,2005,2009,2012,2014,2016,2011,1994,2005,2008,2008,2016,2008,2016,2016,2016,2016,2016,2015,2016,2016,2016,2016,2015,2016,2016,2016,2015,2016,2016,2016,2016,2016,2016,2016,2016,2016,2016,2016,2015,2007,2012,2016,2016,2015,2016,2016,2016,2016,2014,2016,2015,2016,2016,2016,2016,2012,2016,2016,2008,2010,2016,2015,2014,2015,2015,2015,2015,2015,2015,2015,2015,2015,2015,2015,2015,2015,2015,2015,2015,2015,2014,2015,2014,2015,2015,2015,2015,2015,2014,2015,2015,2015,2015,1992,2014,2015,2015,2015,2015,2011,2015,2015,2015,2015,2015,2014,2014,2014,1998,2014,2014,2014,2014,2014,2014,2014,2014,2013,2013,2014,2013,2013,2013,2013,2007,2013,2011,1988,1986,1986,1990,1988,1987,1989,1988,1991,1990,1991,2000,2010,2009,2007,2006,2009,2008,1997,2019,2008,2014,2018,2018,2019,2017,2018,2017,2017,2015,2020,2018,2016,2017,2010,2005,2013,2014,2017,2008,2018,2016,2017,2017,2014,2015,2014,2017,2010,2018,2006,2009,2019,2018,2013,2015,2018,2016,2013,2018,2016,2017,2018,2017,2000,2003,2015,2016,2018,2016,2011,1989,2017,2015,2017,2014,2004,2011,2012,2017,2014,2017,2019,2018,2016,2017,2016,2016,1977,1971,1993,2015,2016,2016,2012,2013,2017,2013,2019,2011,2016,2018,2010,2012,2014,2014,2017,1998,2015,2015,2013,2011,2011,2016,2011,2009,2015,2015,1996,2012,2002,2008,2017,2018,2013,2015,2019,2018,2011,2017,2013,2011,2010,2010,2015,2012,2016,2017,2012,2002,2015,2016,2015,2007,2012,2010,2018,2018,2014,2013,2017,2018,2013,2012,2018,2008,2012,2018,2017,2010,2015,2006,2012,2014,2015,2004,2017,2016,2018,1974,2017,2018,2016,2018,1989,2019,2016,2018,2006,2018,2016,2001,2013,2014,2014,2017,2019,2015,1977,2011,2014,2016,2017,1999,2017,2017,2017,2018,2018,2019,2014,1998,2016,2018,2015,2000,2019,2015,2013,1986,1991,1999,2000,2012,2012,2018,2014,2017,2017,2018,2015,2001,2003,2015,2018,2018,2013,2016,2016,2018,2017,2018,2018,2018,2007,2012,2017,2016,2011,2015,2015,2018,2011,2011,2011,2014,1997,2019,2016,2016,2018,2012,2016,2014,2016,1994,2016,2014,2018,2017,2016,2013,2005,2006,2016,2016,2014,2019,2015,1995,2003,2014,2017,2016,2013,2006,2019,2016,1995,2001,2004,2017,2015,2017,2015,2010,2016,2002,2009,2015,2009,2017,2013,2010,2015,2015,2016,2010,2011,2016,2012,2017,2015,2013,1995,1998,1992,2016,2017,2018,2015,2016,1972,1982,2015,2016,2018,2013,1997,2013,2010,2015,2016,2016,1996,1992,2008,2016,2007,2008,2016,2015,2017,2015,2010,2016,2015,2016,2016,2016,2019,2004,1978,2012,2019,2014,2017,2005,2010,2009,2013,2018,2013,2015,2006,2018,2007,2003,2017,1997,2017,1999,2017,2002,2018,2017,2017,2002,2010,2000,2018,2017,2015,2018,2017,2016,2016,2018,2012,2019,2001,2014,2015,2018,2017,2007,2017,2013,2015,2018,2016,2015,2017,2016,2016,2001,2013,2013,2016,2017,2013,1999,2010,2017,2018,1991,2015,2017,1973,2018,2016,2017,2008,2017,2015,2016,1967,2003,2016,2017,2017,2016,2013,2017,2013,2016,2016,2018,2007,2013,2016,2014,2015,2018,2005,2017,2015,2009,2017,2016,2016,2017,2017,2013,2018,2016,2018,2017,2010,2017,2018,2012,2017,1960,2016,2016,2017,2014,2016,2009,2018,2015,2018,2017,2017,2016,2014,2016,2017,2014,2014,2012,1998,1992,2016,2019,2017,2016,2012,2008,2015,1976,2009,2012,2015,2006,1992,1992,2015,1958,2015,2010,2018,2016,2012,2000,2014,2010,2000,2017,2010,2018,2016,2017,2005,2003,1973,2013,1997,2016,2017,2016,2015,2016,1992,2017,2012,1999,2017,2018,2018,2018,2019,2017,2005,2018,1988,1994,2017,2017,2012,1968,2009,2017,2014,2018,2012,2015,2004,2018,2006,2017,2017,1975,2009,2016,2002,2016,2018,2019,2010,1993,2018,2012,1973,2006,2017,2017,2013,2012,2014,2008,2015,2016,2017,2016,2016,2016,2005,2007,2017,2017,1999,2016,2015,2008,2016,2016,2018,2017,2002,2016,2018,2016,2013,2014,2017,2014,2008,2014,2018,1967,2017,2016,2009,2018,2017,2016,2004,2016,2017,2000,2017,2013,2015,2015,1989,1977,2003,2019,2015,2017,2015,2013,2013,2017,2016,2016,2012,2015,1997,2015,2016,2016,2015,2003,2015,2016,1991,2017,2017,2017,2018,2015,2018,2006,2018,2016,2016,2012,2011,2010,2017,2017,2017,2016,2002,2016,2018,2014,2018,1992,2018,2017,2017,2016,2019,2016,2017,2017,2004,2013,2007,2018,2017,2017,2015,2002,2002,2007,2010,2016,1985,2017,2017,2009,2017,1965,2016,2019,2014,2019,2015,2015,2010,2015,2016,2017,2016,2016,2016,1997,2005,2013,1989,2008,2017,2003,2018,1996,2015,2000,2017,2018,2016,2017,2017,2017,2018,2015,2015,2014,2003,2003,2016,2014,2014,2015,2018,2015,2010,2009,2010,1983,2018,2015,2009,2004,2012,2013,2008,2010,1979,2017,2010,2017,2017,2016,2006,2016,2019,2014,2015,2016,2015,2016,2016,2016,2017,2014,2006,2018,2002,2016,2012,2018,2013,2016,2018,1973,2015,2002,1990,1985,2016,2018,2018,2019,2007,1997,2019,2019,2014,2001,2015,2011,2008,1996,2013,2012,2001,2019,2006,2010,2011,2014,2009,2017,2017,2009,2015,2011,2019,1998,2017,2015,2019,2014,2017,2016,2017,1998,2015,2017,1971,2015,2008,2016,2015,2017,2015,2000,2003,2006,2016,2013,2018,2017,2016,2017,2015,2015,2019,1982,2014,2008,2016,2018,2016,1978,2017,2017,2011,2015,2010,2015,2012,2019,2018,1977,2017,2017,1956,2016,2018,2016,2011,2011,2008,2016,1994,2007,2012,2003,2018,2007,1993,2015,2016,2015,2019,2017,2009,2016,2003,2017,2010,2016,2011,2011,2011,2008,2015,2016,2019,2017,2009,2017,2018,2013,2016,2017,2009,2014,2002,2013,2009,2011,2016,2016,2018,2017,2015,2016,2016,2003,2011,2010,2014,2017,2008,2005,1990,2017,2013,2007,2014,2012,2013,1997,2005,1958,2012,2013,2012,2010,2018,2016,2017,2014,2018,2017,1979,2013,1995,2019,2017,2016,2006,2016,2018,2015,2016,2014,2019,2012,2005,2014,1990,2017,2011,2018,2001,2012,2003,2015,2008,2017,2013,2013,2017,1978,2016,2017,2015,2016,2016,2016,2015,2008,2015,2015,2013,2013,2016,2010,2014,2007,2009,2015,2000,1987,2017,2017,2013,2015,2017,2013,2017,2014,2016,2015,2015,2015,2005,2008,2004,2015,2014,2010,2017,2015,2016,2014,1999,2015,2017,2018,2017,2015,2016,2011,2015,2018,2018,1998,2017,2001,2017,2018,2016,2015,2015,2016,2016,2004,2013,2018,1976,2016,1997,2018,2017,2015,2010,2016,2015,2016,1988,2016,2015,2010,2015,2017,2016,2005,2016,2017,2015,2016,2006,2015,2016,2016,2008,2010,2017,2019,2011,2018,2011,2018,2018,2017,2015,2013,2016,2013,2016,2017,2017,2016,2016,2007,2017,1975,2018,2012,2016,2016,2017,2000,2017,1997,2015,2018,1995,2016,2012,2009,1999,2006,2011,2014,2010,2015,2015,2011,2016,2018,2005,2018,2016,2010,2016,2017,2018,2016,2016,2015,2018,2016,2011,2017,2014,2016,2015,2013,2019,2016,2014,2010,2014,2008,2013,2009,1974,2012,2017,2017,2014,2019,2017,2017,2015,2018,2014,2015,2008,1989,1981,1984,2016,2013,2016,2009,2008,2005,2017,2015,2017,2018,2013,2007,2016,2015,2004,2003,2002,2009,2018,2017,2006,2010,2018,2014,2011,2015,2014,2015,2013,1995,2012,2015,2017,2014,2018,2006,2013,2018,2016,1997,2015,2009,2014,2013,2012,2016,2008,2001,1973,2019,2015,2008,2014,2018,2016,2009,1973,2017,2011,1960,2017,2005,2012,2013,2017,2018,2015,2017,2015,2016,1997,2011,2017,2009,2014,2011,2005,2015,2005,1992,2011,2012,2002,2013,2017,2015,1981,2017,2016,2016,2014,2010,2016,2017,2017,2008,2001,1982,2006,2017,2005,1990,2014,1996,2011,2013,2010,2017,2017,1993,2018,2013,2006,2011,1980,2003,2018,2017,2016,1995,2015,2015,2010,2003,2004,2016,2015,2016,2011,1988,2010,2016,2014,2015,2005,2018,1996,2017,2015,1997,2016,2017,2013,2015,2015,1945,2009,2016,2014,2012,1972,2014,2009,2013,2016,2012,2017,2017,2010,2013,2015,2019,2013,2017,2017,2004,2010,2010,2017,2017,1998,2014,2012,2000,2017,2004,2016,2017,1987,2016,2012,2016,2017,2010,2016,2016,2011,2016,2006,2018,2015,2010,2011,2017,2015,2019,2015,2010,2017,2014,2010,2003,2011,2011,2011,2018,2017,2014,2010,2017,1982,2017,2010,2017,2018,2018,2016,2017,2013,2016,1946,2014,2018,2014,2014,2018,2009,2014,2018,1997,2018,1992,2015,2012,2012,2013,1990,1983,2015,2016,2016,2016,2000,2018,2019,2019,2016,2017,2014,2016,2017,2013,1998,2013,2012,2017,1976,2016,1962,2015,2017,1990,2015,2015,2015,2017,2012,2017,2015,2015,2019,2010,2017,1994,2012,2016,2018,2011,2015,2013,2014,2016,2006,1995,2016,2010,2005,2018,2015,2017,2017,2012,2014,1979,2014,2008,1987,2016,2016,2017,2016,2017,2016,2013,2018,2016,2013,2015,2014,2010,1981,2013,2005,1989,2017,2018,2013,2015,2018,1983,2017,2014,2016,2014,2017,1999,2017,2017,2017,2016,2018,2016,2016,2016,2019,2018,1986,2002,2017,2016,2014,2013,2017,2018,2016,1983,2016,2017,2006,2013,2014,2017,2016,2017,1988,2016,2016,1973,2017,1985,2017,2013,2012,2017,2016,2003,2017,2018,1997,2002,2016,2009,2018,2015,2018,2016,2009,2015,2016,2018,2016,1996,2008,2014,2017,2013,2004,2012,2016,2015,2015,2014,2017,2011,2015,2015,2016,2017,2018,2014,2015,2016,2017,2015,2019,2017,2014,2003,2016,2015,1997,2014,2016,2017,2017,2013,2015,2012,2014,2013,2011,2014,2012,2016,2015,2010,2013,2013,2012,2005,2013,2011,2009,2016,2015,2015,2016,2013,2011,2016,2017,2013,2016,2002,2015,1984,2007,2013,2012,2012,2004,2014,2014,2007,2017,2017,1962,2010,2005,2017,2013,2016,2015,2015,2017,2016,2017,2015,2014,2013,2001,2015,2009,2013,2012,2011,2014,1999,2017,2006,2016,2017,2016,1982,2016,2011,2017,2016,1993,2016,2004,2016,2016,2015,2018,2016,2016,2009,2009,2016,2015,1945,2016,2016,2018,2004,2016,2007,2017,2018,2013,2014,2016,2008,1981,1997,2005,2018,2007,2016,2020,2019,2019,2004,2017,2017,2018,2017,2017,2017,2017,2018,2017,2017,2018,2017,2017,2017,2017,2017,2018,2017,2018,2018,2012,2017,1995,2016,2009,2016,2018,2012,2015,2011,2015,2016,2013,2013,2016,2016,2014,2009,2018,1960,2007,2004,2017,2015,2016,2011,2012,2015,2014,2017,2013,2018,2012,1983,2017,2016,2018,2018,2018,2018,2019,1968,2016,2013,2017,2018,2017,2016,2018,2013,2015,2006,2016,2016,2016,2018,2012,2012,2018,2016,1984,2018,2017,2017,2014,2019,2018,2017,2018,2006,2015,2016,2007,2017,2007,2016,2007,2002,2016,1988,2011,2015,2015,2002,2000,2018,2007,2016,1997,2017,1990,2015,2003,1992,2011,2017,1992,2014,2009,2016,2010,2009,2013,1990,1988,2016,2006,2016,2016,2017,2007,2016,2016,2016,2018,2018,2015,1993,2015,2009,2012,2017,2018,2018,2017,1946,2002,1998,2018,2016,2006,2010,2016,1986,1980,2018,2018,1980,2018,2016,2018,2010,2016,2015,2016,2004,1998,2008,2000,1999,2006,2003,2007,2009,2005,2011,2011,2011,2011,2014,2014,2012,2012,2012,2001,1997,2002,1996,2013,2013,2013,2013,1942,2013,2015,1996,1984,2017,2017,2018,2011,2019,2016,2000,1994,2014,2012,2011,2014,2019,2015,2008,2009,2015,2017,2018,2008,2012,2009,2008,2013,2015,1980,2015,2015,2016,1996,1974,2018,1985,2012,2018,2005,2018,2010,2017,2016,2015,2011,2011,2015,1955,2004,2018,2016,2016,1984,2017,2017,2015,2016,2015,2017,2012,2015,2015,2010,2017,2014,2010,2017,2016,1980,2016,2017,2014,2017,2008,2012,2016,2008,2015,2017,2013,2010,2011,2010,2015,2016,2018,1985,1976,1979,1982,1985,1990,2017,2014,2018,2015,2014,2015,2017,2012,2016,2016,1968,1998,2016,2004,2017,2016,1995,2005,2004,1999,2018,2018,1998,2015,2013,2013,2016,2016,2003,1982,2013,2014,2016,1983,2014,2016,2012,2016,2016,2007,2014,2017,2017,2013,2018,2018,1945,2008,1964,2014,2010,2010,2015,2016,2005,2017,2008,2018,2014,2012,1982,2017,2017,2018,2015,2013,2019,2014,2017,2018,1955,2000,2013,1993,1988,1998,2010,1997,2000,2012,1993,2012,2011,2007,2014,2015,2013,2013,2013,2014,2013,2013,2014,2013,2014,2014,2012,2010,2016,2017,2015,2011,2010,2008,2016,1999,2019,2016,2011,1986,2002,2012,2002,2002,2011,2008,2019,2010,2017,2009,1990,2016,2018,2017,2016,2013,2009,2016,2017,2004,2017,2008,2014,2018,2012,2016,2015,2008,2018,2013,2015,2017,2017,2016,2015,2014,2016,2016,2016,2016,2014,2010,2015,2004,1996,1993,2018,2015,1998,2008,2017,2015,2016,2005,2018,2013,1991,2018,2018,2009,2017,2003,2014,2016,2016,2011,2019,2016,2014,1976,2013,2017,2019,2007,2018,2018,2018,2015,2012,2018,2001,2002,2003,2015,2018,2019,2015,2015,2017,2014,2013,2015,2006,2008,2018,2017,2010,2010,2015,2010,2017,2014,2014,2015,2017,2020,2019,2006,2015,1992,2016,1981,1996,2017,2016,2018,2002,2019,2015,2011,2018,2014,2014,2018,2019,2015,2014,2019,2018,2017,2014,2020,2007,1972,2006,2016,1999,2016,2020,2017,2017,2016,1977,2018,2007,2017,2016,2016,1980,2010,1999,2008,2011,2018,1993,2014,2015,1999,2005,2013,2016,2017,2010,2016,2007,1991,1990,2010,2016,2017,2015,2010,2003,2009,2015,2017,2016,2012,2015,2019,2005,2018,2016,2016,2018,2015,2010,2016,2015,2005,2011,2007,2016,1995,2005,1967,2019,2019,2010,2014,2015,2013,2000,2016,2016,2009,2017,2015,2016,1993,2018,1942,2012,2016,2011,2015,2018,2016,2015,2016,2001,2016,2011,2010,2015,2010,2009,2016,2008,2007,2019,2017,2006,2017,2005,2007,2013,1983,2017,2019,2017,2018,2014,1977,2017,2017,2017,2016,2016,2017,2010,2016,2015,2013,2016,1965,2011,2010,2018,2016,2013,2011,1996,2016,2013,1994,1970,1992,2016,2015,2009,2011,1982,2018,2016,2015,2017,2015,2006,2017,2017,2017,2012,2013,2018,2015,2009,2016,2011,2016,2005,2007,2015,2016,2015,2017,1981,2016,2016,2012,2015,2018,2010,2009,2009,2014,2019,1996,2016,1978,1994,2000,1975,2008,2017,2017,2014,2017,2016,2016,2013,2015,2007,2003,2018,2019,2011,2016,2018,2017,2016,2009,2014,2015,2015,2014,2018,2018,1979,2005,2013,2011,2013,2017,2008,2017,2018,2011,2017,2015,2017,2016,2005,2015,2016,2015,2013,2017,2014,2015,2018,2016,2009,2010,2014,2018,2018,1995,2009,2016,2018,2009,2018,2015,2008,2011,2015,2010,2007,2010,2013,2017,2019,2010,2009,2017,2006,2017,2016,1992,2010,2016,2018,2014,2018,2019,2017,2016,2013,2017,2018,2015,2006,2015,2015,2017,2019,1974,2008,2014,2003,2002,2008,2016,1982,1993,2017,2012,2009,1998,1999,2003,2003,2018,2017,1944,2009,2015,2016,2012,2017,2016,2016,2015,2018,2017,2011,2015,2017,1991,1988,1984,1944,2021,2018,2017,2016,2018,2012,2014,2008,2010,2001,2016,1997,1993,2018,2012,2004,2013,2006,2014,2017,2012,2012,2015,2012,2004,2017,2004,2014,2004,2009,2017,2019,2006,2018,2009,2008,1997,2016,2010,2006,2015,2016,2017,2016,2015,2015,2016,2016,2011,2002,2014,2016,1994,2017,2016,2011,2014,2011,2015,2014,2012,2001,2015,2016,2019,2014,2015,2014,2017,1955,2014,2015,2013,2017,2010,2016,2013,1978,2010,2019,2015,2017,2017,2017,2015,2017,1989,2018,2009,1999,1974,2013,2016,2017,2002,2009,2016,2017,1996,2016,2015,2016,2010,2002,1963,2009,2011,2017,2009,2016,2013,2015,2017,2015,2007,2014,2007,1998,2006,2017,2005,2015,2018,2010,2016,2016,2017,1999,2018,2017,2009,2016,1985,2016,2017,1988,2016,2014,2015,2017,2015,2015,2017,2017,2011,2010,2010,2016,2010,2017,1947,2017,2016,2017,2013,2009,2014,2014,2018,2014,2016,1995,2015,2018,2017,2001,1997,2018,2018,2016,2001,2016,2016,2015,2007,2007,2016,1996,2008,2014,2014,2016,2017,2015,1990,1995,2001,2004,2015,2018,2016,1985,1995,2014,2019,2017,2017,2017,1969,2017,2015,2010,2012,1944,2013,2014,2010,1990,2018,2018,2015,2018,2016,2015,2008,2013,2015,2016,2006,2017,2017,2013,2016,1943,2012,2017,2011,2009,2017,2018,2016,2005,1995,2008,2016,2018,2016,2017,2015,2018,2016,2016,2013,2017,2014,2004,2018,2016,2018,2013,2016,2015,2005,2017,2016,2017,2017,2007,2013,2011,2016,2014,2015,2014,2017,2018,2015,2018,2016,2018,2017,2015,1983,2012,2016,2016,2015,2016,2014,2017,1967,2019,2017,2016,2012,2000,2017,2018,2002,2017,2013,2016,2000,2017,2015,2018,2016,2017,1967,2011,2016,2016,1943,2015,2013,1999,2018,2017,1971,2017,2016,1981,2014,2010,2014,2019,2017,2016,2010,2019,2006,2017,2015,2013,2015,2016,1943,1994,2017,2002,2005,2001,2008,2001,2011,2013,2006,2018,2018,2014,2010,2012,2015,2015,2016,2016,2016,2015,2016,2017,2017,2015,2009,2008,2011,1973,2005,2016,2015,2016,2016,2014,2009,2012,2015,2007,2018,2009,2006,2015],\"xaxis\":\"x\",\"yaxis\":\"y\",\"type\":\"histogram\"}],                        {\"template\":{\"data\":{\"barpolar\":[{\"marker\":{\"line\":{\"color\":\"rgb(17,17,17)\",\"width\":0.5},\"pattern\":{\"fillmode\":\"overlay\",\"size\":10,\"solidity\":0.2}},\"type\":\"barpolar\"}],\"bar\":[{\"error_x\":{\"color\":\"#f2f5fa\"},\"error_y\":{\"color\":\"#f2f5fa\"},\"marker\":{\"line\":{\"color\":\"rgb(17,17,17)\",\"width\":0.5},\"pattern\":{\"fillmode\":\"overlay\",\"size\":10,\"solidity\":0.2}},\"type\":\"bar\"}],\"carpet\":[{\"aaxis\":{\"endlinecolor\":\"#A2B1C6\",\"gridcolor\":\"#506784\",\"linecolor\":\"#506784\",\"minorgridcolor\":\"#506784\",\"startlinecolor\":\"#A2B1C6\"},\"baxis\":{\"endlinecolor\":\"#A2B1C6\",\"gridcolor\":\"#506784\",\"linecolor\":\"#506784\",\"minorgridcolor\":\"#506784\",\"startlinecolor\":\"#A2B1C6\"},\"type\":\"carpet\"}],\"choropleth\":[{\"colorbar\":{\"outlinewidth\":0,\"ticks\":\"\"},\"type\":\"choropleth\"}],\"contourcarpet\":[{\"colorbar\":{\"outlinewidth\":0,\"ticks\":\"\"},\"type\":\"contourcarpet\"}],\"contour\":[{\"colorbar\":{\"outlinewidth\":0,\"ticks\":\"\"},\"colorscale\":[[0.0,\"#0d0887\"],[0.1111111111111111,\"#46039f\"],[0.2222222222222222,\"#7201a8\"],[0.3333333333333333,\"#9c179e\"],[0.4444444444444444,\"#bd3786\"],[0.5555555555555556,\"#d8576b\"],[0.6666666666666666,\"#ed7953\"],[0.7777777777777778,\"#fb9f3a\"],[0.8888888888888888,\"#fdca26\"],[1.0,\"#f0f921\"]],\"type\":\"contour\"}],\"heatmapgl\":[{\"colorbar\":{\"outlinewidth\":0,\"ticks\":\"\"},\"colorscale\":[[0.0,\"#0d0887\"],[0.1111111111111111,\"#46039f\"],[0.2222222222222222,\"#7201a8\"],[0.3333333333333333,\"#9c179e\"],[0.4444444444444444,\"#bd3786\"],[0.5555555555555556,\"#d8576b\"],[0.6666666666666666,\"#ed7953\"],[0.7777777777777778,\"#fb9f3a\"],[0.8888888888888888,\"#fdca26\"],[1.0,\"#f0f921\"]],\"type\":\"heatmapgl\"}],\"heatmap\":[{\"colorbar\":{\"outlinewidth\":0,\"ticks\":\"\"},\"colorscale\":[[0.0,\"#0d0887\"],[0.1111111111111111,\"#46039f\"],[0.2222222222222222,\"#7201a8\"],[0.3333333333333333,\"#9c179e\"],[0.4444444444444444,\"#bd3786\"],[0.5555555555555556,\"#d8576b\"],[0.6666666666666666,\"#ed7953\"],[0.7777777777777778,\"#fb9f3a\"],[0.8888888888888888,\"#fdca26\"],[1.0,\"#f0f921\"]],\"type\":\"heatmap\"}],\"histogram2dcontour\":[{\"colorbar\":{\"outlinewidth\":0,\"ticks\":\"\"},\"colorscale\":[[0.0,\"#0d0887\"],[0.1111111111111111,\"#46039f\"],[0.2222222222222222,\"#7201a8\"],[0.3333333333333333,\"#9c179e\"],[0.4444444444444444,\"#bd3786\"],[0.5555555555555556,\"#d8576b\"],[0.6666666666666666,\"#ed7953\"],[0.7777777777777778,\"#fb9f3a\"],[0.8888888888888888,\"#fdca26\"],[1.0,\"#f0f921\"]],\"type\":\"histogram2dcontour\"}],\"histogram2d\":[{\"colorbar\":{\"outlinewidth\":0,\"ticks\":\"\"},\"colorscale\":[[0.0,\"#0d0887\"],[0.1111111111111111,\"#46039f\"],[0.2222222222222222,\"#7201a8\"],[0.3333333333333333,\"#9c179e\"],[0.4444444444444444,\"#bd3786\"],[0.5555555555555556,\"#d8576b\"],[0.6666666666666666,\"#ed7953\"],[0.7777777777777778,\"#fb9f3a\"],[0.8888888888888888,\"#fdca26\"],[1.0,\"#f0f921\"]],\"type\":\"histogram2d\"}],\"histogram\":[{\"marker\":{\"pattern\":{\"fillmode\":\"overlay\",\"size\":10,\"solidity\":0.2}},\"type\":\"histogram\"}],\"mesh3d\":[{\"colorbar\":{\"outlinewidth\":0,\"ticks\":\"\"},\"type\":\"mesh3d\"}],\"parcoords\":[{\"line\":{\"colorbar\":{\"outlinewidth\":0,\"ticks\":\"\"}},\"type\":\"parcoords\"}],\"pie\":[{\"automargin\":true,\"type\":\"pie\"}],\"scatter3d\":[{\"line\":{\"colorbar\":{\"outlinewidth\":0,\"ticks\":\"\"}},\"marker\":{\"colorbar\":{\"outlinewidth\":0,\"ticks\":\"\"}},\"type\":\"scatter3d\"}],\"scattercarpet\":[{\"marker\":{\"colorbar\":{\"outlinewidth\":0,\"ticks\":\"\"}},\"type\":\"scattercarpet\"}],\"scattergeo\":[{\"marker\":{\"colorbar\":{\"outlinewidth\":0,\"ticks\":\"\"}},\"type\":\"scattergeo\"}],\"scattergl\":[{\"marker\":{\"line\":{\"color\":\"#283442\"}},\"type\":\"scattergl\"}],\"scattermapbox\":[{\"marker\":{\"colorbar\":{\"outlinewidth\":0,\"ticks\":\"\"}},\"type\":\"scattermapbox\"}],\"scatterpolargl\":[{\"marker\":{\"colorbar\":{\"outlinewidth\":0,\"ticks\":\"\"}},\"type\":\"scatterpolargl\"}],\"scatterpolar\":[{\"marker\":{\"colorbar\":{\"outlinewidth\":0,\"ticks\":\"\"}},\"type\":\"scatterpolar\"}],\"scatter\":[{\"marker\":{\"line\":{\"color\":\"#283442\"}},\"type\":\"scatter\"}],\"scatterternary\":[{\"marker\":{\"colorbar\":{\"outlinewidth\":0,\"ticks\":\"\"}},\"type\":\"scatterternary\"}],\"surface\":[{\"colorbar\":{\"outlinewidth\":0,\"ticks\":\"\"},\"colorscale\":[[0.0,\"#0d0887\"],[0.1111111111111111,\"#46039f\"],[0.2222222222222222,\"#7201a8\"],[0.3333333333333333,\"#9c179e\"],[0.4444444444444444,\"#bd3786\"],[0.5555555555555556,\"#d8576b\"],[0.6666666666666666,\"#ed7953\"],[0.7777777777777778,\"#fb9f3a\"],[0.8888888888888888,\"#fdca26\"],[1.0,\"#f0f921\"]],\"type\":\"surface\"}],\"table\":[{\"cells\":{\"fill\":{\"color\":\"#506784\"},\"line\":{\"color\":\"rgb(17,17,17)\"}},\"header\":{\"fill\":{\"color\":\"#2a3f5f\"},\"line\":{\"color\":\"rgb(17,17,17)\"}},\"type\":\"table\"}]},\"layout\":{\"annotationdefaults\":{\"arrowcolor\":\"#f2f5fa\",\"arrowhead\":0,\"arrowwidth\":1},\"autotypenumbers\":\"strict\",\"coloraxis\":{\"colorbar\":{\"outlinewidth\":0,\"ticks\":\"\"}},\"colorscale\":{\"diverging\":[[0,\"#8e0152\"],[0.1,\"#c51b7d\"],[0.2,\"#de77ae\"],[0.3,\"#f1b6da\"],[0.4,\"#fde0ef\"],[0.5,\"#f7f7f7\"],[0.6,\"#e6f5d0\"],[0.7,\"#b8e186\"],[0.8,\"#7fbc41\"],[0.9,\"#4d9221\"],[1,\"#276419\"]],\"sequential\":[[0.0,\"#0d0887\"],[0.1111111111111111,\"#46039f\"],[0.2222222222222222,\"#7201a8\"],[0.3333333333333333,\"#9c179e\"],[0.4444444444444444,\"#bd3786\"],[0.5555555555555556,\"#d8576b\"],[0.6666666666666666,\"#ed7953\"],[0.7777777777777778,\"#fb9f3a\"],[0.8888888888888888,\"#fdca26\"],[1.0,\"#f0f921\"]],\"sequentialminus\":[[0.0,\"#0d0887\"],[0.1111111111111111,\"#46039f\"],[0.2222222222222222,\"#7201a8\"],[0.3333333333333333,\"#9c179e\"],[0.4444444444444444,\"#bd3786\"],[0.5555555555555556,\"#d8576b\"],[0.6666666666666666,\"#ed7953\"],[0.7777777777777778,\"#fb9f3a\"],[0.8888888888888888,\"#fdca26\"],[1.0,\"#f0f921\"]]},\"colorway\":[\"#636efa\",\"#EF553B\",\"#00cc96\",\"#ab63fa\",\"#FFA15A\",\"#19d3f3\",\"#FF6692\",\"#B6E880\",\"#FF97FF\",\"#FECB52\"],\"font\":{\"color\":\"#f2f5fa\"},\"geo\":{\"bgcolor\":\"rgb(17,17,17)\",\"lakecolor\":\"rgb(17,17,17)\",\"landcolor\":\"rgb(17,17,17)\",\"showlakes\":true,\"showland\":true,\"subunitcolor\":\"#506784\"},\"hoverlabel\":{\"align\":\"left\"},\"hovermode\":\"closest\",\"mapbox\":{\"style\":\"dark\"},\"paper_bgcolor\":\"rgb(17,17,17)\",\"plot_bgcolor\":\"rgb(17,17,17)\",\"polar\":{\"angularaxis\":{\"gridcolor\":\"#506784\",\"linecolor\":\"#506784\",\"ticks\":\"\"},\"bgcolor\":\"rgb(17,17,17)\",\"radialaxis\":{\"gridcolor\":\"#506784\",\"linecolor\":\"#506784\",\"ticks\":\"\"}},\"scene\":{\"xaxis\":{\"backgroundcolor\":\"rgb(17,17,17)\",\"gridcolor\":\"#506784\",\"gridwidth\":2,\"linecolor\":\"#506784\",\"showbackground\":true,\"ticks\":\"\",\"zerolinecolor\":\"#C8D4E3\"},\"yaxis\":{\"backgroundcolor\":\"rgb(17,17,17)\",\"gridcolor\":\"#506784\",\"gridwidth\":2,\"linecolor\":\"#506784\",\"showbackground\":true,\"ticks\":\"\",\"zerolinecolor\":\"#C8D4E3\"},\"zaxis\":{\"backgroundcolor\":\"rgb(17,17,17)\",\"gridcolor\":\"#506784\",\"gridwidth\":2,\"linecolor\":\"#506784\",\"showbackground\":true,\"ticks\":\"\",\"zerolinecolor\":\"#C8D4E3\"}},\"shapedefaults\":{\"line\":{\"color\":\"#f2f5fa\"}},\"sliderdefaults\":{\"bgcolor\":\"#C8D4E3\",\"bordercolor\":\"rgb(17,17,17)\",\"borderwidth\":1,\"tickwidth\":0},\"ternary\":{\"aaxis\":{\"gridcolor\":\"#506784\",\"linecolor\":\"#506784\",\"ticks\":\"\"},\"baxis\":{\"gridcolor\":\"#506784\",\"linecolor\":\"#506784\",\"ticks\":\"\"},\"bgcolor\":\"rgb(17,17,17)\",\"caxis\":{\"gridcolor\":\"#506784\",\"linecolor\":\"#506784\",\"ticks\":\"\"}},\"title\":{\"x\":0.05},\"updatemenudefaults\":{\"bgcolor\":\"#506784\",\"borderwidth\":0},\"xaxis\":{\"automargin\":true,\"gridcolor\":\"#283442\",\"linecolor\":\"#506784\",\"ticks\":\"\",\"title\":{\"standoff\":15},\"zerolinecolor\":\"#283442\",\"zerolinewidth\":2},\"yaxis\":{\"automargin\":true,\"gridcolor\":\"#283442\",\"linecolor\":\"#506784\",\"ticks\":\"\",\"title\":{\"standoff\":15},\"zerolinecolor\":\"#283442\",\"zerolinewidth\":2}}},\"xaxis\":{\"anchor\":\"y\",\"domain\":[0.0,1.0],\"title\":{\"text\":\"release_year\"}},\"yaxis\":{\"anchor\":\"x\",\"domain\":[0.0,1.0],\"title\":{\"text\":\"count\"}},\"legend\":{\"tracegroupgap\":0},\"margin\":{\"t\":60},\"barmode\":\"relative\",\"height\":400,\"width\":900},                        {\"responsive\": true}                    ).then(function(){\n",
              "                            \n",
              "var gd = document.getElementById('22c499f8-3ae3-4373-8039-f40701bc141b');\n",
              "var x = new MutationObserver(function (mutations, observer) {{\n",
              "        var display = window.getComputedStyle(gd).display;\n",
              "        if (!display || display === 'none') {{\n",
              "            console.log([gd, 'removed!']);\n",
              "            Plotly.purge(gd);\n",
              "            observer.disconnect();\n",
              "        }}\n",
              "}});\n",
              "\n",
              "// Listen for the removal of the full notebook cells\n",
              "var notebookContainer = gd.closest('#notebook-container');\n",
              "if (notebookContainer) {{\n",
              "    x.observe(notebookContainer, {childList: true});\n",
              "}}\n",
              "\n",
              "// Listen for the clearing of the current output cell\n",
              "var outputEl = gd.closest('.output');\n",
              "if (outputEl) {{\n",
              "    x.observe(outputEl, {childList: true});\n",
              "}}\n",
              "\n",
              "                        })                };                            </script>        </div>\n",
              "</body>\n",
              "</html>"
            ]
          },
          "metadata": {}
        }
      ]
    },
    {
      "cell_type": "markdown",
      "source": [
        "From the histogram, we can see that there has been a significant increase in the number of movies being made available on the streaming platform, starting from the year 1992. This could be due to the increasing popularity and acceptance of streaming platforms, as well as the advent of new technologies and advancements in the film industry."
      ],
      "metadata": {
        "id": "0T7hUwmTFIRB"
      }
    },
    {
      "cell_type": "markdown",
      "source": [
        "**Box plot for duration column (movies)**"
      ],
      "metadata": {
        "id": "tHk9aCa85naJ"
      }
    },
    {
      "cell_type": "code",
      "source": [
        "# Filter the data to only show movies\n",
        "movies_df = df[df[\"type\"] == \"Movie\"]\n",
        "\n",
        "# Make the box plot\n",
        "fig = px.box(movies_df, y=\"duration\")\n",
        "fig.show()"
      ],
      "metadata": {
        "colab": {
          "base_uri": "https://localhost:8080/",
          "height": 417
        },
        "id": "iY3bZx8H4S5x",
        "outputId": "0a60d4f1-2547-4038-d263-9faadeeda634"
      },
      "execution_count": null,
      "outputs": [
        {
          "output_type": "display_data",
          "data": {
            "text/html": [
              "<html>\n",
              "<head><meta charset=\"utf-8\" /></head>\n",
              "<body>\n",
              "    <div>            <script src=\"https://cdnjs.cloudflare.com/ajax/libs/mathjax/2.7.5/MathJax.js?config=TeX-AMS-MML_SVG\"></script><script type=\"text/javascript\">if (window.MathJax) {MathJax.Hub.Config({SVG: {font: \"STIX-Web\"}});}</script>                <script type=\"text/javascript\">window.PlotlyConfig = {MathJaxConfig: 'local'};</script>\n",
              "        <script src=\"https://cdn.plot.ly/plotly-2.8.3.min.js\"></script>                <div id=\"8a9ac27c-4ef2-4541-98a1-af55cd30cfe2\" class=\"plotly-graph-div\" style=\"height:400px; width:900px;\"></div>            <script type=\"text/javascript\">                                    window.PLOTLYENV=window.PLOTLYENV || {};                                    if (document.getElementById(\"8a9ac27c-4ef2-4541-98a1-af55cd30cfe2\")) {                    Plotly.newPlot(                        \"8a9ac27c-4ef2-4541-98a1-af55cd30cfe2\",                        [{\"alignmentgroup\":\"True\",\"hovertemplate\":\"duration=%{y}<extra></extra>\",\"legendgroup\":\"\",\"marker\":{\"color\":\"#636efa\"},\"name\":\"\",\"notched\":false,\"offsetgroup\":\"\",\"orientation\":\"v\",\"showlegend\":false,\"x0\":\" \",\"xaxis\":\"x\",\"y\":[\"90 min\",\"91 min\",\"125 min\",\"104 min\",\"127 min\",\"91 min\",\"67 min\",\"94 min\",\"161 min\",\"61 min\",\"166 min\",\"147 min\",\"103 min\",\"97 min\",\"106 min\",\"111 min\",\"110 min\",\"105 min\",\"96 min\",\"124 min\",\"116 min\",\"98 min\",\"91 min\",\"23 min\",\"115 min\",\"122 min\",\"99 min\",\"99 min\",\"88 min\",\"100 min\",\"102 min\",\"93 min\",\"96 min\",\"95 min\",\"85 min\",\"97 min\",\"95 min\",\"83 min\",\"103 min\",\"113 min\",\"13 min\",\"182 min\",\"106 min\",\"48 min\",\"145 min\",\"145 min\",\"93 min\",\"106 min\",\"147 min\",\"87 min\",\"96 min\",\"95 min\",\"92 min\",\"91 min\",\"90 min\",\"97 min\",\"80 min\",\"117 min\",\"128 min\",\"90 min\",\"119 min\",\"110 min\",\"143 min\",\"119 min\",\"114 min\",\"94 min\",\"106 min\",\"99 min\",\"118 min\",\"115 min\",\"95 min\",\"115 min\",\"108 min\",\"63 min\",\"117 min\",\"121 min\",\"142 min\",\"113 min\",\"154 min\",\"95 min\",\"108 min\",\"120 min\",\"100 min\",\"82 min\",\"124 min\",\"114 min\",\"104 min\",\"94 min\",\"94 min\",\"93 min\",\"97 min\",\"109 min\",\"88 min\",\"101 min\",\"105 min\",\"102 min\",\"101 min\",\"103 min\",\"106 min\",\"118 min\",\"86 min\",\"121 min\",\"229 min\",\"76 min\",\"95 min\",\"98 min\",\"89 min\",\"120 min\",\"110 min\",\"83 min\",\"121 min\",\"105 min\",\"94 min\",\"156 min\",\"112 min\",\"95 min\",\"107 min\",\"114 min\",\"129 min\",\"86 min\",\"97 min\",\"125 min\",\"107 min\",\"127 min\",\"128 min\",\"92 min\",\"135 min\",\"124 min\",\"136 min\",\"165 min\",\"124 min\",\"136 min\",\"150 min\",\"112 min\",\"119 min\",\"133 min\",\"142 min\",\"93 min\",\"113 min\",\"124 min\",\"116 min\",\"106 min\",\"145 min\",\"93 min\",\"95 min\",\"108 min\",\"90 min\",\"86 min\",\"92 min\",\"82 min\",\"70 min\",\"122 min\",\"122 min\",\"122 min\",\"122 min\",\"84 min\",\"96 min\",\"115 min\",\"110 min\",\"88 min\",\"102 min\",\"91 min\",\"105 min\",\"135 min\",\"86 min\",\"140 min\",\"133 min\",\"92 min\",\"82 min\",\"97 min\",\"78 min\",\"94 min\",\"121 min\",\"97 min\",\"110 min\",\"64 min\",\"59 min\",\"101 min\",\"127 min\",\"90 min\",\"114 min\",\"108 min\",\"70 min\",\"98 min\",\"86 min\",\"139 min\",\"111 min\",\"115 min\",\"102 min\",\"100 min\",\"135 min\",\"69 min\",\"95 min\",\"97 min\",\"124 min\",\"118 min\",\"115 min\",\"115 min\",\"104 min\",\"106 min\",\"102 min\",\"97 min\",\"87 min\",\"88 min\",\"114 min\",\"90 min\",\"142 min\",\"90 min\",\"105 min\",\"103 min\",\"116 min\",\"113 min\",\"99 min\",\"96 min\",\"148 min\",\"189 min\",\"97 min\",\"102 min\",\"99 min\",\"85 min\",\"112 min\",\"91 min\",\"91 min\",\"141 min\",\"130 min\",\"98 min\",\"105 min\",\"101 min\",\"105 min\",\"118 min\",\"97 min\",\"102 min\",\"114 min\",\"111 min\",\"125 min\",\"76 min\",\"118 min\",\"103 min\",\"114 min\",\"95 min\",\"138 min\",\"112 min\",\"94 min\",\"102 min\",\"92 min\",\"81 min\",\"143 min\",\"86 min\",\"132 min\",\"117 min\",\"165 min\",\"91 min\",\"97 min\",\"97 min\",\"123 min\",\"94 min\",\"111 min\",\"85 min\",\"65 min\",\"64 min\",\"68 min\",\"67 min\",\"66 min\",\"64 min\",\"64 min\",\"65 min\",\"64 min\",\"68 min\",\"68 min\",\"64 min\",\"62 min\",\"63 min\",\"69 min\",\"70 min\",\"63 min\",\"68 min\",\"74 min\",\"68 min\",\"99 min\",\"90 min\",\"87 min\",\"105 min\",\"106 min\",\"102 min\",\"91 min\",\"88 min\",\"107 min\",\"101 min\",\"114 min\",\"123 min\",\"94 min\",\"105 min\",\"117 min\",\"115 min\",\"124 min\",\"131 min\",\"122 min\",\"113 min\",\"91 min\",\"100 min\",\"93 min\",\"90 min\",\"86 min\",\"100 min\",\"96 min\",\"95 min\",\"115 min\",\"100 min\",\"102 min\",\"87 min\",\"39 min\",\"110 min\",\"93 min\",\"96 min\",\"93 min\",\"93 min\",\"111 min\",\"105 min\",\"101 min\",\"102 min\",\"46 min\",\"89 min\",\"94 min\",\"104 min\",\"97 min\",\"91 min\",\"106 min\",\"38 min\",\"90 min\",\"87 min\",\"138 min\",\"105 min\",\"104 min\",\"85 min\",\"92 min\",\"108 min\",\"95 min\",\"105 min\",\"116 min\",\"124 min\",\"101 min\",\"95 min\",\"128 min\",\"143 min\",\"107 min\",\"136 min\",\"94 min\",\"136 min\",\"126 min\",\"116 min\",\"100 min\",\"115 min\",\"125 min\",\"39 min\",\"94 min\",\"90 min\",\"95 min\",\"155 min\",\"98 min\",\"108 min\",\"96 min\",\"117 min\",\"118 min\",\"103 min\",\"94 min\",\"93 min\",\"115 min\",\"120 min\",\"145 min\",\"126 min\",\"96 min\",\"101 min\",\"118 min\",\"109 min\",\"89 min\",\"106 min\",\"101 min\",\"101 min\",\"123 min\",\"106 min\",\"89 min\",\"128 min\",\"85 min\",\"89 min\",\"108 min\",\"105 min\",\"133 min\",\"129 min\",\"127 min\",\"113 min\",\"112 min\",\"130 min\",\"100 min\",\"103 min\",\"85 min\",\"124 min\",\"103 min\",\"121 min\",\"89 min\",\"92 min\",\"112 min\",\"114 min\",\"116 min\",\"110 min\",\"98 min\",\"98 min\",\"100 min\",\"90 min\",\"92 min\",\"82 min\",\"97 min\",\"90 min\",\"76 min\",\"83 min\",\"101 min\",\"109 min\",\"97 min\",\"87 min\",\"94 min\",\"89 min\",\"88 min\",\"108 min\",\"96 min\",\"84 min\",\"70 min\",\"125 min\",\"119 min\",\"105 min\",\"133 min\",\"140 min\",\"120 min\",\"135 min\",\"111 min\",\"159 min\",\"119 min\",\"139 min\",\"137 min\",\"101 min\",\"13 min\",\"12 min\",\"101 min\",\"96 min\",\"122 min\",\"95 min\",\"89 min\",\"98 min\",\"119 min\",\"138 min\",\"104 min\",\"273 min\",\"101 min\",\"99 min\",\"84 min\",\"82 min\",\"97 min\",\"89 min\",\"36 min\",\"34 min\",\"36 min\",\"113 min\",\"110 min\",\"36 min\",\"102 min\",\"86 min\",\"91 min\",\"117 min\",\"99 min\",\"77 min\",\"97 min\",\"106 min\",\"97 min\",\"104 min\",\"110 min\",\"61 min\",\"98 min\",\"74 min\",\"60 min\",\"60 min\",\"103 min\",\"94 min\",\"112 min\",\"49 min\",\"111 min\",\"58 min\",\"72 min\",\"78 min\",\"101 min\",\"110 min\",\"94 min\",\"70 min\",\"118 min\",\"99 min\",\"103 min\",\"95 min\",\"93 min\",\"101 min\",\"101 min\",\"89 min\",\"109 min\",\"104 min\",\"90 min\",\"109 min\",\"145 min\",\"88 min\",\"132 min\",\"109 min\",\"133 min\",\"85 min\",\"104 min\",\"99 min\",\"93 min\",\"204 min\",\"212 min\",\"98 min\",\"101 min\",\"94 min\",\"25 min\",\"99 min\",\"108 min\",\"106 min\",\"128 min\",\"104 min\",\"127 min\",\"136 min\",\"97 min\",\"88 min\",\"97 min\",\"97 min\",\"88 min\",\"103 min\",\"97 min\",\"88 min\",\"97 min\",\"118 min\",\"70 min\",\"91 min\",\"92 min\",\"120 min\",\"73 min\",\"110 min\",\"94 min\",\"61 min\",\"131 min\",\"131 min\",\"131 min\",\"148 min\",\"29 min\",\"107 min\",\"99 min\",\"92 min\",\"91 min\",\"47 min\",\"88 min\",\"116 min\",\"109 min\",\"92 min\",\"87 min\",\"101 min\",\"140 min\",\"89 min\",\"81 min\",\"116 min\",\"99 min\",\"107 min\",\"107 min\",\"90 min\",\"104 min\",\"100 min\",\"32 min\",\"102 min\",\"105 min\",\"107 min\",\"64 min\",\"99 min\",\"102 min\",\"126 min\",\"119 min\",\"86 min\",\"122 min\",\"95 min\",\"104 min\",\"118 min\",\"85 min\",\"98 min\",\"99 min\",\"35 min\",\"107 min\",\"97 min\",\"112 min\",\"118 min\",\"109 min\",\"109 min\",\"88 min\",\"97 min\",\"97 min\",\"99 min\",\"95 min\",\"91 min\",\"115 min\",\"93 min\",\"109 min\",\"96 min\",\"78 min\",\"87 min\",\"76 min\",\"76 min\",\"71 min\",\"138 min\",\"113 min\",\"94 min\",\"89 min\",\"121 min\",\"127 min\",\"94 min\",\"89 min\",\"136 min\",\"89 min\",\"99 min\",\"93 min\",\"85 min\",\"102 min\",\"101 min\",\"113 min\",\"128 min\",\"114 min\",\"85 min\",\"121 min\",\"95 min\",\"121 min\",\"116 min\",\"91 min\",\"149 min\",\"113 min\",\"33 min\",\"127 min\",\"101 min\",\"102 min\",\"102 min\",\"107 min\",\"123 min\",\"98 min\",\"95 min\",\"101 min\",\"104 min\",\"104 min\",\"103 min\",\"111 min\",\"102 min\",\"15 min\",\"54 min\",\"120 min\",\"106 min\",\"116 min\",\"58 min\",\"116 min\",\"126 min\",\"86 min\",\"97 min\",\"76 min\",\"80 min\",\"81 min\",\"84 min\",\"87 min\",\"91 min\",\"76 min\",\"132 min\",\"126 min\",\"101 min\",\"102 min\",\"147 min\",\"224 min\",\"141 min\",\"109 min\",\"162 min\",\"142 min\",\"93 min\",\"60 min\",\"119 min\",\"37 min\",\"96 min\",\"116 min\",\"102 min\",\"123 min\",\"102 min\",\"127 min\",\"88 min\",\"106 min\",\"65 min\",\"96 min\",\"88 min\",\"143 min\",\"137 min\",\"75 min\",\"71 min\",\"103 min\",\"130 min\",\"145 min\",\"84 min\",\"84 min\",\"77 min\",\"86 min\",\"79 min\",\"80 min\",\"81 min\",\"78 min\",\"118 min\",\"102 min\",\"132 min\",\"108 min\",\"133 min\",\"107 min\",\"32 min\",\"78 min\",\"55 min\",\"92 min\",\"86 min\",\"140 min\",\"143 min\",\"88 min\",\"89 min\",\"93 min\",\"97 min\",\"94 min\",\"112 min\",\"100 min\",\"120 min\",\"91 min\",\"98 min\",\"113 min\",\"98 min\",\"91 min\",\"158 min\",\"164 min\",\"133 min\",\"75 min\",\"103 min\",\"90 min\",\"116 min\",\"96 min\",\"121 min\",\"101 min\",\"173 min\",\"89 min\",\"182 min\",\"181 min\",\"185 min\",\"99 min\",\"88 min\",\"107 min\",\"114 min\",\"96 min\",\"149 min\",\"102 min\",\"83 min\",\"98 min\",\"83 min\",\"104 min\",\"111 min\",\"98 min\",\"93 min\",\"73 min\",\"141 min\",\"116 min\",\"21 min\",\"98 min\",\"87 min\",\"87 min\",\"95 min\",\"87 min\",\"93 min\",\"97 min\",\"114 min\",\"100 min\",\"105 min\",\"90 min\",\"60 min\",\"98 min\",\"108 min\",\"90 min\",\"102 min\",\"84 min\",\"120 min\",\"106 min\",\"115 min\",\"98 min\",\"60 min\",\"113 min\",\"101 min\",\"24 min\",\"51 min\",\"80 min\",\"100 min\",\"139 min\",\"74 min\",\"131 min\",\"131 min\",\"118 min\",\"87 min\",\"101 min\",\"97 min\",\"92 min\",\"136 min\",\"97 min\",\"103 min\",\"110 min\",\"105 min\",\"90 min\",\"107 min\",\"92 min\",\"94 min\",\"99 min\",\"97 min\",\"151 min\",\"108 min\",\"113 min\",\"81 min\",\"116 min\",\"119 min\",\"116 min\",\"112 min\",\"121 min\",\"115 min\",\"182 min\",\"98 min\",\"96 min\",\"42 min\",\"181 min\",\"100 min\",\"22 min\",\"134 min\",\"177 min\",\"94 min\",\"88 min\",\"119 min\",\"107 min\",\"112 min\",\"35 min\",\"103 min\",\"90 min\",\"120 min\",\"97 min\",\"102 min\",\"106 min\",\"119 min\",\"84 min\",\"58 min\",\"90 min\",\"109 min\",\"143 min\",\"112 min\",\"134 min\",\"123 min\",\"36 min\",\"123 min\",\"58 min\",\"118 min\",\"91 min\",\"76 min\",\"97 min\",\"85 min\",\"92 min\",\"139 min\",\"162 min\",\"92 min\",\"86 min\",\"107 min\",\"85 min\",\"83 min\",\"104 min\",\"116 min\",\"87 min\",\"91 min\",\"119 min\",\"102 min\",\"86 min\",\"102 min\",\"98 min\",\"99 min\",\"108 min\",\"114 min\",\"104 min\",\"88 min\",\"104 min\",\"123 min\",\"106 min\",\"138 min\",\"113 min\",\"107 min\",\"133 min\",\"97 min\",\"116 min\",\"123 min\",\"89 min\",\"93 min\",\"139 min\",\"112 min\",\"101 min\",\"113 min\",\"89 min\",\"107 min\",\"123 min\",\"113 min\",\"90 min\",\"52 min\",\"127 min\",\"95 min\",\"121 min\",\"108 min\",\"102 min\",\"95 min\",\"133 min\",\"127 min\",\"95 min\",\"101 min\",\"123 min\",\"89 min\",\"100 min\",\"108 min\",\"94 min\",\"103 min\",\"105 min\",\"116 min\",\"92 min\",\"65 min\",\"115 min\",\"96 min\",\"32 min\",\"102 min\",\"102 min\",\"101 min\",\"71 min\",\"81 min\",\"98 min\",\"90 min\",\"112 min\",\"161 min\",\"129 min\",\"85 min\",\"14 min\",\"148 min\",\"99 min\",\"97 min\",\"101 min\",\"89 min\",\"128 min\",\"76 min\",\"99 min\",\"126 min\",\"106 min\",\"101 min\",\"87 min\",\"111 min\",\"90 min\",\"91 min\",\"101 min\",\"96 min\",\"96 min\",\"148 min\",\"96 min\",\"98 min\",\"104 min\",\"53 min\",\"54 min\",\"113 min\",\"102 min\",\"118 min\",\"83 min\",\"77 min\",\"116 min\",\"116 min\",\"106 min\",\"105 min\",\"8 min\",\"110 min\",\"71 min\",\"91 min\",\"46 min\",\"109 min\",\"102 min\",\"101 min\",\"94 min\",\"110 min\",\"117 min\",\"85 min\",\"119 min\",\"115 min\",\"105 min\",\"68 min\",\"57 min\",\"28 min\",\"98 min\",\"95 min\",\"96 min\",\"66 min\",\"112 min\",\"84 min\",\"94 min\",\"32 min\",\"98 min\",\"85 min\",\"120 min\",\"83 min\",\"94 min\",\"102 min\",\"111 min\",\"90 min\",\"111 min\",\"110 min\",\"87 min\",\"132 min\",\"117 min\",\"50 min\",\"106 min\",\"125 min\",\"107 min\",\"59 min\",\"28 min\",\"9 min\",\"91 min\",\"132 min\",\"133 min\",\"109 min\",\"107 min\",\"111 min\",\"108 min\",\"105 min\",\"119 min\",\"104 min\",\"83 min\",\"90 min\",\"79 min\",\"24 min\",\"115 min\",\"97 min\",\"26 min\",\"46 min\",\"106 min\",\"113 min\",\"133 min\",\"93 min\",\"108 min\",\"96 min\",\"25 min\",\"101 min\",\"106 min\",\"54 min\",\"118 min\",\"58 min\",\"117 min\",\"48 min\",\"139 min\",\"115 min\",\"109 min\",\"91 min\",\"60 min\",\"102 min\",\"120 min\",\"149 min\",\"91 min\",\"99 min\",\"106 min\",\"108 min\",\"45 min\",\"93 min\",\"22 min\",\"81 min\",\"98 min\",\"100 min\",\"112 min\",\"114 min\",\"68 min\",\"103 min\",\"121 min\",\"95 min\",\"87 min\",\"115 min\",\"171 min\",\"171 min\",\"46 min\",\"117 min\",\"84 min\",\"98 min\",\"83 min\",\"97 min\",\"99 min\",\"108 min\",\"93 min\",\"42 min\",\"13 min\",\"64 min\",\"162 min\",\"130 min\",\"108 min\",\"129 min\",\"105 min\",\"133 min\",\"142 min\",\"128 min\",\"97 min\",\"107 min\",\"135 min\",\"84 min\",\"70 min\",\"124 min\",\"102 min\",\"84 min\",\"95 min\",\"84 min\",\"120 min\",\"87 min\",\"75 min\",\"124 min\",\"92 min\",\"95 min\",\"107 min\",\"123 min\",\"85 min\",\"150 min\",\"97 min\",\"88 min\",\"74 min\",\"93 min\",\"151 min\",\"82 min\",\"148 min\",\"95 min\",\"90 min\",\"103 min\",\"87 min\",\"102 min\",\"96 min\",\"87 min\",\"86 min\",\"136 min\",\"60 min\",\"127 min\",\"96 min\",\"15 min\",\"100 min\",\"87 min\",\"28 min\",\"27 min\",\"90 min\",\"102 min\",\"94 min\",\"81 min\",\"134 min\",\"114 min\",\"107 min\",\"107 min\",\"130 min\",\"87 min\",\"93 min\",\"114 min\",\"91 min\",\"116 min\",\"93 min\",\"106 min\",\"105 min\",\"50 min\",\"93 min\",\"103 min\",\"114 min\",\"95 min\",\"50 min\",\"150 min\",\"100 min\",\"117 min\",\"87 min\",\"100 min\",\"86 min\",\"102 min\",\"87 min\",\"103 min\",\"112 min\",\"120 min\",\"111 min\",\"78 min\",\"51 min\",\"123 min\",\"46 min\",\"102 min\",\"106 min\",\"112 min\",\"101 min\",\"96 min\",\"103 min\",\"94 min\",\"69 min\",\"81 min\",\"76 min\",\"108 min\",\"94 min\",\"106 min\",\"98 min\",\"93 min\",\"99 min\",\"93 min\",\"82 min\",\"107 min\",\"104 min\",\"130 min\",\"83 min\",\"99 min\",\"77 min\",\"94 min\",\"118 min\",\"87 min\",\"42 min\",\"101 min\",\"80 min\",\"110 min\",\"117 min\",\"47 min\",\"165 min\",\"134 min\",\"140 min\",\"150 min\",\"156 min\",\"86 min\",\"126 min\",\"100 min\",\"25 min\",\"124 min\",\"100 min\",\"106 min\",\"104 min\",\"96 min\",\"90 min\",\"33 min\",\"81 min\",\"84 min\",\"44 min\",\"115 min\",\"94 min\",\"22 min\",\"107 min\",\"115 min\",\"93 min\",\"107 min\",\"86 min\",\"112 min\",\"102 min\",\"91 min\",\"83 min\",\"73 min\",\"139 min\",\"95 min\",\"101 min\",\"75 min\",\"87 min\",\"91 min\",\"120 min\",\"123 min\",\"95 min\",\"84 min\",\"29 min\",\"28 min\",\"122 min\",\"28 min\",\"98 min\",\"59 min\",\"80 min\",\"103 min\",\"104 min\",\"146 min\",\"135 min\",\"129 min\",\"115 min\",\"143 min\",\"173 min\",\"129 min\",\"149 min\",\"98 min\",\"115 min\",\"44 min\",\"127 min\",\"124 min\",\"85 min\",\"20 min\",\"102 min\",\"129 min\",\"124 min\",\"118 min\",\"111 min\",\"125 min\",\"94 min\",\"130 min\",\"117 min\",\"137 min\",\"139 min\",\"111 min\",\"103 min\",\"120 min\",\"98 min\",\"130 min\",\"96 min\",\"61 min\",\"137 min\",\"90 min\",\"69 min\",\"139 min\",\"94 min\",\"92 min\",\"80 min\",\"63 min\",\"88 min\",\"105 min\",\"93 min\",\"140 min\",\"103 min\",\"102 min\",\"93 min\",\"69 min\",\"133 min\",\"157 min\",\"116 min\",\"112 min\",\"96 min\",\"127 min\",\"130 min\",\"93 min\",\"138 min\",\"138 min\",\"92 min\",\"110 min\",\"102 min\",\"113 min\",\"96 min\",\"108 min\",\"94 min\",\"99 min\",\"86 min\",\"98 min\",\"111 min\",\"97 min\",\"135 min\",\"93 min\",\"94 min\",\"117 min\",\"63 min\",\"73 min\",\"91 min\",\"93 min\",\"101 min\",\"93 min\",\"96 min\",\"112 min\",\"72 min\",\"112 min\",\"72 min\",\"92 min\",\"109 min\",\"155 min\",\"109 min\",\"115 min\",\"97 min\",\"103 min\",\"24 min\",\"110 min\",\"97 min\",\"94 min\",\"107 min\",\"97 min\",\"103 min\",\"88 min\",\"111 min\",\"94 min\",\"33 min\",\"107 min\",\"110 min\",\"98 min\",\"81 min\",\"104 min\",\"17 min\",\"121 min\",\"100 min\",\"70 min\",\"97 min\",\"75 min\",\"102 min\",\"88 min\",\"158 min\",\"102 min\",\"203 min\",\"59 min\",\"92 min\",\"104 min\",\"72 min\",\"113 min\",\"93 min\",\"119 min\",\"105 min\",\"113 min\",\"93 min\",\"44 min\",\"110 min\",\"113 min\",\"90 min\",\"82 min\",\"69 min\",\"46 min\",\"94 min\",\"72 min\",\"95 min\",\"101 min\",\"21 min\",\"71 min\",\"64 min\",\"92 min\",\"80 min\",\"104 min\",\"25 min\",\"111 min\",\"72 min\",\"99 min\",\"83 min\",\"150 min\",\"108 min\",\"44 min\",\"102 min\",\"137 min\",\"112 min\",\"102 min\",\"103 min\",\"136 min\",\"41 min\",\"88 min\",\"84 min\",\"114 min\",\"110 min\",\"103 min\",\"106 min\",\"46 min\",\"115 min\",\"140 min\",\"124 min\",\"133 min\",\"91 min\",\"30 min\",\"67 min\",\"105 min\",\"58 min\",\"87 min\",\"100 min\",\"95 min\",\"90 min\",\"102 min\",\"98 min\",\"68 min\",\"104 min\",\"89 min\",\"62 min\",\"86 min\",\"104 min\",\"101 min\",\"17 min\",\"126 min\",\"120 min\",\"89 min\",\"96 min\",\"91 min\",\"86 min\",\"67 min\",\"89 min\",\"65 min\",\"151 min\",\"116 min\",\"110 min\",\"123 min\",\"139 min\",\"95 min\",\"121 min\",\"127 min\",\"162 min\",\"128 min\",\"112 min\",\"125 min\",\"128 min\",\"120 min\",\"86 min\",\"107 min\",\"129 min\",\"135 min\",\"97 min\",\"125 min\",\"162 min\",\"136 min\",\"138 min\",\"126 min\",\"137 min\",\"114 min\",\"96 min\",\"107 min\",\"89 min\",\"94 min\",\"148 min\",\"82 min\",\"95 min\",\"120 min\",\"115 min\",\"107 min\",\"105 min\",\"134 min\",\"128 min\",\"103 min\",\"96 min\",\"114 min\",\"102 min\",\"52 min\",\"86 min\",\"104 min\",\"76 min\",\"135 min\",\"99 min\",\"124 min\",\"117 min\",\"107 min\",\"111 min\",\"116 min\",\"135 min\",\"126 min\",\"164 min\",\"166 min\",\"104 min\",\"94 min\",\"92 min\",\"52 min\",\"112 min\",\"90 min\",\"101 min\",\"84 min\",\"112 min\",\"136 min\",\"108 min\",\"110 min\",\"93 min\",\"90 min\",\"130 min\",\"128 min\",\"104 min\",\"131 min\",\"109 min\",\"129 min\",\"73 min\",\"104 min\",\"48 min\",\"114 min\",\"86 min\",\"194 min\",\"76 min\",\"116 min\",\"130 min\",\"85 min\",\"108 min\",\"81 min\",\"76 min\",\"92 min\",\"85 min\",\"85 min\",\"108 min\",\"120 min\",\"117 min\",\"100 min\",\"101 min\",\"156 min\",\"55 min\",\"96 min\",\"104 min\",\"101 min\",\"113 min\",\"126 min\",\"98 min\",\"114 min\",\"132 min\",\"92 min\",\"90 min\",\"86 min\",\"103 min\",\"114 min\",\"115 min\",\"149 min\",\"96 min\",\"102 min\",\"105 min\",\"114 min\",\"94 min\",\"83 min\",\"106 min\",\"116 min\",\"109 min\",\"97 min\",\"100 min\",\"116 min\",\"111 min\",\"24 min\",\"95 min\",\"135 min\",\"95 min\",\"92 min\",\"100 min\",\"80 min\",\"98 min\",\"104 min\",\"98 min\",\"104 min\",\"99 min\",\"68 min\",\"106 min\",\"71 min\",\"80 min\",\"116 min\",\"112 min\",\"73 min\",\"110 min\",\"135 min\",\"128 min\",\"93 min\",\"149 min\",\"54 min\",\"87 min\",\"102 min\",\"177 min\",\"204 min\",\"233 min\",\"98 min\",\"237 min\",\"230 min\",\"173 min\",\"195 min\",\"253 min\",\"157 min\",\"97 min\",\"85 min\",\"94 min\",\"80 min\",\"94 min\",\"92 min\",\"105 min\",\"120 min\",\"96 min\",\"107 min\",\"93 min\",\"101 min\",\"110 min\",\"112 min\",\"93 min\",\"109 min\",\"105 min\",\"97 min\",\"91 min\",\"88 min\",\"109 min\",\"118 min\",\"109 min\",\"131 min\",\"91 min\",\"152 min\",\"67 min\",\"72 min\",\"83 min\",\"90 min\",\"106 min\",\"190 min\",\"129 min\",\"160 min\",\"86 min\",\"92 min\",\"114 min\",\"90 min\",\"94 min\",\"86 min\",\"89 min\",\"107 min\",\"61 min\",\"93 min\",\"81 min\",\"120 min\",\"94 min\",\"91 min\",\"104 min\",\"76 min\",\"90 min\",\"103 min\",\"122 min\",\"97 min\",\"98 min\",\"42 min\",\"90 min\",\"91 min\",\"94 min\",\"107 min\",\"143 min\",\"105 min\",\"116 min\",\"23 min\",\"23 min\",\"23 min\",\"105 min\",\"97 min\",\"105 min\",\"83 min\",\"109 min\",\"111 min\",\"97 min\",\"132 min\",\"102 min\",\"107 min\",\"100 min\",\"115 min\",\"104 min\",\"110 min\",\"100 min\",\"111 min\",\"108 min\",\"104 min\",\"116 min\",\"106 min\",\"96 min\",\"140 min\",\"107 min\",\"138 min\",\"132 min\",\"208 min\",\"105 min\",\"101 min\",\"124 min\",\"93 min\",\"110 min\",\"115 min\",\"107 min\",\"72 min\",\"107 min\",\"95 min\",\"180 min\",\"135 min\",\"87 min\",\"94 min\",\"105 min\",\"93 min\",\"92 min\",\"144 min\",\"101 min\",\"81 min\",\"95 min\",\"119 min\",\"121 min\",\"88 min\",\"106 min\",\"119 min\",\"63 min\",\"82 min\",\"95 min\",\"93 min\",\"120 min\",\"147 min\",\"55 min\",\"107 min\",\"92 min\",\"85 min\",\"98 min\",\"92 min\",\"101 min\",\"112 min\",\"103 min\",\"91 min\",\"96 min\",\"104 min\",\"66 min\",\"83 min\",\"111 min\",\"90 min\",\"121 min\",\"121 min\",\"88 min\",\"57 min\",\"107 min\",\"5 min\",\"91 min\",\"174 min\",\"155 min\",\"87 min\",\"77 min\",\"142 min\",\"170 min\",\"165 min\",\"161 min\",\"144 min\",\"149 min\",\"135 min\",\"131 min\",\"126 min\",\"192 min\",\"209 min\",\"187 min\",\"138 min\",\"185 min\",\"143 min\",\"97 min\",\"172 min\",\"103 min\",\"83 min\",\"107 min\",\"114 min\",\"93 min\",\"85 min\",\"85 min\",\"131 min\",\"101 min\",\"107 min\",\"84 min\",\"104 min\",\"160 min\",\"103 min\",\"46 min\",\"112 min\",\"83 min\",\"72 min\",\"24 min\",\"104 min\",\"72 min\",\"113 min\",\"21 min\",\"100 min\",\"108 min\",\"99 min\",\"104 min\",\"70 min\",\"93 min\",\"95 min\",\"109 min\",\"91 min\",\"75 min\",\"100 min\",\"95 min\",\"113 min\",\"91 min\",\"62 min\",\"93 min\",\"135 min\",\"23 min\",\"23 min\",\"23 min\",\"101 min\",\"98 min\",\"103 min\",\"106 min\",\"95 min\",\"132 min\",\"82 min\",\"71 min\",\"16 min\",\"104 min\",\"79 min\",\"120 min\",\"82 min\",\"115 min\",\"111 min\",\"110 min\",\"121 min\",\"162 min\",\"108 min\",\"186 min\",\"116 min\",\"154 min\",\"105 min\",\"71 min\",\"61 min\",\"133 min\",\"98 min\",\"119 min\",\"61 min\",\"130 min\",\"11 min\",\"87 min\",\"127 min\",\"87 min\",\"88 min\",\"158 min\",\"82 min\",\"93 min\",\"90 min\",\"109 min\",\"72 min\",\"162 min\",\"98 min\",\"103 min\",\"97 min\",\"94 min\",\"101 min\",\"138 min\",\"109 min\",\"50 min\",\"110 min\",\"92 min\",\"120 min\",\"101 min\",\"116 min\",\"117 min\",\"95 min\",\"93 min\",\"122 min\",\"102 min\",\"96 min\",\"93 min\",\"93 min\",\"72 min\",\"87 min\",\"95 min\",\"33 min\",\"113 min\",\"118 min\",\"171 min\",\"100 min\",\"103 min\",\"86 min\",\"102 min\",\"81 min\",\"101 min\",\"73 min\",\"96 min\",\"106 min\",\"88 min\",\"103 min\",\"139 min\",\"89 min\",\"104 min\",\"124 min\",\"112 min\",\"70 min\",\"106 min\",\"97 min\",\"106 min\",\"60 min\",\"148 min\",\"122 min\",\"86 min\",\"193 min\",\"92 min\",\"94 min\",\"82 min\",\"59 min\",\"89 min\",\"176 min\",\"116 min\",\"86 min\",\"93 min\",\"85 min\",\"62 min\",\"112 min\",\"121 min\",\"133 min\",\"76 min\",\"82 min\",\"156 min\",\"90 min\",\"97 min\",\"51 min\",\"98 min\",\"61 min\",\"116 min\",\"132 min\",\"17 min\",\"91 min\",\"121 min\",\"78 min\",\"95 min\",\"86 min\",\"132 min\",\"107 min\",\"122 min\",\"95 min\",\"108 min\",\"99 min\",\"103 min\",\"66 min\",\"132 min\",\"56 min\",\"128 min\",\"119 min\",\"97 min\",\"92 min\",\"102 min\",\"90 min\",\"129 min\",\"106 min\",\"105 min\",\"78 min\",\"79 min\",\"78 min\",\"145 min\",\"71 min\",\"83 min\",\"81 min\",\"119 min\",\"98 min\",\"102 min\",\"88 min\",\"97 min\",\"110 min\",\"85 min\",\"90 min\",\"89 min\",\"120 min\",\"102 min\",\"73 min\",\"103 min\",\"79 min\",\"97 min\",\"91 min\",\"96 min\",\"103 min\",\"95 min\",\"83 min\",\"117 min\",\"70 min\",\"90 min\",\"86 min\",\"86 min\",\"113 min\",\"82 min\",\"141 min\",\"107 min\",\"126 min\",\"25 min\",\"63 min\",\"136 min\",\"120 min\",\"134 min\",\"185 min\",\"174 min\",\"169 min\",\"148 min\",\"135 min\",\"135 min\",\"89 min\",\"119 min\",\"98 min\",\"135 min\",\"185 min\",\"156 min\",\"104 min\",\"139 min\",\"140 min\",\"154 min\",\"129 min\",\"99 min\",\"100 min\",\"110 min\",\"107 min\",\"95 min\",\"89 min\",\"65 min\",\"143 min\",\"101 min\",\"60 min\",\"29 min\",\"92 min\",\"172 min\",\"97 min\",\"108 min\",\"107 min\",\"137 min\",\"106 min\",\"115 min\",\"46 min\",\"92 min\",\"93 min\",\"85 min\",\"24 min\",\"56 min\",\"86 min\",\"127 min\",\"93 min\",\"94 min\",\"120 min\",\"108 min\",\"135 min\",\"111 min\",\"134 min\",\"137 min\",\"103 min\",\"133 min\",\"95 min\",\"126 min\",\"67 min\",\"135 min\",\"106 min\",\"107 min\",\"81 min\",\"107 min\",\"118 min\",\"110 min\",\"104 min\",\"93 min\",\"94 min\",\"137 min\",\"134 min\",\"69 min\",\"106 min\",\"209 min\",\"86 min\",\"24 min\",\"46 min\",\"117 min\",\"87 min\",\"121 min\",\"97 min\",\"121 min\",\"56 min\",\"119 min\",\"93 min\",\"86 min\",\"134 min\",\"28 min\",\"131 min\",\"78 min\",\"93 min\",\"84 min\",\"107 min\",\"101 min\",\"107 min\",\"74 min\",\"60 min\",\"143 min\",\"105 min\",\"110 min\",\"98 min\",\"74 min\",\"46 min\",\"54 min\",\"59 min\",\"100 min\",\"88 min\",\"93 min\",\"94 min\",\"121 min\",\"78 min\",\"116 min\",\"87 min\",\"61 min\",\"98 min\",\"123 min\",\"85 min\",\"78 min\",\"103 min\",\"44 min\",\"68 min\",\"68 min\",\"69 min\",\"81 min\",\"69 min\",\"68 min\",\"68 min\",\"86 min\",\"40 min\",\"94 min\",\"90 min\",\"112 min\",\"101 min\",\"119 min\",\"40 min\",\"86 min\",\"92 min\",\"91 min\",\"36 min\",\"141 min\",\"107 min\",\"97 min\",\"24 min\",\"89 min\",\"65 min\",\"126 min\",\"63 min\",\"14 min\",\"28 min\",\"20 min\",\"106 min\",\"118 min\",\"127 min\",\"61 min\",\"86 min\",\"94 min\",\"82 min\",\"92 min\",\"52 min\",\"108 min\",\"67 min\",\"91 min\",\"66 min\",\"118 min\",\"87 min\",\"47 min\",\"56 min\",\"61 min\",\"34 min\",\"98 min\",\"99 min\",\"95 min\",\"100 min\",\"101 min\",\"86 min\",\"96 min\",\"99 min\",\"112 min\",\"127 min\",\"22 min\",\"78 min\",\"63 min\",\"97 min\",\"86 min\",\"62 min\",\"96 min\",\"104 min\",\"123 min\",\"100 min\",\"99 min\",\"151 min\",\"102 min\",\"154 min\",\"106 min\",\"87 min\",\"70 min\",\"46 min\",\"101 min\",\"109 min\",\"100 min\",\"110 min\",\"102 min\",\"102 min\",\"24 min\",\"98 min\",\"76 min\",\"90 min\",\"59 min\",\"58 min\",\"64 min\",\"79 min\",\"81 min\",\"81 min\",\"64 min\",\"45 min\",\"90 min\",\"102 min\",\"116 min\",\"42 min\",\"133 min\",\"108 min\",\"38 min\",\"146 min\",\"146 min\",\"106 min\",\"58 min\",\"152 min\",\"87 min\",\"121 min\",\"83 min\",\"111 min\",\"24 min\",\"171 min\",\"88 min\",\"76 min\",\"64 min\",\"94 min\",\"157 min\",\"83 min\",\"65 min\",\"105 min\",\"107 min\",\"103 min\",\"67 min\",\"96 min\",\"125 min\",\"142 min\",\"133 min\",\"100 min\",\"10 min\",\"128 min\",\"93 min\",\"81 min\",\"82 min\",\"47 min\",\"95 min\",\"84 min\",\"91 min\",\"102 min\",\"100 min\",\"98 min\",\"110 min\",\"85 min\",\"66 min\",\"92 min\",\"133 min\",\"135 min\",\"120 min\",\"118 min\",\"110 min\",\"98 min\",\"98 min\",\"98 min\",\"104 min\",\"63 min\",\"52 min\",\"72 min\",\"117 min\",\"100 min\",\"24 min\",\"86 min\",\"69 min\",\"119 min\",\"123 min\",\"93 min\",\"109 min\",\"66 min\",\"107 min\",\"46 min\",\"117 min\",\"67 min\",\"114 min\",\"67 min\",\"77 min\",\"105 min\",\"63 min\",\"59 min\",\"102 min\",\"81 min\",\"84 min\",\"101 min\",\"116 min\",\"177 min\",\"130 min\",\"59 min\",\"111 min\",\"100 min\",\"77 min\",\"93 min\",\"114 min\",\"58 min\",\"56 min\",\"110 min\",\"98 min\",\"106 min\",\"102 min\",\"81 min\",\"98 min\",\"136 min\",\"161 min\",\"32 min\",\"105 min\",\"106 min\",\"90 min\",\"87 min\",\"91 min\",\"106 min\",\"65 min\",\"105 min\",\"40 min\",\"66 min\",\"61 min\",\"122 min\",\"141 min\",\"176 min\",\"73 min\",\"87 min\",\"15 min\",\"55 min\",\"141 min\",\"122 min\",\"109 min\",\"63 min\",\"96 min\",\"113 min\",\"69 min\",\"87 min\",\"116 min\",\"116 min\",\"110 min\",\"122 min\",\"59 min\",\"88 min\",\"91 min\",\"40 min\",\"113 min\",\"90 min\",\"95 min\",\"98 min\",\"61 min\",\"117 min\",\"60 min\",\"142 min\",\"74 min\",\"119 min\",\"114 min\",\"125 min\",\"71 min\",\"110 min\",\"127 min\",\"118 min\",\"90 min\",\"130 min\",\"12 min\",\"62 min\",\"3 min\",\"114 min\",\"128 min\",\"109 min\",\"109 min\",\"101 min\",\"103 min\",\"98 min\",\"123 min\",\"38 min\",\"101 min\",\"99 min\",\"91 min\",\"30 min\",\"30 min\",\"137 min\",\"66 min\",\"70 min\",\"87 min\",\"88 min\",\"90 min\",\"84 min\",\"53 min\",\"87 min\",\"90 min\",\"96 min\",\"94 min\",\"108 min\",\"102 min\",\"61 min\",\"94 min\",\"70 min\",\"88 min\",\"100 min\",\"111 min\",\"128 min\",\"98 min\",\"104 min\",\"126 min\",\"86 min\",\"125 min\",\"40 min\",\"79 min\",\"110 min\",\"128 min\",\"110 min\",\"116 min\",\"119 min\",\"90 min\",\"88 min\",\"104 min\",\"140 min\",\"92 min\",\"64 min\",\"119 min\",\"91 min\",\"122 min\",\"125 min\",\"49 min\",\"168 min\",\"98 min\",\"77 min\",\"102 min\",\"92 min\",\"111 min\",\"113 min\",\"54 min\",\"138 min\",\"123 min\",\"59 min\",\"102 min\",\"141 min\",\"95 min\",\"111 min\",\"131 min\",\"116 min\",\"119 min\",\"146 min\",\"101 min\",\"87 min\",\"94 min\",\"133 min\",\"135 min\",\"61 min\",\"91 min\",\"59 min\",\"91 min\",\"131 min\",\"170 min\",\"88 min\",\"170 min\",\"92 min\",\"59 min\",\"126 min\",\"120 min\",\"76 min\",\"60 min\",\"103 min\",\"124 min\",\"91 min\",\"88 min\",\"81 min\",\"124 min\",\"102 min\",\"132 min\",\"87 min\",\"75 min\",\"126 min\",\"61 min\",\"126 min\",\"108 min\",\"100 min\",\"129 min\",\"71 min\",\"108 min\",\"60 min\",\"105 min\",\"115 min\",\"118 min\",\"130 min\",\"115 min\",\"69 min\",\"97 min\",\"61 min\",\"92 min\",\"108 min\",\"104 min\",\"65 min\",\"106 min\",\"69 min\",\"97 min\",\"80 min\",\"85 min\",\"98 min\",\"115 min\",\"117 min\",\"132 min\",\"127 min\",\"125 min\",\"128 min\",\"126 min\",\"58 min\",\"116 min\",\"90 min\",\"111 min\",\"100 min\",\"99 min\",\"105 min\",\"128 min\",\"91 min\",\"127 min\",\"94 min\",\"124 min\",\"103 min\",\"118 min\",\"162 min\",\"89 min\",\"89 min\",\"108 min\",\"103 min\",\"87 min\",\"93 min\",\"90 min\",\"131 min\",\"114 min\",\"107 min\",\"97 min\",\"103 min\",\"125 min\",\"130 min\",\"119 min\",\"110 min\",\"120 min\",\"102 min\",\"125 min\",\"127 min\",\"121 min\",\"113 min\",\"118 min\",\"132 min\",\"61 min\",\"80 min\",\"110 min\",\"70 min\",\"117 min\",\"89 min\",\"84 min\",\"131 min\",\"139 min\",\"42 min\",\"79 min\",\"96 min\",\"114 min\",\"99 min\",\"111 min\",\"112 min\",\"96 min\",\"103 min\",\"104 min\",\"102 min\",\"97 min\",\"132 min\",\"120 min\",\"137 min\",\"82 min\",\"115 min\",\"130 min\",\"62 min\",\"26 min\",\"91 min\",\"63 min\",\"74 min\",\"136 min\",\"59 min\",\"91 min\",\"93 min\",\"84 min\",\"100 min\",\"51 min\",\"22 min\",\"22 min\",\"22 min\",\"24 min\",\"113 min\",\"110 min\",\"120 min\",\"56 min\",\"127 min\",\"74 min\",\"91 min\",\"137 min\",\"86 min\",\"106 min\",\"125 min\",\"114 min\",\"143 min\",\"121 min\",\"119 min\",\"150 min\",\"88 min\",\"105 min\",\"119 min\",\"96 min\",\"95 min\",\"98 min\",\"96 min\",\"96 min\",\"90 min\",\"97 min\",\"90 min\",\"88 min\",\"105 min\",\"127 min\",\"125 min\",\"116 min\",\"102 min\",\"65 min\",\"106 min\",\"117 min\",\"136 min\",\"104 min\",\"65 min\",\"91 min\",\"99 min\",\"91 min\",\"117 min\",\"95 min\",\"101 min\",\"102 min\",\"122 min\",\"95 min\",\"92 min\",\"111 min\",\"115 min\",\"61 min\",\"97 min\",\"120 min\",\"148 min\",\"48 min\",\"28 min\",\"34 min\",\"61 min\",\"56 min\",\"81 min\",\"68 min\",\"58 min\",\"100 min\",\"50 min\",\"49 min\",\"71 min\",\"29 min\",\"108 min\",\"125 min\",\"100 min\",\"30 min\",\"30 min\",\"146 min\",\"127 min\",\"46 min\",\"57 min\",\"122 min\",\"312 min\",\"109 min\",\"73 min\",\"96 min\",\"105 min\",\"124 min\",\"105 min\",\"78 min\",\"22 min\",\"95 min\",\"82 min\",\"89 min\",\"90 min\",\"85 min\",\"29 min\",\"137 min\",\"27 min\",\"112 min\",\"112 min\",\"153 min\",\"123 min\",\"90 min\",\"84 min\",\"78 min\",\"79 min\",\"73 min\",\"83 min\",\"83 min\",\"145 min\",\"135 min\",\"35 min\",\"68 min\",\"96 min\",\"110 min\",\"58 min\",\"105 min\",\"59 min\",\"28 min\",\"98 min\",\"63 min\",\"155 min\",\"122 min\",\"87 min\",\"73 min\",\"98 min\",\"130 min\",\"105 min\",\"110 min\",\"81 min\",\"115 min\",\"113 min\",\"146 min\",\"118 min\",\"109 min\",\"117 min\",\"23 min\",\"95 min\",\"124 min\",\"90 min\",\"96 min\",\"96 min\",\"93 min\",\"30 min\",\"82 min\",\"127 min\",\"114 min\",\"119 min\",\"101 min\",\"96 min\",\"44 min\",\"104 min\",\"91 min\",\"91 min\",\"114 min\",\"91 min\",\"64 min\",\"89 min\",\"95 min\",\"94 min\",\"133 min\",\"102 min\",\"122 min\",\"86 min\",\"111 min\",\"111 min\",\"136 min\",\"121 min\",\"119 min\",\"115 min\",\"128 min\",\"92 min\",\"99 min\",\"106 min\",\"122 min\",\"129 min\",\"90 min\",\"116 min\",\"59 min\",\"95 min\",\"122 min\",\"98 min\",\"117 min\",\"95 min\",\"146 min\",\"136 min\",\"91 min\",\"123 min\",\"144 min\",\"121 min\",\"91 min\",\"158 min\",\"157 min\",\"124 min\",\"106 min\",\"92 min\",\"80 min\",\"126 min\",\"129 min\",\"133 min\",\"109 min\",\"143 min\",\"140 min\",\"150 min\",\"128 min\",\"120 min\",\"154 min\",\"45 min\",\"132 min\",\"126 min\",\"95 min\",\"135 min\",\"139 min\",\"131 min\",\"118 min\",\"129 min\",\"131 min\",\"146 min\",\"123 min\",\"141 min\",\"93 min\",\"91 min\",\"106 min\",\"131 min\",\"95 min\",\"104 min\",\"126 min\",\"118 min\",\"94 min\",\"100 min\",\"126 min\",\"90 min\",\"87 min\",\"97 min\",\"115 min\",\"93 min\",\"138 min\",\"74 min\",\"102 min\",\"104 min\",\"51 min\",\"50 min\",\"86 min\",\"140 min\",\"122 min\",\"23 min\",\"95 min\",\"121 min\",\"131 min\",\"63 min\",\"150 min\",\"159 min\",\"131 min\",\"130 min\",\"99 min\",\"86 min\",\"106 min\",\"57 min\",\"97 min\",\"144 min\",\"110 min\",\"57 min\",\"119 min\",\"94 min\",\"89 min\",\"124 min\",\"25 min\",\"121 min\",\"88 min\",\"111 min\",\"81 min\",\"64 min\",\"55 min\",\"137 min\",\"56 min\",\"58 min\",\"80 min\",\"94 min\",\"94 min\",\"72 min\",\"60 min\",\"140 min\",\"91 min\",\"97 min\",\"146 min\",\"118 min\",\"128 min\",\"137 min\",\"145 min\",\"141 min\",\"106 min\",\"135 min\",\"137 min\",\"129 min\",\"99 min\",\"155 min\",\"142 min\",\"214 min\",\"137 min\",\"128 min\",\"151 min\",\"121 min\",\"101 min\",\"145 min\",\"147 min\",\"90 min\",\"129 min\",\"129 min\",\"136 min\",\"117 min\",\"150 min\",\"134 min\",\"100 min\",\"44 min\",\"44 min\",\"111 min\",\"147 min\",\"115 min\",\"121 min\",\"103 min\",\"73 min\",\"129 min\",\"102 min\",\"122 min\",\"155 min\",\"139 min\",\"131 min\",\"127 min\",\"156 min\",\"91 min\",\"132 min\",\"130 min\",\"137 min\",\"156 min\",\"132 min\",\"119 min\",\"140 min\",\"126 min\",\"107 min\",\"111 min\",\"130 min\",\"126 min\",\"24 min\",\"108 min\",\"117 min\",\"101 min\",\"124 min\",\"63 min\",\"114 min\",\"98 min\",\"100 min\",\"100 min\",\"123 min\",\"77 min\",\"106 min\",\"106 min\",\"102 min\",\"146 min\",\"96 min\",\"104 min\",\"109 min\",\"110 min\",\"110 min\",\"101 min\",\"94 min\",\"101 min\",\"141 min\",\"120 min\",\"140 min\",\"50 min\",\"57 min\",\"31 min\",\"90 min\",\"110 min\",\"162 min\",\"139 min\",\"130 min\",\"145 min\",\"33 min\",\"114 min\",\"100 min\",\"54 min\",\"150 min\",\"105 min\",\"124 min\",\"95 min\",\"12 min\",\"104 min\",\"143 min\",\"127 min\",\"100 min\",\"74 min\",\"104 min\",\"148 min\",\"127 min\",\"158 min\",\"124 min\",\"163 min\",\"121 min\",\"154 min\",\"127 min\",\"128 min\",\"98 min\",\"109 min\",\"168 min\",\"162 min\",\"159 min\",\"137 min\",\"133 min\",\"127 min\",\"131 min\",\"90 min\",\"88 min\",\"87 min\",\"82 min\",\"86 min\",\"100 min\",\"57 min\",\"95 min\",\"101 min\",\"124 min\",\"72 min\",\"93 min\",\"92 min\",\"95 min\",\"133 min\",\"85 min\",\"105 min\",\"101 min\",\"88 min\",\"113 min\",\"71 min\",\"75 min\",\"66 min\",\"83 min\",\"110 min\",\"88 min\",\"77 min\",\"58 min\",\"69 min\",\"61 min\",\"88 min\",\"122 min\",\"60 min\",\"166 min\",\"107 min\",\"94 min\",\"87 min\",\"92 min\",\"130 min\",\"88 min\",\"128 min\",\"96 min\",\"94 min\",\"69 min\",\"90 min\",\"101 min\",\"77 min\",\"89 min\",\"90 min\",\"98 min\",\"66 min\",\"103 min\",\"95 min\",\"89 min\",\"74 min\",\"119 min\",\"70 min\",\"121 min\",\"106 min\",\"74 min\",\"106 min\",\"113 min\",\"119 min\",\"100 min\",\"110 min\",\"66 min\",\"126 min\",\"130 min\",\"110 min\",\"85 min\",\"117 min\",\"63 min\",\"94 min\",\"74 min\",\"58 min\",\"117 min\",\"89 min\",\"66 min\",\"158 min\",\"100 min\",\"64 min\",\"92 min\",\"63 min\",\"105 min\",\"67 min\",\"91 min\",\"92 min\",\"87 min\",\"100 min\",\"113 min\",\"40 min\",\"105 min\",\"94 min\",\"109 min\",\"99 min\",\"89 min\",\"92 min\",\"105 min\",\"130 min\",\"69 min\",\"98 min\",\"90 min\",\"65 min\",\"92 min\",\"19 min\",\"25 min\",\"22 min\",\"40 min\",\"22 min\",\"24 min\",\"101 min\",\"90 min\",\"96 min\",\"115 min\",\"92 min\",\"93 min\",\"95 min\",\"105 min\",\"117 min\",\"66 min\",\"97 min\",\"78 min\",\"102 min\",\"62 min\",\"97 min\",\"105 min\",\"79 min\",\"90 min\",\"107 min\",\"105 min\",\"99 min\",\"108 min\",\"66 min\",\"75 min\",\"96 min\",\"95 min\",\"32 min\",\"70 min\",\"94 min\",\"78 min\",\"91 min\",\"75 min\",\"105 min\",\"96 min\",\"132 min\",\"60 min\",\"171 min\",\"116 min\",\"169 min\",\"134 min\",\"159 min\",\"87 min\",\"103 min\",\"78 min\",\"62 min\",\"97 min\",\"102 min\",\"95 min\",\"115 min\",\"102 min\",\"99 min\",\"74 min\",\"100 min\",\"150 min\",\"87 min\",\"88 min\",\"63 min\",\"129 min\",\"91 min\",\"115 min\",\"140 min\",\"79 min\",\"104 min\",\"121 min\",\"40 min\",\"94 min\",\"58 min\",\"78 min\",\"51 min\",\"69 min\",\"104 min\",\"59 min\",\"94 min\",\"166 min\",\"155 min\",\"145 min\",\"106 min\",\"94 min\",\"127 min\",\"87 min\",\"185 min\",\"75 min\",\"89 min\",\"81 min\",\"47 min\",\"46 min\",\"125 min\",\"160 min\",\"110 min\",\"69 min\",\"67 min\",\"105 min\",\"127 min\",\"109 min\",\"134 min\",\"60 min\",\"96 min\",\"65 min\",\"133 min\",\"96 min\",\"95 min\",\"24 min\",\"97 min\",\"65 min\",\"102 min\",\"53 min\",\"116 min\",\"102 min\",\"86 min\",\"117 min\",\"96 min\",\"69 min\",\"108 min\",\"102 min\",\"61 min\",\"57 min\",\"49 min\",\"87 min\",\"59 min\",\"63 min\",\"69 min\",\"62 min\",\"108 min\",\"95 min\",\"99 min\",\"62 min\",\"60 min\",\"147 min\",\"153 min\",\"87 min\",\"124 min\",\"94 min\",\"100 min\",\"71 min\",\"60 min\",\"135 min\",\"97 min\",\"86 min\",\"91 min\",\"82 min\",\"102 min\",\"105 min\",\"106 min\",\"91 min\",\"61 min\",\"80 min\",\"118 min\",\"94 min\",\"84 min\",\"103 min\",\"69 min\",\"105 min\",\"128 min\",\"86 min\",\"109 min\",\"70 min\",\"89 min\",\"162 min\",\"163 min\",\"91 min\",\"27 min\",\"67 min\",\"142 min\",\"78 min\",\"26 min\",\"46 min\",\"81 min\",\"119 min\",\"99 min\",\"96 min\",\"128 min\",\"114 min\",\"101 min\",\"109 min\",\"51 min\",\"61 min\",\"73 min\",\"92 min\",\"94 min\",\"135 min\",\"66 min\",\"126 min\",\"54 min\",\"100 min\",\"81 min\",\"123 min\",\"144 min\",\"153 min\",\"141 min\",\"104 min\",\"97 min\",\"82 min\",\"98 min\",\"84 min\",\"76 min\",\"75 min\",\"93 min\",\"98 min\",\"91 min\",\"168 min\",\"68 min\",\"103 min\",\"95 min\",\"82 min\",\"94 min\",\"66 min\",\"135 min\",\"144 min\",\"90 min\",\"158 min\",\"83 min\",\"102 min\",\"52 min\",\"110 min\",\"85 min\",\"113 min\",\"88 min\",\"89 min\",\"59 min\",\"106 min\",\"66 min\",\"135 min\",\"93 min\",\"79 min\",\"107 min\",\"47 min\",\"118 min\",\"81 min\",\"103 min\",\"40 min\",\"103 min\",\"85 min\",\"104 min\",\"82 min\",\"112 min\",\"102 min\",\"101 min\",\"119 min\",\"62 min\",\"64 min\",\"137 min\",\"108 min\",\"78 min\",\"40 min\",\"71 min\",\"99 min\",\"60 min\",\"78 min\",\"98 min\",\"70 min\",\"148 min\",\"54 min\",\"92 min\",\"107 min\",\"90 min\",\"135 min\",\"151 min\",\"132 min\",\"95 min\",\"162 min\",\"163 min\",\"89 min\",\"28 min\",\"103 min\",\"160 min\",\"113 min\",\"86 min\",\"83 min\",\"113 min\",\"86 min\",\"57 min\",\"98 min\",\"116 min\",\"100 min\",\"51 min\",\"113 min\",\"124 min\",\"63 min\",\"56 min\",\"94 min\",\"90 min\",\"71 min\",\"97 min\",\"83 min\",\"92 min\",\"165 min\",\"166 min\",\"166 min\",\"159 min\",\"160 min\",\"159 min\",\"22 min\",\"105 min\",\"54 min\",\"121 min\",\"103 min\",\"129 min\",\"95 min\",\"80 min\",\"67 min\",\"84 min\",\"97 min\",\"86 min\",\"114 min\",\"84 min\",\"67 min\",\"91 min\",\"63 min\",\"116 min\",\"104 min\",\"14 min\",\"89 min\",\"108 min\",\"59 min\",\"74 min\",\"84 min\",\"97 min\",\"95 min\",\"116 min\",\"86 min\",\"153 min\",\"104 min\",\"163 min\",\"106 min\",\"148 min\",\"105 min\",\"121 min\",\"66 min\",\"102 min\",\"96 min\",\"89 min\",\"161 min\",\"24 min\",\"66 min\",\"91 min\",\"92 min\",\"104 min\",\"73 min\",\"47 min\",\"102 min\",\"87 min\",\"117 min\",\"119 min\",\"130 min\",\"102 min\",\"154 min\",\"44 min\",\"96 min\",\"47 min\",\"44 min\",\"109 min\",\"89 min\",\"92 min\",\"122 min\",\"19 min\",\"154 min\",\"152 min\",\"161 min\",\"123 min\",\"44 min\",\"80 min\",\"71 min\",\"153 min\",\"79 min\",\"143 min\",\"123 min\",\"80 min\",\"73 min\",\"106 min\",\"101 min\",\"59 min\",\"164 min\",\"151 min\",\"84 min\",\"51 min\",\"142 min\",\"110 min\",\"86 min\",\"101 min\",\"88 min\",\"86 min\",\"61 min\",\"81 min\",\"72 min\",\"98 min\",\"64 min\",\"111 min\",\"148 min\",\"163 min\",\"95 min\",\"99 min\",\"44 min\",\"93 min\",\"89 min\",\"83 min\",\"104 min\",\"81 min\",\"53 min\",\"95 min\",\"149 min\",\"106 min\",\"108 min\",\"66 min\",\"113 min\",\"83 min\",\"50 min\",\"97 min\",\"105 min\",\"107 min\",\"99 min\",\"101 min\",\"81 min\",\"92 min\",\"131 min\",\"101 min\",\"96 min\",\"85 min\",\"110 min\",\"89 min\",\"1 Season\",\"88 min\",\"88 min\",\"143 min\",\"83 min\",\"107 min\",\"99 min\",\"134 min\",\"78 min\",\"81 min\",\"106 min\",\"51 min\",\"102 min\",\"63 min\",\"91 min\",\"93 min\",\"93 min\",\"97 min\",\"92 min\",\"137 min\",\"143 min\",\"168 min\",\"117 min\",\"87 min\",\"160 min\",\"62 min\",\"109 min\",\"102 min\",\"118 min\",\"57 min\",\"94 min\",\"71 min\",\"123 min\",\"97 min\",\"99 min\",\"97 min\",\"67 min\",\"105 min\",\"78 min\",\"99 min\",\"119 min\",\"109 min\",\"107 min\",\"92 min\",\"88 min\",\"71 min\",\"64 min\",\"97 min\",\"96 min\",\"150 min\",\"54 min\",\"78 min\",\"86 min\",\"154 min\",\"179 min\",\"93 min\",\"97 min\",\"108 min\",\"92 min\",\"78 min\",\"87 min\",\"99 min\",\"91 min\",\"102 min\",\"67 min\",\"57 min\",\"130 min\",\"80 min\",\"66 min\",\"105 min\",\"98 min\",\"91 min\",\"123 min\",\"82 min\",\"104 min\",\"109 min\",\"74 min\",\"84 min\",\"98 min\",\"22 min\",\"100 min\",\"75 min\",\"69 min\",\"97 min\",\"92 min\",\"92 min\",\"146 min\",\"97 min\",\"93 min\",\"62 min\",\"22 min\",\"88 min\",\"105 min\",\"88 min\",\"93 min\",\"98 min\",\"88 min\",\"31 min\",\"83 min\",\"38 min\",\"108 min\",\"97 min\",\"81 min\",\"70 min\",\"62 min\",\"99 min\",\"112 min\",\"90 min\",\"56 min\",\"89 min\",\"24 min\",\"100 min\",\"116 min\",\"92 min\",\"79 min\",\"72 min\",\"92 min\",\"61 min\",\"88 min\",\"113 min\",\"67 min\",\"65 min\",\"62 min\",\"107 min\",\"69 min\",\"77 min\",\"98 min\",\"71 min\",\"64 min\",\"112 min\",\"59 min\",\"91 min\",\"44 min\",\"107 min\",\"92 min\",\"89 min\",\"107 min\",\"94 min\",\"110 min\",\"81 min\",\"77 min\",\"64 min\",\"97 min\",\"77 min\",\"94 min\",\"94 min\",\"91 min\",\"80 min\",\"95 min\",\"90 min\",\"101 min\",\"73 min\",\"108 min\",\"25 min\",\"86 min\",\"105 min\",\"100 min\",\"96 min\",\"97 min\",\"73 min\",\"44 min\",\"132 min\",\"96 min\",\"92 min\",\"99 min\",\"92 min\",\"99 min\",\"78 min\",\"65 min\",\"65 min\",\"69 min\",\"64 min\",\"63 min\",\"63 min\",\"89 min\",\"60 min\",\"1 Season\",\"41 min\",\"83 min\",\"25 min\",\"94 min\",\"52 min\",\"75 min\",\"92 min\",\"80 min\",\"1 Season\",\"46 min\",\"72 min\",\"71 min\",\"77 min\",\"70 min\",\"73 min\",\"81 min\",\"63 min\",\"45 min\",\"46 min\",\"112 min\",\"101 min\",\"117 min\",\"114 min\",\"96 min\",\"87 min\",\"105 min\",\"80 min\",\"97 min\",\"105 min\",\"60 min\",\"109 min\",\"60 min\",\"101 min\",\"91 min\",\"66 min\",\"127 min\",\"82 min\",\"70 min\",\"23 min\",\"97 min\",\"62 min\",\"84 min\",\"90 min\",\"101 min\",\"74 min\",\"68 min\",\"92 min\",\"107 min\",\"108 min\",\"74 min\",\"29 min\",\"60 min\",\"120 min\",\"74 min\",\"57 min\",\"91 min\",\"62 min\",\"85 min\",\"90 min\",\"105 min\",\"59 min\",\"137 min\",\"86 min\",\"99 min\",\"64 min\",\"82 min\",\"90 min\",\"80 min\",\"62 min\",\"92 min\",\"78 min\",\"92 min\",\"69 min\",\"103 min\",\"92 min\",\"143 min\",\"83 min\",\"78 min\",\"84 min\",\"84 min\",\"58 min\",\"82 min\",\"83 min\",\"29 min\",\"72 min\",\"26 min\",\"81 min\",\"75 min\",\"100 min\",\"90 min\",\"68 min\",\"71 min\",\"100 min\",\"94 min\",\"80 min\",\"35 min\",\"93 min\",\"105 min\",\"130 min\",\"100 min\",\"80 min\",\"76 min\",\"95 min\",\"96 min\",\"94 min\",\"94 min\",\"93 min\",\"96 min\",\"94 min\",\"94 min\",\"93 min\",\"95 min\",\"93 min\",\"75 min\",\"103 min\",\"29 min\",\"104 min\",\"81 min\",\"80 min\",\"123 min\",\"119 min\",\"118 min\",\"143 min\",\"149 min\",\"144 min\",\"124 min\",\"87 min\",\"128 min\",\"117 min\",\"100 min\",\"84 min\",\"90 min\",\"105 min\",\"106 min\",\"99 min\",\"93 min\",\"89 min\",\"105 min\",\"109 min\",\"93 min\",\"75 min\",\"90 min\",\"90 min\",\"93 min\",\"37 min\",\"113 min\",\"89 min\",\"102 min\",\"102 min\",\"90 min\",\"94 min\",\"91 min\",\"107 min\",\"95 min\",\"119 min\",\"93 min\",\"101 min\",\"93 min\",\"82 min\",\"70 min\",\"104 min\",\"121 min\",\"92 min\",\"124 min\",\"53 min\",\"91 min\",\"83 min\",\"93 min\",\"81 min\",\"86 min\",\"106 min\",\"97 min\",\"99 min\",\"100 min\",\"126 min\",\"94 min\",\"103 min\",\"96 min\",\"137 min\",\"104 min\",\"104 min\",\"94 min\",\"176 min\",\"137 min\",\"101 min\",\"111 min\",\"110 min\",\"142 min\",\"86 min\",\"93 min\",\"86 min\",\"80 min\",\"92 min\",\"96 min\",\"87 min\",\"98 min\",\"125 min\",\"91 min\",\"76 min\",\"82 min\",\"111 min\",\"92 min\",\"94 min\",\"91 min\",\"44 min\",\"108 min\",\"123 min\",\"106 min\",\"89 min\",\"98 min\",\"108 min\",\"92 min\",\"102 min\",\"103 min\",\"91 min\",\"110 min\",\"77 min\",\"99 min\",\"122 min\",\"150 min\",\"126 min\",\"164 min\",\"115 min\",\"133 min\",\"127 min\",\"100 min\",\"131 min\",\"44 min\",\"101 min\",\"90 min\",\"89 min\",\"88 min\",\"133 min\",\"110 min\",\"112 min\",\"87 min\",\"91 min\",\"111 min\",\"99 min\",\"86 min\",\"93 min\",\"87 min\",\"107 min\",\"89 min\",\"92 min\",\"122 min\",\"91 min\",\"127 min\",\"153 min\",\"94 min\",\"106 min\",\"102 min\",\"112 min\",\"63 min\",\"90 min\",\"89 min\",\"101 min\",\"85 min\",\"83 min\",\"92 min\",\"84 min\",\"91 min\",\"100 min\",\"103 min\",\"103 min\",\"45 min\",\"45 min\",\"90 min\",\"98 min\",\"92 min\",\"172 min\",\"125 min\",\"81 min\",\"112 min\",\"122 min\",\"101 min\",\"53 min\",\"53 min\",\"99 min\",\"95 min\",\"119 min\",\"163 min\",\"55 min\",\"102 min\",\"106 min\",\"128 min\",\"80 min\",\"80 min\",\"75 min\",\"75 min\",\"79 min\",\"87 min\",\"97 min\",\"85 min\",\"111 min\",\"113 min\",\"90 min\",\"103 min\",\"105 min\",\"104 min\",\"127 min\",\"92 min\",\"72 min\",\"118 min\",\"110 min\",\"65 min\",\"90 min\",\"134 min\",\"89 min\",\"86 min\",\"87 min\",\"107 min\",\"79 min\",\"87 min\",\"113 min\",\"110 min\",\"98 min\",\"93 min\",\"139 min\",\"94 min\",\"133 min\",\"81 min\",\"91 min\",\"122 min\",\"102 min\",\"88 min\",\"49 min\",\"110 min\",\"150 min\",\"97 min\",\"129 min\",\"99 min\",\"112 min\",\"143 min\",\"61 min\",\"95 min\",\"92 min\",\"97 min\",\"90 min\",\"119 min\",\"147 min\",\"83 min\",\"83 min\",\"91 min\",\"117 min\",\"78 min\",\"75 min\",\"78 min\",\"149 min\",\"103 min\",\"94 min\",\"95 min\",\"122 min\",\"107 min\",\"126 min\",\"122 min\",\"95 min\",\"101 min\",\"74 min\",\"74 min\",\"74 min\",\"83 min\",\"79 min\",\"72 min\",\"80 min\",\"75 min\",\"75 min\",\"72 min\",\"99 min\",\"91 min\",\"166 min\",\"103 min\",\"128 min\",\"87 min\",\"125 min\",\"121 min\",\"110 min\",\"88 min\",\"52 min\",\"89 min\",\"52 min\",\"81 min\",\"73 min\",\"75 min\",\"99 min\",\"121 min\",\"100 min\",\"97 min\",\"105 min\",\"100 min\",\"115 min\",\"99 min\",\"91 min\",\"90 min\",\"100 min\",\"25 min\",\"99 min\",\"120 min\",\"98 min\",\"104 min\",\"149 min\",\"112 min\",\"98 min\",\"120 min\",\"151 min\",\"63 min\",\"148 min\",\"114 min\",\"123 min\",\"87 min\",\"93 min\",\"88 min\",\"126 min\",\"90 min\",\"95 min\",\"108 min\",\"65 min\",\"110 min\",\"66 min\",\"127 min\",\"131 min\",\"88 min\",\"97 min\",\"116 min\",\"117 min\",\"79 min\",\"144 min\",\"79 min\",\"135 min\",\"88 min\",\"116 min\",\"91 min\",\"83 min\",\"90 min\",\"129 min\",\"120 min\",\"91 min\",\"85 min\",\"88 min\",\"123 min\",\"180 min\",\"98 min\",\"90 min\",\"90 min\",\"94 min\",\"112 min\",\"85 min\",\"97 min\",\"47 min\",\"99 min\",\"168 min\",\"99 min\",\"106 min\",\"92 min\",\"99 min\",\"89 min\",\"88 min\",\"111 min\",\"79 min\",\"86 min\",\"74 min\",\"84 min\",\"80 min\",\"86 min\",\"90 min\",\"102 min\",\"92 min\",\"81 min\",\"116 min\",\"110 min\",\"95 min\",\"133 min\",\"120 min\",\"91 min\",\"90 min\",\"90 min\",\"103 min\",\"73 min\",\"98 min\",\"119 min\",\"76 min\",\"148 min\",\"94 min\",\"108 min\",\"114 min\",\"98 min\",\"151 min\",\"78 min\",\"125 min\",\"126 min\",\"11 min\",\"22 min\",\"104 min\",\"104 min\",\"117 min\",\"101 min\",\"99 min\",\"103 min\",\"126 min\",\"92 min\",\"131 min\",\"119 min\",\"98 min\",\"85 min\",\"84 min\",\"145 min\",\"125 min\",\"108 min\",\"108 min\",\"74 min\",\"82 min\",\"75 min\",\"77 min\",\"156 min\",\"116 min\",\"126 min\",\"129 min\",\"132 min\",\"118 min\",\"87 min\",\"95 min\",\"86 min\",\"106 min\",\"115 min\",\"106 min\",\"94 min\",\"121 min\",\"113 min\",\"129 min\",\"99 min\",\"116 min\",\"88 min\",\"63 min\",\"62 min\",\"62 min\",\"112 min\",\"113 min\",\"82 min\",\"98 min\",\"87 min\",\"111 min\",\"63 min\",\"105 min\",\"146 min\",\"96 min\",\"80 min\",\"99 min\",\"87 min\",\"88 min\",\"99 min\",\"104 min\",\"104 min\",\"118 min\",\"127 min\",\"109 min\",\"130 min\",\"110 min\",\"88 min\",\"106 min\",\"91 min\",\"103 min\",\"89 min\",\"108 min\",\"124 min\",\"96 min\",\"172 min\",\"124 min\",\"85 min\",\"137 min\",\"91 min\",\"120 min\",\"118 min\",\"110 min\",\"114 min\",\"112 min\",\"92 min\",\"137 min\",\"84 min\",\"52 min\",\"96 min\",\"112 min\",\"90 min\",\"106 min\",\"116 min\",\"97 min\",\"127 min\",\"96 min\",\"45 min\",\"101 min\",\"88 min\",\"75 min\",\"112 min\",\"110 min\",\"120 min\",\"90 min\",\"82 min\",\"118 min\",\"153 min\",\"117 min\",\"93 min\",\"82 min\",\"115 min\",\"151 min\",\"103 min\",\"117 min\",\"100 min\",\"70 min\",\"103 min\",\"108 min\",\"100 min\",\"91 min\",\"93 min\",\"113 min\",\"116 min\",\"121 min\",\"112 min\",\"76 min\",\"81 min\",\"110 min\",\"90 min\",\"97 min\",\"86 min\",\"94 min\",\"83 min\",\"43 min\",\"92 min\",\"93 min\",\"88 min\",\"53 min\",\"156 min\",\"79 min\",\"96 min\",\"99 min\",\"140 min\",\"62 min\",\"88 min\",\"76 min\",\"99 min\",\"97 min\",\"87 min\",\"108 min\",\"94 min\",\"123 min\",\"128 min\",\"132 min\",\"93 min\",\"113 min\",\"96 min\",\"133 min\",\"176 min\",\"115 min\",\"90 min\",\"111 min\",\"87 min\",\"112 min\",\"200 min\",\"93 min\",\"90 min\",\"107 min\",\"89 min\",\"83 min\",\"96 min\",\"99 min\",\"95 min\",\"88 min\",\"94 min\",\"93 min\",\"93 min\",\"92 min\",\"127 min\",\"105 min\",\"94 min\",\"104 min\",\"94 min\",\"82 min\",\"86 min\",\"103 min\",\"97 min\",\"84 min\",\"98 min\",\"68 min\",\"42 min\",\"92 min\",\"89 min\",\"99 min\",\"93 min\",\"162 min\",\"85 min\",\"52 min\",\"91 min\",\"106 min\",\"92 min\",\"140 min\",\"69 min\",\"153 min\",\"124 min\",\"120 min\",\"134 min\",\"105 min\",\"119 min\",\"106 min\",\"79 min\",\"196 min\",\"90 min\",\"109 min\",\"93 min\",\"92 min\",\"49 min\",\"102 min\",\"82 min\",\"74 min\",\"94 min\",\"87 min\",\"108 min\",\"151 min\",\"109 min\",\"91 min\",\"93 min\",\"85 min\",\"103 min\",\"102 min\",\"107 min\",\"88 min\",\"95 min\",\"100 min\",\"91 min\",\"110 min\",\"96 min\",\"96 min\",\"98 min\",\"133 min\",\"102 min\",\"108 min\",\"133 min\",\"58 min\",\"79 min\",\"101 min\",\"81 min\",\"99 min\",\"106 min\",\"103 min\",\"92 min\",\"89 min\",\"150 min\",\"80 min\",\"124 min\",\"99 min\",\"29 min\",\"91 min\",\"102 min\",\"94 min\",\"118 min\",\"70 min\",\"181 min\",\"101 min\",\"29 min\",\"92 min\",\"94 min\",\"118 min\",\"98 min\",\"90 min\",\"93 min\",\"114 min\",\"99 min\",\"96 min\",\"102 min\",\"90 min\",\"49 min\",\"61 min\",\"60 min\",\"104 min\",\"119 min\",\"102 min\",\"83 min\",\"88 min\",\"86 min\",\"90 min\",\"134 min\",\"92 min\",\"145 min\",\"95 min\",\"93 min\",\"84 min\",\"81 min\",\"98 min\",\"74 min\",\"87 min\",\"96 min\",\"88 min\",\"118 min\",\"113 min\",\"86 min\",\"91 min\",\"115 min\",\"112 min\",\"103 min\",\"116 min\",\"72 min\",\"104 min\",\"97 min\",\"92 min\",\"93 min\",\"93 min\",\"99 min\",\"47 min\",\"52 min\",\"97 min\",\"88 min\",\"106 min\",\"97 min\",\"88 min\",\"88 min\",\"132 min\",\"108 min\",\"111 min\",\"167 min\",\"96 min\",\"95 min\",\"107 min\",\"118 min\",\"130 min\",\"90 min\",\"87 min\",\"109 min\",\"103 min\",\"110 min\",\"85 min\",\"163 min\",\"100 min\",\"58 min\",\"110 min\",\"58 min\",\"56 min\",\"161 min\",\"141 min\",\"115 min\",\"90 min\",\"103 min\",\"77 min\",\"111 min\",\"103 min\",\"129 min\",\"113 min\",\"106 min\",\"105 min\",\"137 min\",\"22 min\",\"130 min\",\"89 min\",\"110 min\",\"148 min\",\"100 min\",\"90 min\",\"103 min\",\"75 min\",\"99 min\",\"93 min\",\"90 min\",\"145 min\",\"95 min\",\"92 min\",\"90 min\",\"137 min\",\"98 min\",\"109 min\",\"117 min\",\"93 min\",\"57 min\",\"110 min\",\"95 min\",\"102 min\",\"97 min\",\"82 min\",\"90 min\",\"57 min\",\"91 min\",\"100 min\",\"101 min\",\"138 min\",\"95 min\",\"116 min\",\"117 min\",\"65 min\",\"158 min\",\"110 min\",\"79 min\",\"99 min\",\"86 min\",\"138 min\",\"91 min\",\"79 min\",\"79 min\",\"96 min\",\"55 min\",\"101 min\",\"88 min\",\"95 min\",\"87 min\",\"83 min\",\"90 min\",\"151 min\",\"89 min\",\"99 min\",\"86 min\",\"85 min\",\"93 min\",\"89 min\",\"89 min\",\"90 min\",\"104 min\",\"107 min\",\"124 min\",\"87 min\",\"94 min\",\"86 min\",\"102 min\",\"122 min\",\"126 min\",\"87 min\",\"156 min\",\"97 min\",\"89 min\",\"88 min\",\"96 min\",\"104 min\",\"80 min\",\"95 min\",\"97 min\",\"118 min\",\"118 min\",\"44 min\",\"54 min\",\"170 min\",\"118 min\",\"128 min\",\"106 min\",\"103 min\",\"92 min\",\"102 min\",\"126 min\",\"73 min\",\"111 min\",\"100 min\",\"86 min\",\"95 min\",\"79 min\",\"81 min\",\"120 min\",\"85 min\",\"96 min\",\"91 min\",\"134 min\",\"93 min\",\"82 min\",\"88 min\",\"96 min\",\"97 min\",\"101 min\",\"88 min\",\"84 min\",\"110 min\",\"105 min\",\"116 min\",\"94 min\",\"110 min\",\"116 min\",\"51 min\",\"103 min\",\"83 min\",\"176 min\",\"149 min\",\"79 min\",\"97 min\",\"91 min\",\"85 min\",\"85 min\",\"117 min\",\"84 min\",\"106 min\",\"107 min\",\"98 min\",\"54 min\",\"139 min\",\"88 min\",\"93 min\",\"91 min\",\"89 min\",\"106 min\",\"116 min\",\"100 min\",\"96 min\",\"119 min\",\"108 min\",\"104 min\",\"124 min\",\"87 min\",\"75 min\",\"108 min\",\"103 min\",\"103 min\",\"89 min\",\"103 min\",\"89 min\",\"119 min\",\"106 min\",\"90 min\",\"118 min\",\"95 min\",\"123 min\",\"127 min\",\"116 min\",\"119 min\",\"99 min\",\"90 min\",\"90 min\",\"153 min\",\"106 min\",\"141 min\",\"122 min\",\"87 min\",\"102 min\",\"88 min\",\"99 min\",\"99 min\",\"134 min\",\"91 min\",\"88 min\",\"127 min\",\"137 min\",\"77 min\",\"71 min\",\"130 min\",\"140 min\",\"101 min\",\"101 min\",\"91 min\",\"84 min\",\"88 min\",\"68 min\",\"163 min\",\"93 min\",\"86 min\",\"154 min\",\"92 min\",\"132 min\",\"22 min\",\"132 min\",\"94 min\",\"132 min\",\"105 min\",\"97 min\",\"109 min\",\"134 min\",\"53 min\",\"84 min\",\"102 min\",\"79 min\",\"181 min\",\"90 min\",\"79 min\",\"133 min\",\"125 min\",\"80 min\",\"101 min\",\"135 min\",\"133 min\",\"91 min\",\"52 min\",\"123 min\",\"113 min\",\"107 min\",\"128 min\",\"94 min\",\"95 min\",\"106 min\",\"138 min\",\"139 min\",\"132 min\",\"173 min\",\"105 min\",\"148 min\",\"120 min\",\"85 min\",\"113 min\",\"99 min\",\"41 min\",\"110 min\",\"137 min\",\"118 min\",\"140 min\",\"85 min\",\"116 min\",\"133 min\",\"89 min\",\"75 min\",\"67 min\",\"90 min\",\"170 min\",\"124 min\",\"120 min\",\"157 min\",\"124 min\",\"110 min\",\"90 min\",\"97 min\",\"108 min\",\"95 min\",\"111 min\",\"137 min\",\"100 min\",\"53 min\",\"87 min\",\"106 min\",\"86 min\",\"100 min\",\"103 min\",\"109 min\",\"81 min\",\"98 min\",\"114 min\",\"87 min\",\"132 min\",\"116 min\",\"92 min\",\"99 min\",\"63 min\",\"121 min\",\"56 min\",\"96 min\",\"115 min\",\"117 min\",\"58 min\",\"62 min\",\"65 min\",\"61 min\",\"65 min\",\"65 min\",\"58 min\",\"60 min\",\"81 min\",\"85 min\",\"93 min\",\"126 min\",\"99 min\",\"79 min\",\"26 min\",\"107 min\",\"133 min\",\"95 min\",\"100 min\",\"149 min\",\"52 min\",\"165 min\",\"104 min\",\"114 min\",\"109 min\",\"88 min\",\"143 min\",\"112 min\",\"101 min\",\"110 min\",\"83 min\",\"145 min\",\"87 min\",\"86 min\",\"115 min\",\"93 min\",\"121 min\",\"54 min\",\"100 min\",\"37 min\",\"33 min\",\"35 min\",\"32 min\",\"147 min\",\"110 min\",\"97 min\",\"108 min\",\"101 min\",\"100 min\",\"48 min\",\"44 min\",\"78 min\",\"103 min\",\"58 min\",\"90 min\",\"89 min\",\"83 min\",\"84 min\",\"104 min\",\"99 min\",\"105 min\",\"94 min\",\"150 min\",\"111 min\",\"116 min\",\"92 min\",\"23 min\",\"25 min\",\"85 min\",\"90 min\",\"68 min\",\"67 min\",\"66 min\",\"91 min\",\"87 min\",\"98 min\",\"108 min\",\"85 min\",\"95 min\",\"103 min\",\"118 min\",\"153 min\",\"96 min\",\"88 min\",\"116 min\",\"155 min\",\"88 min\",\"92 min\",\"98 min\",\"103 min\",\"163 min\",\"93 min\",\"77 min\",\"97 min\",\"115 min\",\"103 min\",\"82 min\",\"77 min\",\"79 min\",\"98 min\",\"131 min\",\"110 min\",\"100 min\",\"117 min\",\"107 min\",\"76 min\",\"118 min\",\"93 min\",\"99 min\",\"84 min\",\"102 min\",\"134 min\",\"78 min\",\"95 min\",\"73 min\",\"110 min\",\"75 min\",\"119 min\",\"92 min\",\"137 min\",\"192 min\",\"132 min\",\"91 min\",\"105 min\",\"88 min\",\"155 min\",\"103 min\",\"97 min\",\"92 min\",\"98 min\",\"89 min\",\"112 min\",\"75 min\",\"89 min\",\"99 min\",\"107 min\",\"29 min\",\"94 min\",\"90 min\",\"104 min\",\"55 min\",\"83 min\",\"77 min\",\"72 min\",\"103 min\",\"131 min\",\"138 min\",\"143 min\",\"80 min\",\"132 min\",\"84 min\",\"99 min\",\"93 min\",\"114 min\",\"100 min\",\"132 min\",\"83 min\",\"105 min\",\"112 min\",\"94 min\",\"90 min\",\"48 min\",\"110 min\",\"84 min\",\"118 min\",\"86 min\",\"98 min\",\"88 min\",\"81 min\",\"112 min\",\"106 min\",\"148 min\",\"105 min\",\"92 min\",\"112 min\",\"128 min\",\"128 min\",\"136 min\",\"106 min\",\"129 min\",\"90 min\",\"130 min\",\"85 min\",\"90 min\",\"94 min\",\"86 min\",\"100 min\",\"107 min\",\"93 min\",\"109 min\",\"109 min\",\"92 min\",\"93 min\",\"100 min\",\"141 min\",\"119 min\",\"84 min\",\"96 min\",\"83 min\",\"117 min\",\"93 min\",\"73 min\",\"72 min\",\"46 min\",\"74 min\",\"46 min\",\"46 min\",\"74 min\",\"71 min\",\"72 min\",\"76 min\",\"23 min\",\"60 min\",\"46 min\",\"101 min\",\"97 min\",\"111 min\",\"96 min\",\"135 min\",\"91 min\",\"84 min\",\"121 min\",\"109 min\",\"74 min\",\"94 min\",\"105 min\",\"97 min\",\"102 min\",\"86 min\",\"88 min\",\"90 min\",\"131 min\",\"158 min\",\"85 min\",\"110 min\",\"79 min\",\"185 min\",\"80 min\",\"116 min\",\"95 min\",\"99 min\",\"77 min\",\"91 min\",\"115 min\",\"68 min\",\"72 min\",\"73 min\",\"104 min\",\"90 min\",\"99 min\",\"109 min\",\"108 min\",\"99 min\",\"99 min\",\"88 min\",\"92 min\",\"73 min\",\"85 min\",\"91 min\",\"171 min\",\"80 min\",\"102 min\",\"76 min\",\"92 min\",\"82 min\",\"42 min\",\"131 min\",\"165 min\",\"91 min\",\"101 min\",\"53 min\",\"59 min\",\"108 min\",\"89 min\",\"91 min\",\"84 min\",\"96 min\",\"124 min\",\"87 min\",\"113 min\",\"118 min\",\"97 min\",\"161 min\",\"116 min\",\"104 min\",\"89 min\",\"92 min\",\"90 min\",\"50 min\",\"53 min\",\"113 min\",\"53 min\",\"54 min\",\"53 min\",\"54 min\",\"113 min\",\"53 min\",\"53 min\",\"53 min\",\"54 min\",\"54 min\",\"52 min\",\"54 min\",\"54 min\",\"53 min\",\"53 min\",\"53 min\",\"113 min\",\"53 min\",\"86 min\",\"102 min\",\"114 min\",\"99 min\",\"55 min\",\"91 min\",\"117 min\",\"124 min\",\"122 min\",\"84 min\",\"84 min\",\"120 min\",\"127 min\",\"122 min\",\"125 min\",\"107 min\",\"91 min\",\"103 min\",\"103 min\",\"106 min\",\"102 min\",\"97 min\",\"89 min\",\"92 min\",\"107 min\",\"86 min\",\"70 min\",\"66 min\",\"72 min\",\"111 min\",\"166 min\",\"135 min\",\"92 min\",\"87 min\",\"92 min\",\"89 min\",\"93 min\",\"90 min\",\"76 min\",\"86 min\",\"111 min\",\"124 min\",\"93 min\",\"139 min\",\"91 min\",\"86 min\",\"122 min\",\"96 min\",\"88 min\",\"93 min\",\"90 min\",\"103 min\",\"102 min\",\"105 min\",\"117 min\",\"126 min\",\"89 min\",\"82 min\",\"82 min\",\"98 min\",\"96 min\",\"108 min\",\"91 min\",\"163 min\",\"112 min\",\"137 min\",\"89 min\",\"86 min\",\"187 min\",\"109 min\",\"77 min\",\"84 min\",\"140 min\",\"68 min\",\"117 min\",\"105 min\",\"91 min\",\"104 min\",\"114 min\",\"112 min\",\"48 min\",\"95 min\",\"89 min\",\"108 min\",\"72 min\",\"109 min\",\"105 min\",\"92 min\",\"95 min\",\"108 min\",\"85 min\",\"126 min\",\"118 min\",\"125 min\",\"112 min\",\"96 min\",\"81 min\",\"81 min\",\"92 min\",\"127 min\",\"81 min\",\"133 min\",\"81 min\",\"108 min\",\"120 min\",\"149 min\",\"92 min\",\"96 min\",\"114 min\",\"77 min\",\"90 min\",\"24 min\",\"46 min\",\"24 min\",\"55 min\",\"24 min\",\"23 min\",\"24 min\",\"24 min\",\"106 min\",\"52 min\",\"127 min\",\"86 min\",\"131 min\",\"93 min\",\"97 min\",\"84 min\",\"83 min\",\"165 min\",\"154 min\",\"158 min\",\"89 min\",\"149 min\",\"96 min\",\"106 min\",\"128 min\",\"98 min\",\"99 min\",\"113 min\",\"71 min\",\"83 min\",\"129 min\",\"117 min\",\"93 min\",\"124 min\",\"177 min\",\"104 min\",\"113 min\",\"178 min\",\"90 min\",\"154 min\",\"122 min\",\"115 min\",\"126 min\",\"88 min\",\"99 min\",\"144 min\",\"111 min\",\"73 min\",\"81 min\",\"114 min\",\"112 min\",\"80 min\",\"24 min\",\"100 min\",\"96 min\",\"88 min\",\"95 min\",\"112 min\",\"112 min\",\"97 min\",\"97 min\",\"94 min\",\"97 min\",\"118 min\",\"95 min\",\"120 min\",\"84 min\",\"101 min\",\"103 min\",\"83 min\",\"107 min\",\"136 min\",\"96 min\",\"45 min\",\"92 min\",\"120 min\",\"119 min\",\"100 min\",\"92 min\",\"104 min\",\"93 min\",\"98 min\",\"80 min\",\"79 min\",\"122 min\",\"118 min\",\"89 min\",\"26 min\",\"62 min\",\"137 min\",\"121 min\",\"103 min\",\"92 min\",\"89 min\",\"97 min\",\"134 min\",\"116 min\",\"110 min\",\"88 min\",\"93 min\",\"72 min\",\"141 min\",\"82 min\",\"117 min\",\"118 min\",\"91 min\",\"105 min\",\"94 min\",\"137 min\",\"61 min\",\"86 min\",\"118 min\",\"173 min\",\"152 min\",\"99 min\",\"110 min\",\"116 min\",\"107 min\",\"109 min\",\"65 min\",\"32 min\",\"122 min\",\"228 min\",\"86 min\",\"72 min\",\"102 min\",\"140 min\",\"145 min\",\"126 min\",\"133 min\",\"141 min\",\"78 min\",\"150 min\",\"153 min\",\"83 min\",\"95 min\",\"93 min\",\"126 min\",\"95 min\",\"99 min\",\"93 min\",\"93 min\",\"88 min\",\"88 min\",\"195 min\",\"120 min\",\"77 min\",\"112 min\",\"121 min\",\"117 min\",\"90 min\",\"110 min\",\"86 min\",\"95 min\",\"101 min\",\"111 min\",\"54 min\",\"54 min\",\"54 min\",\"55 min\",\"54 min\",\"55 min\",\"55 min\",\"55 min\",\"55 min\",\"55 min\",\"102 min\",\"106 min\",\"69 min\",\"85 min\",\"146 min\",\"145 min\",\"103 min\",\"111 min\",\"125 min\",\"115 min\",\"168 min\",\"109 min\",\"148 min\",\"92 min\",\"91 min\",\"135 min\",\"71 min\",\"112 min\",\"128 min\",\"168 min\",\"45 min\",\"75 min\",\"71 min\",\"122 min\",\"97 min\",\"89 min\",\"98 min\",\"115 min\",\"96 min\",\"119 min\",\"105 min\",\"88 min\",\"94 min\",\"77 min\",\"143 min\",\"127 min\",\"92 min\",\"87 min\",\"83 min\",\"95 min\",\"96 min\",\"107 min\",\"100 min\",\"49 min\",\"94 min\",\"101 min\",\"89 min\",\"135 min\",\"107 min\",\"84 min\",\"110 min\",\"95 min\",\"66 min\",\"83 min\",\"86 min\",\"137 min\",\"87 min\",\"142 min\",\"94 min\",\"135 min\",\"135 min\",\"104 min\",\"97 min\",\"128 min\",\"109 min\",\"73 min\",\"106 min\",\"94 min\",\"85 min\",\"98 min\",\"96 min\",\"75 min\",\"139 min\",\"117 min\",\"95 min\",\"129 min\",\"94 min\",\"112 min\",\"88 min\",\"100 min\",\"83 min\",\"93 min\",\"103 min\",\"88 min\",\"86 min\",\"88 min\",\"152 min\",\"106 min\",\"52 min\",\"98 min\",\"89 min\",\"86 min\",\"106 min\",\"100 min\",\"91 min\",\"113 min\",\"100 min\",\"132 min\",\"96 min\",\"96 min\",\"113 min\",\"95 min\",\"85 min\",\"106 min\",\"117 min\",\"123 min\",\"78 min\",\"95 min\",\"135 min\",\"130 min\",\"115 min\",\"114 min\",\"107 min\",\"93 min\",\"94 min\",\"85 min\",\"63 min\",\"104 min\",\"127 min\",\"113 min\",\"91 min\",\"154 min\",\"82 min\",\"98 min\",\"103 min\",\"86 min\",\"92 min\",\"123 min\",\"116 min\",\"93 min\",\"97 min\",\"108 min\",\"101 min\",\"177 min\",\"95 min\",\"97 min\",\"111 min\",\"81 min\",\"89 min\",\"72 min\",\"112 min\",\"48 min\",\"81 min\",\"137 min\",\"89 min\",\"87 min\",\"88 min\",\"94 min\",\"125 min\",\"67 min\",\"108 min\",\"102 min\",\"109 min\",\"115 min\",\"98 min\",\"84 min\",\"133 min\",\"121 min\",\"100 min\",\"117 min\",\"78 min\",\"87 min\",\"88 min\",\"93 min\",\"107 min\",\"99 min\",\"140 min\",\"113 min\",\"89 min\",\"97 min\",\"97 min\",\"108 min\",\"80 min\",\"90 min\",\"117 min\",\"95 min\",\"86 min\",\"100 min\",\"87 min\",\"101 min\",\"83 min\",\"89 min\",\"18 min\",\"72 min\",\"95 min\",\"95 min\",\"98 min\",\"59 min\",\"118 min\",\"98 min\",\"111 min\",\"116 min\",\"97 min\",\"95 min\",\"122 min\",\"95 min\",\"93 min\",\"107 min\",\"119 min\",\"119 min\",\"97 min\",\"96 min\",\"103 min\",\"96 min\",\"106 min\",\"109 min\",\"112 min\",\"96 min\",\"60 min\",\"113 min\",\"126 min\",\"109 min\",\"93 min\",\"101 min\",\"111 min\",\"107 min\",\"100 min\",\"92 min\",\"103 min\",\"105 min\",\"103 min\",\"101 min\",\"123 min\",\"114 min\",\"101 min\",\"99 min\",\"102 min\",\"66 min\",\"112 min\",\"101 min\",\"99 min\",\"105 min\",\"93 min\",\"121 min\",\"75 min\",\"95 min\",\"100 min\",\"151 min\",\"78 min\",\"85 min\",\"69 min\",\"84 min\",\"88 min\",\"86 min\",\"121 min\",\"99 min\",\"110 min\",\"104 min\",\"95 min\",\"96 min\",\"106 min\",\"112 min\",\"85 min\",\"107 min\",\"76 min\",\"95 min\",\"88 min\",\"116 min\",\"121 min\",\"82 min\",\"87 min\",\"46 min\",\"103 min\",\"97 min\",\"91 min\",\"91 min\",\"101 min\",\"104 min\",\"92 min\",\"113 min\",\"89 min\",\"115 min\",\"84 min\",\"106 min\",\"124 min\",\"83 min\",\"107 min\",\"158 min\",\"95 min\",\"97 min\",\"97 min\",\"89 min\",\"161 min\",\"205 min\",\"123 min\",\"190 min\",\"136 min\",\"161 min\",\"133 min\",\"119 min\",\"94 min\",\"85 min\",\"108 min\",\"71 min\",\"147 min\",\"88 min\",\"99 min\",\"96 min\",\"97 min\",\"92 min\",\"79 min\",\"53 min\",\"94 min\",\"123 min\",\"103 min\",\"111 min\",\"123 min\",\"100 min\",\"75 min\",\"118 min\",\"96 min\",\"108 min\",\"99 min\",\"103 min\",\"99 min\",\"100 min\",\"105 min\",\"52 min\",\"106 min\",\"90 min\",\"95 min\",\"118 min\",\"98 min\",\"86 min\",\"84 min\",\"93 min\",\"88 min\",\"131 min\",\"44 min\",\"96 min\",\"70 min\",\"88 min\",\"87 min\",\"118 min\",\"89 min\",\"85 min\",\"107 min\",\"138 min\",\"119 min\",\"93 min\",\"87 min\",\"121 min\",\"95 min\",\"103 min\",\"201 min\",\"179 min\",\"87 min\",\"98 min\",\"82 min\",\"85 min\",\"90 min\",\"68 min\",\"138 min\",\"136 min\",\"138 min\",\"129 min\",\"116 min\",\"130 min\",\"40 min\",\"94 min\",\"104 min\",\"91 min\",\"70 min\",\"104 min\",\"115 min\",\"85 min\",\"85 min\",\"138 min\",\"40 min\",\"82 min\",\"90 min\",\"99 min\",\"91 min\",\"106 min\",\"108 min\",\"94 min\",\"87 min\",\"124 min\",\"141 min\",\"93 min\",\"103 min\",\"141 min\",\"155 min\",\"93 min\",\"78 min\",\"118 min\",\"88 min\",\"140 min\",\"124 min\",\"110 min\",\"100 min\",\"96 min\",\"116 min\",\"91 min\",\"111 min\",\"98 min\",\"125 min\",\"76 min\",\"117 min\",\"90 min\",\"119 min\",\"136 min\",\"52 min\",\"81 min\",\"77 min\",\"120 min\",\"102 min\",\"90 min\",\"90 min\",\"92 min\",\"93 min\",\"116 min\",\"107 min\",\"87 min\",\"111 min\",\"101 min\",\"91 min\",\"103 min\",\"120 min\",\"90 min\",\"92 min\",\"99 min\",\"124 min\",\"111 min\",\"32 min\",\"86 min\",\"104 min\",\"123 min\",\"105 min\",\"97 min\",\"97 min\",\"90 min\",\"163 min\",\"121 min\",\"120 min\",\"95 min\",\"84 min\",\"94 min\",\"94 min\",\"122 min\",\"90 min\",\"91 min\",\"89 min\",\"98 min\",\"106 min\",\"139 min\",\"83 min\",\"96 min\",\"94 min\",\"58 min\",\"96 min\",\"107 min\",\"104 min\",\"94 min\",\"108 min\",\"91 min\",\"58 min\",\"99 min\",\"96 min\",\"93 min\",\"106 min\",\"103 min\",\"91 min\",\"98 min\",\"111 min\",\"112 min\",\"90 min\",\"101 min\",\"98 min\",\"92 min\",\"88 min\",\"47 min\",\"100 min\",\"114 min\",\"128 min\",\"53 min\",\"89 min\",\"83 min\",\"85 min\",\"94 min\",\"104 min\",\"89 min\",\"86 min\",\"107 min\",\"77 min\",\"123 min\",\"122 min\",\"131 min\",\"77 min\",\"125 min\",\"125 min\",\"88 min\",\"96 min\",\"93 min\",\"42 min\",\"108 min\",\"151 min\",\"125 min\",\"78 min\",\"97 min\",\"84 min\",\"108 min\",\"89 min\",\"60 min\",\"119 min\",\"87 min\",\"104 min\",\"94 min\",\"94 min\",\"130 min\",\"88 min\",\"118 min\",\"94 min\",\"114 min\",\"119 min\",\"114 min\",\"94 min\",\"82 min\",\"82 min\",\"96 min\",\"100 min\",\"104 min\",\"101 min\",\"99 min\",\"98 min\",\"100 min\",\"134 min\",\"173 min\",\"113 min\",\"91 min\",\"110 min\",\"90 min\",\"128 min\",\"108 min\",\"124 min\",\"89 min\",\"162 min\",\"76 min\",\"96 min\",\"102 min\",\"53 min\",\"86 min\",\"89 min\",\"80 min\",\"95 min\",\"78 min\",\"90 min\",\"125 min\",\"94 min\",\"90 min\",\"104 min\",\"40 min\",\"108 min\",\"94 min\",\"61 min\",\"94 min\",\"105 min\",\"83 min\",\"110 min\",\"121 min\",\"95 min\",\"130 min\",\"132 min\",\"90 min\",\"117 min\",\"130 min\",\"78 min\",\"106 min\",\"110 min\",\"91 min\",\"113 min\",\"101 min\",\"125 min\",\"116 min\",\"106 min\",\"113 min\",\"99 min\",\"130 min\",\"120 min\",\"94 min\",\"94 min\",\"109 min\",\"94 min\",\"96 min\",\"103 min\",\"109 min\",\"147 min\",\"98 min\",\"73 min\",\"92 min\",\"78 min\",\"68 min\",\"96 min\",\"83 min\",\"91 min\",\"93 min\",\"38 min\",\"94 min\",\"91 min\",\"95 min\",\"124 min\",\"73 min\",\"108 min\",\"84 min\",\"93 min\",\"96 min\",\"102 min\",\"130 min\",\"52 min\",\"91 min\",\"110 min\",\"75 min\",\"103 min\",\"89 min\",\"86 min\",\"97 min\",\"89 min\",\"91 min\",\"78 min\",\"90 min\",\"50 min\",\"84 min\",\"82 min\",\"106 min\",\"105 min\",\"105 min\",\"100 min\",\"85 min\",\"86 min\",\"100 min\",\"106 min\",\"108 min\",\"74 min\",\"109 min\",\"97 min\",\"129 min\",\"49 min\",\"93 min\",\"133 min\",\"140 min\",\"45 min\",\"191 min\",\"81 min\",\"124 min\",\"101 min\",\"106 min\",\"137 min\",\"171 min\",\"132 min\",\"147 min\",\"151 min\",\"97 min\",\"90 min\",\"111 min\",\"112 min\",\"107 min\",\"96 min\",\"88 min\",\"78 min\",\"87 min\",\"85 min\",\"157 min\",\"116 min\",\"113 min\",\"94 min\",\"81 min\",\"88 min\",\"98 min\",\"131 min\",\"120 min\",\"96 min\",\"158 min\",\"88 min\",\"88 min\",\"111 min\"],\"y0\":\" \",\"yaxis\":\"y\",\"type\":\"box\"}],                        {\"template\":{\"data\":{\"barpolar\":[{\"marker\":{\"line\":{\"color\":\"rgb(17,17,17)\",\"width\":0.5},\"pattern\":{\"fillmode\":\"overlay\",\"size\":10,\"solidity\":0.2}},\"type\":\"barpolar\"}],\"bar\":[{\"error_x\":{\"color\":\"#f2f5fa\"},\"error_y\":{\"color\":\"#f2f5fa\"},\"marker\":{\"line\":{\"color\":\"rgb(17,17,17)\",\"width\":0.5},\"pattern\":{\"fillmode\":\"overlay\",\"size\":10,\"solidity\":0.2}},\"type\":\"bar\"}],\"carpet\":[{\"aaxis\":{\"endlinecolor\":\"#A2B1C6\",\"gridcolor\":\"#506784\",\"linecolor\":\"#506784\",\"minorgridcolor\":\"#506784\",\"startlinecolor\":\"#A2B1C6\"},\"baxis\":{\"endlinecolor\":\"#A2B1C6\",\"gridcolor\":\"#506784\",\"linecolor\":\"#506784\",\"minorgridcolor\":\"#506784\",\"startlinecolor\":\"#A2B1C6\"},\"type\":\"carpet\"}],\"choropleth\":[{\"colorbar\":{\"outlinewidth\":0,\"ticks\":\"\"},\"type\":\"choropleth\"}],\"contourcarpet\":[{\"colorbar\":{\"outlinewidth\":0,\"ticks\":\"\"},\"type\":\"contourcarpet\"}],\"contour\":[{\"colorbar\":{\"outlinewidth\":0,\"ticks\":\"\"},\"colorscale\":[[0.0,\"#0d0887\"],[0.1111111111111111,\"#46039f\"],[0.2222222222222222,\"#7201a8\"],[0.3333333333333333,\"#9c179e\"],[0.4444444444444444,\"#bd3786\"],[0.5555555555555556,\"#d8576b\"],[0.6666666666666666,\"#ed7953\"],[0.7777777777777778,\"#fb9f3a\"],[0.8888888888888888,\"#fdca26\"],[1.0,\"#f0f921\"]],\"type\":\"contour\"}],\"heatmapgl\":[{\"colorbar\":{\"outlinewidth\":0,\"ticks\":\"\"},\"colorscale\":[[0.0,\"#0d0887\"],[0.1111111111111111,\"#46039f\"],[0.2222222222222222,\"#7201a8\"],[0.3333333333333333,\"#9c179e\"],[0.4444444444444444,\"#bd3786\"],[0.5555555555555556,\"#d8576b\"],[0.6666666666666666,\"#ed7953\"],[0.7777777777777778,\"#fb9f3a\"],[0.8888888888888888,\"#fdca26\"],[1.0,\"#f0f921\"]],\"type\":\"heatmapgl\"}],\"heatmap\":[{\"colorbar\":{\"outlinewidth\":0,\"ticks\":\"\"},\"colorscale\":[[0.0,\"#0d0887\"],[0.1111111111111111,\"#46039f\"],[0.2222222222222222,\"#7201a8\"],[0.3333333333333333,\"#9c179e\"],[0.4444444444444444,\"#bd3786\"],[0.5555555555555556,\"#d8576b\"],[0.6666666666666666,\"#ed7953\"],[0.7777777777777778,\"#fb9f3a\"],[0.8888888888888888,\"#fdca26\"],[1.0,\"#f0f921\"]],\"type\":\"heatmap\"}],\"histogram2dcontour\":[{\"colorbar\":{\"outlinewidth\":0,\"ticks\":\"\"},\"colorscale\":[[0.0,\"#0d0887\"],[0.1111111111111111,\"#46039f\"],[0.2222222222222222,\"#7201a8\"],[0.3333333333333333,\"#9c179e\"],[0.4444444444444444,\"#bd3786\"],[0.5555555555555556,\"#d8576b\"],[0.6666666666666666,\"#ed7953\"],[0.7777777777777778,\"#fb9f3a\"],[0.8888888888888888,\"#fdca26\"],[1.0,\"#f0f921\"]],\"type\":\"histogram2dcontour\"}],\"histogram2d\":[{\"colorbar\":{\"outlinewidth\":0,\"ticks\":\"\"},\"colorscale\":[[0.0,\"#0d0887\"],[0.1111111111111111,\"#46039f\"],[0.2222222222222222,\"#7201a8\"],[0.3333333333333333,\"#9c179e\"],[0.4444444444444444,\"#bd3786\"],[0.5555555555555556,\"#d8576b\"],[0.6666666666666666,\"#ed7953\"],[0.7777777777777778,\"#fb9f3a\"],[0.8888888888888888,\"#fdca26\"],[1.0,\"#f0f921\"]],\"type\":\"histogram2d\"}],\"histogram\":[{\"marker\":{\"pattern\":{\"fillmode\":\"overlay\",\"size\":10,\"solidity\":0.2}},\"type\":\"histogram\"}],\"mesh3d\":[{\"colorbar\":{\"outlinewidth\":0,\"ticks\":\"\"},\"type\":\"mesh3d\"}],\"parcoords\":[{\"line\":{\"colorbar\":{\"outlinewidth\":0,\"ticks\":\"\"}},\"type\":\"parcoords\"}],\"pie\":[{\"automargin\":true,\"type\":\"pie\"}],\"scatter3d\":[{\"line\":{\"colorbar\":{\"outlinewidth\":0,\"ticks\":\"\"}},\"marker\":{\"colorbar\":{\"outlinewidth\":0,\"ticks\":\"\"}},\"type\":\"scatter3d\"}],\"scattercarpet\":[{\"marker\":{\"colorbar\":{\"outlinewidth\":0,\"ticks\":\"\"}},\"type\":\"scattercarpet\"}],\"scattergeo\":[{\"marker\":{\"colorbar\":{\"outlinewidth\":0,\"ticks\":\"\"}},\"type\":\"scattergeo\"}],\"scattergl\":[{\"marker\":{\"line\":{\"color\":\"#283442\"}},\"type\":\"scattergl\"}],\"scattermapbox\":[{\"marker\":{\"colorbar\":{\"outlinewidth\":0,\"ticks\":\"\"}},\"type\":\"scattermapbox\"}],\"scatterpolargl\":[{\"marker\":{\"colorbar\":{\"outlinewidth\":0,\"ticks\":\"\"}},\"type\":\"scatterpolargl\"}],\"scatterpolar\":[{\"marker\":{\"colorbar\":{\"outlinewidth\":0,\"ticks\":\"\"}},\"type\":\"scatterpolar\"}],\"scatter\":[{\"marker\":{\"line\":{\"color\":\"#283442\"}},\"type\":\"scatter\"}],\"scatterternary\":[{\"marker\":{\"colorbar\":{\"outlinewidth\":0,\"ticks\":\"\"}},\"type\":\"scatterternary\"}],\"surface\":[{\"colorbar\":{\"outlinewidth\":0,\"ticks\":\"\"},\"colorscale\":[[0.0,\"#0d0887\"],[0.1111111111111111,\"#46039f\"],[0.2222222222222222,\"#7201a8\"],[0.3333333333333333,\"#9c179e\"],[0.4444444444444444,\"#bd3786\"],[0.5555555555555556,\"#d8576b\"],[0.6666666666666666,\"#ed7953\"],[0.7777777777777778,\"#fb9f3a\"],[0.8888888888888888,\"#fdca26\"],[1.0,\"#f0f921\"]],\"type\":\"surface\"}],\"table\":[{\"cells\":{\"fill\":{\"color\":\"#506784\"},\"line\":{\"color\":\"rgb(17,17,17)\"}},\"header\":{\"fill\":{\"color\":\"#2a3f5f\"},\"line\":{\"color\":\"rgb(17,17,17)\"}},\"type\":\"table\"}]},\"layout\":{\"annotationdefaults\":{\"arrowcolor\":\"#f2f5fa\",\"arrowhead\":0,\"arrowwidth\":1},\"autotypenumbers\":\"strict\",\"coloraxis\":{\"colorbar\":{\"outlinewidth\":0,\"ticks\":\"\"}},\"colorscale\":{\"diverging\":[[0,\"#8e0152\"],[0.1,\"#c51b7d\"],[0.2,\"#de77ae\"],[0.3,\"#f1b6da\"],[0.4,\"#fde0ef\"],[0.5,\"#f7f7f7\"],[0.6,\"#e6f5d0\"],[0.7,\"#b8e186\"],[0.8,\"#7fbc41\"],[0.9,\"#4d9221\"],[1,\"#276419\"]],\"sequential\":[[0.0,\"#0d0887\"],[0.1111111111111111,\"#46039f\"],[0.2222222222222222,\"#7201a8\"],[0.3333333333333333,\"#9c179e\"],[0.4444444444444444,\"#bd3786\"],[0.5555555555555556,\"#d8576b\"],[0.6666666666666666,\"#ed7953\"],[0.7777777777777778,\"#fb9f3a\"],[0.8888888888888888,\"#fdca26\"],[1.0,\"#f0f921\"]],\"sequentialminus\":[[0.0,\"#0d0887\"],[0.1111111111111111,\"#46039f\"],[0.2222222222222222,\"#7201a8\"],[0.3333333333333333,\"#9c179e\"],[0.4444444444444444,\"#bd3786\"],[0.5555555555555556,\"#d8576b\"],[0.6666666666666666,\"#ed7953\"],[0.7777777777777778,\"#fb9f3a\"],[0.8888888888888888,\"#fdca26\"],[1.0,\"#f0f921\"]]},\"colorway\":[\"#636efa\",\"#EF553B\",\"#00cc96\",\"#ab63fa\",\"#FFA15A\",\"#19d3f3\",\"#FF6692\",\"#B6E880\",\"#FF97FF\",\"#FECB52\"],\"font\":{\"color\":\"#f2f5fa\"},\"geo\":{\"bgcolor\":\"rgb(17,17,17)\",\"lakecolor\":\"rgb(17,17,17)\",\"landcolor\":\"rgb(17,17,17)\",\"showlakes\":true,\"showland\":true,\"subunitcolor\":\"#506784\"},\"hoverlabel\":{\"align\":\"left\"},\"hovermode\":\"closest\",\"mapbox\":{\"style\":\"dark\"},\"paper_bgcolor\":\"rgb(17,17,17)\",\"plot_bgcolor\":\"rgb(17,17,17)\",\"polar\":{\"angularaxis\":{\"gridcolor\":\"#506784\",\"linecolor\":\"#506784\",\"ticks\":\"\"},\"bgcolor\":\"rgb(17,17,17)\",\"radialaxis\":{\"gridcolor\":\"#506784\",\"linecolor\":\"#506784\",\"ticks\":\"\"}},\"scene\":{\"xaxis\":{\"backgroundcolor\":\"rgb(17,17,17)\",\"gridcolor\":\"#506784\",\"gridwidth\":2,\"linecolor\":\"#506784\",\"showbackground\":true,\"ticks\":\"\",\"zerolinecolor\":\"#C8D4E3\"},\"yaxis\":{\"backgroundcolor\":\"rgb(17,17,17)\",\"gridcolor\":\"#506784\",\"gridwidth\":2,\"linecolor\":\"#506784\",\"showbackground\":true,\"ticks\":\"\",\"zerolinecolor\":\"#C8D4E3\"},\"zaxis\":{\"backgroundcolor\":\"rgb(17,17,17)\",\"gridcolor\":\"#506784\",\"gridwidth\":2,\"linecolor\":\"#506784\",\"showbackground\":true,\"ticks\":\"\",\"zerolinecolor\":\"#C8D4E3\"}},\"shapedefaults\":{\"line\":{\"color\":\"#f2f5fa\"}},\"sliderdefaults\":{\"bgcolor\":\"#C8D4E3\",\"bordercolor\":\"rgb(17,17,17)\",\"borderwidth\":1,\"tickwidth\":0},\"ternary\":{\"aaxis\":{\"gridcolor\":\"#506784\",\"linecolor\":\"#506784\",\"ticks\":\"\"},\"baxis\":{\"gridcolor\":\"#506784\",\"linecolor\":\"#506784\",\"ticks\":\"\"},\"bgcolor\":\"rgb(17,17,17)\",\"caxis\":{\"gridcolor\":\"#506784\",\"linecolor\":\"#506784\",\"ticks\":\"\"}},\"title\":{\"x\":0.05},\"updatemenudefaults\":{\"bgcolor\":\"#506784\",\"borderwidth\":0},\"xaxis\":{\"automargin\":true,\"gridcolor\":\"#283442\",\"linecolor\":\"#506784\",\"ticks\":\"\",\"title\":{\"standoff\":15},\"zerolinecolor\":\"#283442\",\"zerolinewidth\":2},\"yaxis\":{\"automargin\":true,\"gridcolor\":\"#283442\",\"linecolor\":\"#506784\",\"ticks\":\"\",\"title\":{\"standoff\":15},\"zerolinecolor\":\"#283442\",\"zerolinewidth\":2}}},\"xaxis\":{\"anchor\":\"y\",\"domain\":[0.0,1.0]},\"yaxis\":{\"anchor\":\"x\",\"domain\":[0.0,1.0],\"title\":{\"text\":\"duration\"}},\"legend\":{\"tracegroupgap\":0},\"margin\":{\"t\":60},\"boxmode\":\"group\",\"height\":400,\"width\":900},                        {\"responsive\": true}                    ).then(function(){\n",
              "                            \n",
              "var gd = document.getElementById('8a9ac27c-4ef2-4541-98a1-af55cd30cfe2');\n",
              "var x = new MutationObserver(function (mutations, observer) {{\n",
              "        var display = window.getComputedStyle(gd).display;\n",
              "        if (!display || display === 'none') {{\n",
              "            console.log([gd, 'removed!']);\n",
              "            Plotly.purge(gd);\n",
              "            observer.disconnect();\n",
              "        }}\n",
              "}});\n",
              "\n",
              "// Listen for the removal of the full notebook cells\n",
              "var notebookContainer = gd.closest('#notebook-container');\n",
              "if (notebookContainer) {{\n",
              "    x.observe(notebookContainer, {childList: true});\n",
              "}}\n",
              "\n",
              "// Listen for the clearing of the current output cell\n",
              "var outputEl = gd.closest('.output');\n",
              "if (outputEl) {{\n",
              "    x.observe(outputEl, {childList: true});\n",
              "}}\n",
              "\n",
              "                        })                };                            </script>        </div>\n",
              "</body>\n",
              "</html>"
            ]
          },
          "metadata": {}
        }
      ]
    },
    {
      "cell_type": "markdown",
      "source": [
        "The box plot shows us the duration of movies on the streaming platform, with the median being 92 minutes. The upper fence, which is the maximum value still within the range of normal data, is 26 minutes, while the maximum duration of a movie on the platform is 191 minutes. On the other hand, the minimum duration of a movie is 90 minutes, with the first quartile (Q1) being 116 minutes, and the third quartile (Q3) being 140 minutes. This suggests that most movies on the platform tend to be around the same length, with a few outliers on either end."
      ],
      "metadata": {
        "id": "1M_An2VfFLpz"
      }
    },
    {
      "cell_type": "markdown",
      "source": [
        "**Histogram for duration of tv series**"
      ],
      "metadata": {
        "id": "GrhJmGCx5wVA"
      }
    },
    {
      "cell_type": "code",
      "source": [
        "# Filter the data to only show movies\n",
        "shows_df = df[df[\"type\"] == \"TV Show\"]\n",
        "\n",
        "# Make the box plot\n",
        "fig = px.histogram(shows_df, y=\"duration\")\n",
        "fig.show()"
      ],
      "metadata": {
        "colab": {
          "base_uri": "https://localhost:8080/",
          "height": 417
        },
        "outputId": "f6de4350-6eaf-4b67-b515-33131ec3791b",
        "id": "8gfdR-955wVB"
      },
      "execution_count": null,
      "outputs": [
        {
          "output_type": "display_data",
          "data": {
            "text/html": [
              "<html>\n",
              "<head><meta charset=\"utf-8\" /></head>\n",
              "<body>\n",
              "    <div>            <script src=\"https://cdnjs.cloudflare.com/ajax/libs/mathjax/2.7.5/MathJax.js?config=TeX-AMS-MML_SVG\"></script><script type=\"text/javascript\">if (window.MathJax) {MathJax.Hub.Config({SVG: {font: \"STIX-Web\"}});}</script>                <script type=\"text/javascript\">window.PlotlyConfig = {MathJaxConfig: 'local'};</script>\n",
              "        <script src=\"https://cdn.plot.ly/plotly-2.8.3.min.js\"></script>                <div id=\"eeffe385-c460-4140-88cb-b506fb8ae448\" class=\"plotly-graph-div\" style=\"height:400px; width:900px;\"></div>            <script type=\"text/javascript\">                                    window.PLOTLYENV=window.PLOTLYENV || {};                                    if (document.getElementById(\"eeffe385-c460-4140-88cb-b506fb8ae448\")) {                    Plotly.newPlot(                        \"eeffe385-c460-4140-88cb-b506fb8ae448\",                        [{\"alignmentgroup\":\"True\",\"bingroup\":\"y\",\"hovertemplate\":\"count=%{x}<br>duration=%{y}<extra></extra>\",\"legendgroup\":\"\",\"marker\":{\"color\":\"#636efa\",\"pattern\":{\"shape\":\"\"}},\"name\":\"\",\"offsetgroup\":\"\",\"orientation\":\"h\",\"showlegend\":false,\"xaxis\":\"x\",\"y\":[\"2 Seasons\",\"1 Season\",\"1 Season\",\"2 Seasons\",\"1 Season\",\"9 Seasons\",\"1 Season\",\"1 Season\",\"1 Season\",\"4 Seasons\",\"2 Seasons\",\"1 Season\",\"1 Season\",\"5 Seasons\",\"2 Seasons\",\"1 Season\",\"3 Seasons\",\"1 Season\",\"1 Season\",\"1 Season\",\"3 Seasons\",\"1 Season\",\"1 Season\",\"2 Seasons\",\"1 Season\",\"6 Seasons\",\"6 Seasons\",\"1 Season\",\"9 Seasons\",\"1 Season\",\"1 Season\",\"5 Seasons\",\"2 Seasons\",\"1 Season\",\"6 Seasons\",\"1 Season\",\"1 Season\",\"2 Seasons\",\"4 Seasons\",\"2 Seasons\",\"3 Seasons\",\"2 Seasons\",\"1 Season\",\"1 Season\",\"2 Seasons\",\"1 Season\",\"2 Seasons\",\"5 Seasons\",\"1 Season\",\"5 Seasons\",\"1 Season\",\"1 Season\",\"1 Season\",\"1 Season\",\"1 Season\",\"3 Seasons\",\"1 Season\",\"1 Season\",\"1 Season\",\"1 Season\",\"2 Seasons\",\"3 Seasons\",\"4 Seasons\",\"1 Season\",\"1 Season\",\"1 Season\",\"1 Season\",\"1 Season\",\"2 Seasons\",\"1 Season\",\"1 Season\",\"1 Season\",\"1 Season\",\"2 Seasons\",\"3 Seasons\",\"1 Season\",\"1 Season\",\"4 Seasons\",\"1 Season\",\"1 Season\",\"1 Season\",\"1 Season\",\"1 Season\",\"3 Seasons\",\"1 Season\",\"3 Seasons\",\"1 Season\",\"1 Season\",\"1 Season\",\"1 Season\",\"5 Seasons\",\"1 Season\",\"2 Seasons\",\"1 Season\",\"1 Season\",\"2 Seasons\",\"1 Season\",\"5 Seasons\",\"1 Season\",\"7 Seasons\",\"1 Season\",\"2 Seasons\",\"1 Season\",\"1 Season\",\"2 Seasons\",\"1 Season\",\"1 Season\",\"1 Season\",\"1 Season\",\"1 Season\",\"1 Season\",\"3 Seasons\",\"1 Season\",\"2 Seasons\",\"1 Season\",\"1 Season\",\"1 Season\",\"1 Season\",\"1 Season\",\"1 Season\",\"1 Season\",\"7 Seasons\",\"3 Seasons\",\"1 Season\",\"5 Seasons\",\"6 Seasons\",\"3 Seasons\",\"1 Season\",\"3 Seasons\",\"1 Season\",\"1 Season\",\"2 Seasons\",\"1 Season\",\"1 Season\",\"7 Seasons\",\"1 Season\",\"3 Seasons\",\"3 Seasons\",\"4 Seasons\",\"1 Season\",\"10 Seasons\",\"4 Seasons\",\"1 Season\",\"1 Season\",\"1 Season\",\"2 Seasons\",\"2 Seasons\",\"5 Seasons\",\"1 Season\",\"1 Season\",\"1 Season\",\"1 Season\",\"3 Seasons\",\"1 Season\",\"1 Season\",\"2 Seasons\",\"1 Season\",\"2 Seasons\",\"1 Season\",\"1 Season\",\"1 Season\",\"4 Seasons\",\"2 Seasons\",\"1 Season\",\"1 Season\",\"3 Seasons\",\"1 Season\",\"1 Season\",\"1 Season\",\"2 Seasons\",\"2 Seasons\",\"1 Season\",\"3 Seasons\",\"2 Seasons\",\"2 Seasons\",\"4 Seasons\",\"3 Seasons\",\"5 Seasons\",\"2 Seasons\",\"2 Seasons\",\"2 Seasons\",\"2 Seasons\",\"2 Seasons\",\"5 Seasons\",\"3 Seasons\",\"3 Seasons\",\"2 Seasons\",\"8 Seasons\",\"7 Seasons\",\"2 Seasons\",\"2 Seasons\",\"3 Seasons\",\"3 Seasons\",\"2 Seasons\",\"3 Seasons\",\"6 Seasons\",\"2 Seasons\",\"2 Seasons\",\"4 Seasons\",\"2 Seasons\",\"5 Seasons\",\"3 Seasons\",\"1 Season\",\"1 Season\",\"17 Seasons\",\"1 Season\",\"2 Seasons\",\"1 Season\",\"1 Season\",\"1 Season\",\"1 Season\",\"1 Season\",\"3 Seasons\",\"1 Season\",\"1 Season\",\"1 Season\",\"1 Season\",\"1 Season\",\"1 Season\",\"4 Seasons\",\"5 Seasons\",\"1 Season\",\"1 Season\",\"1 Season\",\"1 Season\",\"2 Seasons\",\"1 Season\",\"2 Seasons\",\"1 Season\",\"2 Seasons\",\"1 Season\",\"1 Season\",\"4 Seasons\",\"4 Seasons\",\"1 Season\",\"1 Season\",\"2 Seasons\",\"2 Seasons\",\"1 Season\",\"6 Seasons\",\"3 Seasons\",\"5 Seasons\",\"1 Season\",\"2 Seasons\",\"1 Season\",\"4 Seasons\",\"6 Seasons\",\"1 Season\",\"1 Season\",\"1 Season\",\"1 Season\",\"1 Season\",\"4 Seasons\",\"2 Seasons\",\"1 Season\",\"1 Season\",\"2 Seasons\",\"1 Season\",\"1 Season\",\"1 Season\",\"3 Seasons\",\"1 Season\",\"1 Season\",\"3 Seasons\",\"1 Season\",\"1 Season\",\"1 Season\",\"1 Season\",\"1 Season\",\"2 Seasons\",\"1 Season\",\"1 Season\",\"1 Season\",\"2 Seasons\",\"2 Seasons\",\"2 Seasons\",\"1 Season\",\"1 Season\",\"1 Season\",\"2 Seasons\",\"2 Seasons\",\"1 Season\",\"2 Seasons\",\"1 Season\",\"1 Season\",\"1 Season\",\"1 Season\",\"2 Seasons\",\"1 Season\",\"2 Seasons\",\"3 Seasons\",\"6 Seasons\",\"3 Seasons\",\"1 Season\",\"1 Season\",\"1 Season\",\"3 Seasons\",\"2 Seasons\",\"3 Seasons\",\"2 Seasons\",\"1 Season\",\"1 Season\",\"1 Season\",\"2 Seasons\",\"1 Season\",\"3 Seasons\",\"1 Season\",\"3 Seasons\",\"3 Seasons\",\"2 Seasons\",\"2 Seasons\",\"1 Season\",\"2 Seasons\",\"1 Season\",\"1 Season\",\"1 Season\",\"3 Seasons\",\"2 Seasons\",\"1 Season\",\"1 Season\",\"4 Seasons\",\"1 Season\",\"1 Season\",\"1 Season\",\"1 Season\",\"1 Season\",\"2 Seasons\",\"1 Season\",\"1 Season\",\"2 Seasons\",\"3 Seasons\",\"2 Seasons\",\"2 Seasons\",\"2 Seasons\",\"1 Season\",\"1 Season\",\"1 Season\",\"2 Seasons\",\"1 Season\",\"1 Season\",\"1 Season\",\"1 Season\",\"1 Season\",\"1 Season\",\"1 Season\",\"1 Season\",\"2 Seasons\",\"2 Seasons\",\"3 Seasons\",\"1 Season\",\"1 Season\",\"1 Season\",\"1 Season\",\"1 Season\",\"7 Seasons\",\"1 Season\",\"1 Season\",\"1 Season\",\"3 Seasons\",\"1 Season\",\"2 Seasons\",\"1 Season\",\"1 Season\",\"1 Season\",\"6 Seasons\",\"1 Season\",\"1 Season\",\"1 Season\",\"1 Season\",\"1 Season\",\"3 Seasons\",\"1 Season\",\"1 Season\",\"1 Season\",\"1 Season\",\"4 Seasons\",\"1 Season\",\"1 Season\",\"1 Season\",\"2 Seasons\",\"1 Season\",\"1 Season\",\"1 Season\",\"2 Seasons\",\"2 Seasons\",\"2 Seasons\",\"2 Seasons\",\"1 Season\",\"1 Season\",\"2 Seasons\",\"1 Season\",\"1 Season\",\"4 Seasons\",\"1 Season\",\"1 Season\",\"1 Season\",\"1 Season\",\"6 Seasons\",\"1 Season\",\"4 Seasons\",\"2 Seasons\",\"1 Season\",\"3 Seasons\",\"2 Seasons\",\"1 Season\",\"1 Season\",\"1 Season\",\"1 Season\",\"1 Season\",\"2 Seasons\",\"3 Seasons\",\"1 Season\",\"1 Season\",\"1 Season\",\"1 Season\",\"1 Season\",\"1 Season\",\"1 Season\",\"1 Season\",\"1 Season\",\"4 Seasons\",\"1 Season\",\"1 Season\",\"5 Seasons\",\"1 Season\",\"1 Season\",\"1 Season\",\"3 Seasons\",\"1 Season\",\"1 Season\",\"1 Season\",\"1 Season\",\"2 Seasons\",\"1 Season\",\"1 Season\",\"1 Season\",\"1 Season\",\"1 Season\",\"1 Season\",\"1 Season\",\"1 Season\",\"1 Season\",\"4 Seasons\",\"3 Seasons\",\"4 Seasons\",\"1 Season\",\"1 Season\",\"2 Seasons\",\"1 Season\",\"1 Season\",\"1 Season\",\"1 Season\",\"1 Season\",\"2 Seasons\",\"3 Seasons\",\"2 Seasons\",\"1 Season\",\"1 Season\",\"1 Season\",\"2 Seasons\",\"2 Seasons\",\"13 Seasons\",\"1 Season\",\"1 Season\",\"1 Season\",\"1 Season\",\"7 Seasons\",\"2 Seasons\",\"2 Seasons\",\"1 Season\",\"1 Season\",\"2 Seasons\",\"4 Seasons\",\"1 Season\",\"2 Seasons\",\"3 Seasons\",\"1 Season\",\"1 Season\",\"1 Season\",\"4 Seasons\",\"1 Season\",\"4 Seasons\",\"3 Seasons\",\"3 Seasons\",\"5 Seasons\",\"1 Season\",\"4 Seasons\",\"5 Seasons\",\"1 Season\",\"1 Season\",\"2 Seasons\",\"1 Season\",\"1 Season\",\"3 Seasons\",\"1 Season\",\"1 Season\",\"3 Seasons\",\"2 Seasons\",\"1 Season\",\"1 Season\",\"2 Seasons\",\"1 Season\",\"1 Season\",\"2 Seasons\",\"4 Seasons\",\"1 Season\",\"1 Season\",\"1 Season\",\"1 Season\",\"9 Seasons\",\"1 Season\",\"1 Season\",\"1 Season\",\"2 Seasons\",\"1 Season\",\"1 Season\",\"1 Season\",\"2 Seasons\",\"1 Season\",\"1 Season\",\"2 Seasons\",\"1 Season\",\"2 Seasons\",\"1 Season\",\"1 Season\",\"1 Season\",\"1 Season\",\"1 Season\",\"1 Season\",\"1 Season\",\"1 Season\",\"2 Seasons\",\"2 Seasons\",\"2 Seasons\",\"2 Seasons\",\"2 Seasons\",\"2 Seasons\",\"1 Season\",\"1 Season\",\"2 Seasons\",\"1 Season\",\"1 Season\",\"1 Season\",\"4 Seasons\",\"1 Season\",\"2 Seasons\",\"3 Seasons\",\"1 Season\",\"1 Season\",\"3 Seasons\",\"1 Season\",\"1 Season\",\"1 Season\",\"1 Season\",\"1 Season\",\"4 Seasons\",\"1 Season\",\"3 Seasons\",\"1 Season\",\"2 Seasons\",\"2 Seasons\",\"1 Season\",\"2 Seasons\",\"4 Seasons\",\"1 Season\",\"10 Seasons\",\"1 Season\",\"1 Season\",\"1 Season\",\"1 Season\",\"1 Season\",\"1 Season\",\"7 Seasons\",\"1 Season\",\"2 Seasons\",\"2 Seasons\",\"1 Season\",\"1 Season\",\"1 Season\",\"3 Seasons\",\"1 Season\",\"1 Season\",\"1 Season\",\"1 Season\",\"4 Seasons\",\"1 Season\",\"2 Seasons\",\"1 Season\",\"2 Seasons\",\"2 Seasons\",\"4 Seasons\",\"9 Seasons\",\"1 Season\",\"1 Season\",\"1 Season\",\"1 Season\",\"1 Season\",\"1 Season\",\"1 Season\",\"1 Season\",\"1 Season\",\"1 Season\",\"1 Season\",\"1 Season\",\"1 Season\",\"1 Season\",\"1 Season\",\"1 Season\",\"2 Seasons\",\"1 Season\",\"6 Seasons\",\"1 Season\",\"3 Seasons\",\"1 Season\",\"1 Season\",\"2 Seasons\",\"10 Seasons\",\"1 Season\",\"4 Seasons\",\"1 Season\",\"2 Seasons\",\"1 Season\",\"1 Season\",\"2 Seasons\",\"7 Seasons\",\"4 Seasons\",\"3 Seasons\",\"1 Season\",\"4 Seasons\",\"1 Season\",\"1 Season\",\"1 Season\",\"1 Season\",\"1 Season\",\"3 Seasons\",\"2 Seasons\",\"1 Season\",\"1 Season\",\"1 Season\",\"1 Season\",\"3 Seasons\",\"4 Seasons\",\"4 Seasons\",\"5 Seasons\",\"2 Seasons\",\"1 Season\",\"1 Season\",\"3 Seasons\",\"1 Season\",\"1 Season\",\"1 Season\",\"1 Season\",\"7 Seasons\",\"1 Season\",\"1 Season\",\"1 Season\",\"1 Season\",\"1 Season\",\"1 Season\",\"3 Seasons\",\"1 Season\",\"1 Season\",\"2 Seasons\",\"1 Season\",\"1 Season\",\"1 Season\",\"1 Season\",\"3 Seasons\",\"5 Seasons\",\"1 Season\",\"1 Season\",\"3 Seasons\",\"4 Seasons\",\"8 Seasons\",\"1 Season\",\"4 Seasons\",\"4 Seasons\",\"1 Season\",\"3 Seasons\",\"1 Season\",\"1 Season\",\"4 Seasons\",\"1 Season\",\"1 Season\",\"1 Season\",\"1 Season\",\"7 Seasons\",\"1 Season\",\"1 Season\",\"3 Seasons\",\"1 Season\",\"2 Seasons\",\"2 Seasons\",\"1 Season\",\"9 Seasons\",\"2 Seasons\",\"2 Seasons\",\"2 Seasons\",\"8 Seasons\",\"1 Season\",\"1 Season\",\"5 Seasons\",\"1 Season\",\"1 Season\",\"1 Season\",\"1 Season\",\"2 Seasons\",\"1 Season\",\"1 Season\",\"2 Seasons\",\"1 Season\",\"1 Season\",\"1 Season\",\"2 Seasons\",\"1 Season\",\"3 Seasons\",\"1 Season\",\"1 Season\",\"4 Seasons\",\"1 Season\",\"6 Seasons\",\"1 Season\",\"2 Seasons\",\"1 Season\",\"1 Season\",\"3 Seasons\",\"1 Season\",\"1 Season\",\"1 Season\",\"2 Seasons\",\"1 Season\",\"1 Season\",\"1 Season\",\"3 Seasons\",\"1 Season\",\"1 Season\",\"1 Season\",\"2 Seasons\",\"2 Seasons\",\"1 Season\",\"5 Seasons\",\"2 Seasons\",\"4 Seasons\",\"1 Season\",\"1 Season\",\"4 Seasons\",\"1 Season\",\"1 Season\",\"1 Season\",\"2 Seasons\",\"1 Season\",\"3 Seasons\",\"3 Seasons\",\"1 Season\",\"1 Season\",\"1 Season\",\"1 Season\",\"5 Seasons\",\"3 Seasons\",\"1 Season\",\"1 Season\",\"1 Season\",\"6 Seasons\",\"1 Season\",\"1 Season\",\"1 Season\",\"1 Season\",\"2 Seasons\",\"1 Season\",\"3 Seasons\",\"2 Seasons\",\"1 Season\",\"1 Season\",\"5 Seasons\",\"10 Seasons\",\"1 Season\",\"1 Season\",\"1 Season\",\"3 Seasons\",\"1 Season\",\"1 Season\",\"1 Season\",\"1 Season\",\"1 Season\",\"2 Seasons\",\"1 Season\",\"1 Season\",\"1 Season\",\"2 Seasons\",\"1 Season\",\"1 Season\",\"1 Season\",\"1 Season\",\"1 Season\",\"1 Season\",\"4 Seasons\",\"1 Season\",\"1 Season\",\"1 Season\",\"2 Seasons\",\"6 Seasons\",\"1 Season\",\"1 Season\",\"1 Season\",\"1 Season\",\"1 Season\",\"1 Season\",\"1 Season\",\"1 Season\",\"1 Season\",\"1 Season\",\"1 Season\",\"1 Season\",\"3 Seasons\",\"1 Season\",\"1 Season\",\"1 Season\",\"1 Season\",\"2 Seasons\",\"1 Season\",\"2 Seasons\",\"1 Season\",\"2 Seasons\",\"2 Seasons\",\"2 Seasons\",\"2 Seasons\",\"4 Seasons\",\"6 Seasons\",\"2 Seasons\",\"4 Seasons\",\"1 Season\",\"4 Seasons\",\"1 Season\",\"1 Season\",\"1 Season\",\"5 Seasons\",\"1 Season\",\"1 Season\",\"1 Season\",\"4 Seasons\",\"4 Seasons\",\"5 Seasons\",\"15 Seasons\",\"3 Seasons\",\"1 Season\",\"2 Seasons\",\"1 Season\",\"1 Season\",\"3 Seasons\",\"1 Season\",\"1 Season\",\"1 Season\",\"2 Seasons\",\"1 Season\",\"4 Seasons\",\"5 Seasons\",\"1 Season\",\"3 Seasons\",\"1 Season\",\"2 Seasons\",\"1 Season\",\"1 Season\",\"1 Season\",\"1 Season\",\"1 Season\",\"1 Season\",\"6 Seasons\",\"1 Season\",\"1 Season\",\"3 Seasons\",\"1 Season\",\"6 Seasons\",\"3 Seasons\",\"1 Season\",\"5 Seasons\",\"1 Season\",\"1 Season\",\"2 Seasons\",\"1 Season\",\"1 Season\",\"3 Seasons\",\"1 Season\",\"2 Seasons\",\"2 Seasons\",\"1 Season\",\"2 Seasons\",\"2 Seasons\",\"1 Season\",\"1 Season\",\"1 Season\",\"1 Season\",\"1 Season\",\"1 Season\",\"4 Seasons\",\"3 Seasons\",\"1 Season\",\"1 Season\",\"1 Season\",\"1 Season\",\"7 Seasons\",\"5 Seasons\",\"1 Season\",\"1 Season\",\"1 Season\",\"1 Season\",\"2 Seasons\",\"1 Season\",\"4 Seasons\",\"1 Season\",\"1 Season\",\"2 Seasons\",\"1 Season\",\"1 Season\",\"1 Season\",\"3 Seasons\",\"1 Season\",\"1 Season\",\"5 Seasons\",\"1 Season\",\"1 Season\",\"1 Season\",\"1 Season\",\"1 Season\",\"1 Season\",\"1 Season\",\"2 Seasons\",\"1 Season\",\"2 Seasons\",\"3 Seasons\",\"1 Season\",\"1 Season\",\"1 Season\",\"2 Seasons\",\"1 Season\",\"2 Seasons\",\"2 Seasons\",\"6 Seasons\",\"1 Season\",\"3 Seasons\",\"3 Seasons\",\"6 Seasons\",\"2 Seasons\",\"1 Season\",\"3 Seasons\",\"2 Seasons\",\"1 Season\",\"1 Season\",\"1 Season\",\"1 Season\",\"2 Seasons\",\"1 Season\",\"3 Seasons\",\"1 Season\",\"2 Seasons\",\"1 Season\",\"1 Season\",\"1 Season\",\"2 Seasons\",\"2 Seasons\",\"2 Seasons\",\"4 Seasons\",\"1 Season\",\"1 Season\",\"1 Season\",\"1 Season\",\"1 Season\",\"1 Season\",\"1 Season\",\"1 Season\",\"1 Season\",\"1 Season\",\"1 Season\",\"1 Season\",\"1 Season\",\"2 Seasons\",\"1 Season\",\"2 Seasons\",\"3 Seasons\",\"1 Season\",\"2 Seasons\",\"1 Season\",\"4 Seasons\",\"1 Season\",\"3 Seasons\",\"1 Season\",\"2 Seasons\",\"1 Season\",\"1 Season\",\"1 Season\",\"2 Seasons\",\"1 Season\",\"1 Season\",\"1 Season\",\"1 Season\",\"1 Season\",\"1 Season\",\"1 Season\",\"1 Season\",\"1 Season\",\"1 Season\",\"1 Season\",\"1 Season\",\"1 Season\",\"1 Season\",\"1 Season\",\"1 Season\",\"2 Seasons\",\"1 Season\",\"1 Season\",\"2 Seasons\",\"4 Seasons\",\"2 Seasons\",\"2 Seasons\",\"1 Season\",\"1 Season\",\"1 Season\",\"1 Season\",\"8 Seasons\",\"1 Season\",\"3 Seasons\",\"1 Season\",\"1 Season\",\"5 Seasons\",\"1 Season\",\"1 Season\",\"1 Season\",\"2 Seasons\",\"1 Season\",\"2 Seasons\",\"1 Season\",\"1 Season\",\"1 Season\",\"1 Season\",\"1 Season\",\"1 Season\",\"1 Season\",\"2 Seasons\",\"1 Season\",\"8 Seasons\",\"1 Season\",\"2 Seasons\",\"1 Season\",\"1 Season\",\"1 Season\",\"1 Season\",\"1 Season\",\"4 Seasons\",\"1 Season\",\"2 Seasons\",\"1 Season\",\"1 Season\",\"1 Season\",\"1 Season\",\"1 Season\",\"1 Season\",\"1 Season\",\"4 Seasons\",\"1 Season\",\"1 Season\",\"2 Seasons\",\"1 Season\",\"1 Season\",\"1 Season\",\"3 Seasons\",\"1 Season\",\"1 Season\",\"1 Season\",\"1 Season\",\"1 Season\",\"1 Season\",\"1 Season\",\"1 Season\",\"2 Seasons\",\"1 Season\",\"1 Season\",\"1 Season\",\"1 Season\",\"1 Season\",\"1 Season\",\"3 Seasons\",\"1 Season\",\"1 Season\",\"2 Seasons\",\"2 Seasons\",\"1 Season\",\"1 Season\",\"1 Season\",\"1 Season\",\"2 Seasons\",\"2 Seasons\",\"2 Seasons\",\"6 Seasons\",\"1 Season\",\"1 Season\",\"1 Season\",\"2 Seasons\",\"1 Season\",\"1 Season\",\"1 Season\",\"2 Seasons\",\"1 Season\",\"1 Season\",\"1 Season\",\"2 Seasons\",\"3 Seasons\",\"1 Season\",\"5 Seasons\",\"1 Season\",\"2 Seasons\",\"1 Season\",\"1 Season\",\"1 Season\",\"1 Season\",\"2 Seasons\",\"1 Season\",\"1 Season\",\"1 Season\",\"4 Seasons\",\"2 Seasons\",\"1 Season\",\"2 Seasons\",\"2 Seasons\",\"1 Season\",\"1 Season\",\"1 Season\",\"1 Season\",\"1 Season\",\"2 Seasons\",\"1 Season\",\"1 Season\",\"1 Season\",\"2 Seasons\",\"1 Season\",\"1 Season\",\"1 Season\",\"3 Seasons\",\"8 Seasons\",\"1 Season\",\"1 Season\",\"1 Season\",\"1 Season\",\"1 Season\",\"1 Season\",\"1 Season\",\"1 Season\",\"2 Seasons\",\"1 Season\",\"2 Seasons\",\"1 Season\",\"1 Season\",\"1 Season\",\"1 Season\",\"3 Seasons\",\"2 Seasons\",\"1 Season\",\"1 Season\",\"1 Season\",\"2 Seasons\",\"1 Season\",\"3 Seasons\",\"1 Season\",\"1 Season\",\"2 Seasons\",\"1 Season\",\"2 Seasons\",\"2 Seasons\",\"3 Seasons\",\"1 Season\",\"1 Season\",\"3 Seasons\",\"1 Season\",\"1 Season\",\"4 Seasons\",\"2 Seasons\",\"2 Seasons\",\"2 Seasons\",\"1 Season\",\"2 Seasons\",\"1 Season\",\"2 Seasons\",\"3 Seasons\",\"1 Season\",\"1 Season\",\"2 Seasons\",\"1 Season\",\"1 Season\",\"1 Season\",\"1 Season\",\"1 Season\",\"1 Season\",\"1 Season\",\"1 Season\",\"6 Seasons\",\"1 Season\",\"1 Season\",\"1 Season\",\"1 Season\",\"1 Season\",\"1 Season\",\"1 Season\",\"1 Season\",\"1 Season\",\"1 Season\",\"2 Seasons\",\"1 Season\",\"1 Season\",\"2 Seasons\",\"2 Seasons\",\"2 Seasons\",\"1 Season\",\"1 Season\",\"1 Season\",\"1 Season\",\"1 Season\",\"2 Seasons\",\"2 Seasons\",\"1 Season\",\"1 Season\",\"1 Season\",\"1 Season\",\"1 Season\",\"2 Seasons\",\"5 Seasons\",\"1 Season\",\"2 Seasons\",\"3 Seasons\",\"1 Season\",\"1 Season\",\"1 Season\",\"1 Season\",\"1 Season\",\"1 Season\",\"1 Season\",\"1 Season\",\"1 Season\",\"1 Season\",\"1 Season\",\"5 Seasons\",\"1 Season\",\"3 Seasons\",\"1 Season\",\"2 Seasons\",\"3 Seasons\",\"1 Season\",\"1 Season\",\"1 Season\",\"1 Season\",\"2 Seasons\",\"1 Season\",\"1 Season\",\"1 Season\",\"1 Season\",\"1 Season\",\"1 Season\",\"1 Season\",\"1 Season\",\"1 Season\",\"1 Season\",\"1 Season\",\"1 Season\",\"3 Seasons\",\"9 Seasons\",\"1 Season\",\"1 Season\",\"1 Season\",\"1 Season\",\"1 Season\",\"3 Seasons\",\"2 Seasons\",\"3 Seasons\",\"2 Seasons\",\"1 Season\",\"1 Season\",\"1 Season\",\"1 Season\",\"1 Season\",\"1 Season\",\"2 Seasons\",\"1 Season\",\"1 Season\",\"1 Season\",\"2 Seasons\",\"1 Season\",\"1 Season\",\"2 Seasons\",\"1 Season\",\"3 Seasons\",\"5 Seasons\",\"1 Season\",\"1 Season\",\"1 Season\",\"1 Season\",\"5 Seasons\",\"1 Season\",\"1 Season\",\"1 Season\",\"1 Season\",\"1 Season\",\"1 Season\",\"1 Season\",\"2 Seasons\",\"1 Season\",\"1 Season\",\"2 Seasons\",\"1 Season\",\"2 Seasons\",\"1 Season\",\"3 Seasons\",\"1 Season\",\"6 Seasons\",\"3 Seasons\",\"1 Season\",\"1 Season\",\"3 Seasons\",\"1 Season\",\"1 Season\",\"1 Season\",\"1 Season\",\"1 Season\",\"2 Seasons\",\"3 Seasons\",\"1 Season\",\"1 Season\",\"1 Season\",\"1 Season\",\"3 Seasons\",\"1 Season\",\"2 Seasons\",\"3 Seasons\",\"1 Season\",\"2 Seasons\",\"1 Season\",\"1 Season\",\"1 Season\",\"1 Season\",\"2 Seasons\",\"1 Season\",\"1 Season\",\"1 Season\",\"2 Seasons\",\"3 Seasons\",\"1 Season\",\"2 Seasons\",\"2 Seasons\",\"3 Seasons\",\"1 Season\",\"2 Seasons\",\"1 Season\",\"2 Seasons\",\"2 Seasons\",\"2 Seasons\",\"1 Season\",\"3 Seasons\",\"2 Seasons\",\"2 Seasons\",\"2 Seasons\",\"1 Season\",\"1 Season\",\"1 Season\",\"1 Season\",\"1 Season\",\"1 Season\",\"2 Seasons\",\"2 Seasons\",\"5 Seasons\",\"1 Season\",\"2 Seasons\",\"3 Seasons\",\"1 Season\",\"1 Season\",\"1 Season\",\"3 Seasons\",\"1 Season\",\"1 Season\",\"5 Seasons\",\"3 Seasons\",\"1 Season\",\"1 Season\",\"1 Season\",\"2 Seasons\",\"2 Seasons\",\"1 Season\",\"1 Season\",\"1 Season\",\"1 Season\",\"2 Seasons\",\"1 Season\",\"2 Seasons\",\"2 Seasons\",\"1 Season\",\"1 Season\",\"2 Seasons\",\"1 Season\",\"1 Season\",\"1 Season\",\"1 Season\",\"1 Season\",\"3 Seasons\",\"1 Season\",\"2 Seasons\",\"1 Season\",\"1 Season\",\"1 Season\",\"1 Season\",\"1 Season\",\"1 Season\",\"1 Season\",\"1 Season\",\"1 Season\",\"1 Season\",\"1 Season\",\"1 Season\",\"1 Season\",\"1 Season\",\"1 Season\",\"1 Season\",\"1 Season\",\"2 Seasons\",\"1 Season\",\"1 Season\",\"2 Seasons\",\"1 Season\",\"1 Season\",\"1 Season\",\"1 Season\",\"1 Season\",\"1 Season\",\"1 Season\",\"3 Seasons\",\"5 Seasons\",\"1 Season\",\"1 Season\",\"1 Season\",\"1 Season\",\"1 Season\",\"1 Season\",\"1 Season\",\"2 Seasons\",\"4 Seasons\",\"1 Season\",\"7 Seasons\",\"1 Season\",\"1 Season\",\"1 Season\",\"3 Seasons\",\"2 Seasons\",\"1 Season\",\"1 Season\",\"1 Season\",\"3 Seasons\",\"8 Seasons\",\"1 Season\",\"1 Season\",\"1 Season\",\"1 Season\",\"1 Season\",\"1 Season\",\"1 Season\",\"1 Season\",\"3 Seasons\",\"1 Season\",\"1 Season\",\"3 Seasons\",\"2 Seasons\",\"1 Season\",\"1 Season\",\"1 Season\",\"1 Season\",\"1 Season\",\"2 Seasons\",\"1 Season\",\"1 Season\",\"1 Season\",\"1 Season\",\"1 Season\",\"1 Season\",\"1 Season\",\"2 Seasons\",\"1 Season\",\"1 Season\",\"1 Season\",\"1 Season\",\"1 Season\",\"1 Season\",\"3 Seasons\",\"1 Season\",\"1 Season\",\"1 Season\",\"1 Season\",\"1 Season\",\"2 Seasons\",\"1 Season\",\"1 Season\",\"2 Seasons\",\"1 Season\",\"1 Season\",\"3 Seasons\",\"1 Season\",\"6 Seasons\",\"2 Seasons\",\"2 Seasons\",\"1 Season\",\"1 Season\",\"1 Season\",\"1 Season\",\"3 Seasons\",\"2 Seasons\",\"1 Season\",\"2 Seasons\",\"3 Seasons\",\"1 Season\",\"1 Season\",\"1 Season\",\"1 Season\",\"1 Season\",\"1 Season\",\"1 Season\",\"2 Seasons\",\"1 Season\",\"1 Season\",\"1 Season\",\"1 Season\",\"1 Season\",\"5 Seasons\",\"1 Season\",\"4 Seasons\",\"1 Season\",\"1 Season\",\"1 Season\",\"1 Season\",\"2 Seasons\",\"1 Season\",\"3 Seasons\",\"1 Season\",\"1 Season\",\"1 Season\",\"1 Season\",\"2 Seasons\",\"4 Seasons\",\"2 Seasons\",\"4 Seasons\",\"1 Season\",\"1 Season\",\"1 Season\",\"3 Seasons\",\"13 Seasons\",\"2 Seasons\",\"1 Season\",\"1 Season\",\"1 Season\",\"1 Season\",\"1 Season\",\"1 Season\",\"1 Season\",\"1 Season\",\"1 Season\",\"1 Season\",\"5 Seasons\",\"1 Season\",\"1 Season\",\"1 Season\",\"2 Seasons\",\"1 Season\",\"1 Season\",\"1 Season\",\"1 Season\",\"1 Season\",\"2 Seasons\",\"1 Season\",\"1 Season\",\"1 Season\",\"2 Seasons\",\"1 Season\",\"1 Season\",\"1 Season\",\"1 Season\",\"1 Season\",\"3 Seasons\",\"8 Seasons\",\"1 Season\",\"1 Season\",\"2 Seasons\",\"1 Season\",\"2 Seasons\",\"1 Season\",\"1 Season\",\"1 Season\",\"1 Season\",\"1 Season\",\"2 Seasons\",\"1 Season\",\"1 Season\",\"3 Seasons\",\"1 Season\",\"2 Seasons\",\"2 Seasons\",\"1 Season\",\"1 Season\",\"1 Season\",\"1 Season\",\"1 Season\",\"1 Season\",\"2 Seasons\",\"1 Season\",\"1 Season\",\"1 Season\",\"1 Season\",\"1 Season\",\"1 Season\",\"1 Season\",\"2 Seasons\",\"1 Season\",\"1 Season\",\"1 Season\",\"7 Seasons\",\"1 Season\",\"2 Seasons\",\"3 Seasons\",\"1 Season\",\"2 Seasons\",\"1 Season\",\"1 Season\",\"2 Seasons\",\"1 Season\",\"3 Seasons\",\"1 Season\",\"1 Season\",\"1 Season\",\"2 Seasons\",\"3 Seasons\",\"4 Seasons\",\"1 Season\",\"2 Seasons\",\"5 Seasons\",\"1 Season\",\"2 Seasons\",\"1 Season\",\"1 Season\",\"1 Season\",\"1 Season\",\"1 Season\",\"1 Season\",\"4 Seasons\",\"1 Season\",\"1 Season\",\"1 Season\",\"1 Season\",\"1 Season\",\"1 Season\",\"1 Season\",\"1 Season\",\"4 Seasons\",\"1 Season\",\"1 Season\",\"1 Season\",\"1 Season\",\"1 Season\",\"2 Seasons\",\"3 Seasons\",\"1 Season\",\"1 Season\",\"1 Season\",\"1 Season\",\"1 Season\",\"1 Season\",\"1 Season\",\"2 Seasons\",\"1 Season\",\"2 Seasons\",\"1 Season\",\"1 Season\",\"1 Season\",\"1 Season\",\"1 Season\",\"1 Season\",\"2 Seasons\",\"1 Season\",\"1 Season\",\"1 Season\",\"2 Seasons\",\"2 Seasons\",\"1 Season\",\"3 Seasons\",\"1 Season\",\"1 Season\",\"1 Season\",\"1 Season\",\"2 Seasons\",\"3 Seasons\",\"3 Seasons\",\"1 Season\",\"1 Season\",\"1 Season\",\"1 Season\",\"1 Season\",\"1 Season\",\"1 Season\",\"1 Season\",\"1 Season\",\"5 Seasons\",\"1 Season\",\"1 Season\",\"1 Season\",\"3 Seasons\",\"1 Season\",\"1 Season\",\"1 Season\",\"2 Seasons\",\"2 Seasons\",\"6 Seasons\",\"3 Seasons\",\"1 Season\",\"1 Season\",\"1 Season\",\"1 Season\",\"4 Seasons\",\"1 Season\",\"2 Seasons\",\"1 Season\",\"2 Seasons\",\"1 Season\",\"2 Seasons\",\"2 Seasons\",\"2 Seasons\",\"1 Season\",\"2 Seasons\",\"15 Seasons\",\"1 Season\",\"1 Season\",\"1 Season\",\"1 Season\",\"1 Season\",\"1 Season\",\"2 Seasons\",\"1 Season\",\"1 Season\",\"1 Season\",\"1 Season\",\"4 Seasons\",\"2 Seasons\",\"1 Season\",\"4 Seasons\",\"5 Seasons\",\"1 Season\",\"1 Season\",\"3 Seasons\",\"1 Season\",\"1 Season\",\"4 Seasons\",\"1 Season\",\"3 Seasons\",\"1 Season\",\"1 Season\",\"1 Season\",\"2 Seasons\",\"1 Season\",\"1 Season\",\"1 Season\",\"1 Season\",\"2 Seasons\",\"1 Season\",\"1 Season\",\"1 Season\",\"1 Season\",\"1 Season\",\"1 Season\",\"2 Seasons\",\"1 Season\",\"1 Season\",\"3 Seasons\",\"7 Seasons\",\"1 Season\",\"1 Season\",\"2 Seasons\",\"1 Season\",\"12 Seasons\",\"1 Season\",\"1 Season\",\"1 Season\",\"2 Seasons\",\"1 Season\",\"1 Season\",\"1 Season\",\"1 Season\",\"1 Season\",\"1 Season\",\"1 Season\",\"1 Season\",\"1 Season\",\"1 Season\",\"1 Season\",\"1 Season\",\"2 Seasons\",\"1 Season\",\"1 Season\",\"2 Seasons\",\"6 Seasons\",\"1 Season\",\"1 Season\",\"1 Season\",\"1 Season\",\"8 Seasons\",\"1 Season\",\"6 Seasons\",\"1 Season\",\"2 Seasons\",\"1 Season\",\"1 Season\",\"1 Season\",\"2 Seasons\",\"1 Season\",\"5 Seasons\",\"1 Season\",\"1 Season\",\"5 Seasons\",\"3 Seasons\",\"1 Season\",\"1 Season\",\"1 Season\",\"1 Season\",\"1 Season\",\"1 Season\",\"1 Season\",\"1 Season\",\"1 Season\",\"2 Seasons\",\"1 Season\",\"1 Season\",\"4 Seasons\",\"1 Season\",\"5 Seasons\",\"1 Season\",\"1 Season\",\"1 Season\",\"1 Season\",\"4 Seasons\",\"4 Seasons\",\"3 Seasons\",\"1 Season\",\"1 Season\",\"1 Season\",\"1 Season\",\"1 Season\",\"6 Seasons\",\"3 Seasons\",\"1 Season\",\"1 Season\",\"1 Season\",\"1 Season\",\"2 Seasons\",\"2 Seasons\",\"2 Seasons\",\"6 Seasons\",\"1 Season\",\"1 Season\",\"1 Season\",\"1 Season\",\"1 Season\",\"1 Season\",\"1 Season\",\"1 Season\",\"1 Season\",\"3 Seasons\",\"2 Seasons\",\"1 Season\",\"1 Season\",\"1 Season\",\"1 Season\",\"6 Seasons\",\"1 Season\",\"2 Seasons\",\"1 Season\",\"1 Season\",\"1 Season\",\"2 Seasons\",\"4 Seasons\",\"7 Seasons\",\"1 Season\",\"1 Season\",\"1 Season\",\"1 Season\",\"1 Season\",\"1 Season\",\"2 Seasons\",\"1 Season\",\"4 Seasons\",\"3 Seasons\",\"2 Seasons\",\"7 Seasons\",\"1 Season\",\"1 Season\",\"1 Season\",\"4 Seasons\",\"1 Season\",\"8 Seasons\",\"1 Season\",\"1 Season\",\"1 Season\",\"1 Season\",\"1 Season\",\"1 Season\",\"3 Seasons\",\"5 Seasons\",\"1 Season\",\"1 Season\",\"1 Season\",\"1 Season\",\"1 Season\",\"1 Season\",\"1 Season\",\"1 Season\",\"1 Season\",\"1 Season\",\"1 Season\",\"1 Season\",\"1 Season\",\"1 Season\",\"5 Seasons\",\"2 Seasons\",\"1 Season\",\"1 Season\",\"1 Season\",\"4 Seasons\",\"4 Seasons\",\"1 Season\",\"1 Season\",\"1 Season\",\"1 Season\",\"1 Season\",\"1 Season\",\"1 Season\",\"1 Season\",\"3 Seasons\",\"1 Season\",\"1 Season\",\"1 Season\",\"1 Season\",\"1 Season\",\"1 Season\",\"2 Seasons\",\"1 Season\",\"1 Season\",\"1 Season\",\"12 Seasons\",\"1 Season\",\"2 Seasons\",\"5 Seasons\",\"2 Seasons\",\"2 Seasons\",\"2 Seasons\",\"1 Season\",\"1 Season\",\"1 Season\",\"1 Season\",\"1 Season\",\"1 Season\",\"1 Season\",\"1 Season\",\"2 Seasons\",\"1 Season\",\"1 Season\",\"3 Seasons\",\"1 Season\",\"1 Season\",\"3 Seasons\",\"1 Season\",\"1 Season\",\"1 Season\",\"3 Seasons\",\"1 Season\",\"1 Season\",\"1 Season\",\"2 Seasons\",\"1 Season\",\"1 Season\",\"1 Season\",\"4 Seasons\",\"1 Season\",\"2 Seasons\",\"1 Season\",\"1 Season\",\"2 Seasons\",\"2 Seasons\",\"1 Season\",\"1 Season\",\"1 Season\",\"3 Seasons\",\"1 Season\",\"1 Season\",\"1 Season\",\"1 Season\",\"1 Season\",\"1 Season\",\"1 Season\",\"1 Season\",\"3 Seasons\",\"1 Season\",\"1 Season\",\"1 Season\",\"1 Season\",\"1 Season\",\"1 Season\",\"7 Seasons\",\"1 Season\",\"2 Seasons\",\"1 Season\",\"2 Seasons\",\"1 Season\",\"1 Season\",\"1 Season\",\"1 Season\",\"1 Season\",\"1 Season\",\"1 Season\",\"2 Seasons\",\"1 Season\",\"5 Seasons\",\"1 Season\",\"1 Season\",\"1 Season\",\"1 Season\",\"1 Season\",\"1 Season\",\"3 Seasons\",\"2 Seasons\",\"1 Season\",\"1 Season\",\"1 Season\",\"1 Season\",\"1 Season\",\"1 Season\",\"1 Season\",\"1 Season\",\"2 Seasons\",\"1 Season\",\"1 Season\",\"1 Season\",\"1 Season\",\"1 Season\",\"1 Season\",\"1 Season\",\"1 Season\",\"1 Season\",\"1 Season\",\"2 Seasons\",\"1 Season\",\"1 Season\",\"1 Season\",\"1 Season\",\"1 Season\",\"1 Season\",\"1 Season\",\"1 Season\",\"1 Season\",\"1 Season\",\"4 Seasons\",\"1 Season\",\"1 Season\",\"1 Season\",\"1 Season\",\"9 Seasons\",\"1 Season\",\"1 Season\",\"2 Seasons\",\"1 Season\",\"3 Seasons\",\"1 Season\",\"1 Season\",\"1 Season\",\"2 Seasons\",\"3 Seasons\",\"2 Seasons\",\"2 Seasons\",\"1 Season\",\"1 Season\",\"1 Season\",\"1 Season\",\"1 Season\",\"2 Seasons\",\"2 Seasons\",\"1 Season\",\"1 Season\",\"1 Season\",\"2 Seasons\",\"3 Seasons\",\"1 Season\",\"1 Season\",\"1 Season\",\"1 Season\",\"1 Season\",\"3 Seasons\",\"1 Season\",\"1 Season\",\"2 Seasons\",\"10 Seasons\",\"1 Season\",\"3 Seasons\",\"5 Seasons\",\"3 Seasons\",\"4 Seasons\",\"5 Seasons\",\"1 Season\",\"1 Season\",\"1 Season\",\"1 Season\",\"1 Season\",\"1 Season\",\"1 Season\",\"1 Season\",\"1 Season\",\"1 Season\",\"2 Seasons\",\"1 Season\",\"2 Seasons\",\"1 Season\",\"1 Season\",\"1 Season\",\"2 Seasons\",\"1 Season\",\"1 Season\",\"5 Seasons\",\"1 Season\",\"3 Seasons\",\"1 Season\",\"1 Season\",\"1 Season\",\"1 Season\",\"1 Season\",\"1 Season\",\"5 Seasons\",\"2 Seasons\",\"1 Season\",\"1 Season\",\"3 Seasons\",\"1 Season\",\"1 Season\",\"1 Season\",\"1 Season\",\"5 Seasons\",\"1 Season\",\"1 Season\",\"1 Season\",\"1 Season\",\"1 Season\",\"4 Seasons\",\"2 Seasons\",\"1 Season\",\"1 Season\",\"4 Seasons\",\"1 Season\",\"1 Season\",\"1 Season\",\"1 Season\",\"2 Seasons\",\"3 Seasons\",\"3 Seasons\",\"1 Season\",\"1 Season\",\"1 Season\",\"1 Season\",\"1 Season\",\"1 Season\",\"1 Season\",\"2 Seasons\",\"1 Season\",\"3 Seasons\",\"1 Season\",\"2 Seasons\",\"1 Season\",\"1 Season\",\"1 Season\",\"1 Season\",\"2 Seasons\",\"1 Season\",\"1 Season\",\"1 Season\",\"1 Season\",\"1 Season\",\"1 Season\",\"1 Season\",\"1 Season\",\"1 Season\",\"1 Season\",\"1 Season\",\"2 Seasons\",\"1 Season\",\"11 Seasons\",\"2 Seasons\",\"1 Season\",\"2 Seasons\",\"1 Season\",\"1 Season\",\"1 Season\",\"1 Season\",\"1 Season\",\"1 Season\",\"1 Season\",\"9 Seasons\",\"7 Seasons\",\"8 Seasons\",\"1 Season\",\"1 Season\",\"1 Season\",\"1 Season\",\"1 Season\",\"5 Seasons\",\"1 Season\",\"1 Season\",\"1 Season\",\"1 Season\",\"1 Season\",\"10 Seasons\",\"1 Season\",\"1 Season\",\"2 Seasons\",\"1 Season\",\"1 Season\",\"2 Seasons\",\"3 Seasons\",\"1 Season\",\"1 Season\",\"8 Seasons\",\"1 Season\",\"1 Season\",\"1 Season\",\"1 Season\",\"1 Season\",\"1 Season\",\"1 Season\",\"1 Season\",\"1 Season\",\"1 Season\",\"1 Season\",\"3 Seasons\",\"1 Season\",\"1 Season\",\"1 Season\",\"1 Season\",\"2 Seasons\",\"1 Season\",\"1 Season\",\"1 Season\",\"1 Season\",\"1 Season\",\"1 Season\",\"1 Season\",\"1 Season\",\"2 Seasons\",\"1 Season\",\"1 Season\",\"1 Season\",\"1 Season\",\"6 Seasons\",\"1 Season\",\"2 Seasons\",\"2 Seasons\",\"3 Seasons\",\"1 Season\",\"1 Season\",\"1 Season\",\"1 Season\",\"1 Season\",\"1 Season\",\"1 Season\",\"11 Seasons\",\"4 Seasons\",\"10 Seasons\",\"1 Season\",\"1 Season\",\"2 Seasons\",\"1 Season\",\"1 Season\",\"1 Season\",\"1 Season\",\"1 Season\",\"1 Season\",\"1 Season\",\"1 Season\",\"1 Season\",\"1 Season\",\"2 Seasons\",\"2 Seasons\",\"1 Season\",\"6 Seasons\",\"2 Seasons\",\"3 Seasons\",\"2 Seasons\",\"1 Season\",\"2 Seasons\",\"2 Seasons\",\"3 Seasons\",\"1 Season\",\"2 Seasons\",\"1 Season\",\"1 Season\",\"1 Season\",\"4 Seasons\",\"1 Season\",\"5 Seasons\",\"2 Seasons\",\"1 Season\",\"5 Seasons\",\"2 Seasons\",\"1 Season\",\"3 Seasons\",\"5 Seasons\",\"3 Seasons\",\"1 Season\",\"1 Season\",\"1 Season\",\"3 Seasons\",\"1 Season\",\"1 Season\",\"1 Season\",\"1 Season\",\"1 Season\",\"2 Seasons\",\"2 Seasons\",\"1 Season\",\"2 Seasons\",\"1 Season\",\"1 Season\",\"1 Season\",\"1 Season\",\"1 Season\",\"1 Season\",\"1 Season\",\"2 Seasons\",\"2 Seasons\",\"1 Season\",\"1 Season\",\"1 Season\",\"1 Season\",\"2 Seasons\",\"2 Seasons\",\"1 Season\",\"1 Season\",\"1 Season\",\"1 Season\",\"1 Season\",\"2 Seasons\",\"1 Season\",\"1 Season\",\"1 Season\",\"1 Season\",\"1 Season\",\"1 Season\",\"1 Season\",\"1 Season\",\"1 Season\",\"2 Seasons\",\"1 Season\",\"1 Season\",\"1 Season\",\"2 Seasons\",\"1 Season\",\"1 Season\",\"1 Season\",\"3 Seasons\",\"1 Season\",\"1 Season\",\"1 Season\",\"1 Season\",\"1 Season\",\"3 Seasons\",\"1 Season\",\"1 Season\",\"1 Season\",\"3 Seasons\",\"1 Season\",\"1 Season\",\"3 Seasons\",\"1 Season\",\"1 Season\",\"1 Season\",\"2 Seasons\",\"1 Season\",\"4 Seasons\",\"1 Season\",\"1 Season\",\"2 Seasons\",\"1 Season\",\"1 Season\",\"1 Season\",\"5 Seasons\",\"1 Season\",\"1 Season\",\"1 Season\",\"1 Season\",\"1 Season\",\"7 Seasons\",\"1 Season\",\"1 Season\",\"1 Season\",\"1 Season\",\"1 Season\",\"1 Season\",\"1 Season\",\"1 Season\",\"4 Seasons\",\"1 Season\",\"2 Seasons\",\"1 Season\",\"1 Season\",\"1 Season\",\"1 Season\",\"1 Season\",\"1 Season\",\"1 Season\",\"1 Season\",\"1 Season\",\"2 Seasons\",\"1 Season\",\"1 Season\",\"1 Season\",\"1 Season\",\"1 Season\",\"1 Season\",\"2 Seasons\",\"1 Season\",\"1 Season\",\"2 Seasons\",\"3 Seasons\",\"2 Seasons\",\"1 Season\",\"1 Season\",\"1 Season\",\"1 Season\",\"1 Season\",\"1 Season\",\"1 Season\",\"1 Season\",\"1 Season\",\"3 Seasons\",\"3 Seasons\",\"2 Seasons\",\"1 Season\",\"1 Season\",\"1 Season\",\"1 Season\",\"1 Season\",\"1 Season\",\"1 Season\",\"7 Seasons\",\"1 Season\",\"1 Season\",\"1 Season\",\"2 Seasons\",\"1 Season\",\"1 Season\",\"1 Season\",\"1 Season\",\"1 Season\",\"1 Season\",\"3 Seasons\",\"1 Season\",\"1 Season\",\"1 Season\",\"2 Seasons\",\"7 Seasons\",\"1 Season\",\"1 Season\",\"5 Seasons\",\"3 Seasons\",\"5 Seasons\",\"1 Season\",\"1 Season\",\"1 Season\",\"8 Seasons\",\"1 Season\",\"1 Season\",\"1 Season\",\"1 Season\",\"1 Season\",\"1 Season\",\"1 Season\",\"1 Season\",\"1 Season\",\"1 Season\",\"1 Season\",\"1 Season\",\"1 Season\",\"1 Season\",\"1 Season\",\"1 Season\",\"1 Season\",\"1 Season\",\"1 Season\",\"1 Season\",\"1 Season\",\"1 Season\",\"1 Season\",\"1 Season\",\"2 Seasons\",\"3 Seasons\",\"1 Season\",\"1 Season\",\"1 Season\",\"1 Season\",\"1 Season\",\"1 Season\",\"1 Season\",\"1 Season\",\"1 Season\",\"4 Seasons\",\"13 Seasons\",\"2 Seasons\",\"6 Seasons\",\"1 Season\",\"1 Season\",\"4 Seasons\",\"5 Seasons\",\"1 Season\",\"1 Season\",\"3 Seasons\",\"8 Seasons\",\"1 Season\",\"3 Seasons\",\"1 Season\",\"1 Season\",\"1 Season\",\"1 Season\",\"7 Seasons\",\"1 Season\",\"1 Season\",\"1 Season\",\"1 Season\",\"1 Season\",\"4 Seasons\",\"1 Season\",\"2 Seasons\",\"1 Season\",\"3 Seasons\",\"3 Seasons\",\"1 Season\",\"1 Season\",\"1 Season\",\"1 Season\",\"4 Seasons\",\"2 Seasons\",\"1 Season\",\"1 Season\",\"1 Season\",\"1 Season\",\"1 Season\",\"1 Season\",\"1 Season\",\"1 Season\",\"1 Season\",\"1 Season\",\"3 Seasons\",\"1 Season\",\"1 Season\",\"1 Season\",\"1 Season\",\"2 Seasons\",\"1 Season\",\"1 Season\",\"1 Season\",\"1 Season\",\"8 Seasons\",\"1 Season\",\"2 Seasons\",\"2 Seasons\",\"8 Seasons\",\"2 Seasons\",\"1 Season\",\"1 Season\",\"1 Season\",\"1 Season\",\"1 Season\",\"1 Season\",\"1 Season\",\"1 Season\",\"1 Season\",\"1 Season\",\"2 Seasons\",\"1 Season\",\"2 Seasons\",\"1 Season\",\"1 Season\",\"1 Season\",\"1 Season\",\"1 Season\",\"5 Seasons\",\"2 Seasons\",\"1 Season\",\"1 Season\",\"4 Seasons\",\"1 Season\",\"1 Season\",\"1 Season\",\"3 Seasons\",\"1 Season\",\"3 Seasons\",\"2 Seasons\",\"1 Season\",\"1 Season\",\"1 Season\",\"1 Season\",\"6 Seasons\",\"1 Season\",\"1 Season\",\"1 Season\",\"1 Season\",\"1 Season\",\"5 Seasons\",\"2 Seasons\",\"3 Seasons\",\"1 Season\",\"1 Season\",\"1 Season\",\"1 Season\",\"1 Season\",\"9 Seasons\",\"1 Season\",\"1 Season\",\"1 Season\",\"1 Season\",\"1 Season\",\"1 Season\",\"3 Seasons\",\"2 Seasons\",\"1 Season\",\"1 Season\",\"1 Season\",\"4 Seasons\",\"4 Seasons\",\"1 Season\",\"1 Season\",\"1 Season\",\"1 Season\",\"7 Seasons\",\"1 Season\",\"1 Season\",\"1 Season\",\"1 Season\",\"1 Season\",\"1 Season\",\"1 Season\",\"1 Season\",\"3 Seasons\",\"2 Seasons\",\"1 Season\",\"3 Seasons\",\"1 Season\",\"1 Season\",\"2 Seasons\",\"2 Seasons\",\"4 Seasons\",\"2 Seasons\",\"2 Seasons\",\"3 Seasons\",\"2 Seasons\",\"1 Season\",\"8 Seasons\",\"2 Seasons\",\"1 Season\",\"1 Season\",\"5 Seasons\",\"1 Season\",\"1 Season\",\"1 Season\",\"1 Season\",\"1 Season\",\"3 Seasons\",\"1 Season\",\"1 Season\",\"1 Season\",\"1 Season\",\"1 Season\",\"2 Seasons\",\"2 Seasons\",\"3 Seasons\",\"1 Season\",\"2 Seasons\"],\"yaxis\":\"y\",\"type\":\"histogram\"}],                        {\"template\":{\"data\":{\"barpolar\":[{\"marker\":{\"line\":{\"color\":\"rgb(17,17,17)\",\"width\":0.5},\"pattern\":{\"fillmode\":\"overlay\",\"size\":10,\"solidity\":0.2}},\"type\":\"barpolar\"}],\"bar\":[{\"error_x\":{\"color\":\"#f2f5fa\"},\"error_y\":{\"color\":\"#f2f5fa\"},\"marker\":{\"line\":{\"color\":\"rgb(17,17,17)\",\"width\":0.5},\"pattern\":{\"fillmode\":\"overlay\",\"size\":10,\"solidity\":0.2}},\"type\":\"bar\"}],\"carpet\":[{\"aaxis\":{\"endlinecolor\":\"#A2B1C6\",\"gridcolor\":\"#506784\",\"linecolor\":\"#506784\",\"minorgridcolor\":\"#506784\",\"startlinecolor\":\"#A2B1C6\"},\"baxis\":{\"endlinecolor\":\"#A2B1C6\",\"gridcolor\":\"#506784\",\"linecolor\":\"#506784\",\"minorgridcolor\":\"#506784\",\"startlinecolor\":\"#A2B1C6\"},\"type\":\"carpet\"}],\"choropleth\":[{\"colorbar\":{\"outlinewidth\":0,\"ticks\":\"\"},\"type\":\"choropleth\"}],\"contourcarpet\":[{\"colorbar\":{\"outlinewidth\":0,\"ticks\":\"\"},\"type\":\"contourcarpet\"}],\"contour\":[{\"colorbar\":{\"outlinewidth\":0,\"ticks\":\"\"},\"colorscale\":[[0.0,\"#0d0887\"],[0.1111111111111111,\"#46039f\"],[0.2222222222222222,\"#7201a8\"],[0.3333333333333333,\"#9c179e\"],[0.4444444444444444,\"#bd3786\"],[0.5555555555555556,\"#d8576b\"],[0.6666666666666666,\"#ed7953\"],[0.7777777777777778,\"#fb9f3a\"],[0.8888888888888888,\"#fdca26\"],[1.0,\"#f0f921\"]],\"type\":\"contour\"}],\"heatmapgl\":[{\"colorbar\":{\"outlinewidth\":0,\"ticks\":\"\"},\"colorscale\":[[0.0,\"#0d0887\"],[0.1111111111111111,\"#46039f\"],[0.2222222222222222,\"#7201a8\"],[0.3333333333333333,\"#9c179e\"],[0.4444444444444444,\"#bd3786\"],[0.5555555555555556,\"#d8576b\"],[0.6666666666666666,\"#ed7953\"],[0.7777777777777778,\"#fb9f3a\"],[0.8888888888888888,\"#fdca26\"],[1.0,\"#f0f921\"]],\"type\":\"heatmapgl\"}],\"heatmap\":[{\"colorbar\":{\"outlinewidth\":0,\"ticks\":\"\"},\"colorscale\":[[0.0,\"#0d0887\"],[0.1111111111111111,\"#46039f\"],[0.2222222222222222,\"#7201a8\"],[0.3333333333333333,\"#9c179e\"],[0.4444444444444444,\"#bd3786\"],[0.5555555555555556,\"#d8576b\"],[0.6666666666666666,\"#ed7953\"],[0.7777777777777778,\"#fb9f3a\"],[0.8888888888888888,\"#fdca26\"],[1.0,\"#f0f921\"]],\"type\":\"heatmap\"}],\"histogram2dcontour\":[{\"colorbar\":{\"outlinewidth\":0,\"ticks\":\"\"},\"colorscale\":[[0.0,\"#0d0887\"],[0.1111111111111111,\"#46039f\"],[0.2222222222222222,\"#7201a8\"],[0.3333333333333333,\"#9c179e\"],[0.4444444444444444,\"#bd3786\"],[0.5555555555555556,\"#d8576b\"],[0.6666666666666666,\"#ed7953\"],[0.7777777777777778,\"#fb9f3a\"],[0.8888888888888888,\"#fdca26\"],[1.0,\"#f0f921\"]],\"type\":\"histogram2dcontour\"}],\"histogram2d\":[{\"colorbar\":{\"outlinewidth\":0,\"ticks\":\"\"},\"colorscale\":[[0.0,\"#0d0887\"],[0.1111111111111111,\"#46039f\"],[0.2222222222222222,\"#7201a8\"],[0.3333333333333333,\"#9c179e\"],[0.4444444444444444,\"#bd3786\"],[0.5555555555555556,\"#d8576b\"],[0.6666666666666666,\"#ed7953\"],[0.7777777777777778,\"#fb9f3a\"],[0.8888888888888888,\"#fdca26\"],[1.0,\"#f0f921\"]],\"type\":\"histogram2d\"}],\"histogram\":[{\"marker\":{\"pattern\":{\"fillmode\":\"overlay\",\"size\":10,\"solidity\":0.2}},\"type\":\"histogram\"}],\"mesh3d\":[{\"colorbar\":{\"outlinewidth\":0,\"ticks\":\"\"},\"type\":\"mesh3d\"}],\"parcoords\":[{\"line\":{\"colorbar\":{\"outlinewidth\":0,\"ticks\":\"\"}},\"type\":\"parcoords\"}],\"pie\":[{\"automargin\":true,\"type\":\"pie\"}],\"scatter3d\":[{\"line\":{\"colorbar\":{\"outlinewidth\":0,\"ticks\":\"\"}},\"marker\":{\"colorbar\":{\"outlinewidth\":0,\"ticks\":\"\"}},\"type\":\"scatter3d\"}],\"scattercarpet\":[{\"marker\":{\"colorbar\":{\"outlinewidth\":0,\"ticks\":\"\"}},\"type\":\"scattercarpet\"}],\"scattergeo\":[{\"marker\":{\"colorbar\":{\"outlinewidth\":0,\"ticks\":\"\"}},\"type\":\"scattergeo\"}],\"scattergl\":[{\"marker\":{\"line\":{\"color\":\"#283442\"}},\"type\":\"scattergl\"}],\"scattermapbox\":[{\"marker\":{\"colorbar\":{\"outlinewidth\":0,\"ticks\":\"\"}},\"type\":\"scattermapbox\"}],\"scatterpolargl\":[{\"marker\":{\"colorbar\":{\"outlinewidth\":0,\"ticks\":\"\"}},\"type\":\"scatterpolargl\"}],\"scatterpolar\":[{\"marker\":{\"colorbar\":{\"outlinewidth\":0,\"ticks\":\"\"}},\"type\":\"scatterpolar\"}],\"scatter\":[{\"marker\":{\"line\":{\"color\":\"#283442\"}},\"type\":\"scatter\"}],\"scatterternary\":[{\"marker\":{\"colorbar\":{\"outlinewidth\":0,\"ticks\":\"\"}},\"type\":\"scatterternary\"}],\"surface\":[{\"colorbar\":{\"outlinewidth\":0,\"ticks\":\"\"},\"colorscale\":[[0.0,\"#0d0887\"],[0.1111111111111111,\"#46039f\"],[0.2222222222222222,\"#7201a8\"],[0.3333333333333333,\"#9c179e\"],[0.4444444444444444,\"#bd3786\"],[0.5555555555555556,\"#d8576b\"],[0.6666666666666666,\"#ed7953\"],[0.7777777777777778,\"#fb9f3a\"],[0.8888888888888888,\"#fdca26\"],[1.0,\"#f0f921\"]],\"type\":\"surface\"}],\"table\":[{\"cells\":{\"fill\":{\"color\":\"#506784\"},\"line\":{\"color\":\"rgb(17,17,17)\"}},\"header\":{\"fill\":{\"color\":\"#2a3f5f\"},\"line\":{\"color\":\"rgb(17,17,17)\"}},\"type\":\"table\"}]},\"layout\":{\"annotationdefaults\":{\"arrowcolor\":\"#f2f5fa\",\"arrowhead\":0,\"arrowwidth\":1},\"autotypenumbers\":\"strict\",\"coloraxis\":{\"colorbar\":{\"outlinewidth\":0,\"ticks\":\"\"}},\"colorscale\":{\"diverging\":[[0,\"#8e0152\"],[0.1,\"#c51b7d\"],[0.2,\"#de77ae\"],[0.3,\"#f1b6da\"],[0.4,\"#fde0ef\"],[0.5,\"#f7f7f7\"],[0.6,\"#e6f5d0\"],[0.7,\"#b8e186\"],[0.8,\"#7fbc41\"],[0.9,\"#4d9221\"],[1,\"#276419\"]],\"sequential\":[[0.0,\"#0d0887\"],[0.1111111111111111,\"#46039f\"],[0.2222222222222222,\"#7201a8\"],[0.3333333333333333,\"#9c179e\"],[0.4444444444444444,\"#bd3786\"],[0.5555555555555556,\"#d8576b\"],[0.6666666666666666,\"#ed7953\"],[0.7777777777777778,\"#fb9f3a\"],[0.8888888888888888,\"#fdca26\"],[1.0,\"#f0f921\"]],\"sequentialminus\":[[0.0,\"#0d0887\"],[0.1111111111111111,\"#46039f\"],[0.2222222222222222,\"#7201a8\"],[0.3333333333333333,\"#9c179e\"],[0.4444444444444444,\"#bd3786\"],[0.5555555555555556,\"#d8576b\"],[0.6666666666666666,\"#ed7953\"],[0.7777777777777778,\"#fb9f3a\"],[0.8888888888888888,\"#fdca26\"],[1.0,\"#f0f921\"]]},\"colorway\":[\"#636efa\",\"#EF553B\",\"#00cc96\",\"#ab63fa\",\"#FFA15A\",\"#19d3f3\",\"#FF6692\",\"#B6E880\",\"#FF97FF\",\"#FECB52\"],\"font\":{\"color\":\"#f2f5fa\"},\"geo\":{\"bgcolor\":\"rgb(17,17,17)\",\"lakecolor\":\"rgb(17,17,17)\",\"landcolor\":\"rgb(17,17,17)\",\"showlakes\":true,\"showland\":true,\"subunitcolor\":\"#506784\"},\"hoverlabel\":{\"align\":\"left\"},\"hovermode\":\"closest\",\"mapbox\":{\"style\":\"dark\"},\"paper_bgcolor\":\"rgb(17,17,17)\",\"plot_bgcolor\":\"rgb(17,17,17)\",\"polar\":{\"angularaxis\":{\"gridcolor\":\"#506784\",\"linecolor\":\"#506784\",\"ticks\":\"\"},\"bgcolor\":\"rgb(17,17,17)\",\"radialaxis\":{\"gridcolor\":\"#506784\",\"linecolor\":\"#506784\",\"ticks\":\"\"}},\"scene\":{\"xaxis\":{\"backgroundcolor\":\"rgb(17,17,17)\",\"gridcolor\":\"#506784\",\"gridwidth\":2,\"linecolor\":\"#506784\",\"showbackground\":true,\"ticks\":\"\",\"zerolinecolor\":\"#C8D4E3\"},\"yaxis\":{\"backgroundcolor\":\"rgb(17,17,17)\",\"gridcolor\":\"#506784\",\"gridwidth\":2,\"linecolor\":\"#506784\",\"showbackground\":true,\"ticks\":\"\",\"zerolinecolor\":\"#C8D4E3\"},\"zaxis\":{\"backgroundcolor\":\"rgb(17,17,17)\",\"gridcolor\":\"#506784\",\"gridwidth\":2,\"linecolor\":\"#506784\",\"showbackground\":true,\"ticks\":\"\",\"zerolinecolor\":\"#C8D4E3\"}},\"shapedefaults\":{\"line\":{\"color\":\"#f2f5fa\"}},\"sliderdefaults\":{\"bgcolor\":\"#C8D4E3\",\"bordercolor\":\"rgb(17,17,17)\",\"borderwidth\":1,\"tickwidth\":0},\"ternary\":{\"aaxis\":{\"gridcolor\":\"#506784\",\"linecolor\":\"#506784\",\"ticks\":\"\"},\"baxis\":{\"gridcolor\":\"#506784\",\"linecolor\":\"#506784\",\"ticks\":\"\"},\"bgcolor\":\"rgb(17,17,17)\",\"caxis\":{\"gridcolor\":\"#506784\",\"linecolor\":\"#506784\",\"ticks\":\"\"}},\"title\":{\"x\":0.05},\"updatemenudefaults\":{\"bgcolor\":\"#506784\",\"borderwidth\":0},\"xaxis\":{\"automargin\":true,\"gridcolor\":\"#283442\",\"linecolor\":\"#506784\",\"ticks\":\"\",\"title\":{\"standoff\":15},\"zerolinecolor\":\"#283442\",\"zerolinewidth\":2},\"yaxis\":{\"automargin\":true,\"gridcolor\":\"#283442\",\"linecolor\":\"#506784\",\"ticks\":\"\",\"title\":{\"standoff\":15},\"zerolinecolor\":\"#283442\",\"zerolinewidth\":2}}},\"xaxis\":{\"anchor\":\"y\",\"domain\":[0.0,1.0],\"title\":{\"text\":\"count\"}},\"yaxis\":{\"anchor\":\"x\",\"domain\":[0.0,1.0],\"title\":{\"text\":\"duration\"}},\"legend\":{\"tracegroupgap\":0},\"margin\":{\"t\":60},\"barmode\":\"relative\",\"height\":400,\"width\":900},                        {\"responsive\": true}                    ).then(function(){\n",
              "                            \n",
              "var gd = document.getElementById('eeffe385-c460-4140-88cb-b506fb8ae448');\n",
              "var x = new MutationObserver(function (mutations, observer) {{\n",
              "        var display = window.getComputedStyle(gd).display;\n",
              "        if (!display || display === 'none') {{\n",
              "            console.log([gd, 'removed!']);\n",
              "            Plotly.purge(gd);\n",
              "            observer.disconnect();\n",
              "        }}\n",
              "}});\n",
              "\n",
              "// Listen for the removal of the full notebook cells\n",
              "var notebookContainer = gd.closest('#notebook-container');\n",
              "if (notebookContainer) {{\n",
              "    x.observe(notebookContainer, {childList: true});\n",
              "}}\n",
              "\n",
              "// Listen for the clearing of the current output cell\n",
              "var outputEl = gd.closest('.output');\n",
              "if (outputEl) {{\n",
              "    x.observe(outputEl, {childList: true});\n",
              "}}\n",
              "\n",
              "                        })                };                            </script>        </div>\n",
              "</body>\n",
              "</html>"
            ]
          },
          "metadata": {}
        }
      ]
    },
    {
      "cell_type": "markdown",
      "source": [
        "The histogram of TV show durations shows that a large number of TV shows only last for 1 or 2 seasons. This could be due to the fact that many TV shows don't gain enough popularity or viewership to continue for a longer period"
      ],
      "metadata": {
        "id": "22LF47qiFnMx"
      }
    },
    {
      "cell_type": "markdown",
      "source": [
        "**Top 6 genres**"
      ],
      "metadata": {
        "id": "AEMDBJuB81gk"
      }
    },
    {
      "cell_type": "code",
      "source": [
        "fig = px.bar(x=list(top_6.keys()), y=list(top_6.values()),\n",
        "             labels={\"x\": \"Genres\", \"y\": \"Count\"})\n",
        "fig.show()"
      ],
      "metadata": {
        "colab": {
          "base_uri": "https://localhost:8080/",
          "height": 417
        },
        "id": "25kl5h6p8WXZ",
        "outputId": "cf467b72-99b6-4e2e-a5b3-0a698bfa3d51"
      },
      "execution_count": null,
      "outputs": [
        {
          "output_type": "display_data",
          "data": {
            "text/html": [
              "<html>\n",
              "<head><meta charset=\"utf-8\" /></head>\n",
              "<body>\n",
              "    <div>            <script src=\"https://cdnjs.cloudflare.com/ajax/libs/mathjax/2.7.5/MathJax.js?config=TeX-AMS-MML_SVG\"></script><script type=\"text/javascript\">if (window.MathJax) {MathJax.Hub.Config({SVG: {font: \"STIX-Web\"}});}</script>                <script type=\"text/javascript\">window.PlotlyConfig = {MathJaxConfig: 'local'};</script>\n",
              "        <script src=\"https://cdn.plot.ly/plotly-2.8.3.min.js\"></script>                <div id=\"60732cdb-8479-4a7e-8e71-eaa919de4022\" class=\"plotly-graph-div\" style=\"height:400px; width:900px;\"></div>            <script type=\"text/javascript\">                                    window.PLOTLYENV=window.PLOTLYENV || {};                                    if (document.getElementById(\"60732cdb-8479-4a7e-8e71-eaa919de4022\")) {                    Plotly.newPlot(                        \"60732cdb-8479-4a7e-8e71-eaa919de4022\",                        [{\"alignmentgroup\":\"True\",\"hovertemplate\":\"Genres=%{x}<br>Count=%{y}<extra></extra>\",\"legendgroup\":\"\",\"marker\":{\"color\":\"#636efa\",\"pattern\":{\"shape\":\"\"}},\"name\":\"\",\"offsetgroup\":\"\",\"orientation\":\"v\",\"showlegend\":false,\"textposition\":\"auto\",\"x\":[\"International Movies\",\"Dramas\",\"Comedies\",\"International TV Shows\",\"Documentaries\",\"Action & Adventure\"],\"xaxis\":\"x\",\"y\":[2752,2427,1674,1351,869,859],\"yaxis\":\"y\",\"type\":\"bar\"}],                        {\"template\":{\"data\":{\"barpolar\":[{\"marker\":{\"line\":{\"color\":\"rgb(17,17,17)\",\"width\":0.5},\"pattern\":{\"fillmode\":\"overlay\",\"size\":10,\"solidity\":0.2}},\"type\":\"barpolar\"}],\"bar\":[{\"error_x\":{\"color\":\"#f2f5fa\"},\"error_y\":{\"color\":\"#f2f5fa\"},\"marker\":{\"line\":{\"color\":\"rgb(17,17,17)\",\"width\":0.5},\"pattern\":{\"fillmode\":\"overlay\",\"size\":10,\"solidity\":0.2}},\"type\":\"bar\"}],\"carpet\":[{\"aaxis\":{\"endlinecolor\":\"#A2B1C6\",\"gridcolor\":\"#506784\",\"linecolor\":\"#506784\",\"minorgridcolor\":\"#506784\",\"startlinecolor\":\"#A2B1C6\"},\"baxis\":{\"endlinecolor\":\"#A2B1C6\",\"gridcolor\":\"#506784\",\"linecolor\":\"#506784\",\"minorgridcolor\":\"#506784\",\"startlinecolor\":\"#A2B1C6\"},\"type\":\"carpet\"}],\"choropleth\":[{\"colorbar\":{\"outlinewidth\":0,\"ticks\":\"\"},\"type\":\"choropleth\"}],\"contourcarpet\":[{\"colorbar\":{\"outlinewidth\":0,\"ticks\":\"\"},\"type\":\"contourcarpet\"}],\"contour\":[{\"colorbar\":{\"outlinewidth\":0,\"ticks\":\"\"},\"colorscale\":[[0.0,\"#0d0887\"],[0.1111111111111111,\"#46039f\"],[0.2222222222222222,\"#7201a8\"],[0.3333333333333333,\"#9c179e\"],[0.4444444444444444,\"#bd3786\"],[0.5555555555555556,\"#d8576b\"],[0.6666666666666666,\"#ed7953\"],[0.7777777777777778,\"#fb9f3a\"],[0.8888888888888888,\"#fdca26\"],[1.0,\"#f0f921\"]],\"type\":\"contour\"}],\"heatmapgl\":[{\"colorbar\":{\"outlinewidth\":0,\"ticks\":\"\"},\"colorscale\":[[0.0,\"#0d0887\"],[0.1111111111111111,\"#46039f\"],[0.2222222222222222,\"#7201a8\"],[0.3333333333333333,\"#9c179e\"],[0.4444444444444444,\"#bd3786\"],[0.5555555555555556,\"#d8576b\"],[0.6666666666666666,\"#ed7953\"],[0.7777777777777778,\"#fb9f3a\"],[0.8888888888888888,\"#fdca26\"],[1.0,\"#f0f921\"]],\"type\":\"heatmapgl\"}],\"heatmap\":[{\"colorbar\":{\"outlinewidth\":0,\"ticks\":\"\"},\"colorscale\":[[0.0,\"#0d0887\"],[0.1111111111111111,\"#46039f\"],[0.2222222222222222,\"#7201a8\"],[0.3333333333333333,\"#9c179e\"],[0.4444444444444444,\"#bd3786\"],[0.5555555555555556,\"#d8576b\"],[0.6666666666666666,\"#ed7953\"],[0.7777777777777778,\"#fb9f3a\"],[0.8888888888888888,\"#fdca26\"],[1.0,\"#f0f921\"]],\"type\":\"heatmap\"}],\"histogram2dcontour\":[{\"colorbar\":{\"outlinewidth\":0,\"ticks\":\"\"},\"colorscale\":[[0.0,\"#0d0887\"],[0.1111111111111111,\"#46039f\"],[0.2222222222222222,\"#7201a8\"],[0.3333333333333333,\"#9c179e\"],[0.4444444444444444,\"#bd3786\"],[0.5555555555555556,\"#d8576b\"],[0.6666666666666666,\"#ed7953\"],[0.7777777777777778,\"#fb9f3a\"],[0.8888888888888888,\"#fdca26\"],[1.0,\"#f0f921\"]],\"type\":\"histogram2dcontour\"}],\"histogram2d\":[{\"colorbar\":{\"outlinewidth\":0,\"ticks\":\"\"},\"colorscale\":[[0.0,\"#0d0887\"],[0.1111111111111111,\"#46039f\"],[0.2222222222222222,\"#7201a8\"],[0.3333333333333333,\"#9c179e\"],[0.4444444444444444,\"#bd3786\"],[0.5555555555555556,\"#d8576b\"],[0.6666666666666666,\"#ed7953\"],[0.7777777777777778,\"#fb9f3a\"],[0.8888888888888888,\"#fdca26\"],[1.0,\"#f0f921\"]],\"type\":\"histogram2d\"}],\"histogram\":[{\"marker\":{\"pattern\":{\"fillmode\":\"overlay\",\"size\":10,\"solidity\":0.2}},\"type\":\"histogram\"}],\"mesh3d\":[{\"colorbar\":{\"outlinewidth\":0,\"ticks\":\"\"},\"type\":\"mesh3d\"}],\"parcoords\":[{\"line\":{\"colorbar\":{\"outlinewidth\":0,\"ticks\":\"\"}},\"type\":\"parcoords\"}],\"pie\":[{\"automargin\":true,\"type\":\"pie\"}],\"scatter3d\":[{\"line\":{\"colorbar\":{\"outlinewidth\":0,\"ticks\":\"\"}},\"marker\":{\"colorbar\":{\"outlinewidth\":0,\"ticks\":\"\"}},\"type\":\"scatter3d\"}],\"scattercarpet\":[{\"marker\":{\"colorbar\":{\"outlinewidth\":0,\"ticks\":\"\"}},\"type\":\"scattercarpet\"}],\"scattergeo\":[{\"marker\":{\"colorbar\":{\"outlinewidth\":0,\"ticks\":\"\"}},\"type\":\"scattergeo\"}],\"scattergl\":[{\"marker\":{\"line\":{\"color\":\"#283442\"}},\"type\":\"scattergl\"}],\"scattermapbox\":[{\"marker\":{\"colorbar\":{\"outlinewidth\":0,\"ticks\":\"\"}},\"type\":\"scattermapbox\"}],\"scatterpolargl\":[{\"marker\":{\"colorbar\":{\"outlinewidth\":0,\"ticks\":\"\"}},\"type\":\"scatterpolargl\"}],\"scatterpolar\":[{\"marker\":{\"colorbar\":{\"outlinewidth\":0,\"ticks\":\"\"}},\"type\":\"scatterpolar\"}],\"scatter\":[{\"marker\":{\"line\":{\"color\":\"#283442\"}},\"type\":\"scatter\"}],\"scatterternary\":[{\"marker\":{\"colorbar\":{\"outlinewidth\":0,\"ticks\":\"\"}},\"type\":\"scatterternary\"}],\"surface\":[{\"colorbar\":{\"outlinewidth\":0,\"ticks\":\"\"},\"colorscale\":[[0.0,\"#0d0887\"],[0.1111111111111111,\"#46039f\"],[0.2222222222222222,\"#7201a8\"],[0.3333333333333333,\"#9c179e\"],[0.4444444444444444,\"#bd3786\"],[0.5555555555555556,\"#d8576b\"],[0.6666666666666666,\"#ed7953\"],[0.7777777777777778,\"#fb9f3a\"],[0.8888888888888888,\"#fdca26\"],[1.0,\"#f0f921\"]],\"type\":\"surface\"}],\"table\":[{\"cells\":{\"fill\":{\"color\":\"#506784\"},\"line\":{\"color\":\"rgb(17,17,17)\"}},\"header\":{\"fill\":{\"color\":\"#2a3f5f\"},\"line\":{\"color\":\"rgb(17,17,17)\"}},\"type\":\"table\"}]},\"layout\":{\"annotationdefaults\":{\"arrowcolor\":\"#f2f5fa\",\"arrowhead\":0,\"arrowwidth\":1},\"autotypenumbers\":\"strict\",\"coloraxis\":{\"colorbar\":{\"outlinewidth\":0,\"ticks\":\"\"}},\"colorscale\":{\"diverging\":[[0,\"#8e0152\"],[0.1,\"#c51b7d\"],[0.2,\"#de77ae\"],[0.3,\"#f1b6da\"],[0.4,\"#fde0ef\"],[0.5,\"#f7f7f7\"],[0.6,\"#e6f5d0\"],[0.7,\"#b8e186\"],[0.8,\"#7fbc41\"],[0.9,\"#4d9221\"],[1,\"#276419\"]],\"sequential\":[[0.0,\"#0d0887\"],[0.1111111111111111,\"#46039f\"],[0.2222222222222222,\"#7201a8\"],[0.3333333333333333,\"#9c179e\"],[0.4444444444444444,\"#bd3786\"],[0.5555555555555556,\"#d8576b\"],[0.6666666666666666,\"#ed7953\"],[0.7777777777777778,\"#fb9f3a\"],[0.8888888888888888,\"#fdca26\"],[1.0,\"#f0f921\"]],\"sequentialminus\":[[0.0,\"#0d0887\"],[0.1111111111111111,\"#46039f\"],[0.2222222222222222,\"#7201a8\"],[0.3333333333333333,\"#9c179e\"],[0.4444444444444444,\"#bd3786\"],[0.5555555555555556,\"#d8576b\"],[0.6666666666666666,\"#ed7953\"],[0.7777777777777778,\"#fb9f3a\"],[0.8888888888888888,\"#fdca26\"],[1.0,\"#f0f921\"]]},\"colorway\":[\"#636efa\",\"#EF553B\",\"#00cc96\",\"#ab63fa\",\"#FFA15A\",\"#19d3f3\",\"#FF6692\",\"#B6E880\",\"#FF97FF\",\"#FECB52\"],\"font\":{\"color\":\"#f2f5fa\"},\"geo\":{\"bgcolor\":\"rgb(17,17,17)\",\"lakecolor\":\"rgb(17,17,17)\",\"landcolor\":\"rgb(17,17,17)\",\"showlakes\":true,\"showland\":true,\"subunitcolor\":\"#506784\"},\"hoverlabel\":{\"align\":\"left\"},\"hovermode\":\"closest\",\"mapbox\":{\"style\":\"dark\"},\"paper_bgcolor\":\"rgb(17,17,17)\",\"plot_bgcolor\":\"rgb(17,17,17)\",\"polar\":{\"angularaxis\":{\"gridcolor\":\"#506784\",\"linecolor\":\"#506784\",\"ticks\":\"\"},\"bgcolor\":\"rgb(17,17,17)\",\"radialaxis\":{\"gridcolor\":\"#506784\",\"linecolor\":\"#506784\",\"ticks\":\"\"}},\"scene\":{\"xaxis\":{\"backgroundcolor\":\"rgb(17,17,17)\",\"gridcolor\":\"#506784\",\"gridwidth\":2,\"linecolor\":\"#506784\",\"showbackground\":true,\"ticks\":\"\",\"zerolinecolor\":\"#C8D4E3\"},\"yaxis\":{\"backgroundcolor\":\"rgb(17,17,17)\",\"gridcolor\":\"#506784\",\"gridwidth\":2,\"linecolor\":\"#506784\",\"showbackground\":true,\"ticks\":\"\",\"zerolinecolor\":\"#C8D4E3\"},\"zaxis\":{\"backgroundcolor\":\"rgb(17,17,17)\",\"gridcolor\":\"#506784\",\"gridwidth\":2,\"linecolor\":\"#506784\",\"showbackground\":true,\"ticks\":\"\",\"zerolinecolor\":\"#C8D4E3\"}},\"shapedefaults\":{\"line\":{\"color\":\"#f2f5fa\"}},\"sliderdefaults\":{\"bgcolor\":\"#C8D4E3\",\"bordercolor\":\"rgb(17,17,17)\",\"borderwidth\":1,\"tickwidth\":0},\"ternary\":{\"aaxis\":{\"gridcolor\":\"#506784\",\"linecolor\":\"#506784\",\"ticks\":\"\"},\"baxis\":{\"gridcolor\":\"#506784\",\"linecolor\":\"#506784\",\"ticks\":\"\"},\"bgcolor\":\"rgb(17,17,17)\",\"caxis\":{\"gridcolor\":\"#506784\",\"linecolor\":\"#506784\",\"ticks\":\"\"}},\"title\":{\"x\":0.05},\"updatemenudefaults\":{\"bgcolor\":\"#506784\",\"borderwidth\":0},\"xaxis\":{\"automargin\":true,\"gridcolor\":\"#283442\",\"linecolor\":\"#506784\",\"ticks\":\"\",\"title\":{\"standoff\":15},\"zerolinecolor\":\"#283442\",\"zerolinewidth\":2},\"yaxis\":{\"automargin\":true,\"gridcolor\":\"#283442\",\"linecolor\":\"#506784\",\"ticks\":\"\",\"title\":{\"standoff\":15},\"zerolinecolor\":\"#283442\",\"zerolinewidth\":2}}},\"xaxis\":{\"anchor\":\"y\",\"domain\":[0.0,1.0],\"title\":{\"text\":\"Genres\"}},\"yaxis\":{\"anchor\":\"x\",\"domain\":[0.0,1.0],\"title\":{\"text\":\"Count\"}},\"legend\":{\"tracegroupgap\":0},\"margin\":{\"t\":60},\"barmode\":\"relative\",\"height\":400,\"width\":900},                        {\"responsive\": true}                    ).then(function(){\n",
              "                            \n",
              "var gd = document.getElementById('60732cdb-8479-4a7e-8e71-eaa919de4022');\n",
              "var x = new MutationObserver(function (mutations, observer) {{\n",
              "        var display = window.getComputedStyle(gd).display;\n",
              "        if (!display || display === 'none') {{\n",
              "            console.log([gd, 'removed!']);\n",
              "            Plotly.purge(gd);\n",
              "            observer.disconnect();\n",
              "        }}\n",
              "}});\n",
              "\n",
              "// Listen for the removal of the full notebook cells\n",
              "var notebookContainer = gd.closest('#notebook-container');\n",
              "if (notebookContainer) {{\n",
              "    x.observe(notebookContainer, {childList: true});\n",
              "}}\n",
              "\n",
              "// Listen for the clearing of the current output cell\n",
              "var outputEl = gd.closest('.output');\n",
              "if (outputEl) {{\n",
              "    x.observe(outputEl, {childList: true});\n",
              "}}\n",
              "\n",
              "                        })                };                            </script>        </div>\n",
              "</body>\n",
              "</html>"
            ]
          },
          "metadata": {}
        }
      ]
    },
    {
      "cell_type": "markdown",
      "source": [
        "The top 6 genres in the dataset are: International Movies, Dramas, Comedies, International TV Shows, Documentaries, and Action & Adventure. This could be because these genres are popular among viewers and therefore, more content is produced in these genres."
      ],
      "metadata": {
        "id": "QZrqcRjdFpvK"
      }
    },
    {
      "cell_type": "markdown",
      "source": [
        "**Evolution of the Top 6 Genres starting from 1995**"
      ],
      "metadata": {
        "id": "PeTNo3ZJFtCk"
      }
    },
    {
      "cell_type": "code",
      "source": [
        "# Group the data by year and genre\n",
        "grouped = df[(df['release_year'] >= 1995) & (df['listed_in'].isin(list(top_6.keys())))].groupby(['release_year', 'listed_in']).size().reset_index(name='counts')\n",
        "\n",
        "# Pivot the data to get the count of shows for each genre in each year\n",
        "pivot_df = grouped.pivot(index='release_year', columns='listed_in', values='counts')\n",
        "\n",
        "# Make the line chart\n",
        "fig = px.line(pivot_df, title='Evolution of the Top 6 Genres starting from 1995')\n",
        "fig.show()"
      ],
      "metadata": {
        "colab": {
          "base_uri": "https://localhost:8080/",
          "height": 417
        },
        "id": "IMLFB1_D9oAs",
        "outputId": "0618531c-1ec4-41ce-b2c3-092d67f921d9"
      },
      "execution_count": null,
      "outputs": [
        {
          "output_type": "display_data",
          "data": {
            "text/html": [
              "<html>\n",
              "<head><meta charset=\"utf-8\" /></head>\n",
              "<body>\n",
              "    <div>            <script src=\"https://cdnjs.cloudflare.com/ajax/libs/mathjax/2.7.5/MathJax.js?config=TeX-AMS-MML_SVG\"></script><script type=\"text/javascript\">if (window.MathJax) {MathJax.Hub.Config({SVG: {font: \"STIX-Web\"}});}</script>                <script type=\"text/javascript\">window.PlotlyConfig = {MathJaxConfig: 'local'};</script>\n",
              "        <script src=\"https://cdn.plot.ly/plotly-2.8.3.min.js\"></script>                <div id=\"8117fd9c-49c0-4769-80b8-12a9481b86ae\" class=\"plotly-graph-div\" style=\"height:400px; width:900px;\"></div>            <script type=\"text/javascript\">                                    window.PLOTLYENV=window.PLOTLYENV || {};                                    if (document.getElementById(\"8117fd9c-49c0-4769-80b8-12a9481b86ae\")) {                    Plotly.newPlot(                        \"8117fd9c-49c0-4769-80b8-12a9481b86ae\",                        [{\"hovertemplate\":\"listed_in=Action & Adventure<br>release_year=%{x}<br>value=%{y}<extra></extra>\",\"legendgroup\":\"Action & Adventure\",\"line\":{\"color\":\"#636efa\",\"dash\":\"solid\"},\"marker\":{\"symbol\":\"circle\"},\"mode\":\"lines\",\"name\":\"Action & Adventure\",\"orientation\":\"v\",\"showlegend\":true,\"x\":[1995,1996,1997,1998,1999,2000,2001,2002,2003,2004,2005,2006,2007,2008,2009,2010,2011,2012,2013,2014,2015,2016,2017,2018,2019,2020,2021],\"xaxis\":\"x\",\"y\":[1.0,2.0,4.0,null,2.0,1.0,3.0,2.0,3.0,1.0,1.0,2.0,1.0,3.0,3.0,4.0,2.0,7.0,5.0,5.0,7.0,12.0,13.0,12.0,8.0,11.0,5.0],\"yaxis\":\"y\",\"type\":\"scatter\"},{\"hovertemplate\":\"listed_in=Comedies<br>release_year=%{x}<br>value=%{y}<extra></extra>\",\"legendgroup\":\"Comedies\",\"line\":{\"color\":\"#EF553B\",\"dash\":\"solid\"},\"marker\":{\"symbol\":\"circle\"},\"mode\":\"lines\",\"name\":\"Comedies\",\"orientation\":\"v\",\"showlegend\":true,\"x\":[1995,1996,1997,1998,1999,2000,2001,2002,2003,2004,2005,2006,2007,2008,2009,2010,2011,2012,2013,2014,2015,2016,2017,2018,2019,2020,2021],\"xaxis\":\"x\",\"y\":[1.0,1.0,2.0,1.0,2.0,1.0,1.0,null,2.0,null,1.0,1.0,1.0,4.0,4.0,3.0,2.0,4.0,2.0,3.0,5.0,12.0,13.0,12.0,14.0,10.0,4.0],\"yaxis\":\"y\",\"type\":\"scatter\"},{\"hovertemplate\":\"listed_in=Documentaries<br>release_year=%{x}<br>value=%{y}<extra></extra>\",\"legendgroup\":\"Documentaries\",\"line\":{\"color\":\"#00cc96\",\"dash\":\"solid\"},\"marker\":{\"symbol\":\"circle\"},\"mode\":\"lines\",\"name\":\"Documentaries\",\"orientation\":\"v\",\"showlegend\":true,\"x\":[1995,1996,1997,1998,1999,2000,2001,2002,2003,2004,2005,2006,2007,2008,2009,2010,2011,2012,2013,2014,2015,2016,2017,2018,2019,2020,2021],\"xaxis\":\"x\",\"y\":[null,null,null,1.0,null,null,null,1.0,null,null,1.0,1.0,1.0,3.0,1.0,3.0,5.0,3.0,10.0,12.0,26.0,67.0,89.0,54.0,33.0,23.0,20.0],\"yaxis\":\"y\",\"type\":\"scatter\"},{\"hovertemplate\":\"listed_in=Dramas<br>release_year=%{x}<br>value=%{y}<extra></extra>\",\"legendgroup\":\"Dramas\",\"line\":{\"color\":\"#ab63fa\",\"dash\":\"solid\"},\"marker\":{\"symbol\":\"circle\"},\"mode\":\"lines\",\"name\":\"Dramas\",\"orientation\":\"v\",\"showlegend\":true,\"x\":[1995,1996,1997,1998,1999,2000,2001,2002,2003,2004,2005,2006,2007,2008,2009,2010,2011,2012,2013,2014,2015,2016,2017,2018,2019,2020,2021],\"xaxis\":\"x\",\"y\":[1.0,null,1.0,2.0,1.0,1.0,2.0,2.0,2.0,null,2.0,1.0,1.0,3.0,2.0,2.0,2.0,5.0,2.0,4.0,8.0,16.0,19.0,11.0,17.0,12.0,6.0],\"yaxis\":\"y\",\"type\":\"scatter\"},{\"hovertemplate\":\"listed_in=International Movies<br>release_year=%{x}<br>value=%{y}<extra></extra>\",\"legendgroup\":\"International Movies\",\"line\":{\"color\":\"#FFA15A\",\"dash\":\"solid\"},\"marker\":{\"symbol\":\"circle\"},\"mode\":\"lines\",\"name\":\"International Movies\",\"orientation\":\"v\",\"showlegend\":true,\"x\":[1995,1996,1997,1998,1999,2000,2001,2002,2003,2004,2005,2006,2007,2008,2009,2010,2011,2012,2013,2014,2015,2016,2017,2018,2019,2020,2021],\"xaxis\":\"x\",\"y\":[null,null,null,null,null,null,null,null,null,null,null,null,null,null,null,null,null,null,null,null,null,1.0,null,1.0,1.0,null,null],\"yaxis\":\"y\",\"type\":\"scatter\"},{\"hovertemplate\":\"listed_in=International TV Shows<br>release_year=%{x}<br>value=%{y}<extra></extra>\",\"legendgroup\":\"International TV Shows\",\"line\":{\"color\":\"#19d3f3\",\"dash\":\"solid\"},\"marker\":{\"symbol\":\"circle\"},\"mode\":\"lines\",\"name\":\"International TV Shows\",\"orientation\":\"v\",\"showlegend\":true,\"x\":[1995,1996,1997,1998,1999,2000,2001,2002,2003,2004,2005,2006,2007,2008,2009,2010,2011,2012,2013,2014,2015,2016,2017,2018,2019,2020,2021],\"xaxis\":\"x\",\"y\":[null,null,null,null,null,null,null,null,null,null,null,null,null,null,null,null,null,null,null,null,null,null,1.0,null,1.0,null,null],\"yaxis\":\"y\",\"type\":\"scatter\"}],                        {\"template\":{\"data\":{\"barpolar\":[{\"marker\":{\"line\":{\"color\":\"rgb(17,17,17)\",\"width\":0.5},\"pattern\":{\"fillmode\":\"overlay\",\"size\":10,\"solidity\":0.2}},\"type\":\"barpolar\"}],\"bar\":[{\"error_x\":{\"color\":\"#f2f5fa\"},\"error_y\":{\"color\":\"#f2f5fa\"},\"marker\":{\"line\":{\"color\":\"rgb(17,17,17)\",\"width\":0.5},\"pattern\":{\"fillmode\":\"overlay\",\"size\":10,\"solidity\":0.2}},\"type\":\"bar\"}],\"carpet\":[{\"aaxis\":{\"endlinecolor\":\"#A2B1C6\",\"gridcolor\":\"#506784\",\"linecolor\":\"#506784\",\"minorgridcolor\":\"#506784\",\"startlinecolor\":\"#A2B1C6\"},\"baxis\":{\"endlinecolor\":\"#A2B1C6\",\"gridcolor\":\"#506784\",\"linecolor\":\"#506784\",\"minorgridcolor\":\"#506784\",\"startlinecolor\":\"#A2B1C6\"},\"type\":\"carpet\"}],\"choropleth\":[{\"colorbar\":{\"outlinewidth\":0,\"ticks\":\"\"},\"type\":\"choropleth\"}],\"contourcarpet\":[{\"colorbar\":{\"outlinewidth\":0,\"ticks\":\"\"},\"type\":\"contourcarpet\"}],\"contour\":[{\"colorbar\":{\"outlinewidth\":0,\"ticks\":\"\"},\"colorscale\":[[0.0,\"#0d0887\"],[0.1111111111111111,\"#46039f\"],[0.2222222222222222,\"#7201a8\"],[0.3333333333333333,\"#9c179e\"],[0.4444444444444444,\"#bd3786\"],[0.5555555555555556,\"#d8576b\"],[0.6666666666666666,\"#ed7953\"],[0.7777777777777778,\"#fb9f3a\"],[0.8888888888888888,\"#fdca26\"],[1.0,\"#f0f921\"]],\"type\":\"contour\"}],\"heatmapgl\":[{\"colorbar\":{\"outlinewidth\":0,\"ticks\":\"\"},\"colorscale\":[[0.0,\"#0d0887\"],[0.1111111111111111,\"#46039f\"],[0.2222222222222222,\"#7201a8\"],[0.3333333333333333,\"#9c179e\"],[0.4444444444444444,\"#bd3786\"],[0.5555555555555556,\"#d8576b\"],[0.6666666666666666,\"#ed7953\"],[0.7777777777777778,\"#fb9f3a\"],[0.8888888888888888,\"#fdca26\"],[1.0,\"#f0f921\"]],\"type\":\"heatmapgl\"}],\"heatmap\":[{\"colorbar\":{\"outlinewidth\":0,\"ticks\":\"\"},\"colorscale\":[[0.0,\"#0d0887\"],[0.1111111111111111,\"#46039f\"],[0.2222222222222222,\"#7201a8\"],[0.3333333333333333,\"#9c179e\"],[0.4444444444444444,\"#bd3786\"],[0.5555555555555556,\"#d8576b\"],[0.6666666666666666,\"#ed7953\"],[0.7777777777777778,\"#fb9f3a\"],[0.8888888888888888,\"#fdca26\"],[1.0,\"#f0f921\"]],\"type\":\"heatmap\"}],\"histogram2dcontour\":[{\"colorbar\":{\"outlinewidth\":0,\"ticks\":\"\"},\"colorscale\":[[0.0,\"#0d0887\"],[0.1111111111111111,\"#46039f\"],[0.2222222222222222,\"#7201a8\"],[0.3333333333333333,\"#9c179e\"],[0.4444444444444444,\"#bd3786\"],[0.5555555555555556,\"#d8576b\"],[0.6666666666666666,\"#ed7953\"],[0.7777777777777778,\"#fb9f3a\"],[0.8888888888888888,\"#fdca26\"],[1.0,\"#f0f921\"]],\"type\":\"histogram2dcontour\"}],\"histogram2d\":[{\"colorbar\":{\"outlinewidth\":0,\"ticks\":\"\"},\"colorscale\":[[0.0,\"#0d0887\"],[0.1111111111111111,\"#46039f\"],[0.2222222222222222,\"#7201a8\"],[0.3333333333333333,\"#9c179e\"],[0.4444444444444444,\"#bd3786\"],[0.5555555555555556,\"#d8576b\"],[0.6666666666666666,\"#ed7953\"],[0.7777777777777778,\"#fb9f3a\"],[0.8888888888888888,\"#fdca26\"],[1.0,\"#f0f921\"]],\"type\":\"histogram2d\"}],\"histogram\":[{\"marker\":{\"pattern\":{\"fillmode\":\"overlay\",\"size\":10,\"solidity\":0.2}},\"type\":\"histogram\"}],\"mesh3d\":[{\"colorbar\":{\"outlinewidth\":0,\"ticks\":\"\"},\"type\":\"mesh3d\"}],\"parcoords\":[{\"line\":{\"colorbar\":{\"outlinewidth\":0,\"ticks\":\"\"}},\"type\":\"parcoords\"}],\"pie\":[{\"automargin\":true,\"type\":\"pie\"}],\"scatter3d\":[{\"line\":{\"colorbar\":{\"outlinewidth\":0,\"ticks\":\"\"}},\"marker\":{\"colorbar\":{\"outlinewidth\":0,\"ticks\":\"\"}},\"type\":\"scatter3d\"}],\"scattercarpet\":[{\"marker\":{\"colorbar\":{\"outlinewidth\":0,\"ticks\":\"\"}},\"type\":\"scattercarpet\"}],\"scattergeo\":[{\"marker\":{\"colorbar\":{\"outlinewidth\":0,\"ticks\":\"\"}},\"type\":\"scattergeo\"}],\"scattergl\":[{\"marker\":{\"line\":{\"color\":\"#283442\"}},\"type\":\"scattergl\"}],\"scattermapbox\":[{\"marker\":{\"colorbar\":{\"outlinewidth\":0,\"ticks\":\"\"}},\"type\":\"scattermapbox\"}],\"scatterpolargl\":[{\"marker\":{\"colorbar\":{\"outlinewidth\":0,\"ticks\":\"\"}},\"type\":\"scatterpolargl\"}],\"scatterpolar\":[{\"marker\":{\"colorbar\":{\"outlinewidth\":0,\"ticks\":\"\"}},\"type\":\"scatterpolar\"}],\"scatter\":[{\"marker\":{\"line\":{\"color\":\"#283442\"}},\"type\":\"scatter\"}],\"scatterternary\":[{\"marker\":{\"colorbar\":{\"outlinewidth\":0,\"ticks\":\"\"}},\"type\":\"scatterternary\"}],\"surface\":[{\"colorbar\":{\"outlinewidth\":0,\"ticks\":\"\"},\"colorscale\":[[0.0,\"#0d0887\"],[0.1111111111111111,\"#46039f\"],[0.2222222222222222,\"#7201a8\"],[0.3333333333333333,\"#9c179e\"],[0.4444444444444444,\"#bd3786\"],[0.5555555555555556,\"#d8576b\"],[0.6666666666666666,\"#ed7953\"],[0.7777777777777778,\"#fb9f3a\"],[0.8888888888888888,\"#fdca26\"],[1.0,\"#f0f921\"]],\"type\":\"surface\"}],\"table\":[{\"cells\":{\"fill\":{\"color\":\"#506784\"},\"line\":{\"color\":\"rgb(17,17,17)\"}},\"header\":{\"fill\":{\"color\":\"#2a3f5f\"},\"line\":{\"color\":\"rgb(17,17,17)\"}},\"type\":\"table\"}]},\"layout\":{\"annotationdefaults\":{\"arrowcolor\":\"#f2f5fa\",\"arrowhead\":0,\"arrowwidth\":1},\"autotypenumbers\":\"strict\",\"coloraxis\":{\"colorbar\":{\"outlinewidth\":0,\"ticks\":\"\"}},\"colorscale\":{\"diverging\":[[0,\"#8e0152\"],[0.1,\"#c51b7d\"],[0.2,\"#de77ae\"],[0.3,\"#f1b6da\"],[0.4,\"#fde0ef\"],[0.5,\"#f7f7f7\"],[0.6,\"#e6f5d0\"],[0.7,\"#b8e186\"],[0.8,\"#7fbc41\"],[0.9,\"#4d9221\"],[1,\"#276419\"]],\"sequential\":[[0.0,\"#0d0887\"],[0.1111111111111111,\"#46039f\"],[0.2222222222222222,\"#7201a8\"],[0.3333333333333333,\"#9c179e\"],[0.4444444444444444,\"#bd3786\"],[0.5555555555555556,\"#d8576b\"],[0.6666666666666666,\"#ed7953\"],[0.7777777777777778,\"#fb9f3a\"],[0.8888888888888888,\"#fdca26\"],[1.0,\"#f0f921\"]],\"sequentialminus\":[[0.0,\"#0d0887\"],[0.1111111111111111,\"#46039f\"],[0.2222222222222222,\"#7201a8\"],[0.3333333333333333,\"#9c179e\"],[0.4444444444444444,\"#bd3786\"],[0.5555555555555556,\"#d8576b\"],[0.6666666666666666,\"#ed7953\"],[0.7777777777777778,\"#fb9f3a\"],[0.8888888888888888,\"#fdca26\"],[1.0,\"#f0f921\"]]},\"colorway\":[\"#636efa\",\"#EF553B\",\"#00cc96\",\"#ab63fa\",\"#FFA15A\",\"#19d3f3\",\"#FF6692\",\"#B6E880\",\"#FF97FF\",\"#FECB52\"],\"font\":{\"color\":\"#f2f5fa\"},\"geo\":{\"bgcolor\":\"rgb(17,17,17)\",\"lakecolor\":\"rgb(17,17,17)\",\"landcolor\":\"rgb(17,17,17)\",\"showlakes\":true,\"showland\":true,\"subunitcolor\":\"#506784\"},\"hoverlabel\":{\"align\":\"left\"},\"hovermode\":\"closest\",\"mapbox\":{\"style\":\"dark\"},\"paper_bgcolor\":\"rgb(17,17,17)\",\"plot_bgcolor\":\"rgb(17,17,17)\",\"polar\":{\"angularaxis\":{\"gridcolor\":\"#506784\",\"linecolor\":\"#506784\",\"ticks\":\"\"},\"bgcolor\":\"rgb(17,17,17)\",\"radialaxis\":{\"gridcolor\":\"#506784\",\"linecolor\":\"#506784\",\"ticks\":\"\"}},\"scene\":{\"xaxis\":{\"backgroundcolor\":\"rgb(17,17,17)\",\"gridcolor\":\"#506784\",\"gridwidth\":2,\"linecolor\":\"#506784\",\"showbackground\":true,\"ticks\":\"\",\"zerolinecolor\":\"#C8D4E3\"},\"yaxis\":{\"backgroundcolor\":\"rgb(17,17,17)\",\"gridcolor\":\"#506784\",\"gridwidth\":2,\"linecolor\":\"#506784\",\"showbackground\":true,\"ticks\":\"\",\"zerolinecolor\":\"#C8D4E3\"},\"zaxis\":{\"backgroundcolor\":\"rgb(17,17,17)\",\"gridcolor\":\"#506784\",\"gridwidth\":2,\"linecolor\":\"#506784\",\"showbackground\":true,\"ticks\":\"\",\"zerolinecolor\":\"#C8D4E3\"}},\"shapedefaults\":{\"line\":{\"color\":\"#f2f5fa\"}},\"sliderdefaults\":{\"bgcolor\":\"#C8D4E3\",\"bordercolor\":\"rgb(17,17,17)\",\"borderwidth\":1,\"tickwidth\":0},\"ternary\":{\"aaxis\":{\"gridcolor\":\"#506784\",\"linecolor\":\"#506784\",\"ticks\":\"\"},\"baxis\":{\"gridcolor\":\"#506784\",\"linecolor\":\"#506784\",\"ticks\":\"\"},\"bgcolor\":\"rgb(17,17,17)\",\"caxis\":{\"gridcolor\":\"#506784\",\"linecolor\":\"#506784\",\"ticks\":\"\"}},\"title\":{\"x\":0.05},\"updatemenudefaults\":{\"bgcolor\":\"#506784\",\"borderwidth\":0},\"xaxis\":{\"automargin\":true,\"gridcolor\":\"#283442\",\"linecolor\":\"#506784\",\"ticks\":\"\",\"title\":{\"standoff\":15},\"zerolinecolor\":\"#283442\",\"zerolinewidth\":2},\"yaxis\":{\"automargin\":true,\"gridcolor\":\"#283442\",\"linecolor\":\"#506784\",\"ticks\":\"\",\"title\":{\"standoff\":15},\"zerolinecolor\":\"#283442\",\"zerolinewidth\":2}}},\"xaxis\":{\"anchor\":\"y\",\"domain\":[0.0,1.0],\"title\":{\"text\":\"release_year\"}},\"yaxis\":{\"anchor\":\"x\",\"domain\":[0.0,1.0],\"title\":{\"text\":\"value\"}},\"legend\":{\"title\":{\"text\":\"listed_in\"},\"tracegroupgap\":0},\"title\":{\"text\":\"Evolution of the Top 6 Genres starting from 1995\"},\"height\":400,\"width\":900},                        {\"responsive\": true}                    ).then(function(){\n",
              "                            \n",
              "var gd = document.getElementById('8117fd9c-49c0-4769-80b8-12a9481b86ae');\n",
              "var x = new MutationObserver(function (mutations, observer) {{\n",
              "        var display = window.getComputedStyle(gd).display;\n",
              "        if (!display || display === 'none') {{\n",
              "            console.log([gd, 'removed!']);\n",
              "            Plotly.purge(gd);\n",
              "            observer.disconnect();\n",
              "        }}\n",
              "}});\n",
              "\n",
              "// Listen for the removal of the full notebook cells\n",
              "var notebookContainer = gd.closest('#notebook-container');\n",
              "if (notebookContainer) {{\n",
              "    x.observe(notebookContainer, {childList: true});\n",
              "}}\n",
              "\n",
              "// Listen for the clearing of the current output cell\n",
              "var outputEl = gd.closest('.output');\n",
              "if (outputEl) {{\n",
              "    x.observe(outputEl, {childList: true});\n",
              "}}\n",
              "\n",
              "                        })                };                            </script>        </div>\n",
              "</body>\n",
              "</html>"
            ]
          },
          "metadata": {}
        }
      ]
    },
    {
      "cell_type": "markdown",
      "source": [
        "The line graph of the top 6 genres' evolution over the years shows that the number of documentaries peaked in 2017, while comedies, adventure and dramas have had a slow and steady increase. This could be due to the changing preferences and demands of viewers over time. Additionally, the increasing number of documentaries being produced could also be a result of the growing interest in non-fiction content."
      ],
      "metadata": {
        "id": "_TIiyaGvFv9e"
      }
    },
    {
      "cell_type": "markdown",
      "source": [
        "# **Sentiment Analysis on Description Column**"
      ],
      "metadata": {
        "id": "doJjOtRqEJJX"
      }
    },
    {
      "cell_type": "markdown",
      "source": [
        "Sentiment analysis of the description column can provide valuable insights into the tone and emotions conveyed by the content descriptions. By understanding the sentiment of the descriptions, it is possible to determine which genres are typically associated with positive, negative, or neutral sentiments. For example, comedies may be more likely to have positive descriptions, while horror movies may be more likely to have negative descriptions. Additionally, by analyzing the sentiment of descriptions over time, we can determine if there have been any shifts in the overall sentiment of content offerings. This information can be useful for streaming platforms as it can help them understand what their customers are looking for and tailor their content offerings accordingly. It can also provide valuable insights for content creators and help them understand what kind of content is well received by audiences."
      ],
      "metadata": {
        "id": "6CHlirc-GbTP"
      }
    },
    {
      "cell_type": "markdown",
      "source": [
        "**Deriving sentiment categories from description column**"
      ],
      "metadata": {
        "id": "ytAxrgbKH1uv"
      }
    },
    {
      "cell_type": "code",
      "source": [
        "# Importing the TextBlob library to perform sentiment analysis\n",
        "from textblob import TextBlob\n",
        "\n",
        "# Defining a function to categorize the sentiment of the text\n",
        "def sentiment_category(text):\n",
        "    # Using TextBlob to get the sentiment polarity of the text\n",
        "    sentiment = TextBlob(text).sentiment.polarity\n",
        "    \n",
        "    # Checking the polarity value and assigning a sentiment category based on it\n",
        "    if sentiment < 0:\n",
        "        return \"Negative\"\n",
        "    elif sentiment == 0:\n",
        "        return \"Neutral\"\n",
        "    else:\n",
        "        return \"Positive\"\n",
        "\n",
        "# Applying the sentiment_category function to the 'description' column of the DataFrame\n",
        "df[\"sentiment_category\"] = df[\"description\"].apply(sentiment_category)"
      ],
      "metadata": {
        "id": "W0WhQiqnDxAP"
      },
      "execution_count": null,
      "outputs": []
    },
    {
      "cell_type": "code",
      "source": [
        "df.head()"
      ],
      "metadata": {
        "colab": {
          "base_uri": "https://localhost:8080/",
          "height": 476
        },
        "id": "xBXAMeDt_5D0",
        "outputId": "d7d54bd0-2b48-4258-c715-74e0fa491b47"
      },
      "execution_count": null,
      "outputs": [
        {
          "output_type": "execute_result",
          "data": {
            "text/plain": [
              "  show_id     type                  title         director  \\\n",
              "0      s1    Movie   Dick Johnson Is Dead  Kirsten Johnson   \n",
              "1      s2  TV Show          Blood & Water    Rajiv Chilaka   \n",
              "2      s3  TV Show              Ganglands  Julien Leclercq   \n",
              "3      s4  TV Show  Jailbirds New Orleans    Rajiv Chilaka   \n",
              "4      s5  TV Show           Kota Factory    Rajiv Chilaka   \n",
              "\n",
              "                                                cast        country  \\\n",
              "0                                 David Attenborough  United States   \n",
              "1  Ama Qamata, Khosi Ngema, Gail Mabalane, Thaban...   South Africa   \n",
              "2  Sami Bouajila, Tracy Gotoas, Samuel Jouy, Nabi...  United States   \n",
              "3                                 David Attenborough  United States   \n",
              "4  Mayur More, Jitendra Kumar, Ranjan Raj, Alam K...          India   \n",
              "\n",
              "           date_added  release_year rating   duration  \\\n",
              "0  September 25, 2021          2020  PG-13     90 min   \n",
              "1  September 24, 2021          2021  TV-MA  2 Seasons   \n",
              "2  September 24, 2021          2021  TV-MA   1 Season   \n",
              "3  September 24, 2021          2021  TV-MA   1 Season   \n",
              "4  September 24, 2021          2021  TV-MA  2 Seasons   \n",
              "\n",
              "                                           listed_in  \\\n",
              "0                                      Documentaries   \n",
              "1    International TV Shows, TV Dramas, TV Mysteries   \n",
              "2  Crime TV Shows, International TV Shows, TV Act...   \n",
              "3                             Docuseries, Reality TV   \n",
              "4  International TV Shows, Romantic TV Shows, TV ...   \n",
              "\n",
              "                                         description sentiment_category  \n",
              "0  As her father nears the end of his life, filmm...           Positive  \n",
              "1  After crossing paths at a party, a Cape Town t...            Neutral  \n",
              "2  To protect his family from a powerful drug lor...           Negative  \n",
              "3  Feuds, flirtations and toilet talk go down amo...           Negative  \n",
              "4  In a city of coaching centers known to train I...            Neutral  "
            ],
            "text/html": [
              "\n",
              "  <div id=\"df-f2fd9fe9-3f1d-4989-b024-26b596737dcb\">\n",
              "    <div class=\"colab-df-container\">\n",
              "      <div>\n",
              "<style scoped>\n",
              "    .dataframe tbody tr th:only-of-type {\n",
              "        vertical-align: middle;\n",
              "    }\n",
              "\n",
              "    .dataframe tbody tr th {\n",
              "        vertical-align: top;\n",
              "    }\n",
              "\n",
              "    .dataframe thead th {\n",
              "        text-align: right;\n",
              "    }\n",
              "</style>\n",
              "<table border=\"1\" class=\"dataframe\">\n",
              "  <thead>\n",
              "    <tr style=\"text-align: right;\">\n",
              "      <th></th>\n",
              "      <th>show_id</th>\n",
              "      <th>type</th>\n",
              "      <th>title</th>\n",
              "      <th>director</th>\n",
              "      <th>cast</th>\n",
              "      <th>country</th>\n",
              "      <th>date_added</th>\n",
              "      <th>release_year</th>\n",
              "      <th>rating</th>\n",
              "      <th>duration</th>\n",
              "      <th>listed_in</th>\n",
              "      <th>description</th>\n",
              "      <th>sentiment_category</th>\n",
              "    </tr>\n",
              "  </thead>\n",
              "  <tbody>\n",
              "    <tr>\n",
              "      <th>0</th>\n",
              "      <td>s1</td>\n",
              "      <td>Movie</td>\n",
              "      <td>Dick Johnson Is Dead</td>\n",
              "      <td>Kirsten Johnson</td>\n",
              "      <td>David Attenborough</td>\n",
              "      <td>United States</td>\n",
              "      <td>September 25, 2021</td>\n",
              "      <td>2020</td>\n",
              "      <td>PG-13</td>\n",
              "      <td>90 min</td>\n",
              "      <td>Documentaries</td>\n",
              "      <td>As her father nears the end of his life, filmm...</td>\n",
              "      <td>Positive</td>\n",
              "    </tr>\n",
              "    <tr>\n",
              "      <th>1</th>\n",
              "      <td>s2</td>\n",
              "      <td>TV Show</td>\n",
              "      <td>Blood &amp; Water</td>\n",
              "      <td>Rajiv Chilaka</td>\n",
              "      <td>Ama Qamata, Khosi Ngema, Gail Mabalane, Thaban...</td>\n",
              "      <td>South Africa</td>\n",
              "      <td>September 24, 2021</td>\n",
              "      <td>2021</td>\n",
              "      <td>TV-MA</td>\n",
              "      <td>2 Seasons</td>\n",
              "      <td>International TV Shows, TV Dramas, TV Mysteries</td>\n",
              "      <td>After crossing paths at a party, a Cape Town t...</td>\n",
              "      <td>Neutral</td>\n",
              "    </tr>\n",
              "    <tr>\n",
              "      <th>2</th>\n",
              "      <td>s3</td>\n",
              "      <td>TV Show</td>\n",
              "      <td>Ganglands</td>\n",
              "      <td>Julien Leclercq</td>\n",
              "      <td>Sami Bouajila, Tracy Gotoas, Samuel Jouy, Nabi...</td>\n",
              "      <td>United States</td>\n",
              "      <td>September 24, 2021</td>\n",
              "      <td>2021</td>\n",
              "      <td>TV-MA</td>\n",
              "      <td>1 Season</td>\n",
              "      <td>Crime TV Shows, International TV Shows, TV Act...</td>\n",
              "      <td>To protect his family from a powerful drug lor...</td>\n",
              "      <td>Negative</td>\n",
              "    </tr>\n",
              "    <tr>\n",
              "      <th>3</th>\n",
              "      <td>s4</td>\n",
              "      <td>TV Show</td>\n",
              "      <td>Jailbirds New Orleans</td>\n",
              "      <td>Rajiv Chilaka</td>\n",
              "      <td>David Attenborough</td>\n",
              "      <td>United States</td>\n",
              "      <td>September 24, 2021</td>\n",
              "      <td>2021</td>\n",
              "      <td>TV-MA</td>\n",
              "      <td>1 Season</td>\n",
              "      <td>Docuseries, Reality TV</td>\n",
              "      <td>Feuds, flirtations and toilet talk go down amo...</td>\n",
              "      <td>Negative</td>\n",
              "    </tr>\n",
              "    <tr>\n",
              "      <th>4</th>\n",
              "      <td>s5</td>\n",
              "      <td>TV Show</td>\n",
              "      <td>Kota Factory</td>\n",
              "      <td>Rajiv Chilaka</td>\n",
              "      <td>Mayur More, Jitendra Kumar, Ranjan Raj, Alam K...</td>\n",
              "      <td>India</td>\n",
              "      <td>September 24, 2021</td>\n",
              "      <td>2021</td>\n",
              "      <td>TV-MA</td>\n",
              "      <td>2 Seasons</td>\n",
              "      <td>International TV Shows, Romantic TV Shows, TV ...</td>\n",
              "      <td>In a city of coaching centers known to train I...</td>\n",
              "      <td>Neutral</td>\n",
              "    </tr>\n",
              "  </tbody>\n",
              "</table>\n",
              "</div>\n",
              "      <button class=\"colab-df-convert\" onclick=\"convertToInteractive('df-f2fd9fe9-3f1d-4989-b024-26b596737dcb')\"\n",
              "              title=\"Convert this dataframe to an interactive table.\"\n",
              "              style=\"display:none;\">\n",
              "        \n",
              "  <svg xmlns=\"http://www.w3.org/2000/svg\" height=\"24px\"viewBox=\"0 0 24 24\"\n",
              "       width=\"24px\">\n",
              "    <path d=\"M0 0h24v24H0V0z\" fill=\"none\"/>\n",
              "    <path d=\"M18.56 5.44l.94 2.06.94-2.06 2.06-.94-2.06-.94-.94-2.06-.94 2.06-2.06.94zm-11 1L8.5 8.5l.94-2.06 2.06-.94-2.06-.94L8.5 2.5l-.94 2.06-2.06.94zm10 10l.94 2.06.94-2.06 2.06-.94-2.06-.94-.94-2.06-.94 2.06-2.06.94z\"/><path d=\"M17.41 7.96l-1.37-1.37c-.4-.4-.92-.59-1.43-.59-.52 0-1.04.2-1.43.59L10.3 9.45l-7.72 7.72c-.78.78-.78 2.05 0 2.83L4 21.41c.39.39.9.59 1.41.59.51 0 1.02-.2 1.41-.59l7.78-7.78 2.81-2.81c.8-.78.8-2.07 0-2.86zM5.41 20L4 18.59l7.72-7.72 1.47 1.35L5.41 20z\"/>\n",
              "  </svg>\n",
              "      </button>\n",
              "      \n",
              "  <style>\n",
              "    .colab-df-container {\n",
              "      display:flex;\n",
              "      flex-wrap:wrap;\n",
              "      gap: 12px;\n",
              "    }\n",
              "\n",
              "    .colab-df-convert {\n",
              "      background-color: #E8F0FE;\n",
              "      border: none;\n",
              "      border-radius: 50%;\n",
              "      cursor: pointer;\n",
              "      display: none;\n",
              "      fill: #1967D2;\n",
              "      height: 32px;\n",
              "      padding: 0 0 0 0;\n",
              "      width: 32px;\n",
              "    }\n",
              "\n",
              "    .colab-df-convert:hover {\n",
              "      background-color: #E2EBFA;\n",
              "      box-shadow: 0px 1px 2px rgba(60, 64, 67, 0.3), 0px 1px 3px 1px rgba(60, 64, 67, 0.15);\n",
              "      fill: #174EA6;\n",
              "    }\n",
              "\n",
              "    [theme=dark] .colab-df-convert {\n",
              "      background-color: #3B4455;\n",
              "      fill: #D2E3FC;\n",
              "    }\n",
              "\n",
              "    [theme=dark] .colab-df-convert:hover {\n",
              "      background-color: #434B5C;\n",
              "      box-shadow: 0px 1px 3px 1px rgba(0, 0, 0, 0.15);\n",
              "      filter: drop-shadow(0px 1px 2px rgba(0, 0, 0, 0.3));\n",
              "      fill: #FFFFFF;\n",
              "    }\n",
              "  </style>\n",
              "\n",
              "      <script>\n",
              "        const buttonEl =\n",
              "          document.querySelector('#df-f2fd9fe9-3f1d-4989-b024-26b596737dcb button.colab-df-convert');\n",
              "        buttonEl.style.display =\n",
              "          google.colab.kernel.accessAllowed ? 'block' : 'none';\n",
              "\n",
              "        async function convertToInteractive(key) {\n",
              "          const element = document.querySelector('#df-f2fd9fe9-3f1d-4989-b024-26b596737dcb');\n",
              "          const dataTable =\n",
              "            await google.colab.kernel.invokeFunction('convertToInteractive',\n",
              "                                                     [key], {});\n",
              "          if (!dataTable) return;\n",
              "\n",
              "          const docLinkHtml = 'Like what you see? Visit the ' +\n",
              "            '<a target=\"_blank\" href=https://colab.research.google.com/notebooks/data_table.ipynb>data table notebook</a>'\n",
              "            + ' to learn more about interactive tables.';\n",
              "          element.innerHTML = '';\n",
              "          dataTable['output_type'] = 'display_data';\n",
              "          await google.colab.output.renderOutput(dataTable, element);\n",
              "          const docLink = document.createElement('div');\n",
              "          docLink.innerHTML = docLinkHtml;\n",
              "          element.appendChild(docLink);\n",
              "        }\n",
              "      </script>\n",
              "    </div>\n",
              "  </div>\n",
              "  "
            ]
          },
          "metadata": {},
          "execution_count": 261
        }
      ]
    },
    {
      "cell_type": "markdown",
      "source": [
        "**Visualising the occurences in each category**"
      ],
      "metadata": {
        "id": "DEYikqIwH8Nh"
      }
    },
    {
      "cell_type": "code",
      "source": [
        "# Count the number of occurrences of each sentiment category\n",
        "sentiment_counts = df['sentiment_category'].value_counts()\n",
        "\n",
        "# Create a bar chart\n",
        "fig = px.bar(sentiment_counts, x=sentiment_counts.index, y=sentiment_counts.values)\n",
        "\n",
        "# Set the x-axis label\n",
        "fig.update_layout(xaxis_title=\"Sentiment Category\")\n",
        "\n",
        "# Show the chart\n",
        "fig.show()"
      ],
      "metadata": {
        "colab": {
          "base_uri": "https://localhost:8080/",
          "height": 417
        },
        "id": "_nY1Cx4iETt7",
        "outputId": "7d2e2f2b-2aa7-40cf-eb46-af093d6f28da"
      },
      "execution_count": null,
      "outputs": [
        {
          "output_type": "display_data",
          "data": {
            "text/html": [
              "<html>\n",
              "<head><meta charset=\"utf-8\" /></head>\n",
              "<body>\n",
              "    <div>            <script src=\"https://cdnjs.cloudflare.com/ajax/libs/mathjax/2.7.5/MathJax.js?config=TeX-AMS-MML_SVG\"></script><script type=\"text/javascript\">if (window.MathJax) {MathJax.Hub.Config({SVG: {font: \"STIX-Web\"}});}</script>                <script type=\"text/javascript\">window.PlotlyConfig = {MathJaxConfig: 'local'};</script>\n",
              "        <script src=\"https://cdn.plot.ly/plotly-2.8.3.min.js\"></script>                <div id=\"41caad2d-0a98-40f8-ad47-0b80b7d49e55\" class=\"plotly-graph-div\" style=\"height:400px; width:900px;\"></div>            <script type=\"text/javascript\">                                    window.PLOTLYENV=window.PLOTLYENV || {};                                    if (document.getElementById(\"41caad2d-0a98-40f8-ad47-0b80b7d49e55\")) {                    Plotly.newPlot(                        \"41caad2d-0a98-40f8-ad47-0b80b7d49e55\",                        [{\"alignmentgroup\":\"True\",\"hovertemplate\":\"index=%{x}<br>y=%{y}<extra></extra>\",\"legendgroup\":\"\",\"marker\":{\"color\":\"#636efa\",\"pattern\":{\"shape\":\"\"}},\"name\":\"\",\"offsetgroup\":\"\",\"orientation\":\"v\",\"showlegend\":false,\"textposition\":\"auto\",\"x\":[\"Positive\",\"Negative\",\"Neutral\"],\"xaxis\":\"x\",\"y\":[4551,2658,1598],\"yaxis\":\"y\",\"type\":\"bar\"}],                        {\"template\":{\"data\":{\"barpolar\":[{\"marker\":{\"line\":{\"color\":\"rgb(17,17,17)\",\"width\":0.5},\"pattern\":{\"fillmode\":\"overlay\",\"size\":10,\"solidity\":0.2}},\"type\":\"barpolar\"}],\"bar\":[{\"error_x\":{\"color\":\"#f2f5fa\"},\"error_y\":{\"color\":\"#f2f5fa\"},\"marker\":{\"line\":{\"color\":\"rgb(17,17,17)\",\"width\":0.5},\"pattern\":{\"fillmode\":\"overlay\",\"size\":10,\"solidity\":0.2}},\"type\":\"bar\"}],\"carpet\":[{\"aaxis\":{\"endlinecolor\":\"#A2B1C6\",\"gridcolor\":\"#506784\",\"linecolor\":\"#506784\",\"minorgridcolor\":\"#506784\",\"startlinecolor\":\"#A2B1C6\"},\"baxis\":{\"endlinecolor\":\"#A2B1C6\",\"gridcolor\":\"#506784\",\"linecolor\":\"#506784\",\"minorgridcolor\":\"#506784\",\"startlinecolor\":\"#A2B1C6\"},\"type\":\"carpet\"}],\"choropleth\":[{\"colorbar\":{\"outlinewidth\":0,\"ticks\":\"\"},\"type\":\"choropleth\"}],\"contourcarpet\":[{\"colorbar\":{\"outlinewidth\":0,\"ticks\":\"\"},\"type\":\"contourcarpet\"}],\"contour\":[{\"colorbar\":{\"outlinewidth\":0,\"ticks\":\"\"},\"colorscale\":[[0.0,\"#0d0887\"],[0.1111111111111111,\"#46039f\"],[0.2222222222222222,\"#7201a8\"],[0.3333333333333333,\"#9c179e\"],[0.4444444444444444,\"#bd3786\"],[0.5555555555555556,\"#d8576b\"],[0.6666666666666666,\"#ed7953\"],[0.7777777777777778,\"#fb9f3a\"],[0.8888888888888888,\"#fdca26\"],[1.0,\"#f0f921\"]],\"type\":\"contour\"}],\"heatmapgl\":[{\"colorbar\":{\"outlinewidth\":0,\"ticks\":\"\"},\"colorscale\":[[0.0,\"#0d0887\"],[0.1111111111111111,\"#46039f\"],[0.2222222222222222,\"#7201a8\"],[0.3333333333333333,\"#9c179e\"],[0.4444444444444444,\"#bd3786\"],[0.5555555555555556,\"#d8576b\"],[0.6666666666666666,\"#ed7953\"],[0.7777777777777778,\"#fb9f3a\"],[0.8888888888888888,\"#fdca26\"],[1.0,\"#f0f921\"]],\"type\":\"heatmapgl\"}],\"heatmap\":[{\"colorbar\":{\"outlinewidth\":0,\"ticks\":\"\"},\"colorscale\":[[0.0,\"#0d0887\"],[0.1111111111111111,\"#46039f\"],[0.2222222222222222,\"#7201a8\"],[0.3333333333333333,\"#9c179e\"],[0.4444444444444444,\"#bd3786\"],[0.5555555555555556,\"#d8576b\"],[0.6666666666666666,\"#ed7953\"],[0.7777777777777778,\"#fb9f3a\"],[0.8888888888888888,\"#fdca26\"],[1.0,\"#f0f921\"]],\"type\":\"heatmap\"}],\"histogram2dcontour\":[{\"colorbar\":{\"outlinewidth\":0,\"ticks\":\"\"},\"colorscale\":[[0.0,\"#0d0887\"],[0.1111111111111111,\"#46039f\"],[0.2222222222222222,\"#7201a8\"],[0.3333333333333333,\"#9c179e\"],[0.4444444444444444,\"#bd3786\"],[0.5555555555555556,\"#d8576b\"],[0.6666666666666666,\"#ed7953\"],[0.7777777777777778,\"#fb9f3a\"],[0.8888888888888888,\"#fdca26\"],[1.0,\"#f0f921\"]],\"type\":\"histogram2dcontour\"}],\"histogram2d\":[{\"colorbar\":{\"outlinewidth\":0,\"ticks\":\"\"},\"colorscale\":[[0.0,\"#0d0887\"],[0.1111111111111111,\"#46039f\"],[0.2222222222222222,\"#7201a8\"],[0.3333333333333333,\"#9c179e\"],[0.4444444444444444,\"#bd3786\"],[0.5555555555555556,\"#d8576b\"],[0.6666666666666666,\"#ed7953\"],[0.7777777777777778,\"#fb9f3a\"],[0.8888888888888888,\"#fdca26\"],[1.0,\"#f0f921\"]],\"type\":\"histogram2d\"}],\"histogram\":[{\"marker\":{\"pattern\":{\"fillmode\":\"overlay\",\"size\":10,\"solidity\":0.2}},\"type\":\"histogram\"}],\"mesh3d\":[{\"colorbar\":{\"outlinewidth\":0,\"ticks\":\"\"},\"type\":\"mesh3d\"}],\"parcoords\":[{\"line\":{\"colorbar\":{\"outlinewidth\":0,\"ticks\":\"\"}},\"type\":\"parcoords\"}],\"pie\":[{\"automargin\":true,\"type\":\"pie\"}],\"scatter3d\":[{\"line\":{\"colorbar\":{\"outlinewidth\":0,\"ticks\":\"\"}},\"marker\":{\"colorbar\":{\"outlinewidth\":0,\"ticks\":\"\"}},\"type\":\"scatter3d\"}],\"scattercarpet\":[{\"marker\":{\"colorbar\":{\"outlinewidth\":0,\"ticks\":\"\"}},\"type\":\"scattercarpet\"}],\"scattergeo\":[{\"marker\":{\"colorbar\":{\"outlinewidth\":0,\"ticks\":\"\"}},\"type\":\"scattergeo\"}],\"scattergl\":[{\"marker\":{\"line\":{\"color\":\"#283442\"}},\"type\":\"scattergl\"}],\"scattermapbox\":[{\"marker\":{\"colorbar\":{\"outlinewidth\":0,\"ticks\":\"\"}},\"type\":\"scattermapbox\"}],\"scatterpolargl\":[{\"marker\":{\"colorbar\":{\"outlinewidth\":0,\"ticks\":\"\"}},\"type\":\"scatterpolargl\"}],\"scatterpolar\":[{\"marker\":{\"colorbar\":{\"outlinewidth\":0,\"ticks\":\"\"}},\"type\":\"scatterpolar\"}],\"scatter\":[{\"marker\":{\"line\":{\"color\":\"#283442\"}},\"type\":\"scatter\"}],\"scatterternary\":[{\"marker\":{\"colorbar\":{\"outlinewidth\":0,\"ticks\":\"\"}},\"type\":\"scatterternary\"}],\"surface\":[{\"colorbar\":{\"outlinewidth\":0,\"ticks\":\"\"},\"colorscale\":[[0.0,\"#0d0887\"],[0.1111111111111111,\"#46039f\"],[0.2222222222222222,\"#7201a8\"],[0.3333333333333333,\"#9c179e\"],[0.4444444444444444,\"#bd3786\"],[0.5555555555555556,\"#d8576b\"],[0.6666666666666666,\"#ed7953\"],[0.7777777777777778,\"#fb9f3a\"],[0.8888888888888888,\"#fdca26\"],[1.0,\"#f0f921\"]],\"type\":\"surface\"}],\"table\":[{\"cells\":{\"fill\":{\"color\":\"#506784\"},\"line\":{\"color\":\"rgb(17,17,17)\"}},\"header\":{\"fill\":{\"color\":\"#2a3f5f\"},\"line\":{\"color\":\"rgb(17,17,17)\"}},\"type\":\"table\"}]},\"layout\":{\"annotationdefaults\":{\"arrowcolor\":\"#f2f5fa\",\"arrowhead\":0,\"arrowwidth\":1},\"autotypenumbers\":\"strict\",\"coloraxis\":{\"colorbar\":{\"outlinewidth\":0,\"ticks\":\"\"}},\"colorscale\":{\"diverging\":[[0,\"#8e0152\"],[0.1,\"#c51b7d\"],[0.2,\"#de77ae\"],[0.3,\"#f1b6da\"],[0.4,\"#fde0ef\"],[0.5,\"#f7f7f7\"],[0.6,\"#e6f5d0\"],[0.7,\"#b8e186\"],[0.8,\"#7fbc41\"],[0.9,\"#4d9221\"],[1,\"#276419\"]],\"sequential\":[[0.0,\"#0d0887\"],[0.1111111111111111,\"#46039f\"],[0.2222222222222222,\"#7201a8\"],[0.3333333333333333,\"#9c179e\"],[0.4444444444444444,\"#bd3786\"],[0.5555555555555556,\"#d8576b\"],[0.6666666666666666,\"#ed7953\"],[0.7777777777777778,\"#fb9f3a\"],[0.8888888888888888,\"#fdca26\"],[1.0,\"#f0f921\"]],\"sequentialminus\":[[0.0,\"#0d0887\"],[0.1111111111111111,\"#46039f\"],[0.2222222222222222,\"#7201a8\"],[0.3333333333333333,\"#9c179e\"],[0.4444444444444444,\"#bd3786\"],[0.5555555555555556,\"#d8576b\"],[0.6666666666666666,\"#ed7953\"],[0.7777777777777778,\"#fb9f3a\"],[0.8888888888888888,\"#fdca26\"],[1.0,\"#f0f921\"]]},\"colorway\":[\"#636efa\",\"#EF553B\",\"#00cc96\",\"#ab63fa\",\"#FFA15A\",\"#19d3f3\",\"#FF6692\",\"#B6E880\",\"#FF97FF\",\"#FECB52\"],\"font\":{\"color\":\"#f2f5fa\"},\"geo\":{\"bgcolor\":\"rgb(17,17,17)\",\"lakecolor\":\"rgb(17,17,17)\",\"landcolor\":\"rgb(17,17,17)\",\"showlakes\":true,\"showland\":true,\"subunitcolor\":\"#506784\"},\"hoverlabel\":{\"align\":\"left\"},\"hovermode\":\"closest\",\"mapbox\":{\"style\":\"dark\"},\"paper_bgcolor\":\"rgb(17,17,17)\",\"plot_bgcolor\":\"rgb(17,17,17)\",\"polar\":{\"angularaxis\":{\"gridcolor\":\"#506784\",\"linecolor\":\"#506784\",\"ticks\":\"\"},\"bgcolor\":\"rgb(17,17,17)\",\"radialaxis\":{\"gridcolor\":\"#506784\",\"linecolor\":\"#506784\",\"ticks\":\"\"}},\"scene\":{\"xaxis\":{\"backgroundcolor\":\"rgb(17,17,17)\",\"gridcolor\":\"#506784\",\"gridwidth\":2,\"linecolor\":\"#506784\",\"showbackground\":true,\"ticks\":\"\",\"zerolinecolor\":\"#C8D4E3\"},\"yaxis\":{\"backgroundcolor\":\"rgb(17,17,17)\",\"gridcolor\":\"#506784\",\"gridwidth\":2,\"linecolor\":\"#506784\",\"showbackground\":true,\"ticks\":\"\",\"zerolinecolor\":\"#C8D4E3\"},\"zaxis\":{\"backgroundcolor\":\"rgb(17,17,17)\",\"gridcolor\":\"#506784\",\"gridwidth\":2,\"linecolor\":\"#506784\",\"showbackground\":true,\"ticks\":\"\",\"zerolinecolor\":\"#C8D4E3\"}},\"shapedefaults\":{\"line\":{\"color\":\"#f2f5fa\"}},\"sliderdefaults\":{\"bgcolor\":\"#C8D4E3\",\"bordercolor\":\"rgb(17,17,17)\",\"borderwidth\":1,\"tickwidth\":0},\"ternary\":{\"aaxis\":{\"gridcolor\":\"#506784\",\"linecolor\":\"#506784\",\"ticks\":\"\"},\"baxis\":{\"gridcolor\":\"#506784\",\"linecolor\":\"#506784\",\"ticks\":\"\"},\"bgcolor\":\"rgb(17,17,17)\",\"caxis\":{\"gridcolor\":\"#506784\",\"linecolor\":\"#506784\",\"ticks\":\"\"}},\"title\":{\"x\":0.05},\"updatemenudefaults\":{\"bgcolor\":\"#506784\",\"borderwidth\":0},\"xaxis\":{\"automargin\":true,\"gridcolor\":\"#283442\",\"linecolor\":\"#506784\",\"ticks\":\"\",\"title\":{\"standoff\":15},\"zerolinecolor\":\"#283442\",\"zerolinewidth\":2},\"yaxis\":{\"automargin\":true,\"gridcolor\":\"#283442\",\"linecolor\":\"#506784\",\"ticks\":\"\",\"title\":{\"standoff\":15},\"zerolinecolor\":\"#283442\",\"zerolinewidth\":2}}},\"xaxis\":{\"anchor\":\"y\",\"domain\":[0.0,1.0],\"title\":{\"text\":\"Sentiment Category\"}},\"yaxis\":{\"anchor\":\"x\",\"domain\":[0.0,1.0],\"title\":{\"text\":\"y\"}},\"legend\":{\"tracegroupgap\":0},\"margin\":{\"t\":60},\"barmode\":\"relative\",\"height\":400,\"width\":900},                        {\"responsive\": true}                    ).then(function(){\n",
              "                            \n",
              "var gd = document.getElementById('41caad2d-0a98-40f8-ad47-0b80b7d49e55');\n",
              "var x = new MutationObserver(function (mutations, observer) {{\n",
              "        var display = window.getComputedStyle(gd).display;\n",
              "        if (!display || display === 'none') {{\n",
              "            console.log([gd, 'removed!']);\n",
              "            Plotly.purge(gd);\n",
              "            observer.disconnect();\n",
              "        }}\n",
              "}});\n",
              "\n",
              "// Listen for the removal of the full notebook cells\n",
              "var notebookContainer = gd.closest('#notebook-container');\n",
              "if (notebookContainer) {{\n",
              "    x.observe(notebookContainer, {childList: true});\n",
              "}}\n",
              "\n",
              "// Listen for the clearing of the current output cell\n",
              "var outputEl = gd.closest('.output');\n",
              "if (outputEl) {{\n",
              "    x.observe(outputEl, {childList: true});\n",
              "}}\n",
              "\n",
              "                        })                };                            </script>        </div>\n",
              "</body>\n",
              "</html>"
            ]
          },
          "metadata": {}
        }
      ]
    },
    {
      "cell_type": "markdown",
      "source": [
        "**Distribution of Sentiments over the Years (Starting from 1995)**"
      ],
      "metadata": {
        "id": "E4g-gALgIGmc"
      }
    },
    {
      "cell_type": "code",
      "source": [
        "#Filter the data to only show movies released after 1995\n",
        "df_filtered = df[df[\"release_year\"] >= 1995]\n",
        "\n",
        "#Group the data by year and sentiment\n",
        "grouped = df_filtered.groupby(['release_year', 'sentiment_category']).size().reset_index(name='counts')\n",
        "\n",
        "#Pivot the data to get the count of shows for each sentiment in each year\n",
        "pivot_df = grouped.pivot(index='release_year', columns='sentiment_category', values='counts')\n",
        "\n",
        "#Make the line chart\n",
        "fig = px.line(pivot_df, title='Distribution of Sentiments over the Years (Starting from 1995)')\n",
        "fig.show()"
      ],
      "metadata": {
        "colab": {
          "base_uri": "https://localhost:8080/",
          "height": 417
        },
        "id": "oMv1n_btE4T3",
        "outputId": "f01240f5-f240-4f70-e659-d0baed002160"
      },
      "execution_count": null,
      "outputs": [
        {
          "output_type": "display_data",
          "data": {
            "text/html": [
              "<html>\n",
              "<head><meta charset=\"utf-8\" /></head>\n",
              "<body>\n",
              "    <div>            <script src=\"https://cdnjs.cloudflare.com/ajax/libs/mathjax/2.7.5/MathJax.js?config=TeX-AMS-MML_SVG\"></script><script type=\"text/javascript\">if (window.MathJax) {MathJax.Hub.Config({SVG: {font: \"STIX-Web\"}});}</script>                <script type=\"text/javascript\">window.PlotlyConfig = {MathJaxConfig: 'local'};</script>\n",
              "        <script src=\"https://cdn.plot.ly/plotly-2.8.3.min.js\"></script>                <div id=\"37ad6e84-6bc7-4faa-a86b-304324477773\" class=\"plotly-graph-div\" style=\"height:400px; width:900px;\"></div>            <script type=\"text/javascript\">                                    window.PLOTLYENV=window.PLOTLYENV || {};                                    if (document.getElementById(\"37ad6e84-6bc7-4faa-a86b-304324477773\")) {                    Plotly.newPlot(                        \"37ad6e84-6bc7-4faa-a86b-304324477773\",                        [{\"hovertemplate\":\"sentiment_category=Negative<br>release_year=%{x}<br>value=%{y}<extra></extra>\",\"legendgroup\":\"Negative\",\"line\":{\"color\":\"#636efa\",\"dash\":\"solid\"},\"marker\":{\"symbol\":\"circle\"},\"mode\":\"lines\",\"name\":\"Negative\",\"orientation\":\"v\",\"showlegend\":true,\"x\":[1995,1996,1997,1998,1999,2000,2001,2002,2003,2004,2005,2006,2007,2008,2009,2010,2011,2012,2013,2014,2015,2016,2017,2018,2019,2020,2021],\"xaxis\":\"x\",\"y\":[5,6,11,4,16,11,14,18,30,15,24,29,26,32,40,53,46,73,93,117,167,283,323,355,308,273,164],\"yaxis\":\"y\",\"type\":\"scatter\"},{\"hovertemplate\":\"sentiment_category=Neutral<br>release_year=%{x}<br>value=%{y}<extra></extra>\",\"legendgroup\":\"Neutral\",\"line\":{\"color\":\"#EF553B\",\"dash\":\"solid\"},\"marker\":{\"symbol\":\"circle\"},\"mode\":\"lines\",\"name\":\"Neutral\",\"orientation\":\"v\",\"showlegend\":true,\"x\":[1995,1996,1997,1998,1999,2000,2001,2002,2003,2004,2005,2006,2007,2008,2009,2010,2011,2012,2013,2014,2015,2016,2017,2018,2019,2020,2021],\"xaxis\":\"x\",\"y\":[9,6,11,9,5,6,5,9,10,19,16,18,21,34,33,40,33,39,44,67,96,152,210,212,170,161,85],\"yaxis\":\"y\",\"type\":\"scatter\"},{\"hovertemplate\":\"sentiment_category=Positive<br>release_year=%{x}<br>value=%{y}<extra></extra>\",\"legendgroup\":\"Positive\",\"line\":{\"color\":\"#00cc96\",\"dash\":\"solid\"},\"marker\":{\"symbol\":\"circle\"},\"mode\":\"lines\",\"name\":\"Positive\",\"orientation\":\"v\",\"showlegend\":true,\"x\":[1995,1996,1997,1998,1999,2000,2001,2002,2003,2004,2005,2006,2007,2008,2009,2010,2011,2012,2013,2014,2015,2016,2017,2018,2019,2020,2021],\"xaxis\":\"x\",\"y\":[11,12,16,23,18,20,26,24,21,30,40,49,41,70,79,101,106,125,151,168,297,467,499,580,552,519,343],\"yaxis\":\"y\",\"type\":\"scatter\"}],                        {\"template\":{\"data\":{\"barpolar\":[{\"marker\":{\"line\":{\"color\":\"rgb(17,17,17)\",\"width\":0.5},\"pattern\":{\"fillmode\":\"overlay\",\"size\":10,\"solidity\":0.2}},\"type\":\"barpolar\"}],\"bar\":[{\"error_x\":{\"color\":\"#f2f5fa\"},\"error_y\":{\"color\":\"#f2f5fa\"},\"marker\":{\"line\":{\"color\":\"rgb(17,17,17)\",\"width\":0.5},\"pattern\":{\"fillmode\":\"overlay\",\"size\":10,\"solidity\":0.2}},\"type\":\"bar\"}],\"carpet\":[{\"aaxis\":{\"endlinecolor\":\"#A2B1C6\",\"gridcolor\":\"#506784\",\"linecolor\":\"#506784\",\"minorgridcolor\":\"#506784\",\"startlinecolor\":\"#A2B1C6\"},\"baxis\":{\"endlinecolor\":\"#A2B1C6\",\"gridcolor\":\"#506784\",\"linecolor\":\"#506784\",\"minorgridcolor\":\"#506784\",\"startlinecolor\":\"#A2B1C6\"},\"type\":\"carpet\"}],\"choropleth\":[{\"colorbar\":{\"outlinewidth\":0,\"ticks\":\"\"},\"type\":\"choropleth\"}],\"contourcarpet\":[{\"colorbar\":{\"outlinewidth\":0,\"ticks\":\"\"},\"type\":\"contourcarpet\"}],\"contour\":[{\"colorbar\":{\"outlinewidth\":0,\"ticks\":\"\"},\"colorscale\":[[0.0,\"#0d0887\"],[0.1111111111111111,\"#46039f\"],[0.2222222222222222,\"#7201a8\"],[0.3333333333333333,\"#9c179e\"],[0.4444444444444444,\"#bd3786\"],[0.5555555555555556,\"#d8576b\"],[0.6666666666666666,\"#ed7953\"],[0.7777777777777778,\"#fb9f3a\"],[0.8888888888888888,\"#fdca26\"],[1.0,\"#f0f921\"]],\"type\":\"contour\"}],\"heatmapgl\":[{\"colorbar\":{\"outlinewidth\":0,\"ticks\":\"\"},\"colorscale\":[[0.0,\"#0d0887\"],[0.1111111111111111,\"#46039f\"],[0.2222222222222222,\"#7201a8\"],[0.3333333333333333,\"#9c179e\"],[0.4444444444444444,\"#bd3786\"],[0.5555555555555556,\"#d8576b\"],[0.6666666666666666,\"#ed7953\"],[0.7777777777777778,\"#fb9f3a\"],[0.8888888888888888,\"#fdca26\"],[1.0,\"#f0f921\"]],\"type\":\"heatmapgl\"}],\"heatmap\":[{\"colorbar\":{\"outlinewidth\":0,\"ticks\":\"\"},\"colorscale\":[[0.0,\"#0d0887\"],[0.1111111111111111,\"#46039f\"],[0.2222222222222222,\"#7201a8\"],[0.3333333333333333,\"#9c179e\"],[0.4444444444444444,\"#bd3786\"],[0.5555555555555556,\"#d8576b\"],[0.6666666666666666,\"#ed7953\"],[0.7777777777777778,\"#fb9f3a\"],[0.8888888888888888,\"#fdca26\"],[1.0,\"#f0f921\"]],\"type\":\"heatmap\"}],\"histogram2dcontour\":[{\"colorbar\":{\"outlinewidth\":0,\"ticks\":\"\"},\"colorscale\":[[0.0,\"#0d0887\"],[0.1111111111111111,\"#46039f\"],[0.2222222222222222,\"#7201a8\"],[0.3333333333333333,\"#9c179e\"],[0.4444444444444444,\"#bd3786\"],[0.5555555555555556,\"#d8576b\"],[0.6666666666666666,\"#ed7953\"],[0.7777777777777778,\"#fb9f3a\"],[0.8888888888888888,\"#fdca26\"],[1.0,\"#f0f921\"]],\"type\":\"histogram2dcontour\"}],\"histogram2d\":[{\"colorbar\":{\"outlinewidth\":0,\"ticks\":\"\"},\"colorscale\":[[0.0,\"#0d0887\"],[0.1111111111111111,\"#46039f\"],[0.2222222222222222,\"#7201a8\"],[0.3333333333333333,\"#9c179e\"],[0.4444444444444444,\"#bd3786\"],[0.5555555555555556,\"#d8576b\"],[0.6666666666666666,\"#ed7953\"],[0.7777777777777778,\"#fb9f3a\"],[0.8888888888888888,\"#fdca26\"],[1.0,\"#f0f921\"]],\"type\":\"histogram2d\"}],\"histogram\":[{\"marker\":{\"pattern\":{\"fillmode\":\"overlay\",\"size\":10,\"solidity\":0.2}},\"type\":\"histogram\"}],\"mesh3d\":[{\"colorbar\":{\"outlinewidth\":0,\"ticks\":\"\"},\"type\":\"mesh3d\"}],\"parcoords\":[{\"line\":{\"colorbar\":{\"outlinewidth\":0,\"ticks\":\"\"}},\"type\":\"parcoords\"}],\"pie\":[{\"automargin\":true,\"type\":\"pie\"}],\"scatter3d\":[{\"line\":{\"colorbar\":{\"outlinewidth\":0,\"ticks\":\"\"}},\"marker\":{\"colorbar\":{\"outlinewidth\":0,\"ticks\":\"\"}},\"type\":\"scatter3d\"}],\"scattercarpet\":[{\"marker\":{\"colorbar\":{\"outlinewidth\":0,\"ticks\":\"\"}},\"type\":\"scattercarpet\"}],\"scattergeo\":[{\"marker\":{\"colorbar\":{\"outlinewidth\":0,\"ticks\":\"\"}},\"type\":\"scattergeo\"}],\"scattergl\":[{\"marker\":{\"line\":{\"color\":\"#283442\"}},\"type\":\"scattergl\"}],\"scattermapbox\":[{\"marker\":{\"colorbar\":{\"outlinewidth\":0,\"ticks\":\"\"}},\"type\":\"scattermapbox\"}],\"scatterpolargl\":[{\"marker\":{\"colorbar\":{\"outlinewidth\":0,\"ticks\":\"\"}},\"type\":\"scatterpolargl\"}],\"scatterpolar\":[{\"marker\":{\"colorbar\":{\"outlinewidth\":0,\"ticks\":\"\"}},\"type\":\"scatterpolar\"}],\"scatter\":[{\"marker\":{\"line\":{\"color\":\"#283442\"}},\"type\":\"scatter\"}],\"scatterternary\":[{\"marker\":{\"colorbar\":{\"outlinewidth\":0,\"ticks\":\"\"}},\"type\":\"scatterternary\"}],\"surface\":[{\"colorbar\":{\"outlinewidth\":0,\"ticks\":\"\"},\"colorscale\":[[0.0,\"#0d0887\"],[0.1111111111111111,\"#46039f\"],[0.2222222222222222,\"#7201a8\"],[0.3333333333333333,\"#9c179e\"],[0.4444444444444444,\"#bd3786\"],[0.5555555555555556,\"#d8576b\"],[0.6666666666666666,\"#ed7953\"],[0.7777777777777778,\"#fb9f3a\"],[0.8888888888888888,\"#fdca26\"],[1.0,\"#f0f921\"]],\"type\":\"surface\"}],\"table\":[{\"cells\":{\"fill\":{\"color\":\"#506784\"},\"line\":{\"color\":\"rgb(17,17,17)\"}},\"header\":{\"fill\":{\"color\":\"#2a3f5f\"},\"line\":{\"color\":\"rgb(17,17,17)\"}},\"type\":\"table\"}]},\"layout\":{\"annotationdefaults\":{\"arrowcolor\":\"#f2f5fa\",\"arrowhead\":0,\"arrowwidth\":1},\"autotypenumbers\":\"strict\",\"coloraxis\":{\"colorbar\":{\"outlinewidth\":0,\"ticks\":\"\"}},\"colorscale\":{\"diverging\":[[0,\"#8e0152\"],[0.1,\"#c51b7d\"],[0.2,\"#de77ae\"],[0.3,\"#f1b6da\"],[0.4,\"#fde0ef\"],[0.5,\"#f7f7f7\"],[0.6,\"#e6f5d0\"],[0.7,\"#b8e186\"],[0.8,\"#7fbc41\"],[0.9,\"#4d9221\"],[1,\"#276419\"]],\"sequential\":[[0.0,\"#0d0887\"],[0.1111111111111111,\"#46039f\"],[0.2222222222222222,\"#7201a8\"],[0.3333333333333333,\"#9c179e\"],[0.4444444444444444,\"#bd3786\"],[0.5555555555555556,\"#d8576b\"],[0.6666666666666666,\"#ed7953\"],[0.7777777777777778,\"#fb9f3a\"],[0.8888888888888888,\"#fdca26\"],[1.0,\"#f0f921\"]],\"sequentialminus\":[[0.0,\"#0d0887\"],[0.1111111111111111,\"#46039f\"],[0.2222222222222222,\"#7201a8\"],[0.3333333333333333,\"#9c179e\"],[0.4444444444444444,\"#bd3786\"],[0.5555555555555556,\"#d8576b\"],[0.6666666666666666,\"#ed7953\"],[0.7777777777777778,\"#fb9f3a\"],[0.8888888888888888,\"#fdca26\"],[1.0,\"#f0f921\"]]},\"colorway\":[\"#636efa\",\"#EF553B\",\"#00cc96\",\"#ab63fa\",\"#FFA15A\",\"#19d3f3\",\"#FF6692\",\"#B6E880\",\"#FF97FF\",\"#FECB52\"],\"font\":{\"color\":\"#f2f5fa\"},\"geo\":{\"bgcolor\":\"rgb(17,17,17)\",\"lakecolor\":\"rgb(17,17,17)\",\"landcolor\":\"rgb(17,17,17)\",\"showlakes\":true,\"showland\":true,\"subunitcolor\":\"#506784\"},\"hoverlabel\":{\"align\":\"left\"},\"hovermode\":\"closest\",\"mapbox\":{\"style\":\"dark\"},\"paper_bgcolor\":\"rgb(17,17,17)\",\"plot_bgcolor\":\"rgb(17,17,17)\",\"polar\":{\"angularaxis\":{\"gridcolor\":\"#506784\",\"linecolor\":\"#506784\",\"ticks\":\"\"},\"bgcolor\":\"rgb(17,17,17)\",\"radialaxis\":{\"gridcolor\":\"#506784\",\"linecolor\":\"#506784\",\"ticks\":\"\"}},\"scene\":{\"xaxis\":{\"backgroundcolor\":\"rgb(17,17,17)\",\"gridcolor\":\"#506784\",\"gridwidth\":2,\"linecolor\":\"#506784\",\"showbackground\":true,\"ticks\":\"\",\"zerolinecolor\":\"#C8D4E3\"},\"yaxis\":{\"backgroundcolor\":\"rgb(17,17,17)\",\"gridcolor\":\"#506784\",\"gridwidth\":2,\"linecolor\":\"#506784\",\"showbackground\":true,\"ticks\":\"\",\"zerolinecolor\":\"#C8D4E3\"},\"zaxis\":{\"backgroundcolor\":\"rgb(17,17,17)\",\"gridcolor\":\"#506784\",\"gridwidth\":2,\"linecolor\":\"#506784\",\"showbackground\":true,\"ticks\":\"\",\"zerolinecolor\":\"#C8D4E3\"}},\"shapedefaults\":{\"line\":{\"color\":\"#f2f5fa\"}},\"sliderdefaults\":{\"bgcolor\":\"#C8D4E3\",\"bordercolor\":\"rgb(17,17,17)\",\"borderwidth\":1,\"tickwidth\":0},\"ternary\":{\"aaxis\":{\"gridcolor\":\"#506784\",\"linecolor\":\"#506784\",\"ticks\":\"\"},\"baxis\":{\"gridcolor\":\"#506784\",\"linecolor\":\"#506784\",\"ticks\":\"\"},\"bgcolor\":\"rgb(17,17,17)\",\"caxis\":{\"gridcolor\":\"#506784\",\"linecolor\":\"#506784\",\"ticks\":\"\"}},\"title\":{\"x\":0.05},\"updatemenudefaults\":{\"bgcolor\":\"#506784\",\"borderwidth\":0},\"xaxis\":{\"automargin\":true,\"gridcolor\":\"#283442\",\"linecolor\":\"#506784\",\"ticks\":\"\",\"title\":{\"standoff\":15},\"zerolinecolor\":\"#283442\",\"zerolinewidth\":2},\"yaxis\":{\"automargin\":true,\"gridcolor\":\"#283442\",\"linecolor\":\"#506784\",\"ticks\":\"\",\"title\":{\"standoff\":15},\"zerolinecolor\":\"#283442\",\"zerolinewidth\":2}}},\"xaxis\":{\"anchor\":\"y\",\"domain\":[0.0,1.0],\"title\":{\"text\":\"release_year\"}},\"yaxis\":{\"anchor\":\"x\",\"domain\":[0.0,1.0],\"title\":{\"text\":\"value\"}},\"legend\":{\"title\":{\"text\":\"sentiment_category\"},\"tracegroupgap\":0},\"title\":{\"text\":\"Distribution of Sentiments over the Years (Starting from 1995)\"},\"height\":400,\"width\":900},                        {\"responsive\": true}                    ).then(function(){\n",
              "                            \n",
              "var gd = document.getElementById('37ad6e84-6bc7-4faa-a86b-304324477773');\n",
              "var x = new MutationObserver(function (mutations, observer) {{\n",
              "        var display = window.getComputedStyle(gd).display;\n",
              "        if (!display || display === 'none') {{\n",
              "            console.log([gd, 'removed!']);\n",
              "            Plotly.purge(gd);\n",
              "            observer.disconnect();\n",
              "        }}\n",
              "}});\n",
              "\n",
              "// Listen for the removal of the full notebook cells\n",
              "var notebookContainer = gd.closest('#notebook-container');\n",
              "if (notebookContainer) {{\n",
              "    x.observe(notebookContainer, {childList: true});\n",
              "}}\n",
              "\n",
              "// Listen for the clearing of the current output cell\n",
              "var outputEl = gd.closest('.output');\n",
              "if (outputEl) {{\n",
              "    x.observe(outputEl, {childList: true});\n",
              "}}\n",
              "\n",
              "                        })                };                            </script>        </div>\n",
              "</body>\n",
              "</html>"
            ]
          },
          "metadata": {}
        }
      ]
    },
    {
      "cell_type": "code",
      "source": [
        "# Get only the rows with the top 6 genres\n",
        "df_top_6 = df[df['listed_in'].isin(list(top_6.keys()))]\n",
        "\n",
        "# Group the data by genre and sentiment\n",
        "grouped = df_top_6.groupby(['listed_in', 'sentiment_category']).size().reset_index(name='counts')\n",
        "\n",
        "# Pivot the data to get the count of shows for each sentiment in each genre\n",
        "pivot_df = grouped.pivot(index='listed_in', columns='sentiment_category', values='counts')\n",
        "\n",
        "# Make the bar chart\n",
        "fig = px.bar(pivot_df, title='Distribution of Sentiments across the Top 6 Genres')\n",
        "fig.show()"
      ],
      "metadata": {
        "colab": {
          "base_uri": "https://localhost:8080/",
          "height": 417
        },
        "id": "K_ZD_v8jF3fh",
        "outputId": "e585b288-c9ee-4a90-d58b-eb3ea7423481"
      },
      "execution_count": null,
      "outputs": [
        {
          "output_type": "display_data",
          "data": {
            "text/html": [
              "<html>\n",
              "<head><meta charset=\"utf-8\" /></head>\n",
              "<body>\n",
              "    <div>            <script src=\"https://cdnjs.cloudflare.com/ajax/libs/mathjax/2.7.5/MathJax.js?config=TeX-AMS-MML_SVG\"></script><script type=\"text/javascript\">if (window.MathJax) {MathJax.Hub.Config({SVG: {font: \"STIX-Web\"}});}</script>                <script type=\"text/javascript\">window.PlotlyConfig = {MathJaxConfig: 'local'};</script>\n",
              "        <script src=\"https://cdn.plot.ly/plotly-2.8.3.min.js\"></script>                <div id=\"8c33a777-69de-4adf-b76a-ae85b66aef7a\" class=\"plotly-graph-div\" style=\"height:400px; width:900px;\"></div>            <script type=\"text/javascript\">                                    window.PLOTLYENV=window.PLOTLYENV || {};                                    if (document.getElementById(\"8c33a777-69de-4adf-b76a-ae85b66aef7a\")) {                    Plotly.newPlot(                        \"8c33a777-69de-4adf-b76a-ae85b66aef7a\",                        [{\"alignmentgroup\":\"True\",\"hovertemplate\":\"sentiment_category=Negative<br>listed_in=%{x}<br>value=%{y}<extra></extra>\",\"legendgroup\":\"Negative\",\"marker\":{\"color\":\"#636efa\",\"pattern\":{\"shape\":\"\"}},\"name\":\"Negative\",\"offsetgroup\":\"Negative\",\"orientation\":\"v\",\"showlegend\":true,\"textposition\":\"auto\",\"x\":[\"Action & Adventure\",\"Comedies\",\"Documentaries\",\"Dramas\",\"International Movies\",\"International TV Shows\"],\"xaxis\":\"x\",\"y\":[64.0,32.0,80.0,55.0,null,null],\"yaxis\":\"y\",\"type\":\"bar\"},{\"alignmentgroup\":\"True\",\"hovertemplate\":\"sentiment_category=Neutral<br>listed_in=%{x}<br>value=%{y}<extra></extra>\",\"legendgroup\":\"Neutral\",\"marker\":{\"color\":\"#EF553B\",\"pattern\":{\"shape\":\"\"}},\"name\":\"Neutral\",\"offsetgroup\":\"Neutral\",\"orientation\":\"v\",\"showlegend\":true,\"textposition\":\"auto\",\"x\":[\"Action & Adventure\",\"Comedies\",\"Documentaries\",\"Dramas\",\"International Movies\",\"International TV Shows\"],\"xaxis\":\"x\",\"y\":[24.0,24.0,87.0,32.0,2.0,2.0],\"yaxis\":\"y\",\"type\":\"bar\"},{\"alignmentgroup\":\"True\",\"hovertemplate\":\"sentiment_category=Positive<br>listed_in=%{x}<br>value=%{y}<extra></extra>\",\"legendgroup\":\"Positive\",\"marker\":{\"color\":\"#00cc96\",\"pattern\":{\"shape\":\"\"}},\"name\":\"Positive\",\"offsetgroup\":\"Positive\",\"orientation\":\"v\",\"showlegend\":true,\"textposition\":\"auto\",\"x\":[\"Action & Adventure\",\"Comedies\",\"Documentaries\",\"Dramas\",\"International Movies\",\"International TV Shows\"],\"xaxis\":\"x\",\"y\":[40.0,54.0,192.0,51.0,1.0,null],\"yaxis\":\"y\",\"type\":\"bar\"}],                        {\"template\":{\"data\":{\"barpolar\":[{\"marker\":{\"line\":{\"color\":\"rgb(17,17,17)\",\"width\":0.5},\"pattern\":{\"fillmode\":\"overlay\",\"size\":10,\"solidity\":0.2}},\"type\":\"barpolar\"}],\"bar\":[{\"error_x\":{\"color\":\"#f2f5fa\"},\"error_y\":{\"color\":\"#f2f5fa\"},\"marker\":{\"line\":{\"color\":\"rgb(17,17,17)\",\"width\":0.5},\"pattern\":{\"fillmode\":\"overlay\",\"size\":10,\"solidity\":0.2}},\"type\":\"bar\"}],\"carpet\":[{\"aaxis\":{\"endlinecolor\":\"#A2B1C6\",\"gridcolor\":\"#506784\",\"linecolor\":\"#506784\",\"minorgridcolor\":\"#506784\",\"startlinecolor\":\"#A2B1C6\"},\"baxis\":{\"endlinecolor\":\"#A2B1C6\",\"gridcolor\":\"#506784\",\"linecolor\":\"#506784\",\"minorgridcolor\":\"#506784\",\"startlinecolor\":\"#A2B1C6\"},\"type\":\"carpet\"}],\"choropleth\":[{\"colorbar\":{\"outlinewidth\":0,\"ticks\":\"\"},\"type\":\"choropleth\"}],\"contourcarpet\":[{\"colorbar\":{\"outlinewidth\":0,\"ticks\":\"\"},\"type\":\"contourcarpet\"}],\"contour\":[{\"colorbar\":{\"outlinewidth\":0,\"ticks\":\"\"},\"colorscale\":[[0.0,\"#0d0887\"],[0.1111111111111111,\"#46039f\"],[0.2222222222222222,\"#7201a8\"],[0.3333333333333333,\"#9c179e\"],[0.4444444444444444,\"#bd3786\"],[0.5555555555555556,\"#d8576b\"],[0.6666666666666666,\"#ed7953\"],[0.7777777777777778,\"#fb9f3a\"],[0.8888888888888888,\"#fdca26\"],[1.0,\"#f0f921\"]],\"type\":\"contour\"}],\"heatmapgl\":[{\"colorbar\":{\"outlinewidth\":0,\"ticks\":\"\"},\"colorscale\":[[0.0,\"#0d0887\"],[0.1111111111111111,\"#46039f\"],[0.2222222222222222,\"#7201a8\"],[0.3333333333333333,\"#9c179e\"],[0.4444444444444444,\"#bd3786\"],[0.5555555555555556,\"#d8576b\"],[0.6666666666666666,\"#ed7953\"],[0.7777777777777778,\"#fb9f3a\"],[0.8888888888888888,\"#fdca26\"],[1.0,\"#f0f921\"]],\"type\":\"heatmapgl\"}],\"heatmap\":[{\"colorbar\":{\"outlinewidth\":0,\"ticks\":\"\"},\"colorscale\":[[0.0,\"#0d0887\"],[0.1111111111111111,\"#46039f\"],[0.2222222222222222,\"#7201a8\"],[0.3333333333333333,\"#9c179e\"],[0.4444444444444444,\"#bd3786\"],[0.5555555555555556,\"#d8576b\"],[0.6666666666666666,\"#ed7953\"],[0.7777777777777778,\"#fb9f3a\"],[0.8888888888888888,\"#fdca26\"],[1.0,\"#f0f921\"]],\"type\":\"heatmap\"}],\"histogram2dcontour\":[{\"colorbar\":{\"outlinewidth\":0,\"ticks\":\"\"},\"colorscale\":[[0.0,\"#0d0887\"],[0.1111111111111111,\"#46039f\"],[0.2222222222222222,\"#7201a8\"],[0.3333333333333333,\"#9c179e\"],[0.4444444444444444,\"#bd3786\"],[0.5555555555555556,\"#d8576b\"],[0.6666666666666666,\"#ed7953\"],[0.7777777777777778,\"#fb9f3a\"],[0.8888888888888888,\"#fdca26\"],[1.0,\"#f0f921\"]],\"type\":\"histogram2dcontour\"}],\"histogram2d\":[{\"colorbar\":{\"outlinewidth\":0,\"ticks\":\"\"},\"colorscale\":[[0.0,\"#0d0887\"],[0.1111111111111111,\"#46039f\"],[0.2222222222222222,\"#7201a8\"],[0.3333333333333333,\"#9c179e\"],[0.4444444444444444,\"#bd3786\"],[0.5555555555555556,\"#d8576b\"],[0.6666666666666666,\"#ed7953\"],[0.7777777777777778,\"#fb9f3a\"],[0.8888888888888888,\"#fdca26\"],[1.0,\"#f0f921\"]],\"type\":\"histogram2d\"}],\"histogram\":[{\"marker\":{\"pattern\":{\"fillmode\":\"overlay\",\"size\":10,\"solidity\":0.2}},\"type\":\"histogram\"}],\"mesh3d\":[{\"colorbar\":{\"outlinewidth\":0,\"ticks\":\"\"},\"type\":\"mesh3d\"}],\"parcoords\":[{\"line\":{\"colorbar\":{\"outlinewidth\":0,\"ticks\":\"\"}},\"type\":\"parcoords\"}],\"pie\":[{\"automargin\":true,\"type\":\"pie\"}],\"scatter3d\":[{\"line\":{\"colorbar\":{\"outlinewidth\":0,\"ticks\":\"\"}},\"marker\":{\"colorbar\":{\"outlinewidth\":0,\"ticks\":\"\"}},\"type\":\"scatter3d\"}],\"scattercarpet\":[{\"marker\":{\"colorbar\":{\"outlinewidth\":0,\"ticks\":\"\"}},\"type\":\"scattercarpet\"}],\"scattergeo\":[{\"marker\":{\"colorbar\":{\"outlinewidth\":0,\"ticks\":\"\"}},\"type\":\"scattergeo\"}],\"scattergl\":[{\"marker\":{\"line\":{\"color\":\"#283442\"}},\"type\":\"scattergl\"}],\"scattermapbox\":[{\"marker\":{\"colorbar\":{\"outlinewidth\":0,\"ticks\":\"\"}},\"type\":\"scattermapbox\"}],\"scatterpolargl\":[{\"marker\":{\"colorbar\":{\"outlinewidth\":0,\"ticks\":\"\"}},\"type\":\"scatterpolargl\"}],\"scatterpolar\":[{\"marker\":{\"colorbar\":{\"outlinewidth\":0,\"ticks\":\"\"}},\"type\":\"scatterpolar\"}],\"scatter\":[{\"marker\":{\"line\":{\"color\":\"#283442\"}},\"type\":\"scatter\"}],\"scatterternary\":[{\"marker\":{\"colorbar\":{\"outlinewidth\":0,\"ticks\":\"\"}},\"type\":\"scatterternary\"}],\"surface\":[{\"colorbar\":{\"outlinewidth\":0,\"ticks\":\"\"},\"colorscale\":[[0.0,\"#0d0887\"],[0.1111111111111111,\"#46039f\"],[0.2222222222222222,\"#7201a8\"],[0.3333333333333333,\"#9c179e\"],[0.4444444444444444,\"#bd3786\"],[0.5555555555555556,\"#d8576b\"],[0.6666666666666666,\"#ed7953\"],[0.7777777777777778,\"#fb9f3a\"],[0.8888888888888888,\"#fdca26\"],[1.0,\"#f0f921\"]],\"type\":\"surface\"}],\"table\":[{\"cells\":{\"fill\":{\"color\":\"#506784\"},\"line\":{\"color\":\"rgb(17,17,17)\"}},\"header\":{\"fill\":{\"color\":\"#2a3f5f\"},\"line\":{\"color\":\"rgb(17,17,17)\"}},\"type\":\"table\"}]},\"layout\":{\"annotationdefaults\":{\"arrowcolor\":\"#f2f5fa\",\"arrowhead\":0,\"arrowwidth\":1},\"autotypenumbers\":\"strict\",\"coloraxis\":{\"colorbar\":{\"outlinewidth\":0,\"ticks\":\"\"}},\"colorscale\":{\"diverging\":[[0,\"#8e0152\"],[0.1,\"#c51b7d\"],[0.2,\"#de77ae\"],[0.3,\"#f1b6da\"],[0.4,\"#fde0ef\"],[0.5,\"#f7f7f7\"],[0.6,\"#e6f5d0\"],[0.7,\"#b8e186\"],[0.8,\"#7fbc41\"],[0.9,\"#4d9221\"],[1,\"#276419\"]],\"sequential\":[[0.0,\"#0d0887\"],[0.1111111111111111,\"#46039f\"],[0.2222222222222222,\"#7201a8\"],[0.3333333333333333,\"#9c179e\"],[0.4444444444444444,\"#bd3786\"],[0.5555555555555556,\"#d8576b\"],[0.6666666666666666,\"#ed7953\"],[0.7777777777777778,\"#fb9f3a\"],[0.8888888888888888,\"#fdca26\"],[1.0,\"#f0f921\"]],\"sequentialminus\":[[0.0,\"#0d0887\"],[0.1111111111111111,\"#46039f\"],[0.2222222222222222,\"#7201a8\"],[0.3333333333333333,\"#9c179e\"],[0.4444444444444444,\"#bd3786\"],[0.5555555555555556,\"#d8576b\"],[0.6666666666666666,\"#ed7953\"],[0.7777777777777778,\"#fb9f3a\"],[0.8888888888888888,\"#fdca26\"],[1.0,\"#f0f921\"]]},\"colorway\":[\"#636efa\",\"#EF553B\",\"#00cc96\",\"#ab63fa\",\"#FFA15A\",\"#19d3f3\",\"#FF6692\",\"#B6E880\",\"#FF97FF\",\"#FECB52\"],\"font\":{\"color\":\"#f2f5fa\"},\"geo\":{\"bgcolor\":\"rgb(17,17,17)\",\"lakecolor\":\"rgb(17,17,17)\",\"landcolor\":\"rgb(17,17,17)\",\"showlakes\":true,\"showland\":true,\"subunitcolor\":\"#506784\"},\"hoverlabel\":{\"align\":\"left\"},\"hovermode\":\"closest\",\"mapbox\":{\"style\":\"dark\"},\"paper_bgcolor\":\"rgb(17,17,17)\",\"plot_bgcolor\":\"rgb(17,17,17)\",\"polar\":{\"angularaxis\":{\"gridcolor\":\"#506784\",\"linecolor\":\"#506784\",\"ticks\":\"\"},\"bgcolor\":\"rgb(17,17,17)\",\"radialaxis\":{\"gridcolor\":\"#506784\",\"linecolor\":\"#506784\",\"ticks\":\"\"}},\"scene\":{\"xaxis\":{\"backgroundcolor\":\"rgb(17,17,17)\",\"gridcolor\":\"#506784\",\"gridwidth\":2,\"linecolor\":\"#506784\",\"showbackground\":true,\"ticks\":\"\",\"zerolinecolor\":\"#C8D4E3\"},\"yaxis\":{\"backgroundcolor\":\"rgb(17,17,17)\",\"gridcolor\":\"#506784\",\"gridwidth\":2,\"linecolor\":\"#506784\",\"showbackground\":true,\"ticks\":\"\",\"zerolinecolor\":\"#C8D4E3\"},\"zaxis\":{\"backgroundcolor\":\"rgb(17,17,17)\",\"gridcolor\":\"#506784\",\"gridwidth\":2,\"linecolor\":\"#506784\",\"showbackground\":true,\"ticks\":\"\",\"zerolinecolor\":\"#C8D4E3\"}},\"shapedefaults\":{\"line\":{\"color\":\"#f2f5fa\"}},\"sliderdefaults\":{\"bgcolor\":\"#C8D4E3\",\"bordercolor\":\"rgb(17,17,17)\",\"borderwidth\":1,\"tickwidth\":0},\"ternary\":{\"aaxis\":{\"gridcolor\":\"#506784\",\"linecolor\":\"#506784\",\"ticks\":\"\"},\"baxis\":{\"gridcolor\":\"#506784\",\"linecolor\":\"#506784\",\"ticks\":\"\"},\"bgcolor\":\"rgb(17,17,17)\",\"caxis\":{\"gridcolor\":\"#506784\",\"linecolor\":\"#506784\",\"ticks\":\"\"}},\"title\":{\"x\":0.05},\"updatemenudefaults\":{\"bgcolor\":\"#506784\",\"borderwidth\":0},\"xaxis\":{\"automargin\":true,\"gridcolor\":\"#283442\",\"linecolor\":\"#506784\",\"ticks\":\"\",\"title\":{\"standoff\":15},\"zerolinecolor\":\"#283442\",\"zerolinewidth\":2},\"yaxis\":{\"automargin\":true,\"gridcolor\":\"#283442\",\"linecolor\":\"#506784\",\"ticks\":\"\",\"title\":{\"standoff\":15},\"zerolinecolor\":\"#283442\",\"zerolinewidth\":2}}},\"xaxis\":{\"anchor\":\"y\",\"domain\":[0.0,1.0],\"title\":{\"text\":\"listed_in\"}},\"yaxis\":{\"anchor\":\"x\",\"domain\":[0.0,1.0],\"title\":{\"text\":\"value\"}},\"legend\":{\"title\":{\"text\":\"sentiment_category\"},\"tracegroupgap\":0},\"title\":{\"text\":\"Distribution of Sentiments across the Top 6 Genres\"},\"barmode\":\"relative\",\"height\":400,\"width\":900},                        {\"responsive\": true}                    ).then(function(){\n",
              "                            \n",
              "var gd = document.getElementById('8c33a777-69de-4adf-b76a-ae85b66aef7a');\n",
              "var x = new MutationObserver(function (mutations, observer) {{\n",
              "        var display = window.getComputedStyle(gd).display;\n",
              "        if (!display || display === 'none') {{\n",
              "            console.log([gd, 'removed!']);\n",
              "            Plotly.purge(gd);\n",
              "            observer.disconnect();\n",
              "        }}\n",
              "}});\n",
              "\n",
              "// Listen for the removal of the full notebook cells\n",
              "var notebookContainer = gd.closest('#notebook-container');\n",
              "if (notebookContainer) {{\n",
              "    x.observe(notebookContainer, {childList: true});\n",
              "}}\n",
              "\n",
              "// Listen for the clearing of the current output cell\n",
              "var outputEl = gd.closest('.output');\n",
              "if (outputEl) {{\n",
              "    x.observe(outputEl, {childList: true});\n",
              "}}\n",
              "\n",
              "                        })                };                            </script>        </div>\n",
              "</body>\n",
              "</html>"
            ]
          },
          "metadata": {}
        }
      ]
    },
    {
      "cell_type": "code",
      "source": [
        "# Filter data to get only international movies and TV shows\n",
        "df_intl = df[df[\"listed_in\"].str.contains(\"International\")]\n",
        "\n",
        "# Get the descriptions and sentiment of the international movies and TV shows\n",
        "df_intl = df_intl[[\"description\", \"sentiment_category\"]]\n",
        "\n",
        "# Display the filtered data\n",
        "print(df_intl)"
      ],
      "metadata": {
        "colab": {
          "base_uri": "https://localhost:8080/"
        },
        "id": "879sj6q0HfM2",
        "outputId": "d0945c29-7fc1-4dd4-8949-ea559e45e93a"
      },
      "execution_count": null,
      "outputs": [
        {
          "output_type": "stream",
          "name": "stdout",
          "text": [
            "                                            description sentiment_category\n",
            "1     After crossing paths at a party, a Cape Town t...            Neutral\n",
            "2     To protect his family from a powerful drug lor...           Negative\n",
            "4     In a city of coaching centers known to train I...            Neutral\n",
            "7     On a photo shoot in Ghana, an American model s...           Negative\n",
            "10    Sicily boasts a bold \"Anti-Mafia\" coalition. B...           Positive\n",
            "...                                                 ...                ...\n",
            "8798  A philandering small-town mechanic's political...           Positive\n",
            "8799  A change in the leadership of a political part...           Negative\n",
            "8800  Strong-willed, middle-class Kashaf and carefre...           Positive\n",
            "8801  Recovering alcoholic Talal wakes up inside a s...           Negative\n",
            "8806  A scrappy but poor boy worms his way into a ty...           Negative\n",
            "\n",
            "[4103 rows x 2 columns]\n"
          ]
        }
      ]
    },
    {
      "cell_type": "code",
      "source": [
        "genres = []\n",
        "for genre in df['listed_in']:\n",
        "    genres += genre.split(\", \")\n",
        "\n",
        "unique_genres = set(genres)\n",
        "\n",
        "df_list = []\n",
        "for genre in unique_genres:\n",
        "    temp_df = df[df['listed_in'].str.contains(genre)]\n",
        "    temp_df['genre'] = genre\n",
        "    df_list.append(temp_df)\n",
        "    \n",
        "final_df = pd.concat(df_list)\n",
        "\n",
        "sentiment_counts = final_df.groupby(['genre', 'sentiment_category']).size().reset_index(name='counts')\n",
        "\n",
        "# Find the sentiment category with the highest count for each genre\n",
        "result = sentiment_counts.loc[sentiment_counts.groupby(['genre'])['counts'].idxmax()]"
      ],
      "metadata": {
        "colab": {
          "base_uri": "https://localhost:8080/"
        },
        "id": "4Oy0UGQB7D9d",
        "outputId": "63884b83-8e50-43b4-ec93-d975784e3161"
      },
      "execution_count": null,
      "outputs": [
        {
          "output_type": "stream",
          "name": "stderr",
          "text": [
            "<ipython-input-266-82df0008a7b8>:10: SettingWithCopyWarning:\n",
            "\n",
            "\n",
            "A value is trying to be set on a copy of a slice from a DataFrame.\n",
            "Try using .loc[row_indexer,col_indexer] = value instead\n",
            "\n",
            "See the caveats in the documentation: https://pandas.pydata.org/pandas-docs/stable/user_guide/indexing.html#returning-a-view-versus-a-copy\n",
            "\n"
          ]
        }
      ]
    },
    {
      "cell_type": "code",
      "source": [
        "sentiment_counts = final_df.groupby(['genre', 'sentiment_category']).size().reset_index(name='counts')\n",
        "pivot_table = sentiment_counts.pivot(index='genre', columns='sentiment_category', values='counts')\n",
        "pivot_table = pivot_table.fillna(0)\n",
        "\n",
        "print(pivot_table.to_string(formatters={'negative': '{:,.0f}'.format,\n",
        "                                        'neutral': '{:,.0f}'.format,\n",
        "                                        'positive': '{:,.0f}'.format}))"
      ],
      "metadata": {
        "colab": {
          "base_uri": "https://localhost:8080/"
        },
        "id": "WYv_XnAWBDLH",
        "outputId": "360352de-5060-4de2-ecc5-54f3dfeaf764"
      },
      "execution_count": null,
      "outputs": [
        {
          "output_type": "stream",
          "name": "stdout",
          "text": [
            "sentiment_category            Negative  Neutral  Positive\n",
            "genre                                                    \n",
            "Action & Adventure                 409      205       413\n",
            "Anime Features                      23       16        32\n",
            "Anime Series                        60       32        84\n",
            "British TV Shows                    73       39       141\n",
            "Children & Family Movies           175      114       352\n",
            "Classic & Cult TV                    8        3        17\n",
            "Classic Movies                      35       29        52\n",
            "Comedies                           650      383      1222\n",
            "Crime TV Shows                     194       83       193\n",
            "Cult Movies                         24       14        33\n",
            "Documentaries                      171      234       464\n",
            "Docuseries                          89       78       228\n",
            "Dramas                            1016      589      1585\n",
            "Faith & Spirituality                12       21        32\n",
            "Horror Movies                      198       48       111\n",
            "Independent Movies                 277      130       349\n",
            "International Movies               894      516      1342\n",
            "International TV Shows             400      240       711\n",
            "Kids' TV                           113       60       278\n",
            "Korean TV Shows                     41       23        87\n",
            "LGBTQ Movies                        17       15        70\n",
            "Movies                            1446      829      2227\n",
            "Music & Musicals                    67       76       232\n",
            "Reality TV                          35       38       182\n",
            "Romantic Movies                    155       79       382\n",
            "Romantic TV Shows                   65       52       253\n",
            "Sci-Fi & Fantasy                   145       56       126\n",
            "Science & Nature TV                 20       16        56\n",
            "Spanish-Language TV Shows           38       46        90\n",
            "Sports Movies                       50       58       111\n",
            "Stand-Up Comedy                     60       48       291\n",
            "Stand-Up Comedy & Talk Shows         8       10        38\n",
            "TV Action & Adventure               66       24        78\n",
            "TV Comedies                        144       84       353\n",
            "TV Dramas                          243      134       386\n",
            "TV Horror                           40        6        29\n",
            "TV Mysteries                        50       14        34\n",
            "TV Sci-Fi & Fantasy                 32       10        42\n",
            "TV Shows                           517      307       931\n",
            "TV Thrillers                        29        8        20\n",
            "Teen TV Shows                       13        8        48\n",
            "Thrillers                          324       97       213\n"
          ]
        }
      ]
    },
    {
      "cell_type": "code",
      "source": [
        "# Group the data by genre and get the sentiment category with the highest count for each genre\n",
        "grouped_data = result.groupby('genre').apply(lambda x: x.loc[x['counts'].idxmax()])\n",
        "\n",
        "# Iterate through the grouped data and print out the genre and its corresponding sentiment category\n",
        "for index, row in grouped_data.iterrows():\n",
        "    print(f\"{row['genre']}  :  {row['sentiment_category']}\")"
      ],
      "metadata": {
        "colab": {
          "base_uri": "https://localhost:8080/"
        },
        "id": "T7FCXR6vCZVJ",
        "outputId": "899b0119-9170-4a74-f100-53181ae7d1b4"
      },
      "execution_count": null,
      "outputs": [
        {
          "output_type": "stream",
          "name": "stdout",
          "text": [
            "Action & Adventure  :  Positive\n",
            "Anime Features  :  Positive\n",
            "Anime Series  :  Positive\n",
            "British TV Shows  :  Positive\n",
            "Children & Family Movies  :  Positive\n",
            "Classic & Cult TV  :  Positive\n",
            "Classic Movies  :  Positive\n",
            "Comedies  :  Positive\n",
            "Crime TV Shows  :  Negative\n",
            "Cult Movies  :  Positive\n",
            "Documentaries  :  Positive\n",
            "Docuseries  :  Positive\n",
            "Dramas  :  Positive\n",
            "Faith & Spirituality  :  Positive\n",
            "Horror Movies  :  Negative\n",
            "Independent Movies  :  Positive\n",
            "International Movies  :  Positive\n",
            "International TV Shows  :  Positive\n",
            "Kids' TV  :  Positive\n",
            "Korean TV Shows  :  Positive\n",
            "LGBTQ Movies  :  Positive\n",
            "Movies  :  Positive\n",
            "Music & Musicals  :  Positive\n",
            "Reality TV  :  Positive\n",
            "Romantic Movies  :  Positive\n",
            "Romantic TV Shows  :  Positive\n",
            "Sci-Fi & Fantasy  :  Negative\n",
            "Science & Nature TV  :  Positive\n",
            "Spanish-Language TV Shows  :  Positive\n",
            "Sports Movies  :  Positive\n",
            "Stand-Up Comedy  :  Positive\n",
            "Stand-Up Comedy & Talk Shows  :  Positive\n",
            "TV Action & Adventure  :  Positive\n",
            "TV Comedies  :  Positive\n",
            "TV Dramas  :  Positive\n",
            "TV Horror  :  Negative\n",
            "TV Mysteries  :  Negative\n",
            "TV Sci-Fi & Fantasy  :  Positive\n",
            "TV Shows  :  Positive\n",
            "TV Thrillers  :  Negative\n",
            "Teen TV Shows  :  Positive\n",
            "Thrillers  :  Negative\n"
          ]
        }
      ]
    },
    {
      "cell_type": "markdown",
      "source": [
        "## **Insights**"
      ],
      "metadata": {
        "id": "igx-t2PoHaFa"
      }
    },
    {
      "cell_type": "markdown",
      "source": [
        "1. There are 4551 positive descriptions, 2658 negative and 1598 neutral ones. The majority of the descriptions have a positive sentiment, with positive descriptions outnumbering negative and neutral ones.\n",
        "\n",
        "2. In the line graph, it can be observed that the positive, neutral and negative sentiment categories always maintain an equal distance between them. The equal distance between the lines could indicate that the descriptions have a balanced distribution of sentiments across the polarity scale.\n",
        "\n",
        "3. The sentiment category for each genre has been listed. It can be seen that majority of the genres have a positive sentiment with a few exceptions such as \"Crime TV Shows\" and \"Horror Movies\" which have a negative sentiment and \"Sci-Fi & Fantasy\" and \"Thrillers\" which have a negative sentiment. This result could indicate that people generally tend to describe these genres in a negative light\n"
      ],
      "metadata": {
        "id": "506l2nf3Hejy"
      }
    }
  ]
}